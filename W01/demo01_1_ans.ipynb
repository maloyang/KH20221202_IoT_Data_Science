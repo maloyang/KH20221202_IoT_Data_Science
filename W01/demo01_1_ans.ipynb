{
  "cells": [
    {
      "cell_type": "markdown",
      "metadata": {
        "id": "2voIsP1oq60G"
      },
      "source": [
        "# 基本語法練習"
      ]
    },
    {
      "cell_type": "markdown",
      "metadata": {
        "id": "NCLdTxQPq60f"
      },
      "source": [
        "### Python 基本規則: 以縮排來區分程式區塊，並儘量使用「空白」\n",
        "[參考](https://python.swaroopch.com/basics.html)"
      ]
    },
    {
      "cell_type": "code",
      "execution_count": null,
      "metadata": {
        "id": "lJZa1mbiq60r"
      },
      "outputs": [],
      "source": [
        "for i in range(5):\n",
        "    print(i, '*', i, '=', i*i)"
      ]
    },
    {
      "cell_type": "markdown",
      "metadata": {
        "id": "FQ3yEzuDq61f"
      },
      "source": [
        "- 註解符號: #"
      ]
    },
    {
      "cell_type": "code",
      "execution_count": 90,
      "metadata": {
        "id": "7OchvYv8q61k",
        "outputId": "31bcbd82-2393-41a9-aeea-ece7deff484f",
        "colab": {
          "base_uri": "https://localhost:8080/"
        }
      },
      "outputs": [
        {
          "output_type": "stream",
          "name": "stdout",
          "text": [
            "Hello World\n",
            "hi~\n"
          ]
        }
      ],
      "source": [
        "# 這一行是註解\n",
        "# print('hi~ A')\n",
        "print('Hello World')\n",
        "print('hi~')\n"
      ]
    },
    {
      "cell_type": "markdown",
      "metadata": {
        "id": "38L60FLkq61n"
      },
      "source": [
        "### 運算符號\n",
        "[參考](https://python.swaroopch.com/op_exp.html)"
      ]
    },
    {
      "cell_type": "code",
      "execution_count": 3,
      "metadata": {
        "id": "o-DxTD5Rq61q",
        "outputId": "056da180-5f67-4ac2-d343-dd6ff711569f",
        "colab": {
          "base_uri": "https://localhost:8080/"
        }
      },
      "outputs": [
        {
          "output_type": "execute_result",
          "data": {
            "text/plain": [
              "15"
            ]
          },
          "metadata": {},
          "execution_count": 3
        }
      ],
      "source": [
        "# 加法\n",
        "3+12"
      ]
    },
    {
      "cell_type": "code",
      "execution_count": 4,
      "metadata": {
        "id": "rwf1N97_q61t",
        "outputId": "ec90ff2d-8cc5-493d-fc3a-21f87b988a6c",
        "colab": {
          "base_uri": "https://localhost:8080/"
        }
      },
      "outputs": [
        {
          "output_type": "execute_result",
          "data": {
            "text/plain": [
              "41976"
            ]
          },
          "metadata": {},
          "execution_count": 4
        }
      ],
      "source": [
        "# 減法\n",
        "54321-12345"
      ]
    },
    {
      "cell_type": "code",
      "execution_count": 7,
      "metadata": {
        "id": "EF5rc7cVq61w",
        "outputId": "e971b235-f9cd-4d9f-934c-59b0f518ed39",
        "colab": {
          "base_uri": "https://localhost:8080/"
        }
      },
      "outputs": [
        {
          "output_type": "execute_result",
          "data": {
            "text/plain": [
              "151851850583002848555900975399435"
            ]
          },
          "metadata": {},
          "execution_count": 7
        }
      ],
      "source": [
        "# 乘法\n",
        "123*1234567890918722345982934759345"
      ]
    },
    {
      "cell_type": "code",
      "execution_count": 8,
      "metadata": {
        "id": "CVz6DZdYq61y",
        "outputId": "e5480f42-9a6f-42c6-de83-af91fb0fb713",
        "colab": {
          "base_uri": "https://localhost:8080/"
        }
      },
      "outputs": [
        {
          "output_type": "execute_result",
          "data": {
            "text/plain": [
              "69.0"
            ]
          },
          "metadata": {},
          "execution_count": 8
        }
      ],
      "source": [
        "# 除法 float / int\n",
        "345/5"
      ]
    },
    {
      "cell_type": "code",
      "execution_count": 91,
      "metadata": {
        "id": "ya-tvwO8q614",
        "outputId": "a08822ed-fca0-4020-9280-ba00fa87ecac",
        "colab": {
          "base_uri": "https://localhost:8080/"
        }
      },
      "outputs": [
        {
          "output_type": "execute_result",
          "data": {
            "text/plain": [
              "27"
            ]
          },
          "metadata": {},
          "execution_count": 91
        }
      ],
      "source": [
        "# power \n",
        "3**3"
      ]
    },
    {
      "cell_type": "code",
      "execution_count": 12,
      "metadata": {
        "id": "0WdAzPFIq618",
        "outputId": "cd81829a-eb0f-4191-a3e8-e13a6dbe7938",
        "colab": {
          "base_uri": "https://localhost:8080/"
        }
      },
      "outputs": [
        {
          "output_type": "execute_result",
          "data": {
            "text/plain": [
              "1024"
            ]
          },
          "metadata": {},
          "execution_count": 12
        }
      ],
      "source": [
        "2**10"
      ]
    },
    {
      "cell_type": "code",
      "execution_count": 13,
      "metadata": {
        "id": "6t3EWSRzq62N",
        "outputId": "586196a9-41d2-4734-d46f-8b893fd4a28c",
        "colab": {
          "base_uri": "https://localhost:8080/"
        }
      },
      "outputs": [
        {
          "output_type": "execute_result",
          "data": {
            "text/plain": [
              "24"
            ]
          },
          "metadata": {},
          "execution_count": 13
        }
      ],
      "source": [
        "# 整數除法\n",
        "123//5"
      ]
    },
    {
      "cell_type": "code",
      "execution_count": 14,
      "metadata": {
        "id": "wvZdWUm2q62P",
        "outputId": "9263c3f8-2118-4223-bd18-1cd44cfb0be4",
        "colab": {
          "base_uri": "https://localhost:8080/"
        }
      },
      "outputs": [
        {
          "output_type": "execute_result",
          "data": {
            "text/plain": [
              "24.6"
            ]
          },
          "metadata": {},
          "execution_count": 14
        }
      ],
      "source": [
        "123/5"
      ]
    },
    {
      "cell_type": "code",
      "execution_count": 15,
      "metadata": {
        "id": "P0uVthgaq62R",
        "outputId": "73b684c3-dcdf-47af-f99b-dfefa8439801",
        "colab": {
          "base_uri": "https://localhost:8080/"
        }
      },
      "outputs": [
        {
          "output_type": "execute_result",
          "data": {
            "text/plain": [
              "3"
            ]
          },
          "metadata": {},
          "execution_count": 15
        }
      ],
      "source": [
        "# 取餘數\n",
        "123%5"
      ]
    },
    {
      "cell_type": "markdown",
      "metadata": {
        "id": "ZjBx70ocq62T"
      },
      "source": [
        "### 變數"
      ]
    },
    {
      "cell_type": "markdown",
      "metadata": {
        "id": "TGRcGXgbq62W"
      },
      "source": [
        "[參考](https://python.swaroopch.com/basics.html)"
      ]
    },
    {
      "cell_type": "markdown",
      "metadata": {
        "id": "7xkp4bcDq62Z"
      },
      "source": [
        "- 數字: integers and floats"
      ]
    },
    {
      "cell_type": "code",
      "source": [
        "A=5"
      ],
      "metadata": {
        "id": "Lr_C47CzzOoG"
      },
      "execution_count": 16,
      "outputs": []
    },
    {
      "cell_type": "code",
      "source": [
        "a = 10"
      ],
      "metadata": {
        "id": "UtE_xV1QzQhE"
      },
      "execution_count": 17,
      "outputs": []
    },
    {
      "cell_type": "code",
      "source": [
        "print(A)"
      ],
      "metadata": {
        "id": "uvPdRl1BzR_5",
        "outputId": "9f3b3685-0aa1-488b-dade-680740a0d2d0",
        "colab": {
          "base_uri": "https://localhost:8080/"
        }
      },
      "execution_count": 18,
      "outputs": [
        {
          "output_type": "stream",
          "name": "stdout",
          "text": [
            "5\n"
          ]
        }
      ]
    },
    {
      "cell_type": "code",
      "execution_count": 19,
      "metadata": {
        "id": "8qi9pwxqq62b"
      },
      "outputs": [],
      "source": [
        "num_int = 2*3"
      ]
    },
    {
      "cell_type": "code",
      "execution_count": 20,
      "metadata": {
        "id": "Col9v1Uaq62c",
        "outputId": "1be5f0db-40e3-4cdb-d8e6-03e1f35d8ace",
        "colab": {
          "base_uri": "https://localhost:8080/"
        }
      },
      "outputs": [
        {
          "output_type": "stream",
          "name": "stdout",
          "text": [
            "6\n"
          ]
        }
      ],
      "source": [
        "print(num_int)"
      ]
    },
    {
      "cell_type": "code",
      "execution_count": null,
      "metadata": {
        "id": "-vRNckPDq62d"
      },
      "outputs": [],
      "source": [
        "# python不用像 C語言那樣，有限定 int4, int8, int16, int32, int64...等有限的表示長度\n",
        "num_int = 123456789*987654321"
      ]
    },
    {
      "cell_type": "code",
      "execution_count": null,
      "metadata": {
        "id": "D3ocj2Dnq62e"
      },
      "outputs": [],
      "source": [
        "print(num_int)"
      ]
    },
    {
      "cell_type": "code",
      "execution_count": 21,
      "metadata": {
        "id": "GfLnzW4Mq62f"
      },
      "outputs": [],
      "source": [
        "num_float = 1.23*4.56"
      ]
    },
    {
      "cell_type": "code",
      "execution_count": 22,
      "metadata": {
        "id": "FXPIAQYMq62f",
        "outputId": "714a8d5e-77b4-4e10-bc99-0a2e4010f64b",
        "colab": {
          "base_uri": "https://localhost:8080/"
        }
      },
      "outputs": [
        {
          "output_type": "stream",
          "name": "stdout",
          "text": [
            "5.6088\n"
          ]
        }
      ],
      "source": [
        "print(num_float)"
      ]
    },
    {
      "cell_type": "code",
      "source": [
        "A = 5"
      ],
      "metadata": {
        "id": "GSw-EzuTzldB"
      },
      "execution_count": 23,
      "outputs": []
    },
    {
      "cell_type": "code",
      "source": [
        "A = 5/3"
      ],
      "metadata": {
        "id": "8d1R344Szn4Y"
      },
      "execution_count": 24,
      "outputs": []
    },
    {
      "cell_type": "code",
      "source": [
        "A"
      ],
      "metadata": {
        "id": "uM3BUqrWzrHe",
        "outputId": "8bc98441-1f1c-4d12-f136-0ae5a9793ef5",
        "colab": {
          "base_uri": "https://localhost:8080/"
        }
      },
      "execution_count": 25,
      "outputs": [
        {
          "output_type": "execute_result",
          "data": {
            "text/plain": [
              "1.6666666666666667"
            ]
          },
          "metadata": {},
          "execution_count": 25
        }
      ]
    },
    {
      "cell_type": "markdown",
      "metadata": {
        "id": "qsNCERD3q62g"
      },
      "source": [
        "### 變數進階"
      ]
    },
    {
      "cell_type": "code",
      "execution_count": 26,
      "metadata": {
        "id": "tI0l_qiLq62g",
        "outputId": "d0bd325d-d208-478b-a29f-b3052c904e3e",
        "colab": {
          "base_uri": "https://localhost:8080/"
        }
      },
      "outputs": [
        {
          "output_type": "stream",
          "name": "stdout",
          "text": [
            "33.6528\n"
          ]
        }
      ],
      "source": [
        "num_float = num_float * num_int\n",
        "print(num_float)"
      ]
    },
    {
      "cell_type": "code",
      "execution_count": 92,
      "metadata": {
        "id": "U7E1vDfVq62i",
        "outputId": "1f87bb3b-aeb4-4305-e047-43f144c5a4d4",
        "colab": {
          "base_uri": "https://localhost:8080/"
        }
      },
      "outputs": [
        {
          "output_type": "stream",
          "name": "stdout",
          "text": [
            "30\n"
          ]
        }
      ],
      "source": [
        "num_int = 10\n",
        "num_int = num_int + 20\n",
        "print(num_int)"
      ]
    },
    {
      "cell_type": "code",
      "execution_count": 28,
      "metadata": {
        "id": "CeStlsDWq62j",
        "outputId": "496a6031-3e09-4aa3-aeab-fa7d2261edbe",
        "colab": {
          "base_uri": "https://localhost:8080/"
        }
      },
      "outputs": [
        {
          "output_type": "stream",
          "name": "stdout",
          "text": [
            "80\n"
          ]
        }
      ],
      "source": [
        "num_int += 50\n",
        "print(num_int)"
      ]
    },
    {
      "cell_type": "code",
      "source": [
        "num_int += 50 # --> num_int = num_int+50"
      ],
      "metadata": {
        "id": "Ce6-z4U60r6n"
      },
      "execution_count": null,
      "outputs": []
    },
    {
      "cell_type": "code",
      "source": [
        "str1 = 'hello  '"
      ],
      "metadata": {
        "id": "Ogs1LY2v16xC"
      },
      "execution_count": 33,
      "outputs": []
    },
    {
      "cell_type": "code",
      "source": [
        "print('(' + str1 + ')')"
      ],
      "metadata": {
        "id": "mUijMtXj1w2l",
        "outputId": "c5b36688-a34d-47c4-840d-837fb843fdc3",
        "colab": {
          "base_uri": "https://localhost:8080/"
        }
      },
      "execution_count": 34,
      "outputs": [
        {
          "output_type": "stream",
          "name": "stdout",
          "text": [
            "(hello  )\n"
          ]
        }
      ]
    },
    {
      "cell_type": "code",
      "source": [],
      "metadata": {
        "id": "YcRssnJW2Gnn"
      },
      "execution_count": null,
      "outputs": []
    },
    {
      "cell_type": "markdown",
      "metadata": {
        "id": "2AWocb0bq62p"
      },
      "source": [
        "### 字串"
      ]
    },
    {
      "cell_type": "code",
      "execution_count": 35,
      "metadata": {
        "id": "YB--Wi4Jq62q",
        "outputId": "41fc3016-f42a-4285-8507-d397bcf8026f",
        "colab": {
          "base_uri": "https://localhost:8080/"
        }
      },
      "outputs": [
        {
          "output_type": "stream",
          "name": "stdout",
          "text": [
            "hello, i am jack\n"
          ]
        }
      ],
      "source": [
        "str1 = 'hello, i am jack'\n",
        "print(str1)"
      ]
    },
    {
      "cell_type": "code",
      "execution_count": 36,
      "metadata": {
        "id": "zk65ApJwq62q",
        "outputId": "3c9a8f1d-5e97-4872-ef8b-93c4457df307",
        "colab": {
          "base_uri": "https://localhost:8080/"
        }
      },
      "outputs": [
        {
          "output_type": "stream",
          "name": "stdout",
          "text": [
            "hello, i am jackhello world\n"
          ]
        }
      ],
      "source": [
        "str2 = 'hello world'\n",
        "print(str1 + str2)"
      ]
    },
    {
      "cell_type": "code",
      "execution_count": 38,
      "metadata": {
        "id": "qvyRNkBtq62r",
        "outputId": "4c1bfc45-e3a3-40d7-c716-0e3cd4ae74d9",
        "colab": {
          "base_uri": "https://localhost:8080/"
        }
      },
      "outputs": [
        {
          "output_type": "stream",
          "name": "stdout",
          "text": [
            "number int is 80; number float is 33.6528\n"
          ]
        }
      ],
      "source": [
        "# Python2.x / Python3.x\n",
        "str3 = \"number int is %s; number float is %s\" %(num_int, num_float)\n",
        "print(str3)"
      ]
    },
    {
      "cell_type": "code",
      "source": [
        "'this is a string'"
      ],
      "metadata": {
        "id": "GqfAo00S5UX9"
      },
      "execution_count": null,
      "outputs": []
    },
    {
      "cell_type": "code",
      "execution_count": 40,
      "metadata": {
        "id": "Wt1Zhyuwq62r",
        "outputId": "d5d06789-b5af-41cb-9976-d475e57d8e26",
        "colab": {
          "base_uri": "https://localhost:8080/"
        }
      },
      "outputs": [
        {
          "output_type": "stream",
          "name": "stdout",
          "text": [
            "number int is    80; number float is 33.653\n"
          ]
        }
      ],
      "source": [
        "# 進一步對數字格式化\n",
        "str3 = 'number int is %5d; number float is %.3f' %(num_int, num_float)\n",
        "print(str3)"
      ]
    },
    {
      "cell_type": "code",
      "execution_count": 41,
      "metadata": {
        "id": "x_stUqUaq62t",
        "outputId": "f9489a1b-a68e-40c3-851a-2d544e8e1971",
        "colab": {
          "base_uri": "https://localhost:8080/"
        }
      },
      "outputs": [
        {
          "output_type": "stream",
          "name": "stdout",
          "text": [
            "num1 = 15, num2 = 1.234\n"
          ]
        }
      ],
      "source": [
        "# Python3支援的格式化寫法\n",
        "num1 = 15\n",
        "num2 = 1.234\n",
        "str4 = f\"num1 = {num1}, num2 = {num2}\"\n",
        "print(str4)"
      ]
    },
    {
      "cell_type": "code",
      "source": [
        "# 補充說明\n",
        "num1 = 15000000\n",
        "num2 = 1.2345\n",
        "str4 = f\"num1 = {num1:,}, num2 = {num2:.2f}\"\n",
        "print(str4)"
      ],
      "metadata": {
        "id": "Uv7uG3SI6t79",
        "outputId": "059a5545-f51a-4f7e-f959-abb80e7474a0",
        "colab": {
          "base_uri": "https://localhost:8080/"
        }
      },
      "execution_count": 44,
      "outputs": [
        {
          "output_type": "stream",
          "name": "stdout",
          "text": [
            "num1 = 15,000,000, num2 = 1.23\n"
          ]
        }
      ]
    },
    {
      "cell_type": "code",
      "source": [
        "' abc  '.strip()"
      ],
      "metadata": {
        "id": "tT3bAuoC-Jx1",
        "outputId": "b0877dd7-2601-4ea3-e4bc-9976961929e2",
        "colab": {
          "base_uri": "https://localhost:8080/",
          "height": 36
        }
      },
      "execution_count": 46,
      "outputs": [
        {
          "output_type": "execute_result",
          "data": {
            "text/plain": [
              "'abc'"
            ],
            "application/vnd.google.colaboratory.intrinsic+json": {
              "type": "string"
            }
          },
          "metadata": {},
          "execution_count": 46
        }
      ]
    },
    {
      "cell_type": "markdown",
      "metadata": {
        "id": "Z5OqgIa4q62u"
      },
      "source": [
        "### 判斷式"
      ]
    },
    {
      "cell_type": "markdown",
      "metadata": {
        "id": "EEpjuoT1q62v"
      },
      "source": [
        "- if"
      ]
    },
    {
      "cell_type": "code",
      "execution_count": 48,
      "metadata": {
        "id": "ohqJ0Ie_q62w",
        "outputId": "7075f892-458c-462b-8d59-eda99e836597",
        "colab": {
          "base_uri": "https://localhost:8080/"
        }
      },
      "outputs": [
        {
          "output_type": "stream",
          "name": "stdout",
          "text": [
            "less\n",
            "小於\n"
          ]
        }
      ],
      "source": [
        "n = 6\n",
        "m = 10\n",
        "if n>m:\n",
        "    print('great')\n",
        "    print('大於')\n",
        "else:\n",
        "    print('less')\n",
        "    print('小於')\n",
        "    "
      ]
    },
    {
      "cell_type": "markdown",
      "metadata": {
        "id": "9_ISmzOrq62y"
      },
      "source": [
        "- 這個範例有陷井，請改一下n的值，並把他修改成正確的值"
      ]
    },
    {
      "cell_type": "code",
      "execution_count": 52,
      "metadata": {
        "id": "-DSPv6psq623",
        "outputId": "066a1391-e674-4545-8ad1-f482a8ba037e",
        "colab": {
          "base_uri": "https://localhost:8080/"
        }
      },
      "outputs": [
        {
          "output_type": "stream",
          "name": "stdout",
          "text": [
            "很不錯喔\n"
          ]
        }
      ],
      "source": [
        "n=75\n",
        "if n<60:\n",
        "    print('你不及格')\n",
        "elif n<70:\n",
        "    print('低空飛過，再加油')\n",
        "elif n<80:\n",
        "    print('很不錯喔')\n",
        "else:\n",
        "    print('你太厲害了!')"
      ]
    },
    {
      "cell_type": "markdown",
      "metadata": {
        "id": "VsSy46RPq626"
      },
      "source": [
        "### 迴圈"
      ]
    },
    {
      "cell_type": "markdown",
      "metadata": {
        "id": "tda-tQvWq628"
      },
      "source": [
        "- for\n",
        "    - range(1, 5) --> [1, 2, 3, 4]\n",
        "    - range(5) -> [0, 1, 2, 3, 4]"
      ]
    },
    {
      "cell_type": "code",
      "execution_count": 53,
      "metadata": {
        "id": "TNCYS6d_q62-",
        "outputId": "3cc4c0d3-939d-4eb4-8903-1aee3626b625",
        "colab": {
          "base_uri": "https://localhost:8080/"
        }
      },
      "outputs": [
        {
          "output_type": "stream",
          "name": "stdout",
          "text": [
            "1 * 1 = 1\n",
            "2 * 2 = 4\n",
            "3 * 3 = 9\n",
            "4 * 4 = 16\n"
          ]
        }
      ],
      "source": [
        "for i in range(5):\n",
        "    print(i, '*', i, '=', i*i)"
      ]
    },
    {
      "cell_type": "code",
      "source": [
        "for i in [1, 2, 3, 4]:\n",
        "    print(i, '*', i, '=', i*i)\n",
        "    print('--')"
      ],
      "metadata": {
        "id": "0q4UXZFjA_yK",
        "outputId": "ddbef3e6-f5d4-413b-d823-e895aee0e0c5",
        "colab": {
          "base_uri": "https://localhost:8080/"
        }
      },
      "execution_count": 99,
      "outputs": [
        {
          "output_type": "stream",
          "name": "stdout",
          "text": [
            "1 * 1 = 1\n",
            "--\n",
            "2 * 2 = 4\n",
            "--\n",
            "3 * 3 = 9\n",
            "--\n",
            "4 * 4 = 16\n",
            "--\n"
          ]
        }
      ]
    },
    {
      "cell_type": "code",
      "source": [
        "for i in [1, 2, 3, 4]:\n",
        "    print( '%s * %s = %s' %(i, i, i*i) )"
      ],
      "metadata": {
        "id": "9FxBu5ZlBUQC",
        "outputId": "48fa3804-d342-4988-e485-d8c2c81e90a4",
        "colab": {
          "base_uri": "https://localhost:8080/"
        }
      },
      "execution_count": 56,
      "outputs": [
        {
          "output_type": "stream",
          "name": "stdout",
          "text": [
            "1 * 1 = 1\n",
            "2 * 2 = 4\n",
            "3 * 3 = 9\n",
            "4 * 4 = 16\n"
          ]
        }
      ]
    },
    {
      "cell_type": "code",
      "source": [
        "for i in [1, 2, 3, 4]:\n",
        "    print( f'{i} * {i} = {i*i}' )"
      ],
      "metadata": {
        "id": "fVeVNXvoBe5s",
        "outputId": "45d3fcbe-618f-4fa3-cb8c-5ddaefa93631",
        "colab": {
          "base_uri": "https://localhost:8080/"
        }
      },
      "execution_count": 55,
      "outputs": [
        {
          "output_type": "stream",
          "name": "stdout",
          "text": [
            "1 * 1 = 1\n",
            "2 * 2 = 4\n",
            "3 * 3 = 9\n",
            "4 * 4 = 16\n"
          ]
        }
      ]
    },
    {
      "cell_type": "code",
      "source": [
        "for i in [3, 7, 11, 17]:\n",
        "    print( f'{i} * {i} = {i*i}' )"
      ],
      "metadata": {
        "id": "CEhcbdTwCY_s",
        "outputId": "c238d9a7-5933-4665-b78b-1e924ef8f6b8",
        "colab": {
          "base_uri": "https://localhost:8080/"
        }
      },
      "execution_count": 58,
      "outputs": [
        {
          "output_type": "stream",
          "name": "stdout",
          "text": [
            "3 * 3 = 9\n",
            "7 * 7 = 49\n",
            "11 * 11 = 121\n",
            "17 * 17 = 289\n"
          ]
        }
      ]
    },
    {
      "cell_type": "markdown",
      "metadata": {
        "id": "cCOpFjblq63A"
      },
      "source": [
        "- while"
      ]
    },
    {
      "cell_type": "code",
      "execution_count": 60,
      "metadata": {
        "id": "Rtv--FoEq63B",
        "outputId": "d09af1e5-2306-4e7e-ae10-9fa24c03ab14",
        "colab": {
          "base_uri": "https://localhost:8080/"
        }
      },
      "outputs": [
        {
          "output_type": "stream",
          "name": "stdout",
          "text": [
            "1^1 = 1\n",
            "2^2 = 4\n",
            "3^3 = 27\n",
            "4^4 = 256\n",
            "the end\n"
          ]
        }
      ],
      "source": [
        "MAX_N = 5\n",
        "n = 1\n",
        "while(n<MAX_N):\n",
        "    print('%d^%d = %d' %(n, n, n**n))\n",
        "    n+=1\n",
        "print('the end')"
      ]
    },
    {
      "cell_type": "markdown",
      "metadata": {
        "id": "VS3ZF2LDq63C"
      },
      "source": [
        "- 跑一半需要跳出來: break"
      ]
    },
    {
      "cell_type": "code",
      "execution_count": 61,
      "metadata": {
        "id": "agKYSTZEq63E",
        "outputId": "0cbc2227-9192-4e14-c1b5-f47cb6a6ea09",
        "colab": {
          "base_uri": "https://localhost:8080/"
        }
      },
      "outputs": [
        {
          "output_type": "stream",
          "name": "stdout",
          "text": [
            "1 * 1 = 1\n",
            "2 * 2 = 4\n",
            "3 * 3 = 9\n",
            "4 * 4 = 16\n",
            "5 * 5 = 25\n"
          ]
        }
      ],
      "source": [
        "for i in range(1, 10):\n",
        "    if i>=6:\n",
        "        break\n",
        "    print(i, '*', i, '=', i*i)\n"
      ]
    },
    {
      "cell_type": "markdown",
      "metadata": {
        "id": "MTJ1cH07q63F"
      },
      "source": [
        "- 某些項目不處理，但還需要處理後續: continue"
      ]
    },
    {
      "cell_type": "code",
      "execution_count": 62,
      "metadata": {
        "id": "xtMF-rr-q63P",
        "outputId": "a9931bd1-b9bb-45ce-e85f-a5355ca86d9c",
        "colab": {
          "base_uri": "https://localhost:8080/"
        }
      },
      "outputs": [
        {
          "output_type": "stream",
          "name": "stdout",
          "text": [
            "1 * 1 = 1\n",
            "2 * 2 = 4\n",
            "3 * 3 = 9\n",
            "4 * 4 = 16\n",
            "5 * 5 = 25\n",
            "7 * 7 = 49\n",
            "8 * 8 = 64\n",
            "9 * 9 = 81\n"
          ]
        }
      ],
      "source": [
        "for i in range(1, 10):\n",
        "    if i==6:\n",
        "        continue\n",
        "    print(i, '*', i, '=', i*i)\n"
      ]
    },
    {
      "cell_type": "code",
      "source": [
        "wind = 2\n",
        "if wind < 5:\n",
        "    pass\n",
        "    print('風很小')\n",
        "else:\n",
        "    print('風速過大，請小心')"
      ],
      "metadata": {
        "id": "aQnBOMbiEW55",
        "outputId": "4722db3b-9c37-4aa3-b7ab-7a745fe0c8ec",
        "colab": {
          "base_uri": "https://localhost:8080/"
        }
      },
      "execution_count": 65,
      "outputs": [
        {
          "output_type": "stream",
          "name": "stdout",
          "text": [
            "風很小\n"
          ]
        }
      ]
    },
    {
      "cell_type": "code",
      "source": [
        "for i in range(1, 10):\n",
        "    if i==6:\n",
        "        pass\n",
        "    print(i, '*', i, '=', i*i)\n"
      ],
      "metadata": {
        "id": "bDPyntR4EOX7",
        "outputId": "e47c8816-2386-41c8-dfd6-9f4b051de28b",
        "colab": {
          "base_uri": "https://localhost:8080/"
        }
      },
      "execution_count": 63,
      "outputs": [
        {
          "output_type": "stream",
          "name": "stdout",
          "text": [
            "1 * 1 = 1\n",
            "2 * 2 = 4\n",
            "3 * 3 = 9\n",
            "4 * 4 = 16\n",
            "5 * 5 = 25\n",
            "6 * 6 = 36\n",
            "7 * 7 = 49\n",
            "8 * 8 = 64\n",
            "9 * 9 = 81\n"
          ]
        }
      ]
    },
    {
      "cell_type": "markdown",
      "source": [
        "----"
      ],
      "metadata": {
        "id": "-N6J8ISbFHl-"
      }
    },
    {
      "cell_type": "markdown",
      "metadata": {
        "id": "YiK55q2cq63R"
      },
      "source": [
        "### List"
      ]
    },
    {
      "cell_type": "code",
      "execution_count": 66,
      "metadata": {
        "id": "iB7MXUO5q63U",
        "outputId": "554f62bf-ea81-48bb-ebf6-2662995ca5f0",
        "colab": {
          "base_uri": "https://localhost:8080/"
        }
      },
      "outputs": [
        {
          "output_type": "stream",
          "name": "stdout",
          "text": [
            "[1, 24, 32, 6, 30, 57]\n"
          ]
        }
      ],
      "source": [
        "my_list = [1, 24, 32, 6, 30, 57]\n",
        "print(my_list)"
      ]
    },
    {
      "cell_type": "code",
      "execution_count": 67,
      "metadata": {
        "id": "KKKdyS68q63c",
        "outputId": "de33b1a2-94ea-42d1-be23-d31e3cf6901b",
        "colab": {
          "base_uri": "https://localhost:8080/"
        }
      },
      "outputs": [
        {
          "output_type": "stream",
          "name": "stdout",
          "text": [
            "32\n",
            "57\n"
          ]
        }
      ],
      "source": [
        "# 找出超過30的數字\n",
        "for item in my_list:\n",
        "    if item > 30:\n",
        "        print(item)"
      ]
    },
    {
      "cell_type": "code",
      "source": [
        "len(my_list)"
      ],
      "metadata": {
        "id": "TH7_IHFlF8WS",
        "outputId": "eacd443b-9f87-4a0b-ba44-2b1afc601dea",
        "colab": {
          "base_uri": "https://localhost:8080/"
        }
      },
      "execution_count": 68,
      "outputs": [
        {
          "output_type": "execute_result",
          "data": {
            "text/plain": [
              "6"
            ]
          },
          "metadata": {},
          "execution_count": 68
        }
      ]
    },
    {
      "cell_type": "code",
      "execution_count": null,
      "metadata": {
        "id": "2FUc72pMq63f"
      },
      "outputs": [],
      "source": [
        "# 同上，但列出是第幾個\n",
        "for i in range(len(my_list)):\n",
        "    if my_list[i] > 30:\n",
        "        print(i, '->', my_list[i])"
      ]
    },
    {
      "cell_type": "code",
      "source": [
        "my_list[4]"
      ],
      "metadata": {
        "id": "eda60yihGbmt",
        "outputId": "3f0eb20f-28c7-4b73-debf-081392859ae2",
        "colab": {
          "base_uri": "https://localhost:8080/"
        }
      },
      "execution_count": 70,
      "outputs": [
        {
          "output_type": "execute_result",
          "data": {
            "text/plain": [
              "30"
            ]
          },
          "metadata": {},
          "execution_count": 70
        }
      ]
    },
    {
      "cell_type": "code",
      "source": [
        "# 同上，但列出是第幾個\n",
        "for i in range(6): # range(6) -> [0, 1, 2, 3, 4, 5]\n",
        "    if my_list[i] > 30:\n",
        "        print(i, '->', my_list[i])"
      ],
      "metadata": {
        "id": "rpHptrngGCsg",
        "outputId": "5b1c75b6-706e-44a3-fb9d-902d732079fa",
        "colab": {
          "base_uri": "https://localhost:8080/"
        }
      },
      "execution_count": 71,
      "outputs": [
        {
          "output_type": "stream",
          "name": "stdout",
          "text": [
            "2 -> 32\n",
            "5 -> 57\n"
          ]
        }
      ]
    },
    {
      "cell_type": "code",
      "execution_count": 72,
      "metadata": {
        "id": "kBaNxFebq63i",
        "outputId": "6665155b-ed8f-4922-90c3-21507e43166b",
        "colab": {
          "base_uri": "https://localhost:8080/"
        }
      },
      "outputs": [
        {
          "output_type": "stream",
          "name": "stdout",
          "text": [
            "2 -> 32\n",
            "5 -> 57\n"
          ]
        }
      ],
      "source": [
        "# 另一個寫法\n",
        "for i, item in enumerate(my_list):\n",
        "    if item > 30:\n",
        "        print(i, '->', item)"
      ]
    },
    {
      "cell_type": "markdown",
      "metadata": {
        "id": "A4jfmKFyq63i"
      },
      "source": [
        "### Dictionary"
      ]
    },
    {
      "cell_type": "code",
      "execution_count": 73,
      "metadata": {
        "id": "m7F5UJG1q63j"
      },
      "outputs": [],
      "source": [
        "my_dict = {'Apple':3, 'Pear':5, 'Orange':2}"
      ]
    },
    {
      "cell_type": "code",
      "source": [
        "print(my_dict)"
      ],
      "metadata": {
        "id": "yS_V0cysHnIq",
        "outputId": "fd301c05-e13c-4b3a-97ec-ca8eda2cef05",
        "colab": {
          "base_uri": "https://localhost:8080/"
        }
      },
      "execution_count": 74,
      "outputs": [
        {
          "output_type": "stream",
          "name": "stdout",
          "text": [
            "{'Apple': 3, 'Pear': 5, 'Orange': 2}\n"
          ]
        }
      ]
    },
    {
      "cell_type": "code",
      "execution_count": 75,
      "metadata": {
        "id": "UnR2HSh7q63j",
        "outputId": "4fa8128a-708a-4d98-d64b-5f4299ab50d5",
        "colab": {
          "base_uri": "https://localhost:8080/"
        }
      },
      "outputs": [
        {
          "output_type": "stream",
          "name": "stdout",
          "text": [
            "Apple : 3\n",
            "Pear : 5\n",
            "Orange : 2\n"
          ]
        }
      ],
      "source": [
        "for key in my_dict:\n",
        "    print('%s : %s' %(key, my_dict[key]))"
      ]
    },
    {
      "cell_type": "code",
      "execution_count": 76,
      "metadata": {
        "id": "Y2lh1uhDq63z"
      },
      "outputs": [],
      "source": [
        "my_dict['Strawberry'] = 10\n",
        "my_dict['Apple'] += 2 # my_dict['Apple'] = my_dict['Apple'] + 2"
      ]
    },
    {
      "cell_type": "code",
      "execution_count": 77,
      "metadata": {
        "id": "6j1fIP8Wq632",
        "outputId": "50c7dc55-c42f-4015-cb04-07e6cfdd1b35",
        "colab": {
          "base_uri": "https://localhost:8080/"
        }
      },
      "outputs": [
        {
          "output_type": "execute_result",
          "data": {
            "text/plain": [
              "{'Apple': 5, 'Pear': 5, 'Orange': 2, 'Strawberry': 10}"
            ]
          },
          "metadata": {},
          "execution_count": 77
        }
      ],
      "source": [
        "my_dict"
      ]
    },
    {
      "cell_type": "code",
      "source": [
        "my_dict['Apple'] + 2"
      ],
      "metadata": {
        "id": "Sv_BywVEH_Bt",
        "outputId": "8b402f6b-7115-4b9a-b8ca-9f22cdda585f",
        "colab": {
          "base_uri": "https://localhost:8080/"
        }
      },
      "execution_count": 78,
      "outputs": [
        {
          "output_type": "execute_result",
          "data": {
            "text/plain": [
              "7"
            ]
          },
          "metadata": {},
          "execution_count": 78
        }
      ]
    },
    {
      "cell_type": "code",
      "source": [
        "my_dict['Apple']"
      ],
      "metadata": {
        "id": "fGVHNMZTIEqx",
        "outputId": "6f085f5d-7055-45a1-89e1-9a1738e620e8",
        "colab": {
          "base_uri": "https://localhost:8080/"
        }
      },
      "execution_count": 79,
      "outputs": [
        {
          "output_type": "execute_result",
          "data": {
            "text/plain": [
              "5"
            ]
          },
          "metadata": {},
          "execution_count": 79
        }
      ]
    },
    {
      "cell_type": "markdown",
      "metadata": {
        "id": "XCEXh2Q7q633"
      },
      "source": [
        "### 終極密碼"
      ]
    },
    {
      "cell_type": "markdown",
      "metadata": {
        "id": "BjIgy_B0q633"
      },
      "source": [
        "- 提示: \n",
        "    - 會使用到的API: randint, input\n",
        "    - input輸入的資料須要轉換"
      ]
    },
    {
      "cell_type": "code",
      "execution_count": 88,
      "metadata": {
        "id": "oQhTOBAjq635",
        "outputId": "42464478-2590-49bd-876d-269a028c8fc3",
        "colab": {
          "base_uri": "https://localhost:8080/"
        }
      },
      "outputs": [
        {
          "output_type": "stream",
          "name": "stdout",
          "text": [
            "3\n"
          ]
        }
      ],
      "source": [
        "import random #引入新的模組\n",
        "\n",
        "number = random.randint(1, 5) # randint()\n",
        "print(number)"
      ]
    },
    {
      "cell_type": "code",
      "execution_count": 86,
      "metadata": {
        "id": "5BCKFzpnq636",
        "outputId": "7d9905b2-f16b-421a-8ff8-140cd6ae4b1a",
        "colab": {
          "base_uri": "https://localhost:8080/"
        }
      },
      "outputs": [
        {
          "output_type": "stream",
          "name": "stdout",
          "text": [
            "請輸入 1~100的數字50\n",
            "<class 'str'>\n",
            "<class 'int'> -> 50\n"
          ]
        }
      ],
      "source": [
        "my_num = input('請輸入 1~100的數字')\n",
        "print( type(my_num) )\n",
        "my_num = int(my_num)\n",
        "print( type(my_num), '->', my_num)"
      ]
    },
    {
      "cell_type": "code",
      "source": [
        "if my_num > number:\n",
        "    print(\"太大，猜小一點\")\n",
        "else:\n",
        "    print(\"太小，猜大一點\")"
      ],
      "metadata": {
        "id": "-hSlt0OEbYjv",
        "outputId": "42154d8c-5e18-4e45-c26c-e4c3ecd41661",
        "colab": {
          "base_uri": "https://localhost:8080/"
        }
      },
      "execution_count": 89,
      "outputs": [
        {
          "output_type": "stream",
          "name": "stdout",
          "text": [
            "太大，猜小一點\n"
          ]
        }
      ]
    },
    {
      "cell_type": "markdown",
      "metadata": {
        "id": "ZcbEmvDHq637"
      },
      "source": [
        "- 第一版: 使用者輸入一個數字密碼，程式要在沒猜中時，能提示使用者要猜大一點或是小一點"
      ]
    },
    {
      "cell_type": "code",
      "execution_count": 98,
      "metadata": {
        "id": "VZ3lneeLq64A",
        "outputId": "07d53d19-4a5b-4463-aacf-d1535a9cd62b",
        "colab": {
          "base_uri": "https://localhost:8080/"
        }
      },
      "outputs": [
        {
          "output_type": "stream",
          "name": "stdout",
          "text": [
            "請輸入 1~100 的數字50\n",
            "太小，猜大一點\n",
            "請輸入 1~100 的數字80\n",
            "太大，猜小一點\n",
            "請輸入 1~100 的數字70\n",
            "太大，猜小一點\n",
            "請輸入 1~100 的數字60\n",
            "太小，猜大一點\n",
            "請輸入 1~100 的數字65\n",
            "恭喜猜中了!!\n",
            "遊戲結束~\n"
          ]
        }
      ],
      "source": [
        "# 請在這邊完成你的程式\n",
        "target = random.randint(1, 100)\n",
        "#print(target)\n",
        "\n",
        "for i in range(10):\n",
        "    your_num = input(\"請輸入 1~100 的數字\")\n",
        "    your_num = int(your_num)\n",
        "    if your_num>target:\n",
        "        print(\"太大，猜小一點\")\n",
        "    elif your_num<target:\n",
        "        print(\"太小，猜大一點\")\n",
        "    else:\n",
        "        print(\"恭喜猜中了!!\")\n",
        "        break\n",
        "print(\"遊戲結束~\")"
      ]
    },
    {
      "cell_type": "markdown",
      "metadata": {
        "id": "Az-RoAcvq64E"
      },
      "source": [
        "- 第二版: 變數的練習，在前面的基礎下，把每一次猜的值記下來，更新到程式中的上、下限值，並在下一次提示目前可以猜的範圍"
      ]
    },
    {
      "cell_type": "code",
      "execution_count": 100,
      "metadata": {
        "id": "YtKORb6uq64F",
        "outputId": "c0de7abc-df3f-4dd9-df91-113dac36366c",
        "colab": {
          "base_uri": "https://localhost:8080/"
        }
      },
      "outputs": [
        {
          "output_type": "stream",
          "name": "stdout",
          "text": [
            "請輸入 1~100 的數字60\n",
            "太大，猜小一點\n",
            "請輸入 1~60 的數字20\n",
            "太小，猜大一點\n",
            "請輸入 20~60 的數字45\n",
            "恭喜猜中了!!\n",
            "遊戲結束~\n"
          ]
        }
      ],
      "source": [
        "# 請在這邊完成你的程式\n",
        "target = random.randint(1, 100)\n",
        "#print(target)\n",
        "your_min = 1\n",
        "your_max = 100\n",
        "\n",
        "for i in range(10):\n",
        "    your_num = input(f\"請輸入 {your_min}~{your_max} 的數字\")\n",
        "    your_num = int(your_num)\n",
        "    if your_num>target:\n",
        "        print(\"太大，猜小一點\")\n",
        "        your_max = your_num\n",
        "    elif your_num<target:\n",
        "        print(\"太小，猜大一點\")\n",
        "        your_min = your_num\n",
        "    else:\n",
        "        print(\"恭喜猜中了!!\")\n",
        "        break\n",
        "print(\"遊戲結束~\")"
      ]
    },
    {
      "cell_type": "code",
      "execution_count": null,
      "metadata": {
        "id": "-KMkooRSq64L"
      },
      "outputs": [],
      "source": []
    }
  ],
  "metadata": {
    "kernelspec": {
      "display_name": "Python 3 (ipykernel)",
      "language": "python",
      "name": "python3"
    },
    "language_info": {
      "codemirror_mode": {
        "name": "ipython",
        "version": 3
      },
      "file_extension": ".py",
      "mimetype": "text/x-python",
      "name": "python",
      "nbconvert_exporter": "python",
      "pygments_lexer": "ipython3",
      "version": "3.9.7"
    },
    "colab": {
      "provenance": []
    }
  },
  "nbformat": 4,
  "nbformat_minor": 0
}