{
 "cells": [
  {
   "cell_type": "markdown",
   "id": "b038e84f-ddc1-4681-8bca-0501adbfc034",
   "metadata": {},
   "source": [
    "# firebase\n",
    "----"
   ]
  },
  {
   "cell_type": "markdown",
   "id": "99d2f50a-fc29-450e-bf79-b214093fb271",
   "metadata": {},
   "source": [
    "- https://zh.wikipedia.org/zh-tw/Firebase\n",
    "- Firebase的第一個產品是Firebase實時資料庫，該API可在iOS，Android和Web裝置之間同步應用程式數據\n",
    "- 我們今天要介紹的也就是這一個 realtime database\n",
    "\n",
    "- 官方網站連結: https://firebase.google.com/"
   ]
  },
  {
   "cell_type": "markdown",
   "id": "a12dacef-a610-4007-b6f9-e10c746942ea",
   "metadata": {},
   "source": [
    "## 先來看看怎麼使用\n",
    "- 由pypi看一下怎麼安裝：https://pypi.org/project/python-firebase/\n",
    "- `pip install python-firebase`\n",
    "\n",
    "### 改用這樣安裝\n",
    "`pip install git+https://github.com/ozgur/python-firebase`"
   ]
  },
  {
   "cell_type": "markdown",
   "id": "f9fd0491-220c-4a08-beda-d76ddb2218f4",
   "metadata": {},
   "source": [
    "### 如果系統沒有安裝git的話，記得在jupyter中(或console畫面)執行 `conda install git`"
   ]
  },
  {
   "cell_type": "code",
   "execution_count": 3,
   "id": "d189d52b-8639-4302-93bd-e7b9e8714ca7",
   "metadata": {},
   "outputs": [
    {
     "name": "stdout",
     "output_type": "stream",
     "text": [
      "Collecting git+https://github.com/ozgur/python-firebase"
     ]
    },
    {
     "name": "stderr",
     "output_type": "stream",
     "text": [
      "  Running command git clone -q https://github.com/ozgur/python-firebase 'C:\\Users\\X270\\AppData\\Local\\Temp\\pip-req-build-safef61v'\n"
     ]
    },
    {
     "name": "stdout",
     "output_type": "stream",
     "text": [
      "\n",
      "  Cloning https://github.com/ozgur/python-firebase to c:\\users\\x270\\appdata\\local\\temp\\pip-req-build-safef61v\n",
      "  Resolved https://github.com/ozgur/python-firebase to commit 0d79d7609844569ea1cec4ac71cb9038e834c355\n",
      "Requirement already satisfied: requests>=1.1.0 in c:\\users\\x270\\anaconda3\\lib\\site-packages (from python-firebase==1.2.1) (2.26.0)\n",
      "Requirement already satisfied: urllib3<1.27,>=1.21.1 in c:\\users\\x270\\anaconda3\\lib\\site-packages (from requests>=1.1.0->python-firebase==1.2.1) (1.26.7)\n",
      "Requirement already satisfied: idna<4,>=2.5 in c:\\users\\x270\\anaconda3\\lib\\site-packages (from requests>=1.1.0->python-firebase==1.2.1) (3.2)\n",
      "Requirement already satisfied: charset-normalizer~=2.0.0 in c:\\users\\x270\\anaconda3\\lib\\site-packages (from requests>=1.1.0->python-firebase==1.2.1) (2.0.4)\n",
      "Requirement already satisfied: certifi>=2017.4.17 in c:\\users\\x270\\anaconda3\\lib\\site-packages (from requests>=1.1.0->python-firebase==1.2.1) (2021.10.8)\n",
      "Building wheels for collected packages: python-firebase\n",
      "  Building wheel for python-firebase (setup.py): started\n",
      "  Building wheel for python-firebase (setup.py): finished with status 'done'\n",
      "  Created wheel for python-firebase: filename=python_firebase-1.2.1-py3-none-any.whl size=12625 sha256=aae45c0d5b3d5520250f517dceb9303b70710892926a91395e0495244460afcd\n",
      "  Stored in directory: C:\\Users\\X270\\AppData\\Local\\Temp\\pip-ephem-wheel-cache-fxl6927d\\wheels\\4c\\ee\\58\\7ba00fbdfa6e3568f74e950a5f03ebcea7d8de69109207f00f\n",
      "Successfully built python-firebase\n",
      "Installing collected packages: python-firebase\n",
      "  Attempting uninstall: python-firebase\n",
      "    Found existing installation: python-firebase 1.2\n",
      "    Uninstalling python-firebase-1.2:\n",
      "      Successfully uninstalled python-firebase-1.2\n",
      "Successfully installed python-firebase-1.2.1\n"
     ]
    }
   ],
   "source": [
    "!pip install git+https://github.com/ozgur/python-firebase"
   ]
  },
  {
   "cell_type": "code",
   "execution_count": 1,
   "id": "bd41a5a7-ffc6-4084-a86e-63d4be8fc522",
   "metadata": {},
   "outputs": [
    {
     "data": {
      "text/plain": [
       "'2023-01-14 09:28:33'"
      ]
     },
     "execution_count": 1,
     "metadata": {},
     "output_type": "execute_result"
    }
   ],
   "source": [
    "import time\n",
    "time.strftime(\"%Y-%m-%d %H:%M:%S\")"
   ]
  },
  {
   "cell_type": "code",
   "execution_count": 2,
   "id": "b29f777c-737e-49d3-9d28-13d4a15cb0fd",
   "metadata": {},
   "outputs": [
    {
     "name": "stdout",
     "output_type": "stream",
     "text": [
      "post result= {'name': '-NLhtPkSReGJ_ERDlYxA'}\n"
     ]
    }
   ],
   "source": [
    "from firebase import firebase\n",
    "import time\n",
    "\n",
    "tag_name = '/tag_malo' # 先修改這一個資料的節點名稱\n",
    "\n",
    "my_firebase = firebase.FirebaseApplication('https://fire-test-c46d1.firebaseio.com', None)\n",
    "\n",
    "my_time = time.strftime(\"%Y-%m-%d %H:%M:%S\")\n",
    "my_data = {'data': {'T': 25, 'H': 65}, 'time': my_time}\n",
    "result = my_firebase.post(tag_name+'/log', my_data)\n",
    "print('post result=', result)\n"
   ]
  },
  {
   "cell_type": "markdown",
   "id": "621c206f-af98-43ca-8cdf-473b273c3ee1",
   "metadata": {},
   "source": [
    "- 剛剛寫完的資料，用這個連結看看吧\n",
    "- https://fire-test-c46d1.firebaseio.com/.json\n",
    "- 指定tag名稱\n",
    "- https://fire-test-c46d1.firebaseio.com/tag_malo.json"
   ]
  },
  {
   "cell_type": "code",
   "execution_count": 3,
   "id": "3c5e0473-67ca-49c9-8f2d-f4f3c99a87aa",
   "metadata": {},
   "outputs": [],
   "source": [
    "# get取得資料\n",
    "from firebase import firebase\n",
    "my_firebase = firebase.FirebaseApplication('https://fire-test-c46d1.firebaseio.com', None)\n",
    "\n",
    "result = my_firebase.get(tag_name, None)"
   ]
  },
  {
   "cell_type": "code",
   "execution_count": 4,
   "id": "d8937bb7-58cc-4975-9a69-a874a51f78d3",
   "metadata": {
    "collapsed": true,
    "jupyter": {
     "outputs_hidden": true
    },
    "tags": []
   },
   "outputs": [
    {
     "data": {
      "text/plain": [
       "{'log': {'-NLfs38GxpOzCWquz147': {'data': {'H': 65, 'T': 25},\n",
       "   'time': '2023-01-14 00:04:39'},\n",
       "  '-NLfvxDKZohISHGLdicC': {'data': {'H': 62.9, 'T': 28.6},\n",
       "   'time': '2023-01-14 00:21:39'},\n",
       "  '-NLfvyZj_de-JLRurRiq': {'data': {'H': 76.6, 'T': 25.4},\n",
       "   'time': '2023-01-14 00:21:44'},\n",
       "  '-NLfvzwjuUT_p_RMvGnV': {'data': {'H': 88.4, 'T': 29.7},\n",
       "   'time': '2023-01-14 00:21:50'},\n",
       "  '-NLfw0IGFjA99v9hOr8K': {'data': {'H': 72.6, 'T': 28.5},\n",
       "   'time': '2023-01-14 00:21:56'},\n",
       "  '-NLfw1dhZV3LCmMviry9': {'data': {'H': 69.4, 'T': 26.8},\n",
       "   'time': '2023-01-14 00:22:01'},\n",
       "  '-NLfw2zvd9YjkRyRH9nM': {'data': {'H': 65.8, 'T': 28.0},\n",
       "   'time': '2023-01-14 00:22:07'},\n",
       "  '-NLfw4M5P5hv4lKrj0pf': {'data': {'H': 82.4, 'T': 28.3},\n",
       "   'time': '2023-01-14 00:22:12'},\n",
       "  '-NLfw5gg5oWGjNhu1EJA': {'data': {'H': 51.7, 'T': 28.2},\n",
       "   'time': '2023-01-14 00:22:18'},\n",
       "  '-NLfw72CuXz4UBTwZ1qf': {'data': {'H': 81.0, 'T': 29.8},\n",
       "   'time': '2023-01-14 00:22:23'},\n",
       "  '-NLfw8OXtIeQ6Hw2SFPQ': {'data': {'H': 59.4, 'T': 26.7},\n",
       "   'time': '2023-01-14 00:22:29'},\n",
       "  '-NLhshlwizHXkdUS_kc0': {'data': {'H': 65, 'T': 25},\n",
       "   'time': '2023-01-14 09:26:43'},\n",
       "  '-NLhsjSSTMGBb8H-L_fX': {'data': {'H': 65, 'T': 25},\n",
       "   'time': '2023-01-14 09:26:49'},\n",
       "  '-NLhtPkSReGJ_ERDlYxA': {'data': {'H': 65, 'T': 25},\n",
       "   'time': '2023-01-14 09:29:47'}},\n",
       " 'log2': {'2023-01-14 00:27:59': {'data': {'H': 55.4, 'T': 28.7},\n",
       "   'time': '2023-01-14 00:27:59'},\n",
       "  '2023-01-14 00:29:25': {'data': {'H': 80.8, 'T': 25.5},\n",
       "   'time': '2023-01-14 00:29:25'},\n",
       "  '2023-01-14 00:29:31': {'data': {'H': 68.5, 'T': 26.1},\n",
       "   'time': '2023-01-14 00:29:31'},\n",
       "  '2023-01-14 00:29:36': {'data': {'H': 88.7, 'T': 27.6},\n",
       "   'time': '2023-01-14 00:29:36'},\n",
       "  '2023-01-14 00:29:42': {'data': {'H': 68.7, 'T': 25.8},\n",
       "   'time': '2023-01-14 00:29:42'},\n",
       "  '2023-01-14 00:29:47': {'data': {'H': 75.2, 'T': 28.3},\n",
       "   'time': '2023-01-14 00:29:47'},\n",
       "  '2023-01-14 00:29:53': {'data': {'H': 77.6, 'T': 29.4},\n",
       "   'time': '2023-01-14 00:29:53'},\n",
       "  '2023-01-14 00:29:59': {'data': {'H': 74.3, 'T': 25.1},\n",
       "   'time': '2023-01-14 00:29:59'},\n",
       "  '2023-01-14 00:30:04': {'data': {'H': 56.4, 'T': 27.0},\n",
       "   'time': '2023-01-14 00:30:04'},\n",
       "  '2023-01-14 00:30:10': {'data': {'H': 73.5, 'T': 28.2},\n",
       "   'time': '2023-01-14 00:30:10'},\n",
       "  '2023-01-14 00:30:15': {'data': {'H': 67.5, 'T': 27.5},\n",
       "   'time': '2023-01-14 00:30:15'}}}"
      ]
     },
     "execution_count": 4,
     "metadata": {},
     "output_type": "execute_result"
    }
   ],
   "source": [
    "result"
   ]
  },
  {
   "cell_type": "code",
   "execution_count": 9,
   "id": "4817b5c5-7cfd-438b-9988-7ade4d211624",
   "metadata": {},
   "outputs": [],
   "source": [
    "# TODO: 寫入10筆資料\n"
   ]
  },
  {
   "cell_type": "code",
   "execution_count": 10,
   "id": "cd1cc325-aaff-465d-a03f-0b2ed6ea164f",
   "metadata": {},
   "outputs": [],
   "source": [
    "# TODO: 寫入10筆資料, 資料以亂數產生\n",
    "import time\n",
    "import random\n",
    "\n",
    "my_firebase = firebase.FirebaseApplication('https://fire-test-c46d1.firebaseio.com', None)\n",
    "\n",
    "for i in range(10):\n",
    "    my_time = time.strftime(\"%Y-%m-%d %H:%M:%S\")\n",
    "    my_data = {'data': {'T': round(random.uniform(25, 30), 1), \n",
    "                        'H': round(random.uniform(50, 90), 1)}, 'time': my_time}\n",
    "    result = my_firebase.post(tag_name+'/log', my_data)\n",
    "    \n",
    "    time.sleep(5)\n",
    "    "
   ]
  },
  {
   "cell_type": "markdown",
   "id": "90a3fd0e-ddb2-4323-b920-b4ff330fa31c",
   "metadata": {},
   "source": [
    "- 一樣到指定tag名稱，使用browser來看資料\n",
    "- https://fire-test-c46d1.firebaseio.com/tag_malo.json"
   ]
  },
  {
   "cell_type": "markdown",
   "id": "f53d524e-bdc2-4912-acd6-456b95604c67",
   "metadata": {},
   "source": [
    "----\n",
    "- 每一筆資料的名稱不是很好看，因為這裡firebase使用auto-generated Key\n",
    "- 我們可以改成使用put的方法"
   ]
  },
  {
   "cell_type": "code",
   "execution_count": 14,
   "id": "3472d8de-6d41-4996-baa4-6edd2c0cb99f",
   "metadata": {},
   "outputs": [],
   "source": [
    "my_time = time.strftime(\"%Y-%m-%d %H:%M:%S\")\n",
    "my_data = {'data': {'T': round(random.uniform(25, 30), 1), \n",
    "                    'H': round(random.uniform(50, 90), 1)}, 'time': my_time}\n",
    "\n",
    "result = my_firebase.put(tag_name+'/log2', my_time, my_data)"
   ]
  },
  {
   "cell_type": "markdown",
   "id": "9df7c4de-91ad-46c4-a1e5-395d9de3aeda",
   "metadata": {},
   "source": [
    "- https://fire-test-c46d1.firebaseio.com/tag_malo.json"
   ]
  },
  {
   "cell_type": "code",
   "execution_count": 15,
   "id": "b97560d9-8782-4161-806a-a0567ce3887d",
   "metadata": {},
   "outputs": [],
   "source": [
    "# TODO: 用put方法寫入10筆資料\n"
   ]
  },
  {
   "cell_type": "code",
   "execution_count": 16,
   "id": "70165d87-781c-4600-921c-323f3aa7182d",
   "metadata": {},
   "outputs": [],
   "source": [
    "# TODO: 用put方法寫入10筆資料\n",
    "import time\n",
    "import random\n",
    "\n",
    "my_firebase = firebase.FirebaseApplication('https://fire-test-c46d1.firebaseio.com', None)\n",
    "\n",
    "for i in range(10):\n",
    "    my_time = time.strftime(\"%Y-%m-%d %H:%M:%S\")\n",
    "    my_data = {'data': {'T': round(random.uniform(25, 30), 1), \n",
    "                        'H': round(random.uniform(50, 90), 1)}, 'time': my_time}\n",
    "    result = my_firebase.put(tag_name+'/log2', my_time, my_data)\n",
    "    \n",
    "    time.sleep(5)\n",
    "    "
   ]
  },
  {
   "cell_type": "code",
   "execution_count": 5,
   "id": "25516dac-8dce-4ee9-992d-dab4a1649f18",
   "metadata": {},
   "outputs": [
    {
     "data": {
      "text/plain": [
       "{'2023-01-14 00:27:59': {'data': {'H': 55.4, 'T': 28.7},\n",
       "  'time': '2023-01-14 00:27:59'},\n",
       " '2023-01-14 00:29:25': {'data': {'H': 80.8, 'T': 25.5},\n",
       "  'time': '2023-01-14 00:29:25'},\n",
       " '2023-01-14 00:29:31': {'data': {'H': 68.5, 'T': 26.1},\n",
       "  'time': '2023-01-14 00:29:31'},\n",
       " '2023-01-14 00:29:36': {'data': {'H': 88.7, 'T': 27.6},\n",
       "  'time': '2023-01-14 00:29:36'},\n",
       " '2023-01-14 00:29:42': {'data': {'H': 68.7, 'T': 25.8},\n",
       "  'time': '2023-01-14 00:29:42'},\n",
       " '2023-01-14 00:29:47': {'data': {'H': 75.2, 'T': 28.3},\n",
       "  'time': '2023-01-14 00:29:47'},\n",
       " '2023-01-14 00:29:53': {'data': {'H': 77.6, 'T': 29.4},\n",
       "  'time': '2023-01-14 00:29:53'},\n",
       " '2023-01-14 00:29:59': {'data': {'H': 74.3, 'T': 25.1},\n",
       "  'time': '2023-01-14 00:29:59'},\n",
       " '2023-01-14 00:30:04': {'data': {'H': 56.4, 'T': 27.0},\n",
       "  'time': '2023-01-14 00:30:04'},\n",
       " '2023-01-14 00:30:10': {'data': {'H': 73.5, 'T': 28.2},\n",
       "  'time': '2023-01-14 00:30:10'},\n",
       " '2023-01-14 00:30:15': {'data': {'H': 67.5, 'T': 27.5},\n",
       "  'time': '2023-01-14 00:30:15'}}"
      ]
     },
     "execution_count": 5,
     "metadata": {},
     "output_type": "execute_result"
    }
   ],
   "source": [
    "# 再把資料讀回來\n",
    "\n",
    "my_firebase.get(tag_name, 'log2')"
   ]
  },
  {
   "cell_type": "markdown",
   "id": "85168fbf-0600-4923-8c94-7805cf949e21",
   "metadata": {},
   "source": [
    "- 或是使用這個連結看資料\n",
    "- https://fire-test-c46d1.firebaseio.com/tag_malo.json"
   ]
  },
  {
   "cell_type": "markdown",
   "id": "f788e00a-991a-436f-b354-278348816d81",
   "metadata": {},
   "source": [
    "----\n",
    "### 申請firebase的環境\n",
    "- https://console.firebase.google.com/\n",
    "- 我們關心的付費機制: https://firebase.google.com/pricing\n",
    "- 申請流程參考(別人的)\n",
    "- 或是看一下`firebase申請畫面`這邊"
   ]
  },
  {
   "cell_type": "code",
   "execution_count": null,
   "id": "86d00c05-22fc-4fda-aa4a-66d06e30ee40",
   "metadata": {},
   "outputs": [],
   "source": []
  }
 ],
 "metadata": {
  "kernelspec": {
   "display_name": "Python 3 (ipykernel)",
   "language": "python",
   "name": "python3"
  },
  "language_info": {
   "codemirror_mode": {
    "name": "ipython",
    "version": 3
   },
   "file_extension": ".py",
   "mimetype": "text/x-python",
   "name": "python",
   "nbconvert_exporter": "python",
   "pygments_lexer": "ipython3",
   "version": "3.9.7"
  }
 },
 "nbformat": 4,
 "nbformat_minor": 5
}
