{
 "cells": [
  {
   "cell_type": "code",
   "execution_count": 5,
   "id": "258faea3-273b-4108-bc6a-983260b2afde",
   "metadata": {},
   "outputs": [
    {
     "name": "stdout",
     "output_type": "stream",
     "text": [
      "<Response [200]>\n"
     ]
    }
   ],
   "source": [
    "import requests\n",
    "\n",
    "# 使用 params 可以傳出url後?帶的參數\n",
    "url = \"https://malocsu8107.pythonanywhere.com/api/temp\"\n",
    "my_params = {'temp':36}\n",
    "r = requests.post(url,params=my_params)\n",
    "print(r)"
   ]
  },
  {
   "cell_type": "code",
   "execution_count": 6,
   "id": "c4dbf9c9-9b46-4cc9-982f-3cb10e3a9a79",
   "metadata": {},
   "outputs": [
    {
     "data": {
      "text/plain": [
       "{'log': 'insert: [2022-12-13 13:57:17,36]', 'result': 'OK'}"
      ]
     },
     "execution_count": 6,
     "metadata": {},
     "output_type": "execute_result"
    }
   ],
   "source": [
    "r.json()"
   ]
  },
  {
   "cell_type": "code",
   "execution_count": 7,
   "id": "194b2603-f54f-4357-a4aa-9767ec03ecaf",
   "metadata": {},
   "outputs": [
    {
     "name": "stdout",
     "output_type": "stream",
     "text": [
      "<Response [200]>\n"
     ]
    },
    {
     "data": {
      "text/plain": [
       "{'data': [{'dtime': '2022-12-01 08:00:00', 'temp': 36.6},\n",
       "  {'dtime': '2022-12-02 08:00:00', 'temp': 35.3},\n",
       "  {'dtime': '2022-12-03 08:00:00', 'temp': 36.6},\n",
       "  {'dtime': '2022-12-04 08:00:00', 'temp': 37.4},\n",
       "  {'dtime': '2022-12-05 08:00:00', 'temp': 35.0},\n",
       "  {'dtime': '2022-12-06 08:00:00', 'temp': 36.3},\n",
       "  {'dtime': '2022-12-07 08:00:00', 'temp': 35.9},\n",
       "  {'dtime': '2022-12-08 08:00:00', 'temp': 35.5},\n",
       "  {'dtime': '2022-12-09 08:00:00', 'temp': 36.5},\n",
       "  {'dtime': '2022-12-10 08:00:00', 'temp': 35.3},\n",
       "  {'dtime': '2022-12-13 13:51:03', 'temp': 36.0},\n",
       "  {'dtime': '2022-12-13 13:57:17', 'temp': 36.0}],\n",
       " 'result': 'OK'}"
      ]
     },
     "execution_count": 7,
     "metadata": {},
     "output_type": "execute_result"
    }
   ],
   "source": [
    "# 抓資料回來\n",
    "url = 'https://malocsu8107.pythonanywhere.com/api/temp'\n",
    "r = requests.get(url)\n",
    "print(r)\n",
    "r.json()"
   ]
  },
  {
   "cell_type": "code",
   "execution_count": 4,
   "id": "275f0295-85ce-489a-b095-c2655c25f1e3",
   "metadata": {},
   "outputs": [],
   "source": [
    "# TODO: 試著幫 /api/temp POST API加上dtime的參數，讓API新增資料時可以帶入時間\n",
    "# Q: 思考為何這樣設計?\n",
    "\n"
   ]
  },
  {
   "cell_type": "markdown",
   "id": "fdbc68e8-5c6d-41d1-b0c2-6ec74ec73ce8",
   "metadata": {
    "tags": []
   },
   "source": [
    "### 使用form POST資料"
   ]
  },
  {
   "cell_type": "code",
   "execution_count": 11,
   "id": "f1c0304f-4802-4147-ae55-b8ac32fc1c9e",
   "metadata": {},
   "outputs": [
    {
     "name": "stdout",
     "output_type": "stream",
     "text": [
      "<Response [200]>\n"
     ]
    },
    {
     "data": {
      "text/plain": [
       "{'log': 'insert: [2022-12-13 14:12:20,37]', 'result': 'OK'}"
      ]
     },
     "execution_count": 11,
     "metadata": {},
     "output_type": "execute_result"
    }
   ],
   "source": [
    "import requests\n",
    "\n",
    "# 使用 params 可以傳出url後?帶的參數\n",
    "url = \"https://malocsu8107.pythonanywhere.com/api/temp/form\"\n",
    "payload = {'temp':37}\n",
    "r = requests.post(url,data=payload)\n",
    "print(r)\n",
    "r.json()"
   ]
  },
  {
   "cell_type": "code",
   "execution_count": 12,
   "id": "387e6a6b-3f9d-4dc7-a8ce-ef337499a73f",
   "metadata": {},
   "outputs": [
    {
     "name": "stdout",
     "output_type": "stream",
     "text": [
      "<Response [200]>\n"
     ]
    },
    {
     "data": {
      "text/plain": [
       "{'data': [{'dtime': '2022-12-01 08:00:00', 'temp': 36.6},\n",
       "  {'dtime': '2022-12-02 08:00:00', 'temp': 35.3},\n",
       "  {'dtime': '2022-12-03 08:00:00', 'temp': 36.6},\n",
       "  {'dtime': '2022-12-04 08:00:00', 'temp': 37.4},\n",
       "  {'dtime': '2022-12-05 08:00:00', 'temp': 35.0},\n",
       "  {'dtime': '2022-12-06 08:00:00', 'temp': 36.3},\n",
       "  {'dtime': '2022-12-07 08:00:00', 'temp': 35.9},\n",
       "  {'dtime': '2022-12-08 08:00:00', 'temp': 35.5},\n",
       "  {'dtime': '2022-12-09 08:00:00', 'temp': 36.5},\n",
       "  {'dtime': '2022-12-10 08:00:00', 'temp': 35.3},\n",
       "  {'dtime': '2022-12-13 13:51:03', 'temp': 36.0},\n",
       "  {'dtime': '2022-12-13 13:57:17', 'temp': 36.0},\n",
       "  {'dtime': '2022-12-13 14:10:45', 'temp': 0.0},\n",
       "  {'dtime': '2022-12-13 14:12:20', 'temp': 37.0}],\n",
       " 'result': 'OK'}"
      ]
     },
     "execution_count": 12,
     "metadata": {},
     "output_type": "execute_result"
    }
   ],
   "source": [
    "# 抓資料回來\n",
    "url = 'https://malocsu8107.pythonanywhere.com/api/temp'\n",
    "r = requests.get(url)\n",
    "print(r)\n",
    "r.json()"
   ]
  },
  {
   "cell_type": "code",
   "execution_count": null,
   "id": "1dcf1c72-3df8-4cf9-9709-e99a66d2c6db",
   "metadata": {},
   "outputs": [],
   "source": []
  }
 ],
 "metadata": {
  "kernelspec": {
   "display_name": "Python 3 (ipykernel)",
   "language": "python",
   "name": "python3"
  },
  "language_info": {
   "codemirror_mode": {
    "name": "ipython",
    "version": 3
   },
   "file_extension": ".py",
   "mimetype": "text/x-python",
   "name": "python",
   "nbconvert_exporter": "python",
   "pygments_lexer": "ipython3",
   "version": "3.9.7"
  }
 },
 "nbformat": 4,
 "nbformat_minor": 5
}
