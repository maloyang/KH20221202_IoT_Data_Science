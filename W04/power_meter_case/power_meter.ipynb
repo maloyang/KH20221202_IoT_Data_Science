{
 "cells": [
  {
   "cell_type": "markdown",
   "metadata": {},
   "source": [
    "# Agenda\n",
    "\n",
    "- Power Meter\n",
    "    - 何謂power meter\n",
    "    - 來看看Power Meter的點表\n",
    "    - Live Demo\n",
    "    \n",
    "- MQTT - 即時性應用\n",
    "    - Mosquitto\n",
    "    - paho\n",
    "    \n",
    "- thingspeak\n",
    "\n",
    "----\n"
   ]
  },
  {
   "cell_type": "markdown",
   "metadata": {},
   "source": [
    "## 在進入主題之前\n",
    "----\n",
    "### modbus格式介紹 \n",
    "\n",
    "[參考](http://gridconnect.com/blog/tag/modbus-rtu/)\n",
    "\n",
    "- Modbus/RTU: [start time] [Address 8bits + Function 8bits + Data Nx8bits + CRC 16bits] [End time]\n",
    "\n",
    "- Modbus/TCP: [header 6byte + Address 8bits + Function 8bits + Data Nx8bits]\n",
    "\n",
    "- Modbus/ASCII: 現在比較少人用，跳過不講\n",
    "\n",
    "![格式](image/MODBUS-Frame.png)\n",
    "        \n"
   ]
  },
  {
   "cell_type": "markdown",
   "metadata": {},
   "source": [
    "### modbus常被採用的原因\n",
    "        \n",
    "- 公開發表並且無版稅要求\n",
    "\n",
    "- 相對容易的工業網路部署\n",
    "\n",
    "- 協定格式簡單，極省資源\n"
   ]
  },
  {
   "cell_type": "markdown",
   "metadata": {},
   "source": [
    "----\n",
    "\n",
    "## Modbus套件\n",
    "\n",
    "----\n"
   ]
  },
  {
   "cell_type": "markdown",
   "metadata": {},
   "source": [
    "\n",
    "### 網路上較多人提到的三個套件\n",
    "\n",
    "[performance比較](https://stackoverflow.com/questions/17081442/python-modbus-library)\n",
    "\n",
    "- modbus-tk: Modbus/RTU, Modbus/TCP\n",
    "\n",
    "- pymodbus: 據說實作最完整，但使用資源相對的多，相依套件也多\n",
    "\n",
    "- MinimalModbus: Modbus/RTU, Modbus/ASCII\n",
    "\n"
   ]
  },
  {
   "cell_type": "markdown",
   "metadata": {},
   "source": [
    "### Modbus-tk\n",
    "\n",
    "個人推薦使用\n",
    "\n",
    "- 安裝方式\n",
    "    - pip install serial\n",
    "    - pip install modbus_tk\n",
    "\n",
    "- 操作\n",
    "    - [Python與PLC共舞](https://github.com/maloyang/PLC-Python)\n",
    "     "
   ]
  },
  {
   "cell_type": "markdown",
   "metadata": {},
   "source": [
    "----\n",
    "\n",
    "## Power Meter\n",
    "\n",
    "電力監控常見的元素\n",
    "\n",
    "----\n"
   ]
  },
  {
   "cell_type": "markdown",
   "metadata": {},
   "source": [
    "\n",
    "### Power Meter的點表\n",
    "\n",
    "![Power Meter的點表](image/power_meter.gif)\n",
    "\n"
   ]
  },
  {
   "cell_type": "markdown",
   "metadata": {},
   "source": [
    "### Power Meter的浮點數表示方式\n",
    "\n",
    "![浮點數](image/power_meter_float.gif)\n",
    "\n",
    "----\n",
    "![float](image/mb_float.png)\n",
    "- [Live Demo](Modbus.ipynb)\n"
   ]
  },
  {
   "cell_type": "code",
   "execution_count": null,
   "metadata": {},
   "outputs": [],
   "source": []
  },
  {
   "cell_type": "code",
   "execution_count": 1,
   "metadata": {},
   "outputs": [],
   "source": [
    "import serial\n",
    "import modbus_tk\n",
    "import modbus_tk.defines as cst\n",
    "import modbus_tk.modbus_rtu as modbus_rtu\n",
    "import modbus_tk.modbus_tcp as modbus_tcp\n",
    "import time\n",
    "from struct import *"
   ]
  },
  {
   "cell_type": "code",
   "execution_count": 2,
   "metadata": {},
   "outputs": [
    {
     "name": "stdout",
     "output_type": "stream",
     "text": [
      "read value: (112, 110, 109)\n"
     ]
    },
    {
     "data": {
      "text/plain": [
       "True"
      ]
     },
     "execution_count": 2,
     "metadata": {},
     "output_type": "execute_result"
    }
   ],
   "source": [
    "# Modbus/TCP Client Start\n",
    "\n",
    "mbTimeout = 1\n",
    "mb_ip = '209.97.161.199'\n",
    "mb_port = 10502\n",
    "\n",
    "master = modbus_tcp.TcpMaster(mb_ip, mb_port)\n",
    "master.set_timeout(mbTimeout)\n",
    "\n",
    "mbId = 1\n",
    "addr = 0\n",
    "try:\n",
    "    # FC3\n",
    "    rr = master.execute(mbId, cst.HOLDING_REGISTERS, addr, 3)\n",
    "    print('read value:', rr)\n",
    "\n",
    "except Exception as e:\n",
    "    print(\"modbus test Error: \" + str(e))\n",
    "\n",
    "master._do_close()\n"
   ]
  },
  {
   "cell_type": "code",
   "execution_count": 3,
   "metadata": {},
   "outputs": [
    {
     "name": "stdout",
     "output_type": "stream",
     "text": [
      "read value: (39322, 16417)\n",
      "v_a= (2.5250000953674316,)\n"
     ]
    },
    {
     "data": {
      "text/plain": [
       "True"
      ]
     },
     "execution_count": 3,
     "metadata": {},
     "output_type": "execute_result"
    }
   ],
   "source": [
    "# if float\n",
    "\n",
    "# Modbus/TCP Client Start\n",
    "\n",
    "mbTimeout = 1\n",
    "mb_ip = '209.97.161.199'\n",
    "mb_port = 10502\n",
    "\n",
    "master = modbus_tcp.TcpMaster(mb_ip, mb_port)\n",
    "master.set_timeout(mbTimeout)\n",
    "\n",
    "mbId = 1\n",
    "addr = 20\n",
    "try:\n",
    "    # FC3\n",
    "    rr = master.execute(mbId, cst.HOLDING_REGISTERS, addr, 2)\n",
    "    print('read value:', rr)\n",
    "\n",
    "    # convert to float:\n",
    "    # IEEE754 ==> (Hi word Hi Bite, Hi word Lo Byte, Lo word Hi Byte, Lo word Lo Byte)\n",
    "    try:\n",
    "        v_a_hi = rr[1]\n",
    "        v_a_lo = rr[0]\n",
    "        v_a = unpack('>f', pack('>HH', v_a_hi, v_a_lo))\n",
    "        print('v_a=', v_a)\n",
    "        #struct.unpack(\">f\",'\\x42\\xd8\\x6b\\x8d')\n",
    "    except Exception as e:\n",
    "        print(e)\n",
    "    \n",
    "except Exception as e:\n",
    "    print(\"modbus test Error: \" + str(e))\n",
    "\n",
    "master._do_close()\n"
   ]
  },
  {
   "cell_type": "code",
   "execution_count": null,
   "metadata": {},
   "outputs": [],
   "source": [
    "# TODO: 如果address 20開始有三個float表示電流值，要怎麼處理?\n"
   ]
  },
  {
   "cell_type": "markdown",
   "metadata": {},
   "source": [
    "----\n",
    "\n",
    "## MQTT - 即時性應用\n",
    "\n",
    "已經可以採集資料了，來談談怎麼上傳雲端吧\n",
    "\n",
    "----\n"
   ]
  },
  {
   "cell_type": "markdown",
   "metadata": {},
   "source": [
    "### Mosquitto\n",
    "\n",
    "一個broker套件，當然也可以做為client使用\n",
    "\n",
    "- 以NB X260來說，4000多個連結沒有問題\n",
    "\n",
    "![Mosquitto](image/Eclipse-Mosquitto-logo.png)\n"
   ]
  },
  {
   "cell_type": "markdown",
   "metadata": {
    "tags": []
   },
   "source": [
    "### paho\n",
    "\n",
    "便利的MQTT client端套件\n",
    "\n",
    "- [link](https://pypi.org/project/paho-mqtt/)\n",
    "- install: `pip install paho-mqtt`\n",
    "\n",
    "![paho](image/mqtt-paho-featured-image.jpg)\n"
   ]
  },
  {
   "cell_type": "code",
   "execution_count": 17,
   "metadata": {},
   "outputs": [
    {
     "name": "stdout",
     "output_type": "stream",
     "text": [
      "Connected with result code 0\n",
      "(topic, value)=(KH20221202_IoT_Data_Science/farm1/a1, 0.411) @2022-12-24 01:19:05\n",
      "(topic, value)=(KH20221202_IoT_Data_Science/farm1/a2, 0.403) @2022-12-24 01:19:05\n",
      "(topic, value)=(KH20221202_IoT_Data_Science/farm1/a3, 0.037) @2022-12-24 01:19:05\n",
      "(topic, value)=(KH20221202_IoT_Data_Science/farm1/v1, 238.586) @2022-12-24 01:19:05\n",
      "(topic, value)=(KH20221202_IoT_Data_Science/farm1/v2, 237.920) @2022-12-24 01:19:05\n",
      "(topic, value)=(KH20221202_IoT_Data_Science/farm1/v3, 238.479) @2022-12-24 01:19:05\n",
      "(topic, value)=(KH20221202_IoT_Data_Science/farm2/a2, 2.801) @2022-12-24 01:19:05\n",
      "(topic, value)=(KH20221202_IoT_Data_Science/farm2/total_e, 18684.180) @2022-12-24 01:19:05\n",
      "(topic, value)=(KH20221202_IoT_Data_Science/farm2/v1, 238.506) @2022-12-24 01:19:05\n",
      "(topic, value)=(KH20221202_IoT_Data_Science/farm2/v2, 241.255) @2022-12-24 01:19:05\n",
      "(topic, value)=(KH20221202_IoT_Data_Science/farm2/v3, 240.098) @2022-12-24 01:19:05\n",
      "(topic, value)=(KH20221202_IoT_Data_Science/farm3/a3, 21.792) @2022-12-24 01:19:05\n",
      "(topic, value)=(KH20221202_IoT_Data_Science/farm3/total_e, 46437.050) @2022-12-24 01:19:05\n",
      "(topic, value)=(KH20221202_IoT_Data_Science/farm3/v1, 132.748) @2022-12-24 01:19:05\n",
      "(topic, value)=(KH20221202_IoT_Data_Science/farm4/a2, 0.000) @2022-12-24 01:19:05\n",
      "(topic, value)=(KH20221202_IoT_Data_Science/farm4/a3, 0.318) @2022-12-24 01:19:05\n",
      "(topic, value)=(KH20221202_IoT_Data_Science/farm4/total_e, 14613.730) @2022-12-24 01:19:05\n",
      "(topic, value)=(KH20221202_IoT_Data_Science/farm4/v1, 206.335) @2022-12-24 01:19:05\n",
      "(topic, value)=(KH20221202_IoT_Data_Science/farm4/v3, 122.334) @2022-12-24 01:19:05\n",
      "(topic, value)=(KH20221202_IoT_Data_Science/farm5/a1, 0.035) @2022-12-24 01:19:05\n",
      "(topic, value)=(KH20221202_IoT_Data_Science/farm5/a2, 0.000) @2022-12-24 01:19:05\n",
      "(topic, value)=(KH20221202_IoT_Data_Science/farm1/total_e, 5586.948) @2022-12-24 01:19:05\n",
      "(topic, value)=(KH20221202_IoT_Data_Science/farm5/a3, 0.213) @2022-12-24 01:19:05\n",
      "(topic, value)=(KH20221202_IoT_Data_Science/farm5/total_e, 239.319) @2022-12-24 01:19:05\n",
      "(topic, value)=(KH20221202_IoT_Data_Science/farm5/v1, 199.983) @2022-12-24 01:19:05\n",
      "(topic, value)=(KH20221202_IoT_Data_Science/farm5/v2, 77.556) @2022-12-24 01:19:05\n",
      "(topic, value)=(KH20221202_IoT_Data_Science/farm3/a2, 20.347) @2022-12-24 01:19:05\n",
      "(topic, value)=(KH20221202_IoT_Data_Science/farm4/a1, 0.108) @2022-12-24 01:19:05\n",
      "(topic, value)=(KH20221202_IoT_Data_Science/farm4/v2, 122.769) @2022-12-24 01:19:05\n",
      "(topic, value)=(KH20221202_IoT_Data_Science/farm2/a3, 1.557) @2022-12-24 01:19:05\n",
      "(topic, value)=(KH20221202_IoT_Data_Science/farm3/a1, 22.194) @2022-12-24 01:19:05\n",
      "(topic, value)=(KH20221202_IoT_Data_Science/farm5/v3, 116.656) @2022-12-24 01:19:05\n",
      "(topic, value)=(KH20221202_IoT_Data_Science/farm3/v2, 130.367) @2022-12-24 01:19:05\n",
      "(topic, value)=(KH20221202_IoT_Data_Science/farm3/v3, 131.414) @2022-12-24 01:19:05\n",
      "(topic, value)=(KH20221202_IoT_Data_Science/farm2/a1, 1.552) @2022-12-24 01:19:05\n",
      "(topic, value)=(KH20221202_IoT_Data_Science/farm1/a1, 0.411) @2022-12-24 01:19:15\n",
      "(topic, value)=(KH20221202_IoT_Data_Science/farm1/a2, 0.403) @2022-12-24 01:19:15\n",
      "(topic, value)=(KH20221202_IoT_Data_Science/farm1/a3, 0.037) @2022-12-24 01:19:15\n",
      "(topic, value)=(KH20221202_IoT_Data_Science/farm1/v1, 238.586) @2022-12-24 01:19:15\n",
      "(topic, value)=(KH20221202_IoT_Data_Science/farm1/v2, 237.920) @2022-12-24 01:19:15\n",
      "(topic, value)=(KH20221202_IoT_Data_Science/farm1/v3, 238.479) @2022-12-24 01:19:15\n",
      "(topic, value)=(KH20221202_IoT_Data_Science/farm2/a2, 2.802) @2022-12-24 01:19:15\n",
      "(topic, value)=(KH20221202_IoT_Data_Science/farm2/total_e, 18684.180) @2022-12-24 01:19:15\n",
      "(topic, value)=(KH20221202_IoT_Data_Science/farm2/v1, 238.292) @2022-12-24 01:19:15\n",
      "(topic, value)=(KH20221202_IoT_Data_Science/farm2/v2, 241.127) @2022-12-24 01:19:15\n",
      "(topic, value)=(KH20221202_IoT_Data_Science/farm2/v3, 240.055) @2022-12-24 01:19:15\n",
      "(topic, value)=(KH20221202_IoT_Data_Science/farm3/a3, 21.734) @2022-12-24 01:19:15\n",
      "(topic, value)=(KH20221202_IoT_Data_Science/farm3/total_e, 46437.070) @2022-12-24 01:19:15\n",
      "(topic, value)=(KH20221202_IoT_Data_Science/farm3/v1, 132.656) @2022-12-24 01:19:15\n",
      "(topic, value)=(KH20221202_IoT_Data_Science/farm4/a2, 0.000) @2022-12-24 01:19:15\n",
      "(topic, value)=(KH20221202_IoT_Data_Science/farm4/a3, 0.317) @2022-12-24 01:19:15\n",
      "(topic, value)=(KH20221202_IoT_Data_Science/farm4/total_e, 14613.730) @2022-12-24 01:19:15\n",
      "(topic, value)=(KH20221202_IoT_Data_Science/farm4/v1, 206.245) @2022-12-24 01:19:15\n",
      "(topic, value)=(KH20221202_IoT_Data_Science/farm4/v3, 122.329) @2022-12-24 01:19:15\n",
      "(topic, value)=(KH20221202_IoT_Data_Science/farm5/a1, 0.034) @2022-12-24 01:19:15\n",
      "(topic, value)=(KH20221202_IoT_Data_Science/farm5/a2, 0.000) @2022-12-24 01:19:15\n",
      "(topic, value)=(KH20221202_IoT_Data_Science/farm4/v2, 122.767) @2022-12-24 01:19:15\n",
      "(topic, value)=(KH20221202_IoT_Data_Science/farm2/a1, 1.553) @2022-12-24 01:19:15\n",
      "(topic, value)=(KH20221202_IoT_Data_Science/farm2/a3, 1.554) @2022-12-24 01:19:15\n",
      "(topic, value)=(KH20221202_IoT_Data_Science/farm3/a1, 22.152) @2022-12-24 01:19:15\n",
      "(topic, value)=(KH20221202_IoT_Data_Science/farm3/v3, 131.274) @2022-12-24 01:19:15\n",
      "(topic, value)=(KH20221202_IoT_Data_Science/farm3/a2, 20.369) @2022-12-24 01:19:15\n",
      "(topic, value)=(KH20221202_IoT_Data_Science/farm4/a1, 0.108) @2022-12-24 01:19:15\n",
      "(topic, value)=(KH20221202_IoT_Data_Science/farm1/total_e, 5586.948) @2022-12-24 01:19:15\n",
      "(topic, value)=(KH20221202_IoT_Data_Science/farm5/a3, 0.212) @2022-12-24 01:19:15\n",
      "(topic, value)=(KH20221202_IoT_Data_Science/farm3/v2, 130.332) @2022-12-24 01:19:15\n",
      "(topic, value)=(KH20221202_IoT_Data_Science/farm5/total_e, 239.319) @2022-12-24 01:19:15\n",
      "(topic, value)=(KH20221202_IoT_Data_Science/farm5/v1, 200.034) @2022-12-24 01:19:15\n",
      "(topic, value)=(KH20221202_IoT_Data_Science/farm5/v2, 77.579) @2022-12-24 01:19:15\n",
      "(topic, value)=(KH20221202_IoT_Data_Science/farm5/v3, 116.610) @2022-12-24 01:19:15\n",
      "(topic, value)=(KH20221202_IoT_Data_Science/farm1/a1, 0.411) @2022-12-24 01:19:25\n",
      "(topic, value)=(KH20221202_IoT_Data_Science/farm1/a2, 0.403) @2022-12-24 01:19:25\n",
      "(topic, value)=(KH20221202_IoT_Data_Science/farm1/a3, 0.037) @2022-12-24 01:19:25\n",
      "(topic, value)=(KH20221202_IoT_Data_Science/farm1/v1, 238.586) @2022-12-24 01:19:25\n",
      "(topic, value)=(KH20221202_IoT_Data_Science/farm1/v2, 237.920) @2022-12-24 01:19:25\n",
      "(topic, value)=(KH20221202_IoT_Data_Science/farm1/v3, 238.479) @2022-12-24 01:19:25\n",
      "(topic, value)=(KH20221202_IoT_Data_Science/farm2/a2, 2.799) @2022-12-24 01:19:25\n",
      "(topic, value)=(KH20221202_IoT_Data_Science/farm2/total_e, 18684.180) @2022-12-24 01:19:25\n",
      "(topic, value)=(KH20221202_IoT_Data_Science/farm2/v1, 238.207) @2022-12-24 01:19:25\n",
      "(topic, value)=(KH20221202_IoT_Data_Science/farm2/v2, 241.028) @2022-12-24 01:19:25\n",
      "(topic, value)=(KH20221202_IoT_Data_Science/farm2/v3, 239.949) @2022-12-24 01:19:25\n",
      "(topic, value)=(KH20221202_IoT_Data_Science/farm3/a3, 21.729) @2022-12-24 01:19:25\n",
      "(topic, value)=(KH20221202_IoT_Data_Science/farm3/total_e, 46437.090) @2022-12-24 01:19:25\n",
      "(topic, value)=(KH20221202_IoT_Data_Science/farm3/v1, 132.601) @2022-12-24 01:19:25\n",
      "(topic, value)=(KH20221202_IoT_Data_Science/farm4/a2, 0.000) @2022-12-24 01:19:25\n",
      "(topic, value)=(KH20221202_IoT_Data_Science/farm4/a3, 0.318) @2022-12-24 01:19:25\n",
      "(topic, value)=(KH20221202_IoT_Data_Science/farm4/total_e, 14613.730) @2022-12-24 01:19:25\n",
      "(topic, value)=(KH20221202_IoT_Data_Science/farm4/v1, 206.169) @2022-12-24 01:19:25\n",
      "(topic, value)=(KH20221202_IoT_Data_Science/farm4/v3, 122.269) @2022-12-24 01:19:25\n",
      "(topic, value)=(KH20221202_IoT_Data_Science/farm5/a1, 0.034) @2022-12-24 01:19:25\n",
      "(topic, value)=(KH20221202_IoT_Data_Science/farm5/a2, 0.000) @2022-12-24 01:19:25\n",
      "(topic, value)=(KH20221202_IoT_Data_Science/farm2/a1, 1.551) @2022-12-24 01:19:25\n",
      "(topic, value)=(KH20221202_IoT_Data_Science/farm3/a2, 20.353) @2022-12-24 01:19:25\n",
      "(topic, value)=(KH20221202_IoT_Data_Science/farm4/a1, 0.108) @2022-12-24 01:19:25\n",
      "(topic, value)=(KH20221202_IoT_Data_Science/farm2/a3, 1.552) @2022-12-24 01:19:25\n",
      "(topic, value)=(KH20221202_IoT_Data_Science/farm3/a1, 22.137) @2022-12-24 01:19:25\n",
      "(topic, value)=(KH20221202_IoT_Data_Science/farm4/v2, 122.718) @2022-12-24 01:19:25\n",
      "(topic, value)=(KH20221202_IoT_Data_Science/farm3/v3, 131.239) @2022-12-24 01:19:25\n",
      "(topic, value)=(KH20221202_IoT_Data_Science/farm3/v2, 130.287) @2022-12-24 01:19:25\n",
      "(topic, value)=(KH20221202_IoT_Data_Science/farm5/a3, 0.215) @2022-12-24 01:19:25\n",
      "(topic, value)=(KH20221202_IoT_Data_Science/farm1/total_e, 5586.948) @2022-12-24 01:19:25\n",
      "(topic, value)=(KH20221202_IoT_Data_Science/farm5/total_e, 239.319) @2022-12-24 01:19:25\n",
      "(topic, value)=(KH20221202_IoT_Data_Science/farm5/v1, 199.890) @2022-12-24 01:19:25\n",
      "(topic, value)=(KH20221202_IoT_Data_Science/farm5/v3, 116.462) @2022-12-24 01:19:25\n",
      "(topic, value)=(KH20221202_IoT_Data_Science/farm5/v2, 77.520) @2022-12-24 01:19:25\n"
     ]
    }
   ],
   "source": [
    "import paho.mqtt.client as mqtt\n",
    "import time, json, datetime, sys, os\n",
    "\n",
    "#==================\n",
    "#== MQTT Functions\n",
    "\n",
    "# 當地端程式連線伺服器得到回應時，要做的動作\n",
    "def on_connect(client, userdata, flags, rc):\n",
    "    print(\"Connected with result code \"+str(rc))\n",
    "    # 將訂閱主題寫在on_connet中\n",
    "    # 如果我們失去連線或重新連線時 \n",
    "    # 地端程式將會重新訂閱\n",
    "    client.subscribe('KH20221202_IoT_Data_Science/#')\n",
    "    \n",
    "\n",
    "# 當接收到從伺服器發送的訊息時要進行的動作\n",
    "def on_message(client, userdata, msg):\n",
    "    # 轉換編碼utf-8才看得懂中文\n",
    "    try:\n",
    "        topic = msg.topic\n",
    "        value = msg.payload.decode('utf-8')\n",
    "        dtime = time.strftime(\"%Y-%m-%d %H:%M:%S\", time.localtime())\n",
    "        print('(topic, value)=(%s, %s) @%s' %(topic, value, dtime))\n",
    "    except Exception as e:\n",
    "        print('read data exception: ', str(e))\n",
    "\n",
    "def run_mqtt():\n",
    "    try:\n",
    "        # 連線設定\n",
    "        # 初始化地端程式\n",
    "        client = mqtt.Client()\n",
    "\n",
    "        # 設定連線的動作\n",
    "        client.on_connect = on_connect\n",
    "\n",
    "        # 設定接收訊息的動作\n",
    "        client.on_message = on_message\n",
    "\n",
    "        # 設定登入帳號密碼\n",
    "        #client.username_pw_set(\"try\",\"xxxx\")\n",
    "\n",
    "        # 設定連線資訊(IP, Port, 連線時間)\n",
    "        client.connect(\"broker.hivemq.com\", 1883, 60)\n",
    "\n",
    "        # 開始連線，執行設定的動作和處理重新連線問題\n",
    "        # 也可以手動使用其他loop函式來進行連接\n",
    "        #client.loop_forever()\n",
    "        client.loop_start()    #start the loop\n",
    "\n",
    "        time.sleep(30)\n",
    "\n",
    "        client.disconnect() # disconnect gracefully\n",
    "        client.loop_stop() # stops network loop\n",
    "        \n",
    "    except Exception as e:\n",
    "        print('run mqtt error: ', str(e))\n",
    "\n",
    "run_mqtt()\n"
   ]
  },
  {
   "cell_type": "code",
   "execution_count": null,
   "metadata": {},
   "outputs": [],
   "source": []
  },
  {
   "cell_type": "markdown",
   "metadata": {},
   "source": [
    "----\n",
    "\n",
    "## Web API\n",
    "\n",
    "適合非即時性的應用\n",
    "\n",
    "----\n"
   ]
  },
  {
   "cell_type": "markdown",
   "metadata": {},
   "source": [
    "----\n",
    "\n",
    "### 運用 ThingSpeak收集資料\n",
    "\n",
    "- https://thingspeak.com/\n",
    "- 註冊登入後，於`https://thingspeak.com/channels`可以看到你的管理畫面\n",
    "- [文件](https://indico.cern.ch/event/654636/contributions/2834242/attachments/1636045/2610243/MATLAB_IoT_public.pdf)\n",
    "----"
   ]
  },
  {
   "cell_type": "code",
   "execution_count": 8,
   "metadata": {},
   "outputs": [],
   "source": [
    "# continue push data\n",
    "\n",
    "my_h = [65.46, 65.75, 62.49, 65.4, 65.89, 63.11]\n",
    "my_t = [25.05, 24.72, 25.06, 24.66, 24.99, 24.58]"
   ]
  },
  {
   "cell_type": "code",
   "execution_count": 9,
   "metadata": {},
   "outputs": [
    {
     "data": {
      "text/plain": [
       "6"
      ]
     },
     "execution_count": 9,
     "metadata": {},
     "output_type": "execute_result"
    }
   ],
   "source": [
    "len(my_t)"
   ]
  },
  {
   "cell_type": "code",
   "execution_count": 10,
   "metadata": {},
   "outputs": [
    {
     "name": "stdout",
     "output_type": "stream",
     "text": [
      "---- 0 ----\n",
      "H=65.46 %, T=25.05 degree\n",
      "<Response [200]>\n",
      "---- 1 ----\n",
      "H=65.75 %, T=24.72 degree\n",
      "<Response [200]>\n",
      "---- 2 ----\n",
      "H=62.49 %, T=25.06 degree\n",
      "<Response [200]>\n",
      "---- 3 ----\n",
      "H=65.4 %, T=24.66 degree\n",
      "<Response [200]>\n",
      "---- 4 ----\n",
      "H=65.89 %, T=24.99 degree\n",
      "<Response [200]>\n",
      "---- 5 ----\n",
      "H=63.11 %, T=24.58 degree\n",
      "<Response [200]>\n"
     ]
    }
   ],
   "source": [
    "import requests\n",
    "import time\n",
    "\n",
    "for i in range(len(my_t)):\n",
    "    \n",
    "    print('---- %s ----' %(i))\n",
    "    print('H=%s %%, T=%s degree' %(my_h[i], my_t[i]))\n",
    "    \n",
    "    # push data\n",
    "    # field1: T\n",
    "    # field2: H\n",
    "    url = 'https://api.thingspeak.com/update'\n",
    "    api_key = '5IRM6UNIDXLCAPM1'\n",
    "    field1 = my_t[i]\n",
    "    field2 = my_h[i]\n",
    "    data = {'api_key': api_key, 'field1':field1, 'field2':field2}\n",
    "    r = requests.get(url, params=data)\n",
    "    print(r)\n",
    "    \n",
    "    time.sleep(15)\n",
    "    "
   ]
  }
 ],
 "metadata": {
  "kernelspec": {
   "display_name": "Python 3 (ipykernel)",
   "language": "python",
   "name": "python3"
  },
  "language_info": {
   "codemirror_mode": {
    "name": "ipython",
    "version": 3
   },
   "file_extension": ".py",
   "mimetype": "text/x-python",
   "name": "python",
   "nbconvert_exporter": "python",
   "pygments_lexer": "ipython3",
   "version": "3.9.7"
  }
 },
 "nbformat": 4,
 "nbformat_minor": 4
}
