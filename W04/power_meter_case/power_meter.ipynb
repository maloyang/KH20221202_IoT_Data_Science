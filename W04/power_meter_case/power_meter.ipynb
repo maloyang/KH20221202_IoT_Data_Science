{
 "cells": [
  {
   "cell_type": "markdown",
   "metadata": {},
   "source": [
    "# Agenda\n",
    "\n",
    "- Power Meter\n",
    "    - 何謂power meter\n",
    "    - 來看看Power Meter的點表\n",
    "    - Live Demo\n",
    "    \n",
    "- MQTT - 即時性應用\n",
    "    - Mosquitto\n",
    "    - paho\n",
    "    \n",
    "- thingspeak\n",
    "\n",
    "----\n"
   ]
  },
  {
   "cell_type": "markdown",
   "metadata": {},
   "source": [
    "## 在進入主題之前\n",
    "----\n",
    "### modbus格式介紹 \n",
    "\n",
    "[參考](http://gridconnect.com/blog/tag/modbus-rtu/)\n",
    "\n",
    "- Modbus/RTU: [start time] [Address 8bits + Function 8bits + Data Nx8bits + CRC 16bits] [End time]\n",
    "\n",
    "- Modbus/TCP: [header 6byte + Address 8bits + Function 8bits + Data Nx8bits]\n",
    "\n",
    "- Modbus/ASCII: 現在比較少人用，跳過不講\n",
    "\n",
    "![格式](image/MODBUS-Frame.png)\n",
    "        \n"
   ]
  },
  {
   "cell_type": "markdown",
   "metadata": {},
   "source": [
    "### modbus常被採用的原因\n",
    "        \n",
    "- 公開發表並且無版稅要求\n",
    "\n",
    "- 相對容易的工業網路部署\n",
    "\n",
    "- 協定格式簡單，極省資源\n"
   ]
  },
  {
   "cell_type": "markdown",
   "metadata": {},
   "source": [
    "----\n",
    "\n",
    "## Modbus套件\n",
    "\n",
    "----\n"
   ]
  },
  {
   "cell_type": "markdown",
   "metadata": {},
   "source": [
    "\n",
    "### 網路上較多人提到的三個套件\n",
    "\n",
    "[performance比較](https://stackoverflow.com/questions/17081442/python-modbus-library)\n",
    "\n",
    "- modbus-tk: Modbus/RTU, Modbus/TCP\n",
    "\n",
    "- pymodbus: 據說實作最完整，但使用資源相對的多，相依套件也多\n",
    "\n",
    "- MinimalModbus: Modbus/RTU, Modbus/ASCII\n",
    "\n"
   ]
  },
  {
   "cell_type": "markdown",
   "metadata": {},
   "source": [
    "### Modbus-tk\n",
    "\n",
    "個人推薦使用\n",
    "\n",
    "- 安裝方式\n",
    "    - pip install serial\n",
    "    - pip install modbus_tk\n",
    "\n",
    "- 操作\n",
    "    - [Python與PLC共舞](https://github.com/maloyang/PLC-Python)\n",
    "     "
   ]
  },
  {
   "cell_type": "markdown",
   "metadata": {},
   "source": [
    "----\n",
    "\n",
    "## Power Meter\n",
    "\n",
    "電力監控常見的元素\n",
    "\n",
    "----\n"
   ]
  },
  {
   "cell_type": "markdown",
   "metadata": {},
   "source": [
    "\n",
    "### Power Meter的點表\n",
    "\n",
    "![Power Meter的點表](image/power_meter.gif)\n",
    "\n"
   ]
  },
  {
   "cell_type": "markdown",
   "metadata": {},
   "source": [
    "### Power Meter的浮點數表示方式\n",
    "\n",
    "![浮點數](image/power_meter_float.gif)\n",
    "\n",
    "----\n",
    "![float](image/mb_float.png)\n",
    "- [Live Demo](Modbus.ipynb)\n"
   ]
  },
  {
   "cell_type": "code",
   "execution_count": null,
   "metadata": {},
   "outputs": [],
   "source": [
    "!pip install modbus_tk"
   ]
  },
  {
   "cell_type": "code",
   "execution_count": 4,
   "metadata": {},
   "outputs": [],
   "source": [
    "import serial\n",
    "import modbus_tk\n",
    "import modbus_tk.defines as cst\n",
    "import modbus_tk.modbus_rtu as modbus_rtu # RS-485\n",
    "import modbus_tk.modbus_tcp as modbus_tcp # 網路線 v\n",
    "import time\n",
    "from struct import *"
   ]
  },
  {
   "cell_type": "code",
   "execution_count": 3,
   "metadata": {},
   "outputs": [
    {
     "name": "stdout",
     "output_type": "stream",
     "text": [
      "read value: (110, 112, 109)\n"
     ]
    },
    {
     "data": {
      "text/plain": [
       "True"
      ]
     },
     "execution_count": 3,
     "metadata": {},
     "output_type": "execute_result"
    }
   ],
   "source": [
    "# Modbus/TCP Client Start\n",
    "# master (client) vs slave (server)\n",
    "\n",
    "mbTimeout = 1\n",
    "mb_ip = '209.97.161.199'\n",
    "mb_port = 10502 #502\n",
    "\n",
    "master = modbus_tcp.TcpMaster(mb_ip, mb_port)\n",
    "master.set_timeout(mbTimeout)\n",
    "\n",
    "mbId = 1\n",
    "addr = 0\n",
    "try:\n",
    "    # FC3\n",
    "    rr = master.execute(mbId, cst.HOLDING_REGISTERS, addr, 3)\n",
    "    print('read value:', rr)\n",
    "\n",
    "except Exception as e:\n",
    "    print(\"modbus test Error: \" + str(e))\n",
    "\n",
    "master._do_close()\n"
   ]
  },
  {
   "cell_type": "code",
   "execution_count": 7,
   "metadata": {},
   "outputs": [
    {
     "name": "stdout",
     "output_type": "stream",
     "text": [
      "read value: (13107, 16387)\n",
      "v_a= 2.049999952316284\n",
      "2.05\n"
     ]
    },
    {
     "data": {
      "text/plain": [
       "True"
      ]
     },
     "execution_count": 7,
     "metadata": {},
     "output_type": "execute_result"
    }
   ],
   "source": [
    "# if float\n",
    "\n",
    "# Modbus/TCP Client Start\n",
    "\n",
    "mbTimeout = 1\n",
    "mb_ip = '209.97.161.199'\n",
    "mb_port = 10502\n",
    "\n",
    "master = modbus_tcp.TcpMaster(mb_ip, mb_port)\n",
    "master.set_timeout(mbTimeout)\n",
    "\n",
    "mbId = 1\n",
    "addr = 20\n",
    "try:\n",
    "    # FC3\n",
    "    rr = master.execute(mbId, cst.HOLDING_REGISTERS, addr, 2)\n",
    "    print('read value:', rr)\n",
    "\n",
    "    # convert to float:\n",
    "    # IEEE754 ==> (Hi word Hi Bite, Hi word Lo Byte, Lo word Hi Byte, Lo word Lo Byte)\n",
    "    try:\n",
    "        v_a_hi = rr[1]\n",
    "        v_a_lo = rr[0]\n",
    "        v_a = unpack('>f', pack('>HH', v_a_hi, v_a_lo))[0]\n",
    "        print('v_a=', v_a)\n",
    "        print(round(v_a, 2))\n",
    "        #struct.unpack(\">f\",'\\x42\\xd8\\x6b\\x8d')\n",
    "    except Exception as e:\n",
    "        print(e)\n",
    "    \n",
    "except Exception as e:\n",
    "    print(\"modbus test Error: \" + str(e))\n",
    "\n",
    "master._do_close()\n"
   ]
  },
  {
   "cell_type": "code",
   "execution_count": 15,
   "metadata": {},
   "outputs": [
    {
     "name": "stdout",
     "output_type": "stream",
     "text": [
      "read value: (13107, 16387, 39322, 16393, 28836, 16381)\n",
      "type tuple doesn't define __round__ method\n"
     ]
    },
    {
     "data": {
      "text/plain": [
       "True"
      ]
     },
     "execution_count": 15,
     "metadata": {},
     "output_type": "execute_result"
    }
   ],
   "source": [
    "# TODO: 如果address 20開始有三個float表示電流值，要怎麼處理?\n",
    "# if float\n",
    "\n",
    "# Modbus/TCP Client Start\n",
    "\n",
    "mbTimeout = 1\n",
    "mb_ip = '209.97.161.199'\n",
    "mb_port = 10502\n",
    "\n",
    "master = modbus_tcp.TcpMaster(mb_ip, mb_port)\n",
    "master.set_timeout(mbTimeout)\n",
    "\n",
    "mbId = 1\n",
    "addr = 20\n",
    "try:\n",
    "    # FC3\n",
    "    rr = master.execute(mbId, cst.HOLDING_REGISTERS, addr, 6)\n",
    "    print('read value:', rr)\n",
    "\n",
    "    # convert to float:\n",
    "    # IEEE754 ==> (Hi word Hi Bite, Hi word Lo Byte, Lo word Hi Byte, Lo word Lo Byte)\n",
    "    try:\n",
    "        hi = rr[1]\n",
    "        lo = rr[0]\n",
    "        value = unpack('>f', pack('>HH', hi, lo))[0]\n",
    "        print('value=', round(value, 2))\n",
    "\n",
    "        hi = rr[3]\n",
    "        lo = rr[2]\n",
    "        value = unpack('>f', pack('>HH', hi, lo))[0]\n",
    "        print('value=', round(value, 2))\n",
    "\n",
    "        hi = rr[5]\n",
    "        lo = rr[4]\n",
    "        value = unpack('>f', pack('>HH', hi, lo))[0]\n",
    "        print('value=', round(value, 2))\n",
    "        \n",
    "    except Exception as e:\n",
    "        print(e)\n",
    "    \n",
    "except Exception as e:\n",
    "    print(\"modbus test Error: \" + str(e))\n",
    "\n",
    "master._do_close()\n"
   ]
  },
  {
   "cell_type": "code",
   "execution_count": null,
   "metadata": {},
   "outputs": [],
   "source": [
    "[ 12098,65,0,0,0]\n",
    "B/A"
   ]
  },
  {
   "cell_type": "code",
   "execution_count": 9,
   "metadata": {},
   "outputs": [
    {
     "data": {
      "text/plain": [
       "47"
      ]
     },
     "execution_count": 9,
     "metadata": {},
     "output_type": "execute_result"
    }
   ],
   "source": [
    "12098//256"
   ]
  },
  {
   "cell_type": "code",
   "execution_count": 10,
   "metadata": {},
   "outputs": [
    {
     "data": {
      "text/plain": [
       "66"
      ]
     },
     "execution_count": 10,
     "metadata": {},
     "output_type": "execute_result"
    }
   ],
   "source": [
    "12098%256"
   ]
  },
  {
   "cell_type": "code",
   "execution_count": 11,
   "metadata": {},
   "outputs": [
    {
     "data": {
      "text/plain": [
       "'/'"
      ]
     },
     "execution_count": 11,
     "metadata": {},
     "output_type": "execute_result"
    }
   ],
   "source": [
    "chr(47)"
   ]
  },
  {
   "cell_type": "code",
   "execution_count": 12,
   "metadata": {},
   "outputs": [
    {
     "data": {
      "text/plain": [
       "'B'"
      ]
     },
     "execution_count": 12,
     "metadata": {},
     "output_type": "execute_result"
    }
   ],
   "source": [
    "chr(66)"
   ]
  },
  {
   "cell_type": "code",
   "execution_count": 13,
   "metadata": {},
   "outputs": [
    {
     "data": {
      "text/plain": [
       "'A'"
      ]
     },
     "execution_count": 13,
     "metadata": {},
     "output_type": "execute_result"
    }
   ],
   "source": [
    "chr(65)"
   ]
  },
  {
   "cell_type": "code",
   "execution_count": null,
   "metadata": {},
   "outputs": [],
   "source": [
    "0xA/B"
   ]
  },
  {
   "cell_type": "markdown",
   "metadata": {},
   "source": [
    "----\n",
    "\n",
    "## MQTT - 即時性應用\n",
    "\n",
    "已經可以採集資料了，來談談怎麼上傳雲端吧\n",
    "\n",
    "----\n"
   ]
  },
  {
   "cell_type": "markdown",
   "metadata": {},
   "source": [
    "### Mosquitto\n",
    "\n",
    "一個broker套件，當然也可以做為client使用\n",
    "\n",
    "- 以NB X260來說，4000多個連結沒有問題\n",
    "\n",
    "![Mosquitto](image/Eclipse-Mosquitto-logo.png)\n"
   ]
  },
  {
   "cell_type": "markdown",
   "metadata": {
    "tags": []
   },
   "source": [
    "### paho\n",
    "\n",
    "便利的MQTT client端套件\n",
    "\n",
    "- [link](https://pypi.org/project/paho-mqtt/)\n",
    "- install: `pip install paho-mqtt`\n",
    "\n",
    "![paho](image/mqtt-paho-featured-image.jpg)\n"
   ]
  },
  {
   "cell_type": "code",
   "execution_count": 16,
   "metadata": {},
   "outputs": [
    {
     "name": "stdout",
     "output_type": "stream",
     "text": [
      "Connected with result code 0\n",
      "(topic, value)=(KH20221202_IoT_Data_Science/farm1/a1, 0.405) @2022-12-24 11:54:27\n",
      "(topic, value)=(KH20221202_IoT_Data_Science/farm1/total_e, 5587.403) @2022-12-24 11:54:27\n",
      "(topic, value)=(KH20221202_IoT_Data_Science/farm1/v2, 233.302) @2022-12-24 11:54:27\n",
      "(topic, value)=(KH20221202_IoT_Data_Science/farm1/v3, 238.955) @2022-12-24 11:54:27\n",
      "(topic, value)=(KH20221202_IoT_Data_Science/farm2/a1, 0.384) @2022-12-24 11:54:27\n",
      "(topic, value)=(KH20221202_IoT_Data_Science/farm2/a3, 1.526) @2022-12-24 11:54:27\n",
      "(topic, value)=(KH20221202_IoT_Data_Science/farm2/total_e, 18705.350) @2022-12-24 11:54:27\n",
      "(topic, value)=(KH20221202_IoT_Data_Science/farm3/a1, 1.599) @2022-12-24 11:54:27\n",
      "(topic, value)=(KH20221202_IoT_Data_Science/farm3/a2, 0.171) @2022-12-24 11:54:27\n",
      "(topic, value)=(KH20221202_IoT_Data_Science/farm3/v1, 136.152) @2022-12-24 11:54:27\n",
      "(topic, value)=(KH20221202_IoT_Data_Science/farm3/v2, 136.586) @2022-12-24 11:54:27\n",
      "(topic, value)=(KH20221202_IoT_Data_Science/farm3/v3, 134.941) @2022-12-24 11:54:27\n",
      "(topic, value)=(KH20221202_IoT_Data_Science/farm4/a1, 0.105) @2022-12-24 11:54:27\n",
      "(topic, value)=(KH20221202_IoT_Data_Science/farm4/a2, 0.000) @2022-12-24 11:54:27\n",
      "(topic, value)=(KH20221202_IoT_Data_Science/farm4/v2, 121.950) @2022-12-24 11:54:27\n",
      "(topic, value)=(KH20221202_IoT_Data_Science/farm5/a2, 0.000) @2022-12-24 11:54:27\n",
      "(topic, value)=(KH20221202_IoT_Data_Science/farm5/a3, 0.219) @2022-12-24 11:54:27\n",
      "(topic, value)=(KH20221202_IoT_Data_Science/farm1/a2, 0.398) @2022-12-24 11:54:27\n",
      "(topic, value)=(KH20221202_IoT_Data_Science/farm1/a3, 0.034) @2022-12-24 11:54:27\n",
      "(topic, value)=(KH20221202_IoT_Data_Science/farm1/v1, 235.129) @2022-12-24 11:54:27\n",
      "(topic, value)=(KH20221202_IoT_Data_Science/farm3/total_e, 46488.730) @2022-12-24 11:54:27\n",
      "(topic, value)=(KH20221202_IoT_Data_Science/farm4/v3, 122.442) @2022-12-24 11:54:27\n",
      "(topic, value)=(KH20221202_IoT_Data_Science/farm5/a1, 0.033) @2022-12-24 11:54:27\n",
      "(topic, value)=(KH20221202_IoT_Data_Science/farm4/a3, 0.327) @2022-12-24 11:54:27\n",
      "(topic, value)=(KH20221202_IoT_Data_Science/farm2/v1, 236.339) @2022-12-24 11:54:27\n",
      "(topic, value)=(KH20221202_IoT_Data_Science/farm4/v1, 204.374) @2022-12-24 11:54:27\n",
      "(topic, value)=(KH20221202_IoT_Data_Science/farm2/v3, 242.770) @2022-12-24 11:54:27\n",
      "(topic, value)=(KH20221202_IoT_Data_Science/farm4/total_e, 14614.210) @2022-12-24 11:54:27\n",
      "(topic, value)=(KH20221202_IoT_Data_Science/farm2/v2, 239.745) @2022-12-24 11:54:27\n",
      "(topic, value)=(KH20221202_IoT_Data_Science/farm2/a2, 1.634) @2022-12-24 11:54:27\n",
      "(topic, value)=(KH20221202_IoT_Data_Science/farm3/a3, 1.482) @2022-12-24 11:54:27\n",
      "(topic, value)=(KH20221202_IoT_Data_Science/farm5/v1, 205.358) @2022-12-24 11:54:27\n",
      "(topic, value)=(KH20221202_IoT_Data_Science/farm5/v2, 78.896) @2022-12-24 11:54:27\n",
      "(topic, value)=(KH20221202_IoT_Data_Science/farm5/v3, 116.221) @2022-12-24 11:54:27\n",
      "(topic, value)=(KH20221202_IoT_Data_Science/farm5/total_e, 239.503) @2022-12-24 11:54:27\n",
      "(topic, value)=(KH20221202_IoT_Data_Science/farm1/a1, 0.407) @2022-12-24 11:54:37\n",
      "(topic, value)=(KH20221202_IoT_Data_Science/farm1/total_e, 5587.403) @2022-12-24 11:54:37\n",
      "(topic, value)=(KH20221202_IoT_Data_Science/farm1/v2, 233.924) @2022-12-24 11:54:37\n",
      "(topic, value)=(KH20221202_IoT_Data_Science/farm1/v3, 239.030) @2022-12-24 11:54:37\n",
      "(topic, value)=(KH20221202_IoT_Data_Science/farm2/a1, 0.380) @2022-12-24 11:54:37\n",
      "(topic, value)=(KH20221202_IoT_Data_Science/farm2/a3, 1.529) @2022-12-24 11:54:37\n",
      "(topic, value)=(KH20221202_IoT_Data_Science/farm2/total_e, 18705.350) @2022-12-24 11:54:37\n",
      "(topic, value)=(KH20221202_IoT_Data_Science/farm3/a1, 1.601) @2022-12-24 11:54:37\n",
      "(topic, value)=(KH20221202_IoT_Data_Science/farm3/a2, 0.169) @2022-12-24 11:54:37\n",
      "(topic, value)=(KH20221202_IoT_Data_Science/farm3/v1, 136.442) @2022-12-24 11:54:37\n",
      "(topic, value)=(KH20221202_IoT_Data_Science/farm3/v2, 136.727) @2022-12-24 11:54:37\n",
      "(topic, value)=(KH20221202_IoT_Data_Science/farm3/v3, 135.132) @2022-12-24 11:54:37\n",
      "(topic, value)=(KH20221202_IoT_Data_Science/farm4/a1, 0.105) @2022-12-24 11:54:37\n",
      "(topic, value)=(KH20221202_IoT_Data_Science/farm4/a2, 0.000) @2022-12-24 11:54:37\n",
      "(topic, value)=(KH20221202_IoT_Data_Science/farm4/v2, 122.191) @2022-12-24 11:54:37\n",
      "(topic, value)=(KH20221202_IoT_Data_Science/farm5/a2, 0.000) @2022-12-24 11:54:37\n",
      "(topic, value)=(KH20221202_IoT_Data_Science/farm5/a3, 0.220) @2022-12-24 11:54:37\n",
      "(topic, value)=(KH20221202_IoT_Data_Science/farm1/a3, 0.035) @2022-12-24 11:54:37\n",
      "(topic, value)=(KH20221202_IoT_Data_Science/farm4/v3, 122.571) @2022-12-24 11:54:37\n",
      "(topic, value)=(KH20221202_IoT_Data_Science/farm1/v1, 235.777) @2022-12-24 11:54:37\n",
      "(topic, value)=(KH20221202_IoT_Data_Science/farm3/total_e, 46488.730) @2022-12-24 11:54:37\n",
      "(topic, value)=(KH20221202_IoT_Data_Science/farm1/a2, 0.399) @2022-12-24 11:54:37\n",
      "(topic, value)=(KH20221202_IoT_Data_Science/farm5/a1, 0.033) @2022-12-24 11:54:37\n",
      "(topic, value)=(KH20221202_IoT_Data_Science/farm4/a3, 0.321) @2022-12-24 11:54:37\n",
      "(topic, value)=(KH20221202_IoT_Data_Science/farm3/a3, 1.484) @2022-12-24 11:54:37\n",
      "(topic, value)=(KH20221202_IoT_Data_Science/farm2/v3, 242.849) @2022-12-24 11:54:37\n",
      "(topic, value)=(KH20221202_IoT_Data_Science/farm2/v2, 239.931) @2022-12-24 11:54:37\n",
      "(topic, value)=(KH20221202_IoT_Data_Science/farm2/v1, 236.341) @2022-12-24 11:54:37\n",
      "(topic, value)=(KH20221202_IoT_Data_Science/farm4/v1, 204.662) @2022-12-24 11:54:37\n",
      "(topic, value)=(KH20221202_IoT_Data_Science/farm2/a2, 1.635) @2022-12-24 11:54:37\n",
      "(topic, value)=(KH20221202_IoT_Data_Science/farm4/total_e, 14614.210) @2022-12-24 11:54:37\n",
      "(topic, value)=(KH20221202_IoT_Data_Science/farm5/v1, 205.574) @2022-12-24 11:54:38\n",
      "(topic, value)=(KH20221202_IoT_Data_Science/farm5/v2, 78.966) @2022-12-24 11:54:38\n",
      "(topic, value)=(KH20221202_IoT_Data_Science/farm5/v3, 116.331) @2022-12-24 11:54:38\n",
      "(topic, value)=(KH20221202_IoT_Data_Science/farm5/total_e, 239.503) @2022-12-24 11:54:38\n",
      "(topic, value)=(KH20221202_IoT_Data_Science/farm1/a1, 0.407) @2022-12-24 11:54:48\n",
      "(topic, value)=(KH20221202_IoT_Data_Science/farm1/total_e, 5587.403) @2022-12-24 11:54:48\n",
      "(topic, value)=(KH20221202_IoT_Data_Science/farm1/v2, 233.924) @2022-12-24 11:54:48\n",
      "(topic, value)=(KH20221202_IoT_Data_Science/farm1/v3, 239.030) @2022-12-24 11:54:48\n",
      "(topic, value)=(KH20221202_IoT_Data_Science/farm2/a1, 0.380) @2022-12-24 11:54:48\n",
      "(topic, value)=(KH20221202_IoT_Data_Science/farm2/a3, 1.530) @2022-12-24 11:54:48\n",
      "(topic, value)=(KH20221202_IoT_Data_Science/farm2/total_e, 18705.350) @2022-12-24 11:54:48\n",
      "(topic, value)=(KH20221202_IoT_Data_Science/farm3/a1, 1.600) @2022-12-24 11:54:48\n",
      "(topic, value)=(KH20221202_IoT_Data_Science/farm3/a2, 0.168) @2022-12-24 11:54:48\n",
      "(topic, value)=(KH20221202_IoT_Data_Science/farm3/v1, 136.517) @2022-12-24 11:54:48\n",
      "(topic, value)=(KH20221202_IoT_Data_Science/farm3/v2, 136.815) @2022-12-24 11:54:48\n",
      "(topic, value)=(KH20221202_IoT_Data_Science/farm3/v3, 135.194) @2022-12-24 11:54:48\n",
      "(topic, value)=(KH20221202_IoT_Data_Science/farm4/a1, 0.105) @2022-12-24 11:54:48\n",
      "(topic, value)=(KH20221202_IoT_Data_Science/farm4/a2, 0.000) @2022-12-24 11:54:48\n",
      "(topic, value)=(KH20221202_IoT_Data_Science/farm4/v2, 122.251) @2022-12-24 11:54:48\n",
      "(topic, value)=(KH20221202_IoT_Data_Science/farm5/a2, 0.000) @2022-12-24 11:54:48\n",
      "(topic, value)=(KH20221202_IoT_Data_Science/farm5/a3, 0.219) @2022-12-24 11:54:48\n",
      "(topic, value)=(KH20221202_IoT_Data_Science/farm4/a3, 0.323) @2022-12-24 11:54:48\n",
      "(topic, value)=(KH20221202_IoT_Data_Science/farm1/a2, 0.399) @2022-12-24 11:54:48\n",
      "(topic, value)=(KH20221202_IoT_Data_Science/farm5/a1, 0.034) @2022-12-24 11:54:48\n",
      "(topic, value)=(KH20221202_IoT_Data_Science/farm1/a3, 0.035) @2022-12-24 11:54:48\n",
      "(topic, value)=(KH20221202_IoT_Data_Science/farm1/v1, 235.777) @2022-12-24 11:54:48\n",
      "(topic, value)=(KH20221202_IoT_Data_Science/farm3/total_e, 46488.740) @2022-12-24 11:54:48\n",
      "(topic, value)=(KH20221202_IoT_Data_Science/farm4/v3, 122.641) @2022-12-24 11:54:48\n",
      "(topic, value)=(KH20221202_IoT_Data_Science/farm3/a3, 1.484) @2022-12-24 11:54:48\n",
      "(topic, value)=(KH20221202_IoT_Data_Science/farm2/a2, 1.633) @2022-12-24 11:54:48\n",
      "(topic, value)=(KH20221202_IoT_Data_Science/farm2/v1, 236.347) @2022-12-24 11:54:48\n",
      "(topic, value)=(KH20221202_IoT_Data_Science/farm2/v2, 240.031) @2022-12-24 11:54:48\n",
      "(topic, value)=(KH20221202_IoT_Data_Science/farm4/total_e, 14614.210) @2022-12-24 11:54:48\n",
      "(topic, value)=(KH20221202_IoT_Data_Science/farm2/v3, 242.882) @2022-12-24 11:54:48\n",
      "(topic, value)=(KH20221202_IoT_Data_Science/farm4/v1, 204.822) @2022-12-24 11:54:48\n",
      "(topic, value)=(KH20221202_IoT_Data_Science/farm5/v1, 205.649) @2022-12-24 11:54:48\n",
      "(topic, value)=(KH20221202_IoT_Data_Science/farm5/v2, 78.975) @2022-12-24 11:54:48\n",
      "(topic, value)=(KH20221202_IoT_Data_Science/farm5/v3, 116.360) @2022-12-24 11:54:48\n",
      "(topic, value)=(KH20221202_IoT_Data_Science/farm5/total_e, 239.503) @2022-12-24 11:54:48\n"
     ]
    }
   ],
   "source": [
    "import paho.mqtt.client as mqtt\n",
    "import time, json, datetime, sys, os\n",
    "\n",
    "#==================\n",
    "#== MQTT Functions\n",
    "\n",
    "# 當地端程式連線伺服器得到回應時，要做的動作\n",
    "def on_connect(client, userdata, flags, rc):\n",
    "    print(\"Connected with result code \"+str(rc))\n",
    "    # 將訂閱主題寫在on_connet中\n",
    "    # 如果我們失去連線或重新連線時 \n",
    "    # 地端程式將會重新訂閱\n",
    "    client.subscribe('KH20221202_IoT_Data_Science/#')\n",
    "    \n",
    "\n",
    "# 當接收到從伺服器發送的訊息時要進行的動作\n",
    "def on_message(client, userdata, msg):\n",
    "    # 轉換編碼utf-8才看得懂中文\n",
    "    try:\n",
    "        topic = msg.topic\n",
    "        value = msg.payload.decode('utf-8')\n",
    "        dtime = time.strftime(\"%Y-%m-%d %H:%M:%S\", time.localtime())\n",
    "        print('(topic, value)=(%s, %s) @%s' %(topic, value, dtime))\n",
    "    except Exception as e:\n",
    "        print('read data exception: ', str(e))\n",
    "\n",
    "def run_mqtt():\n",
    "    try:\n",
    "        # 連線設定\n",
    "        # 初始化地端程式\n",
    "        client = mqtt.Client()\n",
    "\n",
    "        # 設定連線的動作\n",
    "        client.on_connect = on_connect\n",
    "\n",
    "        # 設定接收訊息的動作\n",
    "        client.on_message = on_message\n",
    "\n",
    "        # 設定登入帳號密碼\n",
    "        #client.username_pw_set(\"try\",\"xxxx\")\n",
    "\n",
    "        # 設定連線資訊(IP, Port, 連線時間)\n",
    "        client.connect(\"broker.hivemq.com\", 1883, 60)\n",
    "\n",
    "        # 開始連線，執行設定的動作和處理重新連線問題\n",
    "        # 也可以手動使用其他loop函式來進行連接\n",
    "        #client.loop_forever()\n",
    "        client.loop_start()    #start the loop\n",
    "\n",
    "        time.sleep(30)\n",
    "\n",
    "        client.disconnect() # disconnect gracefully\n",
    "        client.loop_stop() # stops network loop\n",
    "        \n",
    "    except Exception as e:\n",
    "        print('run mqtt error: ', str(e))\n",
    "\n",
    "run_mqtt()\n"
   ]
  },
  {
   "cell_type": "code",
   "execution_count": 23,
   "metadata": {},
   "outputs": [
    {
     "name": "stdout",
     "output_type": "stream",
     "text": [
      "{'farm1': {'v1': 220}}\n"
     ]
    }
   ],
   "source": [
    "my_dict = {'farm1':{}}\n",
    "my_dict['farm1']['v1'] = 220\n",
    "print(my_dict)"
   ]
  },
  {
   "cell_type": "code",
   "execution_count": 17,
   "metadata": {
    "scrolled": true
   },
   "outputs": [
    {
     "name": "stdout",
     "output_type": "stream",
     "text": [
      "Connected with result code 0\n",
      "(topic, value)=(KH20221202_IoT_Data_Science/farm1/a1, 2.258) @2022-12-24 13:13:40\n",
      "(topic, value)=(KH20221202_IoT_Data_Science/farm1/total_e, 5587.494) @2022-12-24 13:13:40\n",
      "(topic, value)=(KH20221202_IoT_Data_Science/farm1/v2, 234.660) @2022-12-24 13:13:40\n",
      "(topic, value)=(KH20221202_IoT_Data_Science/farm1/v3, 238.260) @2022-12-24 13:13:40\n",
      "(topic, value)=(KH20221202_IoT_Data_Science/farm2/a1, ) @2022-12-24 13:13:40\n",
      "(topic, value)=(KH20221202_IoT_Data_Science/farm2/a3, ) @2022-12-24 13:13:40\n",
      "(topic, value)=(KH20221202_IoT_Data_Science/farm2/total_e, ) @2022-12-24 13:13:40\n",
      "(topic, value)=(KH20221202_IoT_Data_Science/farm3/a1, 9.582) @2022-12-24 13:13:40\n",
      "(topic, value)=(KH20221202_IoT_Data_Science/farm3/a2, 9.844) @2022-12-24 13:13:40\n",
      "(topic, value)=(KH20221202_IoT_Data_Science/farm3/v1, 137.324) @2022-12-24 13:13:40\n",
      "(topic, value)=(KH20221202_IoT_Data_Science/farm3/v2, 133.960) @2022-12-24 13:13:40\n",
      "(topic, value)=(KH20221202_IoT_Data_Science/farm3/v3, 136.639) @2022-12-24 13:13:40\n",
      "(topic, value)=(KH20221202_IoT_Data_Science/farm4/a1, 0.108) @2022-12-24 13:13:40\n",
      "(topic, value)=(KH20221202_IoT_Data_Science/farm4/a2, 0.000) @2022-12-24 13:13:40\n",
      "(topic, value)=(KH20221202_IoT_Data_Science/farm4/v2, 124.313) @2022-12-24 13:13:40\n",
      "(topic, value)=(KH20221202_IoT_Data_Science/farm5/a2, 0.000) @2022-12-24 13:13:40\n",
      "(topic, value)=(KH20221202_IoT_Data_Science/farm5/a3, 0.209) @2022-12-24 13:13:40\n",
      "(topic, value)=(KH20221202_IoT_Data_Science/farm1/a2, 2.348) @2022-12-24 13:13:40\n",
      "(topic, value)=(KH20221202_IoT_Data_Science/farm2/a2, ) @2022-12-24 13:13:40\n",
      "(topic, value)=(KH20221202_IoT_Data_Science/farm2/v1, ) @2022-12-24 13:13:40\n",
      "(topic, value)=(KH20221202_IoT_Data_Science/farm4/v1, 206.492) @2022-12-24 13:13:40\n",
      "(topic, value)=(KH20221202_IoT_Data_Science/farm1/a3, 2.171) @2022-12-24 13:13:40\n",
      "(topic, value)=(KH20221202_IoT_Data_Science/farm1/v1, 236.050) @2022-12-24 13:13:40\n",
      "(topic, value)=(KH20221202_IoT_Data_Science/farm2/v2, ) @2022-12-24 13:13:40\n",
      "(topic, value)=(KH20221202_IoT_Data_Science/farm5/total_e, 239.525) @2022-12-24 13:13:40\n",
      "(topic, value)=(KH20221202_IoT_Data_Science/farm3/a3, 1.616) @2022-12-24 13:13:40\n",
      "(topic, value)=(KH20221202_IoT_Data_Science/farm2/v3, ) @2022-12-24 13:13:40\n",
      "(topic, value)=(KH20221202_IoT_Data_Science/farm4/total_e, 14614.280) @2022-12-24 13:13:40\n",
      "(topic, value)=(KH20221202_IoT_Data_Science/farm3/total_e, 46493.040) @2022-12-24 13:13:40\n",
      "(topic, value)=(KH20221202_IoT_Data_Science/farm5/a1, 0.034) @2022-12-24 13:13:40\n",
      "(topic, value)=(KH20221202_IoT_Data_Science/farm4/v3, 124.310) @2022-12-24 13:13:40\n",
      "(topic, value)=(KH20221202_IoT_Data_Science/farm4/a3, 0.322) @2022-12-24 13:13:40\n",
      "(topic, value)=(KH20221202_IoT_Data_Science/farm5/v1, 204.413) @2022-12-24 13:13:40\n",
      "(topic, value)=(KH20221202_IoT_Data_Science/farm5/v2, 78.595) @2022-12-24 13:13:40\n",
      "(topic, value)=(KH20221202_IoT_Data_Science/farm5/v3, 116.480) @2022-12-24 13:13:40\n",
      "(topic, value)=(KH20221202_IoT_Data_Science/farm1/a1, 2.258) @2022-12-24 13:13:50\n",
      "(topic, value)=(KH20221202_IoT_Data_Science/farm1/total_e, 5587.494) @2022-12-24 13:13:50\n",
      "(topic, value)=(KH20221202_IoT_Data_Science/farm1/v2, 234.660) @2022-12-24 13:13:50\n",
      "(topic, value)=(KH20221202_IoT_Data_Science/farm1/v3, 238.260) @2022-12-24 13:13:50\n",
      "(topic, value)=(KH20221202_IoT_Data_Science/farm2/a1, 23.656) @2022-12-24 13:13:50\n",
      "(topic, value)=(KH20221202_IoT_Data_Science/farm2/a3, 24.716) @2022-12-24 13:13:50\n",
      "(topic, value)=(KH20221202_IoT_Data_Science/farm2/total_e, 18707.450) @2022-12-24 13:13:50\n",
      "(topic, value)=(KH20221202_IoT_Data_Science/farm3/a1, 9.457) @2022-12-24 13:13:50\n",
      "(topic, value)=(KH20221202_IoT_Data_Science/farm3/a2, 9.726) @2022-12-24 13:13:50\n",
      "(topic, value)=(KH20221202_IoT_Data_Science/farm3/v1, 137.369) @2022-12-24 13:13:50\n",
      "(topic, value)=(KH20221202_IoT_Data_Science/farm3/v2, 133.929) @2022-12-24 13:13:50\n",
      "(topic, value)=(KH20221202_IoT_Data_Science/farm3/v3, 136.476) @2022-12-24 13:13:50\n",
      "(topic, value)=(KH20221202_IoT_Data_Science/farm4/a1, 0.109) @2022-12-24 13:13:50\n",
      "(topic, value)=(KH20221202_IoT_Data_Science/farm4/a2, 0.000) @2022-12-24 13:13:50\n",
      "(topic, value)=(KH20221202_IoT_Data_Science/farm4/v2, 124.228) @2022-12-24 13:13:50\n",
      "(topic, value)=(KH20221202_IoT_Data_Science/farm5/a2, 0.000) @2022-12-24 13:13:50\n",
      "(topic, value)=(KH20221202_IoT_Data_Science/farm5/a3, 0.208) @2022-12-24 13:13:50\n",
      "(topic, value)=(KH20221202_IoT_Data_Science/farm1/a3, 2.171) @2022-12-24 13:13:50\n",
      "(topic, value)=(KH20221202_IoT_Data_Science/farm1/a2, 2.348) @2022-12-24 13:13:50\n",
      "(topic, value)=(KH20221202_IoT_Data_Science/farm2/v2, 235.221) @2022-12-24 13:13:50\n",
      "(topic, value)=(KH20221202_IoT_Data_Science/farm2/v3, 236.364) @2022-12-24 13:13:50\n",
      "(topic, value)=(KH20221202_IoT_Data_Science/farm2/v1, 231.334) @2022-12-24 13:13:50\n",
      "(topic, value)=(KH20221202_IoT_Data_Science/farm4/v1, 206.676) @2022-12-24 13:13:50\n",
      "(topic, value)=(KH20221202_IoT_Data_Science/farm3/a3, 1.614) @2022-12-24 13:13:50\n",
      "(topic, value)=(KH20221202_IoT_Data_Science/farm2/a2, 25.100) @2022-12-24 13:13:50\n",
      "(topic, value)=(KH20221202_IoT_Data_Science/farm4/total_e, 14614.280) @2022-12-24 13:13:50\n",
      "(topic, value)=(KH20221202_IoT_Data_Science/farm4/v3, 124.179) @2022-12-24 13:13:50\n",
      "(topic, value)=(KH20221202_IoT_Data_Science/farm4/a3, 0.325) @2022-12-24 13:13:50\n",
      "(topic, value)=(KH20221202_IoT_Data_Science/farm1/v1, 236.050) @2022-12-24 13:13:50\n",
      "(topic, value)=(KH20221202_IoT_Data_Science/farm5/a1, 0.034) @2022-12-24 13:13:50\n",
      "(topic, value)=(KH20221202_IoT_Data_Science/farm3/total_e, 46493.040) @2022-12-24 13:13:50\n",
      "(topic, value)=(KH20221202_IoT_Data_Science/farm5/v1, 204.411) @2022-12-24 13:13:50\n",
      "(topic, value)=(KH20221202_IoT_Data_Science/farm5/v2, 78.630) @2022-12-24 13:13:50\n",
      "(topic, value)=(KH20221202_IoT_Data_Science/farm5/v3, 116.403) @2022-12-24 13:13:50\n",
      "(topic, value)=(KH20221202_IoT_Data_Science/farm5/total_e, 239.525) @2022-12-24 13:13:50\n",
      "(topic, value)=(KH20221202_IoT_Data_Science/farm1/a1, 2.282) @2022-12-24 13:14:00\n",
      "(topic, value)=(KH20221202_IoT_Data_Science/farm1/total_e, 5587.496) @2022-12-24 13:14:00\n",
      "(topic, value)=(KH20221202_IoT_Data_Science/farm1/v2, 234.245) @2022-12-24 13:14:00\n",
      "(topic, value)=(KH20221202_IoT_Data_Science/farm1/v3, 238.247) @2022-12-24 13:14:00\n",
      "(topic, value)=(KH20221202_IoT_Data_Science/farm2/a1, 24.033) @2022-12-24 13:14:00\n",
      "(topic, value)=(KH20221202_IoT_Data_Science/farm2/a3, 25.046) @2022-12-24 13:14:00\n",
      "(topic, value)=(KH20221202_IoT_Data_Science/farm2/total_e, 18707.470) @2022-12-24 13:14:00\n",
      "(topic, value)=(KH20221202_IoT_Data_Science/farm3/a1, 9.641) @2022-12-24 13:14:00\n",
      "(topic, value)=(KH20221202_IoT_Data_Science/farm3/a2, 9.907) @2022-12-24 13:14:00\n",
      "(topic, value)=(KH20221202_IoT_Data_Science/farm3/v1, 137.670) @2022-12-24 13:14:00\n",
      "(topic, value)=(KH20221202_IoT_Data_Science/farm3/v2, 134.013) @2022-12-24 13:14:00\n",
      "(topic, value)=(KH20221202_IoT_Data_Science/farm3/v3, 136.509) @2022-12-24 13:14:00\n",
      "(topic, value)=(KH20221202_IoT_Data_Science/farm4/a1, 0.109) @2022-12-24 13:14:00\n",
      "(topic, value)=(KH20221202_IoT_Data_Science/farm4/a2, 0.000) @2022-12-24 13:14:00\n",
      "(topic, value)=(KH20221202_IoT_Data_Science/farm4/v2, 124.255) @2022-12-24 13:14:00\n",
      "(topic, value)=(KH20221202_IoT_Data_Science/farm5/a2, 0.000) @2022-12-24 13:14:00\n",
      "(topic, value)=(KH20221202_IoT_Data_Science/farm5/a3, 0.211) @2022-12-24 13:14:00\n",
      "(topic, value)=(KH20221202_IoT_Data_Science/farm1/a2, 2.330) @2022-12-24 13:14:00\n",
      "(topic, value)=(KH20221202_IoT_Data_Science/farm1/a3, 2.177) @2022-12-24 13:14:00\n",
      "(topic, value)=(KH20221202_IoT_Data_Science/farm1/v1, 236.291) @2022-12-24 13:14:00\n",
      "(topic, value)=(KH20221202_IoT_Data_Science/farm4/a3, 0.325) @2022-12-24 13:14:00\n",
      "(topic, value)=(KH20221202_IoT_Data_Science/farm4/v3, 124.212) @2022-12-24 13:14:00\n",
      "(topic, value)=(KH20221202_IoT_Data_Science/farm5/a1, 0.033) @2022-12-24 13:14:00\n",
      "(topic, value)=(KH20221202_IoT_Data_Science/farm3/total_e, 46493.040) @2022-12-24 13:14:00\n",
      "(topic, value)=(KH20221202_IoT_Data_Science/farm2/v1, 231.012) @2022-12-24 13:14:00\n",
      "(topic, value)=(KH20221202_IoT_Data_Science/farm4/v1, 206.789) @2022-12-24 13:14:00\n",
      "(topic, value)=(KH20221202_IoT_Data_Science/farm4/total_e, 14614.280) @2022-12-24 13:14:00\n",
      "(topic, value)=(KH20221202_IoT_Data_Science/farm2/v3, 235.971) @2022-12-24 13:14:00\n",
      "(topic, value)=(KH20221202_IoT_Data_Science/farm3/a3, 1.616) @2022-12-24 13:14:00\n",
      "(topic, value)=(KH20221202_IoT_Data_Science/farm2/v2, 234.762) @2022-12-24 13:14:00\n",
      "(topic, value)=(KH20221202_IoT_Data_Science/farm2/a2, 25.399) @2022-12-24 13:14:00\n",
      "(topic, value)=(KH20221202_IoT_Data_Science/farm5/v1, 204.671) @2022-12-24 13:14:01\n",
      "(topic, value)=(KH20221202_IoT_Data_Science/farm5/v2, 78.735) @2022-12-24 13:14:01\n",
      "(topic, value)=(KH20221202_IoT_Data_Science/farm5/v3, 116.401) @2022-12-24 13:14:01\n",
      "(topic, value)=(KH20221202_IoT_Data_Science/farm5/total_e, 239.525) @2022-12-24 13:14:01\n"
     ]
    }
   ],
   "source": [
    "import paho.mqtt.client as mqtt\n",
    "import time, json, datetime, sys, os\n",
    "\n",
    "farm_data = {'farm1':{},\n",
    "            'farm2':{},\n",
    "            'farm3':{},\n",
    "            'farm4':{},\n",
    "            'farm5':{},\n",
    "            }\n",
    "#==================\n",
    "#== MQTT Functions\n",
    "\n",
    "# 當地端程式連線伺服器得到回應時，要做的動作\n",
    "def on_connect(client, userdata, flags, rc):\n",
    "    print(\"Connected with result code \"+str(rc))\n",
    "    # 將訂閱主題寫在on_connet中\n",
    "    # 如果我們失去連線或重新連線時 \n",
    "    # 地端程式將會重新訂閱\n",
    "    client.subscribe('KH20221202_IoT_Data_Science/#')\n",
    "    \n",
    "\n",
    "# 當接收到從伺服器發送的訊息時要進行的動作\n",
    "def on_message(client, userdata, msg):\n",
    "    # 轉換編碼utf-8才看得懂中文\n",
    "    try:\n",
    "        topic = msg.topic\n",
    "        value = msg.payload.decode('utf-8')\n",
    "        dtime = time.strftime(\"%Y-%m-%d %H:%M:%S\", time.localtime())\n",
    "        print('(topic, value)=(%s, %s) @%s' %(topic, value, dtime))\n",
    "        \n",
    "        items = topic.split('/') #KH20221202_IoT_Data_Science/farm5/v3 -> [KH20221202_IoT_Data_Science, farm5, v3]\n",
    "        farm_id = items[1]\n",
    "        farm_sensor = items[2]\n",
    "        farm_data[farm_id][farm_sensor] = value\n",
    "    except Exception as e:\n",
    "        print('read data exception: ', str(e))\n",
    "\n",
    "def run_mqtt():\n",
    "    try:\n",
    "        # 連線設定\n",
    "        # 初始化地端程式\n",
    "        client = mqtt.Client()\n",
    "\n",
    "        # 設定連線的動作\n",
    "        client.on_connect = on_connect\n",
    "\n",
    "        # 設定接收訊息的動作\n",
    "        client.on_message = on_message\n",
    "\n",
    "        # 設定登入帳號密碼\n",
    "        #client.username_pw_set(\"try\",\"xxxx\")\n",
    "\n",
    "        # 設定連線資訊(IP, Port, 連線時間)\n",
    "        client.connect(\"broker.hivemq.com\", 1883, 60)\n",
    "\n",
    "        # 開始連線，執行設定的動作和處理重新連線問題\n",
    "        # 也可以手動使用其他loop函式來進行連接\n",
    "        #client.loop_forever()\n",
    "        client.loop_start()    #start the loop\n",
    "\n",
    "        time.sleep(30)\n",
    "\n",
    "        client.disconnect() # disconnect gracefully\n",
    "        client.loop_stop() # stops network loop\n",
    "        \n",
    "    except Exception as e:\n",
    "        print('run mqtt error: ', str(e))\n",
    "\n",
    "run_mqtt()\n"
   ]
  },
  {
   "cell_type": "code",
   "execution_count": 24,
   "metadata": {
    "scrolled": true
   },
   "outputs": [
    {
     "data": {
      "text/plain": [
       "{'farm1': {'a1': '2.282',\n",
       "  'total_e': '5587.496',\n",
       "  'v2': '234.245',\n",
       "  'v3': '238.247',\n",
       "  'a2': '2.330',\n",
       "  'a3': '2.177',\n",
       "  'v1': '236.291'},\n",
       " 'farm2': {'a1': '24.033',\n",
       "  'a3': '25.046',\n",
       "  'total_e': '18707.470',\n",
       "  'a2': '25.399',\n",
       "  'v1': '231.012',\n",
       "  'v2': '234.762',\n",
       "  'v3': '235.971'},\n",
       " 'farm3': {'a1': '9.641',\n",
       "  'a2': '9.907',\n",
       "  'v1': '137.670',\n",
       "  'v2': '134.013',\n",
       "  'v3': '136.509',\n",
       "  'a3': '1.616',\n",
       "  'total_e': '46493.040'},\n",
       " 'farm4': {'a1': '0.109',\n",
       "  'a2': '0.000',\n",
       "  'v2': '124.255',\n",
       "  'v1': '206.789',\n",
       "  'total_e': '14614.280',\n",
       "  'v3': '124.212',\n",
       "  'a3': '0.325'},\n",
       " 'farm5': {'a2': '0.000',\n",
       "  'a3': '0.211',\n",
       "  'total_e': '239.525',\n",
       "  'a1': '0.033',\n",
       "  'v1': '204.671',\n",
       "  'v2': '78.735',\n",
       "  'v3': '116.401'}}"
      ]
     },
     "execution_count": 24,
     "metadata": {},
     "output_type": "execute_result"
    }
   ],
   "source": [
    "farm_data"
   ]
  },
  {
   "cell_type": "code",
   "execution_count": 25,
   "metadata": {},
   "outputs": [
    {
     "data": {
      "text/plain": [
       "{'a1': '9.641',\n",
       " 'a2': '9.907',\n",
       " 'v1': '137.670',\n",
       " 'v2': '134.013',\n",
       " 'v3': '136.509',\n",
       " 'a3': '1.616',\n",
       " 'total_e': '46493.040'}"
      ]
     },
     "execution_count": 25,
     "metadata": {},
     "output_type": "execute_result"
    }
   ],
   "source": [
    "farm_data['farm3']"
   ]
  },
  {
   "cell_type": "code",
   "execution_count": 20,
   "metadata": {},
   "outputs": [],
   "source": [
    "# TODO: 請把電錶資訊以地圖的方式標示出來\n",
    "#farm1: 23.6671309,120.1578337\n",
    "#farm2: 23.6611758,120.161289\n",
    "#farm3: 23.6355644,120.1474287\n",
    "#farm4: 23.6373534,120.169344\n",
    "#farm5: 23.6876348,120.2014575\n",
    "meter_gps = {'farm1':[23.6671309,120.1578337],\n",
    "            'farm2':[23.6611758,120.161289],\n",
    "            'farm3':[23.6355644,120.1474287],\n",
    "            'farm4':[23.6373534,120.169344],\n",
    "            'farm5':[23.6876348,120.2014575],\n",
    "            }\n",
    "\n"
   ]
  },
  {
   "cell_type": "code",
   "execution_count": 26,
   "metadata": {},
   "outputs": [
    {
     "name": "stdout",
     "output_type": "stream",
     "text": [
      "farm1\n",
      "farm2\n",
      "farm3\n",
      "farm4\n",
      "farm5\n"
     ]
    }
   ],
   "source": [
    "for key in meter_gps:\n",
    "    print(key)"
   ]
  },
  {
   "cell_type": "code",
   "execution_count": 37,
   "metadata": {},
   "outputs": [],
   "source": [
    "import folium\n",
    "import geocoder\n",
    "\n",
    "# 使用 geocoder 取得特定住址的 GPS 座標\n",
    "location = geocoder.osm('雲林縣四湖鄉').latlng\n",
    "\n",
    "m = folium.Map(location=location, zoom_start=12)\n",
    "\n",
    "for key in meter_gps:\n",
    "    try:\n",
    "        # item[2]=緯度, item[1]=經度, item[0]=名稱\n",
    "        name = key  #站名\n",
    "        lat = meter_gps[key][0]  #緯度\n",
    "        lng = meter_gps[key][1]  #經度\n",
    "        total_e = farm_data[key]['total_e']\n",
    "        v1 = farm_data[key]['v1']\n",
    "        v2 = farm_data[key]['v2']\n",
    "        v3 = farm_data[key]['v3']\n",
    "        a1 = farm_data[key]['a1']\n",
    "        a2 = farm_data[key]['a2']\n",
    "        a3 = farm_data[key]['a3']\n",
    "        info = '[%s] 用電%s度\\r\\n 電壓(%s,%s,%s) 電流(%s,%s,%s)' %(name, total_e, v1, v2, v3, a1, a2, a3)\n",
    "        folium.Marker([ lat, lng],\n",
    "                      tooltip=info,\n",
    "                      #icon=folium.Icon(color='blue', prefix='fa', icon='fa-bicycle')\n",
    "                      icon=folium.Icon(color='blue')\n",
    "                     ).add_to(m)\n",
    "        \n",
    "    except Exception as e:\n",
    "        print(e.args)    \n"
   ]
  },
  {
   "cell_type": "code",
   "execution_count": 38,
   "metadata": {
    "scrolled": false
   },
   "outputs": [
    {
     "data": {
      "text/html": [
       "<div style=\"width:100%;\"><div style=\"position:relative;width:100%;height:0;padding-bottom:60%;\"><span style=\"color:#565656\">Make this Notebook Trusted to load map: File -> Trust Notebook</span><iframe src=\"about:blank\" style=\"position:absolute;width:100%;height:100%;left:0;top:0;border:none !important;\" data-html=%3C%21DOCTYPE%20html%3E%0A%3Chead%3E%20%20%20%20%0A%20%20%20%20%3Cmeta%20http-equiv%3D%22content-type%22%20content%3D%22text/html%3B%20charset%3DUTF-8%22%20/%3E%0A%20%20%20%20%0A%20%20%20%20%20%20%20%20%3Cscript%3E%0A%20%20%20%20%20%20%20%20%20%20%20%20L_NO_TOUCH%20%3D%20false%3B%0A%20%20%20%20%20%20%20%20%20%20%20%20L_DISABLE_3D%20%3D%20false%3B%0A%20%20%20%20%20%20%20%20%3C/script%3E%0A%20%20%20%20%0A%20%20%20%20%3Cstyle%3Ehtml%2C%20body%20%7Bwidth%3A%20100%25%3Bheight%3A%20100%25%3Bmargin%3A%200%3Bpadding%3A%200%3B%7D%3C/style%3E%0A%20%20%20%20%3Cstyle%3E%23map%20%7Bposition%3Aabsolute%3Btop%3A0%3Bbottom%3A0%3Bright%3A0%3Bleft%3A0%3B%7D%3C/style%3E%0A%20%20%20%20%3Cscript%20src%3D%22https%3A//cdn.jsdelivr.net/npm/leaflet%401.6.0/dist/leaflet.js%22%3E%3C/script%3E%0A%20%20%20%20%3Cscript%20src%3D%22https%3A//code.jquery.com/jquery-1.12.4.min.js%22%3E%3C/script%3E%0A%20%20%20%20%3Cscript%20src%3D%22https%3A//maxcdn.bootstrapcdn.com/bootstrap/3.2.0/js/bootstrap.min.js%22%3E%3C/script%3E%0A%20%20%20%20%3Cscript%20src%3D%22https%3A//cdnjs.cloudflare.com/ajax/libs/Leaflet.awesome-markers/2.0.2/leaflet.awesome-markers.js%22%3E%3C/script%3E%0A%20%20%20%20%3Clink%20rel%3D%22stylesheet%22%20href%3D%22https%3A//cdn.jsdelivr.net/npm/leaflet%401.6.0/dist/leaflet.css%22/%3E%0A%20%20%20%20%3Clink%20rel%3D%22stylesheet%22%20href%3D%22https%3A//maxcdn.bootstrapcdn.com/bootstrap/3.2.0/css/bootstrap.min.css%22/%3E%0A%20%20%20%20%3Clink%20rel%3D%22stylesheet%22%20href%3D%22https%3A//maxcdn.bootstrapcdn.com/bootstrap/3.2.0/css/bootstrap-theme.min.css%22/%3E%0A%20%20%20%20%3Clink%20rel%3D%22stylesheet%22%20href%3D%22https%3A//maxcdn.bootstrapcdn.com/font-awesome/4.6.3/css/font-awesome.min.css%22/%3E%0A%20%20%20%20%3Clink%20rel%3D%22stylesheet%22%20href%3D%22https%3A//cdnjs.cloudflare.com/ajax/libs/Leaflet.awesome-markers/2.0.2/leaflet.awesome-markers.css%22/%3E%0A%20%20%20%20%3Clink%20rel%3D%22stylesheet%22%20href%3D%22https%3A//cdn.jsdelivr.net/gh/python-visualization/folium/folium/templates/leaflet.awesome.rotate.min.css%22/%3E%0A%20%20%20%20%0A%20%20%20%20%20%20%20%20%20%20%20%20%3Cmeta%20name%3D%22viewport%22%20content%3D%22width%3Ddevice-width%2C%0A%20%20%20%20%20%20%20%20%20%20%20%20%20%20%20%20initial-scale%3D1.0%2C%20maximum-scale%3D1.0%2C%20user-scalable%3Dno%22%20/%3E%0A%20%20%20%20%20%20%20%20%20%20%20%20%3Cstyle%3E%0A%20%20%20%20%20%20%20%20%20%20%20%20%20%20%20%20%23map_17111569a7504afaab0803648476b33f%20%7B%0A%20%20%20%20%20%20%20%20%20%20%20%20%20%20%20%20%20%20%20%20position%3A%20relative%3B%0A%20%20%20%20%20%20%20%20%20%20%20%20%20%20%20%20%20%20%20%20width%3A%20100.0%25%3B%0A%20%20%20%20%20%20%20%20%20%20%20%20%20%20%20%20%20%20%20%20height%3A%20100.0%25%3B%0A%20%20%20%20%20%20%20%20%20%20%20%20%20%20%20%20%20%20%20%20left%3A%200.0%25%3B%0A%20%20%20%20%20%20%20%20%20%20%20%20%20%20%20%20%20%20%20%20top%3A%200.0%25%3B%0A%20%20%20%20%20%20%20%20%20%20%20%20%20%20%20%20%7D%0A%20%20%20%20%20%20%20%20%20%20%20%20%3C/style%3E%0A%20%20%20%20%20%20%20%20%0A%3C/head%3E%0A%3Cbody%3E%20%20%20%20%0A%20%20%20%20%0A%20%20%20%20%20%20%20%20%20%20%20%20%3Cdiv%20class%3D%22folium-map%22%20id%3D%22map_17111569a7504afaab0803648476b33f%22%20%3E%3C/div%3E%0A%20%20%20%20%20%20%20%20%0A%3C/body%3E%0A%3Cscript%3E%20%20%20%20%0A%20%20%20%20%0A%20%20%20%20%20%20%20%20%20%20%20%20var%20map_17111569a7504afaab0803648476b33f%20%3D%20L.map%28%0A%20%20%20%20%20%20%20%20%20%20%20%20%20%20%20%20%22map_17111569a7504afaab0803648476b33f%22%2C%0A%20%20%20%20%20%20%20%20%20%20%20%20%20%20%20%20%7B%0A%20%20%20%20%20%20%20%20%20%20%20%20%20%20%20%20%20%20%20%20center%3A%20%5B23.63774%2C%20120.225741%5D%2C%0A%20%20%20%20%20%20%20%20%20%20%20%20%20%20%20%20%20%20%20%20crs%3A%20L.CRS.EPSG3857%2C%0A%20%20%20%20%20%20%20%20%20%20%20%20%20%20%20%20%20%20%20%20zoom%3A%2012%2C%0A%20%20%20%20%20%20%20%20%20%20%20%20%20%20%20%20%20%20%20%20zoomControl%3A%20true%2C%0A%20%20%20%20%20%20%20%20%20%20%20%20%20%20%20%20%20%20%20%20preferCanvas%3A%20false%2C%0A%20%20%20%20%20%20%20%20%20%20%20%20%20%20%20%20%7D%0A%20%20%20%20%20%20%20%20%20%20%20%20%29%3B%0A%0A%20%20%20%20%20%20%20%20%20%20%20%20%0A%0A%20%20%20%20%20%20%20%20%0A%20%20%20%20%0A%20%20%20%20%20%20%20%20%20%20%20%20var%20tile_layer_a4d106c123f9454eae62e67b0729da69%20%3D%20L.tileLayer%28%0A%20%20%20%20%20%20%20%20%20%20%20%20%20%20%20%20%22https%3A//%7Bs%7D.tile.openstreetmap.org/%7Bz%7D/%7Bx%7D/%7By%7D.png%22%2C%0A%20%20%20%20%20%20%20%20%20%20%20%20%20%20%20%20%7B%22attribution%22%3A%20%22Data%20by%20%5Cu0026copy%3B%20%5Cu003ca%20href%3D%5C%22http%3A//openstreetmap.org%5C%22%5Cu003eOpenStreetMap%5Cu003c/a%5Cu003e%2C%20under%20%5Cu003ca%20href%3D%5C%22http%3A//www.openstreetmap.org/copyright%5C%22%5Cu003eODbL%5Cu003c/a%5Cu003e.%22%2C%20%22detectRetina%22%3A%20false%2C%20%22maxNativeZoom%22%3A%2018%2C%20%22maxZoom%22%3A%2018%2C%20%22minZoom%22%3A%200%2C%20%22noWrap%22%3A%20false%2C%20%22opacity%22%3A%201%2C%20%22subdomains%22%3A%20%22abc%22%2C%20%22tms%22%3A%20false%7D%0A%20%20%20%20%20%20%20%20%20%20%20%20%29.addTo%28map_17111569a7504afaab0803648476b33f%29%3B%0A%20%20%20%20%20%20%20%20%0A%20%20%20%20%0A%20%20%20%20%20%20%20%20%20%20%20%20var%20marker_7144a4f73dfc4eec9b057ee127090e34%20%3D%20L.marker%28%0A%20%20%20%20%20%20%20%20%20%20%20%20%20%20%20%20%5B23.6671309%2C%20120.1578337%5D%2C%0A%20%20%20%20%20%20%20%20%20%20%20%20%20%20%20%20%7B%7D%0A%20%20%20%20%20%20%20%20%20%20%20%20%29.addTo%28map_17111569a7504afaab0803648476b33f%29%3B%0A%20%20%20%20%20%20%20%20%0A%20%20%20%20%0A%20%20%20%20%20%20%20%20%20%20%20%20var%20icon_54ec2036713c48b29158492ea9d20a5a%20%3D%20L.AwesomeMarkers.icon%28%0A%20%20%20%20%20%20%20%20%20%20%20%20%20%20%20%20%7B%22extraClasses%22%3A%20%22fa-rotate-0%22%2C%20%22icon%22%3A%20%22info-sign%22%2C%20%22iconColor%22%3A%20%22white%22%2C%20%22markerColor%22%3A%20%22blue%22%2C%20%22prefix%22%3A%20%22glyphicon%22%7D%0A%20%20%20%20%20%20%20%20%20%20%20%20%29%3B%0A%20%20%20%20%20%20%20%20%20%20%20%20marker_7144a4f73dfc4eec9b057ee127090e34.setIcon%28icon_54ec2036713c48b29158492ea9d20a5a%29%3B%0A%20%20%20%20%20%20%20%20%0A%20%20%20%20%0A%20%20%20%20%20%20%20%20%20%20%20%20marker_7144a4f73dfc4eec9b057ee127090e34.bindTooltip%28%0A%20%20%20%20%20%20%20%20%20%20%20%20%20%20%20%20%60%3Cdiv%3E%0A%20%20%20%20%20%20%20%20%20%20%20%20%20%20%20%20%20%20%20%20%20%5Bfarm1%5D%20%E7%94%A8%E9%9B%BB5587.496%E5%BA%A6%0A%20%E9%9B%BB%E5%A3%93%28236.291%2C234.245%2C238.247%29%20%E9%9B%BB%E6%B5%81%282.282%2C2.330%2C2.177%29%0A%20%20%20%20%20%20%20%20%20%20%20%20%20%20%20%20%20%3C/div%3E%60%2C%0A%20%20%20%20%20%20%20%20%20%20%20%20%20%20%20%20%7B%22sticky%22%3A%20true%7D%0A%20%20%20%20%20%20%20%20%20%20%20%20%29%3B%0A%20%20%20%20%20%20%20%20%0A%20%20%20%20%0A%20%20%20%20%20%20%20%20%20%20%20%20var%20marker_703457a6cd0e4c02bfbc76c52aff4db9%20%3D%20L.marker%28%0A%20%20%20%20%20%20%20%20%20%20%20%20%20%20%20%20%5B23.6611758%2C%20120.161289%5D%2C%0A%20%20%20%20%20%20%20%20%20%20%20%20%20%20%20%20%7B%7D%0A%20%20%20%20%20%20%20%20%20%20%20%20%29.addTo%28map_17111569a7504afaab0803648476b33f%29%3B%0A%20%20%20%20%20%20%20%20%0A%20%20%20%20%0A%20%20%20%20%20%20%20%20%20%20%20%20var%20icon_77505d32433f419999bbf0159574d610%20%3D%20L.AwesomeMarkers.icon%28%0A%20%20%20%20%20%20%20%20%20%20%20%20%20%20%20%20%7B%22extraClasses%22%3A%20%22fa-rotate-0%22%2C%20%22icon%22%3A%20%22info-sign%22%2C%20%22iconColor%22%3A%20%22white%22%2C%20%22markerColor%22%3A%20%22blue%22%2C%20%22prefix%22%3A%20%22glyphicon%22%7D%0A%20%20%20%20%20%20%20%20%20%20%20%20%29%3B%0A%20%20%20%20%20%20%20%20%20%20%20%20marker_703457a6cd0e4c02bfbc76c52aff4db9.setIcon%28icon_77505d32433f419999bbf0159574d610%29%3B%0A%20%20%20%20%20%20%20%20%0A%20%20%20%20%0A%20%20%20%20%20%20%20%20%20%20%20%20marker_703457a6cd0e4c02bfbc76c52aff4db9.bindTooltip%28%0A%20%20%20%20%20%20%20%20%20%20%20%20%20%20%20%20%60%3Cdiv%3E%0A%20%20%20%20%20%20%20%20%20%20%20%20%20%20%20%20%20%20%20%20%20%5Bfarm2%5D%20%E7%94%A8%E9%9B%BB18707.470%E5%BA%A6%0A%20%E9%9B%BB%E5%A3%93%28231.012%2C234.762%2C235.971%29%20%E9%9B%BB%E6%B5%81%2824.033%2C25.399%2C25.046%29%0A%20%20%20%20%20%20%20%20%20%20%20%20%20%20%20%20%20%3C/div%3E%60%2C%0A%20%20%20%20%20%20%20%20%20%20%20%20%20%20%20%20%7B%22sticky%22%3A%20true%7D%0A%20%20%20%20%20%20%20%20%20%20%20%20%29%3B%0A%20%20%20%20%20%20%20%20%0A%20%20%20%20%0A%20%20%20%20%20%20%20%20%20%20%20%20var%20marker_1f0e5992a5d049118bb61a2a3cdb460f%20%3D%20L.marker%28%0A%20%20%20%20%20%20%20%20%20%20%20%20%20%20%20%20%5B23.6355644%2C%20120.1474287%5D%2C%0A%20%20%20%20%20%20%20%20%20%20%20%20%20%20%20%20%7B%7D%0A%20%20%20%20%20%20%20%20%20%20%20%20%29.addTo%28map_17111569a7504afaab0803648476b33f%29%3B%0A%20%20%20%20%20%20%20%20%0A%20%20%20%20%0A%20%20%20%20%20%20%20%20%20%20%20%20var%20icon_5e699da3b41941519411a725550c1c59%20%3D%20L.AwesomeMarkers.icon%28%0A%20%20%20%20%20%20%20%20%20%20%20%20%20%20%20%20%7B%22extraClasses%22%3A%20%22fa-rotate-0%22%2C%20%22icon%22%3A%20%22info-sign%22%2C%20%22iconColor%22%3A%20%22white%22%2C%20%22markerColor%22%3A%20%22blue%22%2C%20%22prefix%22%3A%20%22glyphicon%22%7D%0A%20%20%20%20%20%20%20%20%20%20%20%20%29%3B%0A%20%20%20%20%20%20%20%20%20%20%20%20marker_1f0e5992a5d049118bb61a2a3cdb460f.setIcon%28icon_5e699da3b41941519411a725550c1c59%29%3B%0A%20%20%20%20%20%20%20%20%0A%20%20%20%20%0A%20%20%20%20%20%20%20%20%20%20%20%20marker_1f0e5992a5d049118bb61a2a3cdb460f.bindTooltip%28%0A%20%20%20%20%20%20%20%20%20%20%20%20%20%20%20%20%60%3Cdiv%3E%0A%20%20%20%20%20%20%20%20%20%20%20%20%20%20%20%20%20%20%20%20%20%5Bfarm3%5D%20%E7%94%A8%E9%9B%BB46493.040%E5%BA%A6%0A%20%E9%9B%BB%E5%A3%93%28137.670%2C134.013%2C136.509%29%20%E9%9B%BB%E6%B5%81%289.641%2C9.907%2C1.616%29%0A%20%20%20%20%20%20%20%20%20%20%20%20%20%20%20%20%20%3C/div%3E%60%2C%0A%20%20%20%20%20%20%20%20%20%20%20%20%20%20%20%20%7B%22sticky%22%3A%20true%7D%0A%20%20%20%20%20%20%20%20%20%20%20%20%29%3B%0A%20%20%20%20%20%20%20%20%0A%20%20%20%20%0A%20%20%20%20%20%20%20%20%20%20%20%20var%20marker_2b8e53d7ee1f4d20ac6b411f048430eb%20%3D%20L.marker%28%0A%20%20%20%20%20%20%20%20%20%20%20%20%20%20%20%20%5B23.6373534%2C%20120.169344%5D%2C%0A%20%20%20%20%20%20%20%20%20%20%20%20%20%20%20%20%7B%7D%0A%20%20%20%20%20%20%20%20%20%20%20%20%29.addTo%28map_17111569a7504afaab0803648476b33f%29%3B%0A%20%20%20%20%20%20%20%20%0A%20%20%20%20%0A%20%20%20%20%20%20%20%20%20%20%20%20var%20icon_631eb01e35f6471aafe748be6f0047dd%20%3D%20L.AwesomeMarkers.icon%28%0A%20%20%20%20%20%20%20%20%20%20%20%20%20%20%20%20%7B%22extraClasses%22%3A%20%22fa-rotate-0%22%2C%20%22icon%22%3A%20%22info-sign%22%2C%20%22iconColor%22%3A%20%22white%22%2C%20%22markerColor%22%3A%20%22blue%22%2C%20%22prefix%22%3A%20%22glyphicon%22%7D%0A%20%20%20%20%20%20%20%20%20%20%20%20%29%3B%0A%20%20%20%20%20%20%20%20%20%20%20%20marker_2b8e53d7ee1f4d20ac6b411f048430eb.setIcon%28icon_631eb01e35f6471aafe748be6f0047dd%29%3B%0A%20%20%20%20%20%20%20%20%0A%20%20%20%20%0A%20%20%20%20%20%20%20%20%20%20%20%20marker_2b8e53d7ee1f4d20ac6b411f048430eb.bindTooltip%28%0A%20%20%20%20%20%20%20%20%20%20%20%20%20%20%20%20%60%3Cdiv%3E%0A%20%20%20%20%20%20%20%20%20%20%20%20%20%20%20%20%20%20%20%20%20%5Bfarm4%5D%20%E7%94%A8%E9%9B%BB14614.280%E5%BA%A6%0A%20%E9%9B%BB%E5%A3%93%28206.789%2C124.255%2C124.212%29%20%E9%9B%BB%E6%B5%81%280.109%2C0.000%2C0.325%29%0A%20%20%20%20%20%20%20%20%20%20%20%20%20%20%20%20%20%3C/div%3E%60%2C%0A%20%20%20%20%20%20%20%20%20%20%20%20%20%20%20%20%7B%22sticky%22%3A%20true%7D%0A%20%20%20%20%20%20%20%20%20%20%20%20%29%3B%0A%20%20%20%20%20%20%20%20%0A%20%20%20%20%0A%20%20%20%20%20%20%20%20%20%20%20%20var%20marker_cb3cc558141e410e8dbe0b8621d6a886%20%3D%20L.marker%28%0A%20%20%20%20%20%20%20%20%20%20%20%20%20%20%20%20%5B23.6876348%2C%20120.2014575%5D%2C%0A%20%20%20%20%20%20%20%20%20%20%20%20%20%20%20%20%7B%7D%0A%20%20%20%20%20%20%20%20%20%20%20%20%29.addTo%28map_17111569a7504afaab0803648476b33f%29%3B%0A%20%20%20%20%20%20%20%20%0A%20%20%20%20%0A%20%20%20%20%20%20%20%20%20%20%20%20var%20icon_46aa444b3ddd400b836c64f80f4fdb24%20%3D%20L.AwesomeMarkers.icon%28%0A%20%20%20%20%20%20%20%20%20%20%20%20%20%20%20%20%7B%22extraClasses%22%3A%20%22fa-rotate-0%22%2C%20%22icon%22%3A%20%22info-sign%22%2C%20%22iconColor%22%3A%20%22white%22%2C%20%22markerColor%22%3A%20%22blue%22%2C%20%22prefix%22%3A%20%22glyphicon%22%7D%0A%20%20%20%20%20%20%20%20%20%20%20%20%29%3B%0A%20%20%20%20%20%20%20%20%20%20%20%20marker_cb3cc558141e410e8dbe0b8621d6a886.setIcon%28icon_46aa444b3ddd400b836c64f80f4fdb24%29%3B%0A%20%20%20%20%20%20%20%20%0A%20%20%20%20%0A%20%20%20%20%20%20%20%20%20%20%20%20marker_cb3cc558141e410e8dbe0b8621d6a886.bindTooltip%28%0A%20%20%20%20%20%20%20%20%20%20%20%20%20%20%20%20%60%3Cdiv%3E%0A%20%20%20%20%20%20%20%20%20%20%20%20%20%20%20%20%20%20%20%20%20%5Bfarm5%5D%20%E7%94%A8%E9%9B%BB239.525%E5%BA%A6%0A%20%E9%9B%BB%E5%A3%93%28204.671%2C78.735%2C116.401%29%20%E9%9B%BB%E6%B5%81%280.033%2C0.000%2C0.211%29%0A%20%20%20%20%20%20%20%20%20%20%20%20%20%20%20%20%20%3C/div%3E%60%2C%0A%20%20%20%20%20%20%20%20%20%20%20%20%20%20%20%20%7B%22sticky%22%3A%20true%7D%0A%20%20%20%20%20%20%20%20%20%20%20%20%29%3B%0A%20%20%20%20%20%20%20%20%0A%3C/script%3E onload=\"this.contentDocument.open();this.contentDocument.write(    decodeURIComponent(this.getAttribute('data-html')));this.contentDocument.close();\" allowfullscreen webkitallowfullscreen mozallowfullscreen></iframe></div></div>"
      ],
      "text/plain": [
       "<folium.folium.Map at 0x275b1e8a0a0>"
      ]
     },
     "execution_count": 38,
     "metadata": {},
     "output_type": "execute_result"
    }
   ],
   "source": [
    "m"
   ]
  },
  {
   "cell_type": "code",
   "execution_count": 40,
   "metadata": {},
   "outputs": [],
   "source": [
    "import folium\n",
    "import geocoder\n",
    "\n",
    "# 使用 geocoder 取得特定住址的 GPS 座標\n",
    "location = geocoder.osm('雲林縣四湖鄉').latlng\n",
    "\n",
    "m = folium.Map(location=location, zoom_start=12)\n",
    "\n",
    "for key in meter_gps:\n",
    "    try:\n",
    "        # item[2]=緯度, item[1]=經度, item[0]=名稱\n",
    "        name = key  #站名\n",
    "        lat = meter_gps[key][0]  #緯度\n",
    "        lng = meter_gps[key][1]  #經度\n",
    "        total_e = farm_data[key]['total_e']\n",
    "        v1 = farm_data[key]['v1']\n",
    "        v2 = farm_data[key]['v2']\n",
    "        v3 = farm_data[key]['v3']\n",
    "        a1 = farm_data[key]['a1']\n",
    "        a2 = farm_data[key]['a2']\n",
    "        a3 = farm_data[key]['a3']\n",
    "        info = '[%s] 用電%s度\\r\\n 電壓(%s,%s,%s) 電流(%s,%s,%s)' %(name, total_e, v1, v2, v3, a1, a2, a3)\n",
    "        if float(v1)>238 or float(v2)>238 or float(v3)>238:\n",
    "            folium.Marker([ lat, lng],\n",
    "                          tooltip=info,\n",
    "                          #icon=folium.Icon(color='blue', prefix='fa', icon='fa-bicycle')\n",
    "                          icon=folium.Icon(color='red')\n",
    "                         ).add_to(m)\n",
    "        else:\n",
    "            folium.Marker([ lat, lng],\n",
    "                          tooltip=info,\n",
    "                          #icon=folium.Icon(color='blue', prefix='fa', icon='fa-bicycle')\n",
    "                          icon=folium.Icon(color='blue')\n",
    "                         ).add_to(m)\n",
    "        \n",
    "    except Exception as e:\n",
    "        print(e.args)    \n"
   ]
  },
  {
   "cell_type": "code",
   "execution_count": 41,
   "metadata": {},
   "outputs": [
    {
     "data": {
      "text/html": [
       "<div style=\"width:100%;\"><div style=\"position:relative;width:100%;height:0;padding-bottom:60%;\"><span style=\"color:#565656\">Make this Notebook Trusted to load map: File -> Trust Notebook</span><iframe src=\"about:blank\" style=\"position:absolute;width:100%;height:100%;left:0;top:0;border:none !important;\" data-html=%3C%21DOCTYPE%20html%3E%0A%3Chead%3E%20%20%20%20%0A%20%20%20%20%3Cmeta%20http-equiv%3D%22content-type%22%20content%3D%22text/html%3B%20charset%3DUTF-8%22%20/%3E%0A%20%20%20%20%0A%20%20%20%20%20%20%20%20%3Cscript%3E%0A%20%20%20%20%20%20%20%20%20%20%20%20L_NO_TOUCH%20%3D%20false%3B%0A%20%20%20%20%20%20%20%20%20%20%20%20L_DISABLE_3D%20%3D%20false%3B%0A%20%20%20%20%20%20%20%20%3C/script%3E%0A%20%20%20%20%0A%20%20%20%20%3Cstyle%3Ehtml%2C%20body%20%7Bwidth%3A%20100%25%3Bheight%3A%20100%25%3Bmargin%3A%200%3Bpadding%3A%200%3B%7D%3C/style%3E%0A%20%20%20%20%3Cstyle%3E%23map%20%7Bposition%3Aabsolute%3Btop%3A0%3Bbottom%3A0%3Bright%3A0%3Bleft%3A0%3B%7D%3C/style%3E%0A%20%20%20%20%3Cscript%20src%3D%22https%3A//cdn.jsdelivr.net/npm/leaflet%401.6.0/dist/leaflet.js%22%3E%3C/script%3E%0A%20%20%20%20%3Cscript%20src%3D%22https%3A//code.jquery.com/jquery-1.12.4.min.js%22%3E%3C/script%3E%0A%20%20%20%20%3Cscript%20src%3D%22https%3A//maxcdn.bootstrapcdn.com/bootstrap/3.2.0/js/bootstrap.min.js%22%3E%3C/script%3E%0A%20%20%20%20%3Cscript%20src%3D%22https%3A//cdnjs.cloudflare.com/ajax/libs/Leaflet.awesome-markers/2.0.2/leaflet.awesome-markers.js%22%3E%3C/script%3E%0A%20%20%20%20%3Clink%20rel%3D%22stylesheet%22%20href%3D%22https%3A//cdn.jsdelivr.net/npm/leaflet%401.6.0/dist/leaflet.css%22/%3E%0A%20%20%20%20%3Clink%20rel%3D%22stylesheet%22%20href%3D%22https%3A//maxcdn.bootstrapcdn.com/bootstrap/3.2.0/css/bootstrap.min.css%22/%3E%0A%20%20%20%20%3Clink%20rel%3D%22stylesheet%22%20href%3D%22https%3A//maxcdn.bootstrapcdn.com/bootstrap/3.2.0/css/bootstrap-theme.min.css%22/%3E%0A%20%20%20%20%3Clink%20rel%3D%22stylesheet%22%20href%3D%22https%3A//maxcdn.bootstrapcdn.com/font-awesome/4.6.3/css/font-awesome.min.css%22/%3E%0A%20%20%20%20%3Clink%20rel%3D%22stylesheet%22%20href%3D%22https%3A//cdnjs.cloudflare.com/ajax/libs/Leaflet.awesome-markers/2.0.2/leaflet.awesome-markers.css%22/%3E%0A%20%20%20%20%3Clink%20rel%3D%22stylesheet%22%20href%3D%22https%3A//cdn.jsdelivr.net/gh/python-visualization/folium/folium/templates/leaflet.awesome.rotate.min.css%22/%3E%0A%20%20%20%20%0A%20%20%20%20%20%20%20%20%20%20%20%20%3Cmeta%20name%3D%22viewport%22%20content%3D%22width%3Ddevice-width%2C%0A%20%20%20%20%20%20%20%20%20%20%20%20%20%20%20%20initial-scale%3D1.0%2C%20maximum-scale%3D1.0%2C%20user-scalable%3Dno%22%20/%3E%0A%20%20%20%20%20%20%20%20%20%20%20%20%3Cstyle%3E%0A%20%20%20%20%20%20%20%20%20%20%20%20%20%20%20%20%23map_6184937c55404045a5d6b98ce157abe3%20%7B%0A%20%20%20%20%20%20%20%20%20%20%20%20%20%20%20%20%20%20%20%20position%3A%20relative%3B%0A%20%20%20%20%20%20%20%20%20%20%20%20%20%20%20%20%20%20%20%20width%3A%20100.0%25%3B%0A%20%20%20%20%20%20%20%20%20%20%20%20%20%20%20%20%20%20%20%20height%3A%20100.0%25%3B%0A%20%20%20%20%20%20%20%20%20%20%20%20%20%20%20%20%20%20%20%20left%3A%200.0%25%3B%0A%20%20%20%20%20%20%20%20%20%20%20%20%20%20%20%20%20%20%20%20top%3A%200.0%25%3B%0A%20%20%20%20%20%20%20%20%20%20%20%20%20%20%20%20%7D%0A%20%20%20%20%20%20%20%20%20%20%20%20%3C/style%3E%0A%20%20%20%20%20%20%20%20%0A%3C/head%3E%0A%3Cbody%3E%20%20%20%20%0A%20%20%20%20%0A%20%20%20%20%20%20%20%20%20%20%20%20%3Cdiv%20class%3D%22folium-map%22%20id%3D%22map_6184937c55404045a5d6b98ce157abe3%22%20%3E%3C/div%3E%0A%20%20%20%20%20%20%20%20%0A%3C/body%3E%0A%3Cscript%3E%20%20%20%20%0A%20%20%20%20%0A%20%20%20%20%20%20%20%20%20%20%20%20var%20map_6184937c55404045a5d6b98ce157abe3%20%3D%20L.map%28%0A%20%20%20%20%20%20%20%20%20%20%20%20%20%20%20%20%22map_6184937c55404045a5d6b98ce157abe3%22%2C%0A%20%20%20%20%20%20%20%20%20%20%20%20%20%20%20%20%7B%0A%20%20%20%20%20%20%20%20%20%20%20%20%20%20%20%20%20%20%20%20center%3A%20%5B23.63774%2C%20120.225741%5D%2C%0A%20%20%20%20%20%20%20%20%20%20%20%20%20%20%20%20%20%20%20%20crs%3A%20L.CRS.EPSG3857%2C%0A%20%20%20%20%20%20%20%20%20%20%20%20%20%20%20%20%20%20%20%20zoom%3A%2012%2C%0A%20%20%20%20%20%20%20%20%20%20%20%20%20%20%20%20%20%20%20%20zoomControl%3A%20true%2C%0A%20%20%20%20%20%20%20%20%20%20%20%20%20%20%20%20%20%20%20%20preferCanvas%3A%20false%2C%0A%20%20%20%20%20%20%20%20%20%20%20%20%20%20%20%20%7D%0A%20%20%20%20%20%20%20%20%20%20%20%20%29%3B%0A%0A%20%20%20%20%20%20%20%20%20%20%20%20%0A%0A%20%20%20%20%20%20%20%20%0A%20%20%20%20%0A%20%20%20%20%20%20%20%20%20%20%20%20var%20tile_layer_1256acbff9514d8097cd95e4a87a5492%20%3D%20L.tileLayer%28%0A%20%20%20%20%20%20%20%20%20%20%20%20%20%20%20%20%22https%3A//%7Bs%7D.tile.openstreetmap.org/%7Bz%7D/%7Bx%7D/%7By%7D.png%22%2C%0A%20%20%20%20%20%20%20%20%20%20%20%20%20%20%20%20%7B%22attribution%22%3A%20%22Data%20by%20%5Cu0026copy%3B%20%5Cu003ca%20href%3D%5C%22http%3A//openstreetmap.org%5C%22%5Cu003eOpenStreetMap%5Cu003c/a%5Cu003e%2C%20under%20%5Cu003ca%20href%3D%5C%22http%3A//www.openstreetmap.org/copyright%5C%22%5Cu003eODbL%5Cu003c/a%5Cu003e.%22%2C%20%22detectRetina%22%3A%20false%2C%20%22maxNativeZoom%22%3A%2018%2C%20%22maxZoom%22%3A%2018%2C%20%22minZoom%22%3A%200%2C%20%22noWrap%22%3A%20false%2C%20%22opacity%22%3A%201%2C%20%22subdomains%22%3A%20%22abc%22%2C%20%22tms%22%3A%20false%7D%0A%20%20%20%20%20%20%20%20%20%20%20%20%29.addTo%28map_6184937c55404045a5d6b98ce157abe3%29%3B%0A%20%20%20%20%20%20%20%20%0A%20%20%20%20%0A%20%20%20%20%20%20%20%20%20%20%20%20var%20marker_45feb50c25454cccab52f9ca108648e9%20%3D%20L.marker%28%0A%20%20%20%20%20%20%20%20%20%20%20%20%20%20%20%20%5B23.6671309%2C%20120.1578337%5D%2C%0A%20%20%20%20%20%20%20%20%20%20%20%20%20%20%20%20%7B%7D%0A%20%20%20%20%20%20%20%20%20%20%20%20%29.addTo%28map_6184937c55404045a5d6b98ce157abe3%29%3B%0A%20%20%20%20%20%20%20%20%0A%20%20%20%20%0A%20%20%20%20%20%20%20%20%20%20%20%20var%20icon_b3bb383fa6e046aab0b9415e50ddb1e2%20%3D%20L.AwesomeMarkers.icon%28%0A%20%20%20%20%20%20%20%20%20%20%20%20%20%20%20%20%7B%22extraClasses%22%3A%20%22fa-rotate-0%22%2C%20%22icon%22%3A%20%22info-sign%22%2C%20%22iconColor%22%3A%20%22white%22%2C%20%22markerColor%22%3A%20%22red%22%2C%20%22prefix%22%3A%20%22glyphicon%22%7D%0A%20%20%20%20%20%20%20%20%20%20%20%20%29%3B%0A%20%20%20%20%20%20%20%20%20%20%20%20marker_45feb50c25454cccab52f9ca108648e9.setIcon%28icon_b3bb383fa6e046aab0b9415e50ddb1e2%29%3B%0A%20%20%20%20%20%20%20%20%0A%20%20%20%20%0A%20%20%20%20%20%20%20%20%20%20%20%20marker_45feb50c25454cccab52f9ca108648e9.bindTooltip%28%0A%20%20%20%20%20%20%20%20%20%20%20%20%20%20%20%20%60%3Cdiv%3E%0A%20%20%20%20%20%20%20%20%20%20%20%20%20%20%20%20%20%20%20%20%20%5Bfarm1%5D%20%E7%94%A8%E9%9B%BB5587.496%E5%BA%A6%0A%20%E9%9B%BB%E5%A3%93%28236.291%2C234.245%2C238.247%29%20%E9%9B%BB%E6%B5%81%282.282%2C2.330%2C2.177%29%0A%20%20%20%20%20%20%20%20%20%20%20%20%20%20%20%20%20%3C/div%3E%60%2C%0A%20%20%20%20%20%20%20%20%20%20%20%20%20%20%20%20%7B%22sticky%22%3A%20true%7D%0A%20%20%20%20%20%20%20%20%20%20%20%20%29%3B%0A%20%20%20%20%20%20%20%20%0A%20%20%20%20%0A%20%20%20%20%20%20%20%20%20%20%20%20var%20marker_ca41d3f22e344b89b8ba1425317146c2%20%3D%20L.marker%28%0A%20%20%20%20%20%20%20%20%20%20%20%20%20%20%20%20%5B23.6611758%2C%20120.161289%5D%2C%0A%20%20%20%20%20%20%20%20%20%20%20%20%20%20%20%20%7B%7D%0A%20%20%20%20%20%20%20%20%20%20%20%20%29.addTo%28map_6184937c55404045a5d6b98ce157abe3%29%3B%0A%20%20%20%20%20%20%20%20%0A%20%20%20%20%0A%20%20%20%20%20%20%20%20%20%20%20%20var%20icon_4b717f71059f4f5aa830da918ddfd164%20%3D%20L.AwesomeMarkers.icon%28%0A%20%20%20%20%20%20%20%20%20%20%20%20%20%20%20%20%7B%22extraClasses%22%3A%20%22fa-rotate-0%22%2C%20%22icon%22%3A%20%22info-sign%22%2C%20%22iconColor%22%3A%20%22white%22%2C%20%22markerColor%22%3A%20%22blue%22%2C%20%22prefix%22%3A%20%22glyphicon%22%7D%0A%20%20%20%20%20%20%20%20%20%20%20%20%29%3B%0A%20%20%20%20%20%20%20%20%20%20%20%20marker_ca41d3f22e344b89b8ba1425317146c2.setIcon%28icon_4b717f71059f4f5aa830da918ddfd164%29%3B%0A%20%20%20%20%20%20%20%20%0A%20%20%20%20%0A%20%20%20%20%20%20%20%20%20%20%20%20marker_ca41d3f22e344b89b8ba1425317146c2.bindTooltip%28%0A%20%20%20%20%20%20%20%20%20%20%20%20%20%20%20%20%60%3Cdiv%3E%0A%20%20%20%20%20%20%20%20%20%20%20%20%20%20%20%20%20%20%20%20%20%5Bfarm2%5D%20%E7%94%A8%E9%9B%BB18707.470%E5%BA%A6%0A%20%E9%9B%BB%E5%A3%93%28231.012%2C234.762%2C235.971%29%20%E9%9B%BB%E6%B5%81%2824.033%2C25.399%2C25.046%29%0A%20%20%20%20%20%20%20%20%20%20%20%20%20%20%20%20%20%3C/div%3E%60%2C%0A%20%20%20%20%20%20%20%20%20%20%20%20%20%20%20%20%7B%22sticky%22%3A%20true%7D%0A%20%20%20%20%20%20%20%20%20%20%20%20%29%3B%0A%20%20%20%20%20%20%20%20%0A%20%20%20%20%0A%20%20%20%20%20%20%20%20%20%20%20%20var%20marker_0d99533e51e344d0bcc6c00a9a19ffb0%20%3D%20L.marker%28%0A%20%20%20%20%20%20%20%20%20%20%20%20%20%20%20%20%5B23.6355644%2C%20120.1474287%5D%2C%0A%20%20%20%20%20%20%20%20%20%20%20%20%20%20%20%20%7B%7D%0A%20%20%20%20%20%20%20%20%20%20%20%20%29.addTo%28map_6184937c55404045a5d6b98ce157abe3%29%3B%0A%20%20%20%20%20%20%20%20%0A%20%20%20%20%0A%20%20%20%20%20%20%20%20%20%20%20%20var%20icon_239346e27370487ca67a8dcddd8b247f%20%3D%20L.AwesomeMarkers.icon%28%0A%20%20%20%20%20%20%20%20%20%20%20%20%20%20%20%20%7B%22extraClasses%22%3A%20%22fa-rotate-0%22%2C%20%22icon%22%3A%20%22info-sign%22%2C%20%22iconColor%22%3A%20%22white%22%2C%20%22markerColor%22%3A%20%22blue%22%2C%20%22prefix%22%3A%20%22glyphicon%22%7D%0A%20%20%20%20%20%20%20%20%20%20%20%20%29%3B%0A%20%20%20%20%20%20%20%20%20%20%20%20marker_0d99533e51e344d0bcc6c00a9a19ffb0.setIcon%28icon_239346e27370487ca67a8dcddd8b247f%29%3B%0A%20%20%20%20%20%20%20%20%0A%20%20%20%20%0A%20%20%20%20%20%20%20%20%20%20%20%20marker_0d99533e51e344d0bcc6c00a9a19ffb0.bindTooltip%28%0A%20%20%20%20%20%20%20%20%20%20%20%20%20%20%20%20%60%3Cdiv%3E%0A%20%20%20%20%20%20%20%20%20%20%20%20%20%20%20%20%20%20%20%20%20%5Bfarm3%5D%20%E7%94%A8%E9%9B%BB46493.040%E5%BA%A6%0A%20%E9%9B%BB%E5%A3%93%28137.670%2C134.013%2C136.509%29%20%E9%9B%BB%E6%B5%81%289.641%2C9.907%2C1.616%29%0A%20%20%20%20%20%20%20%20%20%20%20%20%20%20%20%20%20%3C/div%3E%60%2C%0A%20%20%20%20%20%20%20%20%20%20%20%20%20%20%20%20%7B%22sticky%22%3A%20true%7D%0A%20%20%20%20%20%20%20%20%20%20%20%20%29%3B%0A%20%20%20%20%20%20%20%20%0A%20%20%20%20%0A%20%20%20%20%20%20%20%20%20%20%20%20var%20marker_6f2d696df9034cde95b184333ac2f34c%20%3D%20L.marker%28%0A%20%20%20%20%20%20%20%20%20%20%20%20%20%20%20%20%5B23.6373534%2C%20120.169344%5D%2C%0A%20%20%20%20%20%20%20%20%20%20%20%20%20%20%20%20%7B%7D%0A%20%20%20%20%20%20%20%20%20%20%20%20%29.addTo%28map_6184937c55404045a5d6b98ce157abe3%29%3B%0A%20%20%20%20%20%20%20%20%0A%20%20%20%20%0A%20%20%20%20%20%20%20%20%20%20%20%20var%20icon_e74dc8f501074c948886a767a224e22d%20%3D%20L.AwesomeMarkers.icon%28%0A%20%20%20%20%20%20%20%20%20%20%20%20%20%20%20%20%7B%22extraClasses%22%3A%20%22fa-rotate-0%22%2C%20%22icon%22%3A%20%22info-sign%22%2C%20%22iconColor%22%3A%20%22white%22%2C%20%22markerColor%22%3A%20%22blue%22%2C%20%22prefix%22%3A%20%22glyphicon%22%7D%0A%20%20%20%20%20%20%20%20%20%20%20%20%29%3B%0A%20%20%20%20%20%20%20%20%20%20%20%20marker_6f2d696df9034cde95b184333ac2f34c.setIcon%28icon_e74dc8f501074c948886a767a224e22d%29%3B%0A%20%20%20%20%20%20%20%20%0A%20%20%20%20%0A%20%20%20%20%20%20%20%20%20%20%20%20marker_6f2d696df9034cde95b184333ac2f34c.bindTooltip%28%0A%20%20%20%20%20%20%20%20%20%20%20%20%20%20%20%20%60%3Cdiv%3E%0A%20%20%20%20%20%20%20%20%20%20%20%20%20%20%20%20%20%20%20%20%20%5Bfarm4%5D%20%E7%94%A8%E9%9B%BB14614.280%E5%BA%A6%0A%20%E9%9B%BB%E5%A3%93%28206.789%2C124.255%2C124.212%29%20%E9%9B%BB%E6%B5%81%280.109%2C0.000%2C0.325%29%0A%20%20%20%20%20%20%20%20%20%20%20%20%20%20%20%20%20%3C/div%3E%60%2C%0A%20%20%20%20%20%20%20%20%20%20%20%20%20%20%20%20%7B%22sticky%22%3A%20true%7D%0A%20%20%20%20%20%20%20%20%20%20%20%20%29%3B%0A%20%20%20%20%20%20%20%20%0A%20%20%20%20%0A%20%20%20%20%20%20%20%20%20%20%20%20var%20marker_8771214b45564646815684428bb44e75%20%3D%20L.marker%28%0A%20%20%20%20%20%20%20%20%20%20%20%20%20%20%20%20%5B23.6876348%2C%20120.2014575%5D%2C%0A%20%20%20%20%20%20%20%20%20%20%20%20%20%20%20%20%7B%7D%0A%20%20%20%20%20%20%20%20%20%20%20%20%29.addTo%28map_6184937c55404045a5d6b98ce157abe3%29%3B%0A%20%20%20%20%20%20%20%20%0A%20%20%20%20%0A%20%20%20%20%20%20%20%20%20%20%20%20var%20icon_72773b40abef461ea69bb0b6f8667b3a%20%3D%20L.AwesomeMarkers.icon%28%0A%20%20%20%20%20%20%20%20%20%20%20%20%20%20%20%20%7B%22extraClasses%22%3A%20%22fa-rotate-0%22%2C%20%22icon%22%3A%20%22info-sign%22%2C%20%22iconColor%22%3A%20%22white%22%2C%20%22markerColor%22%3A%20%22blue%22%2C%20%22prefix%22%3A%20%22glyphicon%22%7D%0A%20%20%20%20%20%20%20%20%20%20%20%20%29%3B%0A%20%20%20%20%20%20%20%20%20%20%20%20marker_8771214b45564646815684428bb44e75.setIcon%28icon_72773b40abef461ea69bb0b6f8667b3a%29%3B%0A%20%20%20%20%20%20%20%20%0A%20%20%20%20%0A%20%20%20%20%20%20%20%20%20%20%20%20marker_8771214b45564646815684428bb44e75.bindTooltip%28%0A%20%20%20%20%20%20%20%20%20%20%20%20%20%20%20%20%60%3Cdiv%3E%0A%20%20%20%20%20%20%20%20%20%20%20%20%20%20%20%20%20%20%20%20%20%5Bfarm5%5D%20%E7%94%A8%E9%9B%BB239.525%E5%BA%A6%0A%20%E9%9B%BB%E5%A3%93%28204.671%2C78.735%2C116.401%29%20%E9%9B%BB%E6%B5%81%280.033%2C0.000%2C0.211%29%0A%20%20%20%20%20%20%20%20%20%20%20%20%20%20%20%20%20%3C/div%3E%60%2C%0A%20%20%20%20%20%20%20%20%20%20%20%20%20%20%20%20%7B%22sticky%22%3A%20true%7D%0A%20%20%20%20%20%20%20%20%20%20%20%20%29%3B%0A%20%20%20%20%20%20%20%20%0A%3C/script%3E onload=\"this.contentDocument.open();this.contentDocument.write(    decodeURIComponent(this.getAttribute('data-html')));this.contentDocument.close();\" allowfullscreen webkitallowfullscreen mozallowfullscreen></iframe></div></div>"
      ],
      "text/plain": [
       "<folium.folium.Map at 0x275b1e497c0>"
      ]
     },
     "execution_count": 41,
     "metadata": {},
     "output_type": "execute_result"
    }
   ],
   "source": [
    "m"
   ]
  },
  {
   "cell_type": "markdown",
   "metadata": {},
   "source": [
    "----\n",
    "\n",
    "## Web API\n",
    "\n",
    "適合非即時性的應用\n",
    "\n",
    "----\n"
   ]
  },
  {
   "cell_type": "markdown",
   "metadata": {},
   "source": [
    "----\n",
    "\n",
    "### 運用 ThingSpeak收集資料\n",
    "\n",
    "- https://thingspeak.com/\n",
    "- 註冊登入後，於`https://thingspeak.com/channels`可以看到你的管理畫面\n",
    "- [文件](https://indico.cern.ch/event/654636/contributions/2834242/attachments/1636045/2610243/MATLAB_IoT_public.pdf)\n",
    "----"
   ]
  },
  {
   "cell_type": "code",
   "execution_count": 47,
   "metadata": {},
   "outputs": [],
   "source": [
    "# continue push data\n",
    "\n",
    "my_h = [60, 70, 60, 80, 75, 85]\n",
    "my_t = [25, 27, 28, 30, 28, 25]"
   ]
  },
  {
   "cell_type": "code",
   "execution_count": 48,
   "metadata": {},
   "outputs": [
    {
     "data": {
      "text/plain": [
       "6"
      ]
     },
     "execution_count": 48,
     "metadata": {},
     "output_type": "execute_result"
    }
   ],
   "source": [
    "len(my_t)"
   ]
  },
  {
   "cell_type": "code",
   "execution_count": 50,
   "metadata": {},
   "outputs": [
    {
     "name": "stdout",
     "output_type": "stream",
     "text": [
      "---- 0 ----\n",
      "H=60 %, T=25 degree\n",
      "<Response [200]>\n",
      "---- 1 ----\n",
      "H=70 %, T=27 degree\n",
      "<Response [200]>\n",
      "---- 2 ----\n",
      "H=60 %, T=28 degree\n",
      "<Response [200]>\n",
      "---- 3 ----\n",
      "H=80 %, T=30 degree\n",
      "<Response [200]>\n",
      "---- 4 ----\n",
      "H=75 %, T=28 degree\n",
      "<Response [200]>\n",
      "---- 5 ----\n",
      "H=85 %, T=25 degree\n",
      "<Response [200]>\n"
     ]
    }
   ],
   "source": [
    "import requests\n",
    "import time\n",
    "\n",
    "for i in range(len(my_t)):\n",
    "    \n",
    "    print('---- %s ----' %(i))\n",
    "    print('H=%s %%, T=%s degree' %(my_h[i], my_t[i]))\n",
    "    \n",
    "    # push data\n",
    "    # field1: T\n",
    "    # field2: H\n",
    "    url = 'https://api.thingspeak.com/update'\n",
    "    api_key = '1FRPKJGL975ZWPQP'\n",
    "    field1 = my_t[i]\n",
    "    field2 = my_h[i]\n",
    "    data = {'api_key': api_key, 'field1':field1, 'field2':field2}\n",
    "    r = requests.get(url, params=data)\n",
    "    print(r)\n",
    "    \n",
    "    time.sleep(15)\n",
    "    "
   ]
  },
  {
   "cell_type": "code",
   "execution_count": null,
   "metadata": {},
   "outputs": [],
   "source": []
  },
  {
   "cell_type": "code",
   "execution_count": 51,
   "metadata": {
    "scrolled": true
   },
   "outputs": [
    {
     "name": "stdout",
     "output_type": "stream",
     "text": [
      "Connected with result code 0\n",
      "(topic, value)=(KH20221202_IoT_Data_Science/farm1/a1, 0.406) @2022-12-24 14:37:01\n",
      "(topic, value)=(KH20221202_IoT_Data_Science/farm1/a2, 0.397) @2022-12-24 14:37:01\n",
      "(topic, value)=(KH20221202_IoT_Data_Science/farm1/a3, 0.037) @2022-12-24 14:37:01\n",
      "(topic, value)=(KH20221202_IoT_Data_Science/farm1/v1, 237.842) @2022-12-24 14:37:01\n",
      "(topic, value)=(KH20221202_IoT_Data_Science/farm1/v2, 237.394) @2022-12-24 14:37:01\n",
      "(topic, value)=(KH20221202_IoT_Data_Science/farm1/v3, 239.051) @2022-12-24 14:37:01\n",
      "(topic, value)=(KH20221202_IoT_Data_Science/farm2/a2, ) @2022-12-24 14:37:01\n",
      "read data exception:  local variable 'field1' referenced before assignment\n",
      "(topic, value)=(KH20221202_IoT_Data_Science/farm2/total_e, ) @2022-12-24 14:37:01\n",
      "read data exception:  local variable 'field1' referenced before assignment\n",
      "(topic, value)=(KH20221202_IoT_Data_Science/farm2/v1, ) @2022-12-24 14:37:01\n",
      "read data exception:  local variable 'field2' referenced before assignment\n",
      "(topic, value)=(KH20221202_IoT_Data_Science/farm2/v2, ) @2022-12-24 14:37:01\n",
      "read data exception:  local variable 'field1' referenced before assignment\n",
      "(topic, value)=(KH20221202_IoT_Data_Science/farm2/v3, ) @2022-12-24 14:37:01\n",
      "read data exception:  local variable 'field1' referenced before assignment\n",
      "(topic, value)=(KH20221202_IoT_Data_Science/farm3/a3, 11.820) @2022-12-24 14:37:01\n",
      "(topic, value)=(KH20221202_IoT_Data_Science/farm3/total_e, 46493.930) @2022-12-24 14:37:01\n",
      "(topic, value)=(KH20221202_IoT_Data_Science/farm3/v1, 133.389) @2022-12-24 14:37:01\n",
      "(topic, value)=(KH20221202_IoT_Data_Science/farm4/a2, 0.000) @2022-12-24 14:37:01\n",
      "(topic, value)=(KH20221202_IoT_Data_Science/farm4/a3, 0.323) @2022-12-24 14:37:01\n",
      "(topic, value)=(KH20221202_IoT_Data_Science/farm4/total_e, 14614.340) @2022-12-24 14:37:01\n",
      "(topic, value)=(KH20221202_IoT_Data_Science/farm4/v1, 205.974) @2022-12-24 14:37:01\n",
      "(topic, value)=(KH20221202_IoT_Data_Science/farm4/v3, 123.869) @2022-12-24 14:37:01\n",
      "(topic, value)=(KH20221202_IoT_Data_Science/farm5/a1, 0.034) @2022-12-24 14:37:01\n",
      "(topic, value)=(KH20221202_IoT_Data_Science/farm5/a2, 0.000) @2022-12-24 14:37:01\n",
      "(topic, value)=(KH20221202_IoT_Data_Science/farm5/total_e, 239.548) @2022-12-24 14:37:01\n",
      "(topic, value)=(KH20221202_IoT_Data_Science/farm1/total_e, 5587.567) @2022-12-24 14:37:01\n",
      "(topic, value)=(KH20221202_IoT_Data_Science/farm5/a3, 0.198) @2022-12-24 14:37:01\n",
      "(topic, value)=(KH20221202_IoT_Data_Science/farm2/a1, ) @2022-12-24 14:37:01\n",
      "read data exception:  local variable 'field1' referenced before assignment\n",
      "(topic, value)=(KH20221202_IoT_Data_Science/farm2/a3, ) @2022-12-24 14:37:01\n",
      "read data exception:  local variable 'field1' referenced before assignment\n",
      "(topic, value)=(KH20221202_IoT_Data_Science/farm3/a2, 13.140) @2022-12-24 14:37:01\n",
      "(topic, value)=(KH20221202_IoT_Data_Science/farm4/a1, 0.108) @2022-12-24 14:37:01\n",
      "(topic, value)=(KH20221202_IoT_Data_Science/farm3/a1, 11.612) @2022-12-24 14:37:01\n",
      "(topic, value)=(KH20221202_IoT_Data_Science/farm3/v3, 132.349) @2022-12-24 14:37:01\n",
      "(topic, value)=(KH20221202_IoT_Data_Science/farm4/v2, 124.152) @2022-12-24 14:37:01\n",
      "(topic, value)=(KH20221202_IoT_Data_Science/farm3/v2, 132.206) @2022-12-24 14:37:01\n",
      "(topic, value)=(KH20221202_IoT_Data_Science/farm5/v1, 203.815) @2022-12-24 14:37:01\n",
      "(topic, value)=(KH20221202_IoT_Data_Science/farm5/v3, 117.421) @2022-12-24 14:37:01\n",
      "(topic, value)=(KH20221202_IoT_Data_Science/farm5/v2, 78.729) @2022-12-24 14:37:01\n",
      "(topic, value)=(KH20221202_IoT_Data_Science/farm1/a1, 0.406) @2022-12-24 14:37:12\n",
      "(topic, value)=(KH20221202_IoT_Data_Science/farm1/a2, 0.397) @2022-12-24 14:37:12\n",
      "(topic, value)=(KH20221202_IoT_Data_Science/farm1/a3, 0.037) @2022-12-24 14:37:12\n",
      "(topic, value)=(KH20221202_IoT_Data_Science/farm1/v1, 237.842) @2022-12-24 14:37:12\n",
      "(topic, value)=(KH20221202_IoT_Data_Science/farm1/v2, 237.394) @2022-12-24 14:37:12\n",
      "(topic, value)=(KH20221202_IoT_Data_Science/farm1/v3, 239.051) @2022-12-24 14:37:12\n",
      "(topic, value)=(KH20221202_IoT_Data_Science/farm2/a2, ) @2022-12-24 14:37:12\n",
      "read data exception:  local variable 'field1' referenced before assignment\n",
      "(topic, value)=(KH20221202_IoT_Data_Science/farm2/total_e, ) @2022-12-24 14:37:12\n",
      "read data exception:  local variable 'field1' referenced before assignment\n",
      "(topic, value)=(KH20221202_IoT_Data_Science/farm2/v1, ) @2022-12-24 14:37:12\n",
      "read data exception:  local variable 'field2' referenced before assignment\n",
      "(topic, value)=(KH20221202_IoT_Data_Science/farm2/v2, ) @2022-12-24 14:37:12\n",
      "read data exception:  local variable 'field1' referenced before assignment\n",
      "(topic, value)=(KH20221202_IoT_Data_Science/farm2/v3, ) @2022-12-24 14:37:12\n",
      "read data exception:  local variable 'field1' referenced before assignment\n",
      "(topic, value)=(KH20221202_IoT_Data_Science/farm3/a3, 11.946) @2022-12-24 14:37:12\n",
      "(topic, value)=(KH20221202_IoT_Data_Science/farm3/total_e, 46493.940) @2022-12-24 14:37:12\n",
      "(topic, value)=(KH20221202_IoT_Data_Science/farm3/v1, 132.991) @2022-12-24 14:37:12\n",
      "(topic, value)=(KH20221202_IoT_Data_Science/farm4/a2, 0.000) @2022-12-24 14:37:12\n",
      "(topic, value)=(KH20221202_IoT_Data_Science/farm4/a3, 0.321) @2022-12-24 14:37:12\n",
      "(topic, value)=(KH20221202_IoT_Data_Science/farm4/total_e, 14614.340) @2022-12-24 14:37:12\n",
      "(topic, value)=(KH20221202_IoT_Data_Science/farm4/v1, 205.589) @2022-12-24 14:37:12\n",
      "(topic, value)=(KH20221202_IoT_Data_Science/farm4/v3, 123.855) @2022-12-24 14:37:12\n",
      "(topic, value)=(KH20221202_IoT_Data_Science/farm5/a1, 0.033) @2022-12-24 14:37:12\n",
      "(topic, value)=(KH20221202_IoT_Data_Science/farm5/a2, 0.000) @2022-12-24 14:37:12\n",
      "(topic, value)=(KH20221202_IoT_Data_Science/farm5/total_e, 239.548) @2022-12-24 14:37:12\n",
      "(topic, value)=(KH20221202_IoT_Data_Science/farm4/v2, 124.109) @2022-12-24 14:37:12\n",
      "(topic, value)=(KH20221202_IoT_Data_Science/farm3/a2, 13.222) @2022-12-24 14:37:12\n",
      "(topic, value)=(KH20221202_IoT_Data_Science/farm3/v2, 132.049) @2022-12-24 14:37:12\n",
      "(topic, value)=(KH20221202_IoT_Data_Science/farm4/a1, 0.107) @2022-12-24 14:37:12\n",
      "(topic, value)=(KH20221202_IoT_Data_Science/farm2/a1, ) @2022-12-24 14:37:12\n",
      "read data exception:  local variable 'field1' referenced before assignment\n",
      "(topic, value)=(KH20221202_IoT_Data_Science/farm2/a3, ) @2022-12-24 14:37:12\n",
      "read data exception:  local variable 'field1' referenced before assignment\n",
      "(topic, value)=(KH20221202_IoT_Data_Science/farm3/a1, 11.541) @2022-12-24 14:37:12\n",
      "(topic, value)=(KH20221202_IoT_Data_Science/farm1/total_e, 5587.567) @2022-12-24 14:37:12\n",
      "(topic, value)=(KH20221202_IoT_Data_Science/farm3/v3, 132.140) @2022-12-24 14:37:12\n",
      "(topic, value)=(KH20221202_IoT_Data_Science/farm5/a3, 0.201) @2022-12-24 14:37:12\n",
      "(topic, value)=(KH20221202_IoT_Data_Science/farm5/v1, 204.048) @2022-12-24 14:37:12\n",
      "(topic, value)=(KH20221202_IoT_Data_Science/farm5/v2, 78.776) @2022-12-24 14:37:12\n",
      "(topic, value)=(KH20221202_IoT_Data_Science/farm5/v3, 117.316) @2022-12-24 14:37:12\n",
      "(topic, value)=(KH20221202_IoT_Data_Science/farm1/a1, 0.406) @2022-12-24 14:37:22\n",
      "(topic, value)=(KH20221202_IoT_Data_Science/farm1/a2, 0.397) @2022-12-24 14:37:22\n",
      "(topic, value)=(KH20221202_IoT_Data_Science/farm1/a3, 0.037) @2022-12-24 14:37:22\n",
      "(topic, value)=(KH20221202_IoT_Data_Science/farm1/v1, 237.842) @2022-12-24 14:37:22\n",
      "(topic, value)=(KH20221202_IoT_Data_Science/farm1/v2, 237.394) @2022-12-24 14:37:22\n",
      "(topic, value)=(KH20221202_IoT_Data_Science/farm1/v3, 239.051) @2022-12-24 14:37:22\n",
      "(topic, value)=(KH20221202_IoT_Data_Science/farm2/a2, ) @2022-12-24 14:37:22\n",
      "read data exception:  local variable 'field1' referenced before assignment\n",
      "(topic, value)=(KH20221202_IoT_Data_Science/farm2/total_e, ) @2022-12-24 14:37:22\n",
      "read data exception:  local variable 'field1' referenced before assignment\n",
      "(topic, value)=(KH20221202_IoT_Data_Science/farm2/v1, ) @2022-12-24 14:37:22\n",
      "read data exception:  local variable 'field2' referenced before assignment\n",
      "(topic, value)=(KH20221202_IoT_Data_Science/farm2/v2, ) @2022-12-24 14:37:22\n",
      "read data exception:  local variable 'field1' referenced before assignment\n",
      "(topic, value)=(KH20221202_IoT_Data_Science/farm2/v3, ) @2022-12-24 14:37:22\n",
      "read data exception:  local variable 'field1' referenced before assignment\n",
      "(topic, value)=(KH20221202_IoT_Data_Science/farm3/a3, 12.010) @2022-12-24 14:37:22\n",
      "(topic, value)=(KH20221202_IoT_Data_Science/farm3/total_e, 46493.950) @2022-12-24 14:37:22\n",
      "(topic, value)=(KH20221202_IoT_Data_Science/farm3/v1, 133.108) @2022-12-24 14:37:22\n",
      "(topic, value)=(KH20221202_IoT_Data_Science/farm4/a2, 0.000) @2022-12-24 14:37:22\n",
      "(topic, value)=(KH20221202_IoT_Data_Science/farm4/a3, 0.323) @2022-12-24 14:37:22\n",
      "(topic, value)=(KH20221202_IoT_Data_Science/farm4/total_e, 14614.340) @2022-12-24 14:37:22\n",
      "(topic, value)=(KH20221202_IoT_Data_Science/farm4/v1, 205.260) @2022-12-24 14:37:22\n",
      "(topic, value)=(KH20221202_IoT_Data_Science/farm4/v3, 123.580) @2022-12-24 14:37:22\n",
      "(topic, value)=(KH20221202_IoT_Data_Science/farm5/a1, 0.033) @2022-12-24 14:37:22\n",
      "(topic, value)=(KH20221202_IoT_Data_Science/farm5/a2, 0.000) @2022-12-24 14:37:22\n",
      "(topic, value)=(KH20221202_IoT_Data_Science/farm5/total_e, 239.548) @2022-12-24 14:37:22\n",
      "(topic, value)=(KH20221202_IoT_Data_Science/farm5/a3, 0.202) @2022-12-24 14:37:22\n",
      "(topic, value)=(KH20221202_IoT_Data_Science/farm1/total_e, 5587.567) @2022-12-24 14:37:22\n",
      "(topic, value)=(KH20221202_IoT_Data_Science/farm2/a3, ) @2022-12-24 14:37:22\n",
      "read data exception:  local variable 'field1' referenced before assignment\n",
      "(topic, value)=(KH20221202_IoT_Data_Science/farm3/a1, 11.756) @2022-12-24 14:37:22\n",
      "(topic, value)=(KH20221202_IoT_Data_Science/farm3/v3, 132.122) @2022-12-24 14:37:22\n",
      "(topic, value)=(KH20221202_IoT_Data_Science/farm4/v2, 123.851) @2022-12-24 14:37:22\n",
      "(topic, value)=(KH20221202_IoT_Data_Science/farm3/a2, 13.328) @2022-12-24 14:37:22\n",
      "(topic, value)=(KH20221202_IoT_Data_Science/farm4/a1, 0.109) @2022-12-24 14:37:22\n",
      "(topic, value)=(KH20221202_IoT_Data_Science/farm2/a1, ) @2022-12-24 14:37:22\n",
      "read data exception:  local variable 'field1' referenced before assignment\n",
      "(topic, value)=(KH20221202_IoT_Data_Science/farm3/v2, 132.050) @2022-12-24 14:37:22\n",
      "(topic, value)=(KH20221202_IoT_Data_Science/farm5/v1, 203.915) @2022-12-24 14:37:22\n",
      "(topic, value)=(KH20221202_IoT_Data_Science/farm5/v3, 117.333) @2022-12-24 14:37:22\n"
     ]
    },
    {
     "name": "stdout",
     "output_type": "stream",
     "text": [
      "(topic, value)=(KH20221202_IoT_Data_Science/farm5/v2, 78.715) @2022-12-24 14:37:22\n",
      "(topic, value)=(KH20221202_IoT_Data_Science/farm1/a1, 0.407) @2022-12-24 14:37:32\n",
      "(topic, value)=(KH20221202_IoT_Data_Science/farm1/a2, 0.399) @2022-12-24 14:37:32\n",
      "(topic, value)=(KH20221202_IoT_Data_Science/farm1/a3, 0.038) @2022-12-24 14:37:32\n",
      "(topic, value)=(KH20221202_IoT_Data_Science/farm1/v1, 237.594) @2022-12-24 14:37:32\n",
      "(topic, value)=(KH20221202_IoT_Data_Science/farm1/v2, 237.283) @2022-12-24 14:37:32\n",
      "(topic, value)=(KH20221202_IoT_Data_Science/farm1/v3, 238.659) @2022-12-24 14:37:32\n",
      "(topic, value)=(KH20221202_IoT_Data_Science/farm2/a2, ) @2022-12-24 14:37:32\n",
      "read data exception:  local variable 'field1' referenced before assignment\n",
      "(topic, value)=(KH20221202_IoT_Data_Science/farm2/total_e, ) @2022-12-24 14:37:32\n",
      "read data exception:  local variable 'field1' referenced before assignment\n",
      "(topic, value)=(KH20221202_IoT_Data_Science/farm2/v1, ) @2022-12-24 14:37:32\n",
      "read data exception:  local variable 'field2' referenced before assignment\n",
      "(topic, value)=(KH20221202_IoT_Data_Science/farm2/v2, ) @2022-12-24 14:37:32\n",
      "read data exception:  local variable 'field1' referenced before assignment\n",
      "(topic, value)=(KH20221202_IoT_Data_Science/farm2/v3, ) @2022-12-24 14:37:32\n",
      "read data exception:  local variable 'field1' referenced before assignment\n",
      "(topic, value)=(KH20221202_IoT_Data_Science/farm3/a3, 12.133) @2022-12-24 14:37:32\n",
      "(topic, value)=(KH20221202_IoT_Data_Science/farm3/total_e, 46493.960) @2022-12-24 14:37:32\n",
      "(topic, value)=(KH20221202_IoT_Data_Science/farm3/v1, 132.850) @2022-12-24 14:37:32\n",
      "(topic, value)=(KH20221202_IoT_Data_Science/farm4/a2, 0.000) @2022-12-24 14:37:32\n",
      "(topic, value)=(KH20221202_IoT_Data_Science/farm4/a3, 0.329) @2022-12-24 14:37:32\n",
      "(topic, value)=(KH20221202_IoT_Data_Science/farm4/total_e, 14614.340) @2022-12-24 14:37:32\n",
      "(topic, value)=(KH20221202_IoT_Data_Science/farm4/v1, 205.163) @2022-12-24 14:37:32\n",
      "(topic, value)=(KH20221202_IoT_Data_Science/farm4/v3, 123.633) @2022-12-24 14:37:32\n",
      "(topic, value)=(KH20221202_IoT_Data_Science/farm5/a1, 0.033) @2022-12-24 14:37:32\n",
      "(topic, value)=(KH20221202_IoT_Data_Science/farm5/a2, 0.000) @2022-12-24 14:37:32\n",
      "(topic, value)=(KH20221202_IoT_Data_Science/farm5/total_e, 239.548) @2022-12-24 14:37:32\n",
      "(topic, value)=(KH20221202_IoT_Data_Science/farm2/a1, ) @2022-12-24 14:37:32\n",
      "read data exception:  local variable 'field1' referenced before assignment\n",
      "(topic, value)=(KH20221202_IoT_Data_Science/farm3/v3, 131.891) @2022-12-24 14:37:32\n",
      "(topic, value)=(KH20221202_IoT_Data_Science/farm4/v2, 123.913) @2022-12-24 14:37:32\n",
      "(topic, value)=(KH20221202_IoT_Data_Science/farm2/a3, ) @2022-12-24 14:37:32\n",
      "read data exception:  local variable 'field1' referenced before assignment\n",
      "(topic, value)=(KH20221202_IoT_Data_Science/farm3/v2, 131.902) @2022-12-24 14:37:32\n",
      "(topic, value)=(KH20221202_IoT_Data_Science/farm3/a1, 11.798) @2022-12-24 14:37:32\n",
      "(topic, value)=(KH20221202_IoT_Data_Science/farm3/a2, 13.488) @2022-12-24 14:37:32\n",
      "(topic, value)=(KH20221202_IoT_Data_Science/farm4/a1, 0.108) @2022-12-24 14:37:32\n",
      "(topic, value)=(KH20221202_IoT_Data_Science/farm5/a3, 0.199) @2022-12-24 14:37:32\n",
      "(topic, value)=(KH20221202_IoT_Data_Science/farm1/total_e, 5587.567) @2022-12-24 14:37:32\n",
      "(topic, value)=(KH20221202_IoT_Data_Science/farm5/v1, 203.687) @2022-12-24 14:37:33\n",
      "(topic, value)=(KH20221202_IoT_Data_Science/farm5/v3, 117.537) @2022-12-24 14:37:33\n",
      "(topic, value)=(KH20221202_IoT_Data_Science/farm5/v2, 78.590) @2022-12-24 14:37:33\n",
      "(topic, value)=(KH20221202_IoT_Data_Science/farm1/a1, 0.407) @2022-12-24 14:37:43\n",
      "(topic, value)=(KH20221202_IoT_Data_Science/farm1/a2, 0.399) @2022-12-24 14:37:43\n",
      "(topic, value)=(KH20221202_IoT_Data_Science/farm1/a3, 0.038) @2022-12-24 14:37:43\n",
      "(topic, value)=(KH20221202_IoT_Data_Science/farm1/v1, 237.594) @2022-12-24 14:37:43\n",
      "(topic, value)=(KH20221202_IoT_Data_Science/farm1/v2, 237.283) @2022-12-24 14:37:43\n",
      "(topic, value)=(KH20221202_IoT_Data_Science/farm1/v3, 238.659) @2022-12-24 14:37:43\n",
      "(topic, value)=(KH20221202_IoT_Data_Science/farm2/a2, ) @2022-12-24 14:37:43\n",
      "read data exception:  local variable 'field1' referenced before assignment\n",
      "(topic, value)=(KH20221202_IoT_Data_Science/farm2/total_e, ) @2022-12-24 14:37:43\n",
      "read data exception:  local variable 'field1' referenced before assignment\n",
      "(topic, value)=(KH20221202_IoT_Data_Science/farm2/v1, ) @2022-12-24 14:37:43\n",
      "read data exception:  local variable 'field2' referenced before assignment\n",
      "(topic, value)=(KH20221202_IoT_Data_Science/farm2/v2, ) @2022-12-24 14:37:43\n",
      "read data exception:  local variable 'field1' referenced before assignment\n",
      "(topic, value)=(KH20221202_IoT_Data_Science/farm2/v3, ) @2022-12-24 14:37:43\n",
      "read data exception:  local variable 'field1' referenced before assignment\n",
      "(topic, value)=(KH20221202_IoT_Data_Science/farm3/a3, 12.242) @2022-12-24 14:37:43\n",
      "(topic, value)=(KH20221202_IoT_Data_Science/farm3/total_e, 46493.970) @2022-12-24 14:37:43\n",
      "(topic, value)=(KH20221202_IoT_Data_Science/farm3/v1, 132.903) @2022-12-24 14:37:43\n",
      "(topic, value)=(KH20221202_IoT_Data_Science/farm4/a2, 0.000) @2022-12-24 14:37:43\n",
      "(topic, value)=(KH20221202_IoT_Data_Science/farm4/a3, 0.320) @2022-12-24 14:37:43\n",
      "(topic, value)=(KH20221202_IoT_Data_Science/farm4/total_e, 14614.340) @2022-12-24 14:37:43\n",
      "(topic, value)=(KH20221202_IoT_Data_Science/farm4/v1, 205.294) @2022-12-24 14:37:43\n",
      "(topic, value)=(KH20221202_IoT_Data_Science/farm4/v3, 123.588) @2022-12-24 14:37:43\n",
      "(topic, value)=(KH20221202_IoT_Data_Science/farm5/a1, 0.033) @2022-12-24 14:37:43\n",
      "(topic, value)=(KH20221202_IoT_Data_Science/farm5/a2, 0.000) @2022-12-24 14:37:43\n",
      "(topic, value)=(KH20221202_IoT_Data_Science/farm5/total_e, 239.548) @2022-12-24 14:37:43\n",
      "(topic, value)=(KH20221202_IoT_Data_Science/farm1/total_e, 5587.567) @2022-12-24 14:37:43\n",
      "(topic, value)=(KH20221202_IoT_Data_Science/farm2/a3, ) @2022-12-24 14:37:43\n",
      "read data exception:  local variable 'field1' referenced before assignment\n",
      "(topic, value)=(KH20221202_IoT_Data_Science/farm5/a3, 0.198) @2022-12-24 14:37:43\n",
      "(topic, value)=(KH20221202_IoT_Data_Science/farm3/a1, 11.838) @2022-12-24 14:37:43\n",
      "(topic, value)=(KH20221202_IoT_Data_Science/farm3/a2, 13.553) @2022-12-24 14:37:43\n",
      "(topic, value)=(KH20221202_IoT_Data_Science/farm4/a1, 0.107) @2022-12-24 14:37:43\n",
      "(topic, value)=(KH20221202_IoT_Data_Science/farm3/v2, 132.014) @2022-12-24 14:37:43\n",
      "(topic, value)=(KH20221202_IoT_Data_Science/farm2/a1, ) @2022-12-24 14:37:43\n",
      "read data exception:  local variable 'field1' referenced before assignment\n",
      "(topic, value)=(KH20221202_IoT_Data_Science/farm4/v2, 124.211) @2022-12-24 14:37:43\n",
      "(topic, value)=(KH20221202_IoT_Data_Science/farm3/v3, 132.008) @2022-12-24 14:37:43\n",
      "(topic, value)=(KH20221202_IoT_Data_Science/farm5/v1, 204.305) @2022-12-24 14:37:43\n",
      "(topic, value)=(KH20221202_IoT_Data_Science/farm5/v2, 78.737) @2022-12-24 14:37:43\n",
      "(topic, value)=(KH20221202_IoT_Data_Science/farm5/v3, 117.660) @2022-12-24 14:37:43\n"
     ]
    }
   ],
   "source": [
    "import paho.mqtt.client as mqtt\n",
    "import time, json, datetime, sys, os\n",
    "\n",
    "farm_data = {'farm1':{},\n",
    "            'farm2':{},\n",
    "            'farm3':{},\n",
    "            'farm4':{},\n",
    "            'farm5':{},\n",
    "            }\n",
    "field1 = None\n",
    "field2 = None\n",
    "field3 = None\n",
    "#==================\n",
    "#== MQTT Functions\n",
    "\n",
    "# 當地端程式連線伺服器得到回應時，要做的動作\n",
    "def on_connect(client, userdata, flags, rc):\n",
    "    print(\"Connected with result code \"+str(rc))\n",
    "    # 將訂閱主題寫在on_connet中\n",
    "    # 如果我們失去連線或重新連線時 \n",
    "    # 地端程式將會重新訂閱\n",
    "    client.subscribe('KH20221202_IoT_Data_Science/#')\n",
    "    \n",
    "\n",
    "# 當接收到從伺服器發送的訊息時要進行的動作\n",
    "def on_message(client, userdata, msg):\n",
    "    # 轉換編碼utf-8才看得懂中文\n",
    "    try:\n",
    "        topic = msg.topic\n",
    "        value = msg.payload.decode('utf-8')\n",
    "        dtime = time.strftime(\"%Y-%m-%d %H:%M:%S\", time.localtime())\n",
    "        print('(topic, value)=(%s, %s) @%s' %(topic, value, dtime))\n",
    "        \n",
    "        items = topic.split('/') #KH20221202_IoT_Data_Science/farm5/v3 -> [KH20221202_IoT_Data_Science, farm5, v3]\n",
    "        farm_id = items[1]\n",
    "        farm_sensor = items[2]\n",
    "        farm_data[farm_id][farm_sensor] = value\n",
    "        \n",
    "        # push data to thingSpeak\n",
    "        # 5TG299PV5MM0P3H4\n",
    "        if farm_id == 'farm2':\n",
    "            url = 'https://api.thingspeak.com/update'\n",
    "            api_key = '5TG299PV5MM0P3H4'\n",
    "            if farm_sensor == 'v1':\n",
    "                field1 = value\n",
    "            if farm_sensor == 'v2':\n",
    "                field2 = value\n",
    "            if farm_sensor == 'v3':\n",
    "                field3 = value\n",
    "            if (field1 != None) and (field2 != None) and (field3 != None):\n",
    "                data = {'api_key': api_key, 'field1':field1, 'field2':field2, 'field2':field2}\n",
    "                r = requests.get(url, params=data)\n",
    "                print(r)\n",
    "        \n",
    "    except Exception as e:\n",
    "        print('read data exception: ', str(e))\n",
    "\n",
    "def run_mqtt():\n",
    "    try:\n",
    "        # 連線設定\n",
    "        # 初始化地端程式\n",
    "        client = mqtt.Client()\n",
    "\n",
    "        # 設定連線的動作\n",
    "        client.on_connect = on_connect\n",
    "\n",
    "        # 設定接收訊息的動作\n",
    "        client.on_message = on_message\n",
    "\n",
    "        # 設定登入帳號密碼\n",
    "        #client.username_pw_set(\"try\",\"xxxx\")\n",
    "\n",
    "        # 設定連線資訊(IP, Port, 連線時間)\n",
    "        client.connect(\"broker.hivemq.com\", 1883, 60)\n",
    "\n",
    "        # 開始連線，執行設定的動作和處理重新連線問題\n",
    "        # 也可以手動使用其他loop函式來進行連接\n",
    "        #client.loop_forever()\n",
    "        client.loop_start()    #start the loop\n",
    "\n",
    "        time.sleep(50)\n",
    "\n",
    "        client.disconnect() # disconnect gracefully\n",
    "        client.loop_stop() # stops network loop\n",
    "        \n",
    "    except Exception as e:\n",
    "        print('run mqtt error: ', str(e))\n",
    "\n",
    "run_mqtt()\n"
   ]
  },
  {
   "cell_type": "code",
   "execution_count": null,
   "metadata": {},
   "outputs": [],
   "source": []
  }
 ],
 "metadata": {
  "kernelspec": {
   "display_name": "Python 3 (ipykernel)",
   "language": "python",
   "name": "python3"
  },
  "language_info": {
   "codemirror_mode": {
    "name": "ipython",
    "version": 3
   },
   "file_extension": ".py",
   "mimetype": "text/x-python",
   "name": "python",
   "nbconvert_exporter": "python",
   "pygments_lexer": "ipython3",
   "version": "3.9.7"
  }
 },
 "nbformat": 4,
 "nbformat_minor": 4
}
