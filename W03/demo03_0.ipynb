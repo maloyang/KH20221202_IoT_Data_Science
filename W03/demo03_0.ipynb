{
 "cells": [
  {
   "cell_type": "markdown",
   "metadata": {},
   "source": [
    "# Python基本語法練習2：JSON資料型態"
   ]
  },
  {
   "cell_type": "markdown",
   "metadata": {},
   "source": [
    "### JSON資料\n",
    "\n",
    "- https://zh.wikipedia.org/zh-tw/JSON\n",
    "\n",
    "```\n",
    "{\"time\":\"2020-07-01\", \"data\": [1, 2, 3, 4, 5]}\n",
    "```"
   ]
  },
  {
   "cell_type": "markdown",
   "metadata": {},
   "source": [
    "### 空氣品質應用\n",
    "- 資料來源：https://data.gov.tw/dataset/40448\n",
    "\n",
    "\n",
    "### JSON格式初探\n",
    "- https://zh.wikipedia.org/zh-tw/JSON"
   ]
  },
  {
   "cell_type": "code",
   "execution_count": 1,
   "metadata": {},
   "outputs": [],
   "source": [
    "import requests"
   ]
  },
  {
   "cell_type": "code",
   "execution_count": 2,
   "metadata": {},
   "outputs": [],
   "source": [
    "#url = 'http://opendata.epa.gov.tw/ws/Data/AQI/?$format=json' # 已失效\n",
    "url = 'https://data.epa.gov.tw/api/v2/aqx_p_432?api_key=e8dd42e6-9b8b-43f8-991e-b3dee723a52d&limit=1000&sort=ImportDate%20desc&format=JSON'"
   ]
  },
  {
   "cell_type": "code",
   "execution_count": 3,
   "metadata": {},
   "outputs": [],
   "source": [
    "r = requests.get(url)"
   ]
  },
  {
   "cell_type": "code",
   "execution_count": 4,
   "metadata": {},
   "outputs": [
    {
     "data": {
      "text/plain": [
       "<Response [200]>"
      ]
     },
     "execution_count": 4,
     "metadata": {},
     "output_type": "execute_result"
    }
   ],
   "source": [
    "r"
   ]
  },
  {
   "cell_type": "code",
   "execution_count": 5,
   "metadata": {},
   "outputs": [],
   "source": [
    "data = r.json()"
   ]
  },
  {
   "cell_type": "code",
   "execution_count": 6,
   "metadata": {},
   "outputs": [
    {
     "data": {
      "text/plain": [
       "{'SiteName': '屏東(建興)',\n",
       " 'County': '屏東縣',\n",
       " 'AQI': '33',\n",
       " 'Pollutant': '',\n",
       " 'Status': '良好',\n",
       " 'SO2': '0.7',\n",
       " 'CO': '0.13',\n",
       " 'CO_8hr': '0.1',\n",
       " 'O3': '36.8',\n",
       " 'O3_8hr': '36',\n",
       " 'PM10': '14',\n",
       " 'PM2.5': '6',\n",
       " 'NO2': '1.4',\n",
       " 'NOx': '1.8',\n",
       " 'NO': '0.4',\n",
       " 'WindSpeed': '1.2',\n",
       " 'WindDirec': '286',\n",
       " 'PublishTime': '2021/09/19 16:00:00',\n",
       " 'PM2.5_AVG': '8',\n",
       " 'PM10_AVG': '16',\n",
       " 'SO2_AVG': '0',\n",
       " 'Longitude': '121.00379167',\n",
       " 'Latitude': '22.650525',\n",
       " 'SiteId': '313'}"
      ]
     },
     "execution_count": 6,
     "metadata": {},
     "output_type": "execute_result"
    }
   ],
   "source": [
    "data[0]"
   ]
  },
  {
   "cell_type": "code",
   "execution_count": 7,
   "metadata": {},
   "outputs": [
    {
     "name": "stdout",
     "output_type": "stream",
     "text": [
      "高雄市 高雄(湖內) 22\n",
      "高雄市 復興 15\n",
      "高雄市 小港 21\n",
      "高雄市 前鎮 14\n",
      "高雄市 前金 14\n",
      "高雄市 左營 12\n",
      "高雄市 楠梓 14\n",
      "高雄市 林園 14\n",
      "高雄市 大寮 33\n",
      "高雄市 鳳山 23\n",
      "高雄市 仁武 20\n",
      "高雄市 橋頭 17\n",
      "高雄市 美濃 21\n"
     ]
    }
   ],
   "source": [
    "for item in data:\n",
    "    if item['County']=='高雄市':\n",
    "        print(item['County'], item['SiteName'], item['PM2.5'])"
   ]
  },
  {
   "cell_type": "markdown",
   "metadata": {},
   "source": [
    "- 小試身手: 把高雄站點的AQI, 硫化物, 還有GPS座標印出來"
   ]
  },
  {
   "cell_type": "code",
   "execution_count": null,
   "metadata": {},
   "outputs": [],
   "source": [
    "# 把程式填入這邊\n",
    "\n"
   ]
  },
  {
   "cell_type": "markdown",
   "metadata": {},
   "source": [
    "### 進一步找出 全台有超標的站，並列出來\n",
    "- AQI 是否超標，請參照以下的資訊\n",
    "- ref: https://airtw.epa.gov.tw/CHT/Information/Standard/AirQualityIndicator.aspx"
   ]
  },
  {
   "cell_type": "code",
   "execution_count": null,
   "metadata": {},
   "outputs": [],
   "source": [
    "# 把程式填入這邊\n",
    "\n"
   ]
  },
  {
   "cell_type": "markdown",
   "metadata": {},
   "source": [
    "### 在地圖上把所有的站畫出來"
   ]
  },
  {
   "cell_type": "code",
   "execution_count": null,
   "metadata": {},
   "outputs": [],
   "source": [
    "# 把程式填入這邊\n",
    "\n"
   ]
  },
  {
   "cell_type": "markdown",
   "metadata": {},
   "source": [
    "### 畫出地圖，並且把超標的畫紅色、沒超標的畫綠色"
   ]
  },
  {
   "cell_type": "code",
   "execution_count": null,
   "metadata": {},
   "outputs": [],
   "source": [
    "# 把程式填入這邊\n",
    "\n"
   ]
  },
  {
   "cell_type": "markdown",
   "metadata": {},
   "source": [
    "### 把成果下載下來欣賞"
   ]
  },
  {
   "cell_type": "code",
   "execution_count": null,
   "metadata": {},
   "outputs": [],
   "source": [
    "# 寫下你的程式\n",
    "\n"
   ]
  }
 ],
 "metadata": {
  "kernelspec": {
   "display_name": "Python 3 (ipykernel)",
   "language": "python",
   "name": "python3"
  },
  "language_info": {
   "codemirror_mode": {
    "name": "ipython",
    "version": 3
   },
   "file_extension": ".py",
   "mimetype": "text/x-python",
   "name": "python",
   "nbconvert_exporter": "python",
   "pygments_lexer": "ipython3",
   "version": "3.9.7"
  }
 },
 "nbformat": 4,
 "nbformat_minor": 2
}
