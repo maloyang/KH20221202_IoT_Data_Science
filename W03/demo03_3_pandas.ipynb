{
 "cells": [
  {
   "cell_type": "markdown",
   "metadata": {},
   "source": [
    "## Pandas\n",
    "----\n",
    "- 常被使用來做資料整理、分析的套件\n",
    "- [user_guide](https://pandas.pydata.org/docs/user_guide/index.html)\n",
    "- [API Reference](https://pandas.pydata.org/pandas-docs/stable/reference/index.html)\n",
    "- [參考資料](https://github.com/victorgau/KHPY20180820)"
   ]
  },
  {
   "cell_type": "code",
   "execution_count": 1,
   "metadata": {},
   "outputs": [],
   "source": [
    "import pandas as pd"
   ]
  },
  {
   "cell_type": "code",
   "execution_count": 2,
   "metadata": {},
   "outputs": [],
   "source": [
    "%matplotlib inline # magic command\n",
    "\n",
    "import numpy as np\n",
    "from datetime import datetime"
   ]
  },
  {
   "cell_type": "code",
   "execution_count": 3,
   "metadata": {},
   "outputs": [
    {
     "data": {
      "text/plain": [
       "'1.3.4'"
      ]
     },
     "execution_count": 3,
     "metadata": {},
     "output_type": "execute_result"
    }
   ],
   "source": [
    "pd.__version__"
   ]
  },
  {
   "cell_type": "markdown",
   "metadata": {},
   "source": [
    "- Serial"
   ]
  },
  {
   "cell_type": "code",
   "execution_count": 4,
   "metadata": {},
   "outputs": [
    {
     "data": {
      "text/plain": [
       "0    1\n",
       "1    2\n",
       "2    3\n",
       "3    4\n",
       "4    5\n",
       "dtype: int64"
      ]
     },
     "execution_count": 4,
     "metadata": {},
     "output_type": "execute_result"
    }
   ],
   "source": [
    "s1 = pd.Series([1, 2, 3, 4, 5])\n",
    "s1"
   ]
  },
  {
   "cell_type": "code",
   "execution_count": 5,
   "metadata": {},
   "outputs": [
    {
     "data": {
      "text/plain": [
       "0    1\n",
       "1    2\n",
       "2    3\n",
       "3    4\n",
       "4    5\n",
       "dtype: int64"
      ]
     },
     "execution_count": 5,
     "metadata": {},
     "output_type": "execute_result"
    }
   ],
   "source": [
    "s2 = pd.Series([1, 2, 3, 4, 5])\n",
    "s2"
   ]
  },
  {
   "cell_type": "code",
   "execution_count": 6,
   "metadata": {},
   "outputs": [
    {
     "data": {
      "text/plain": [
       "0     2\n",
       "1     4\n",
       "2     6\n",
       "3     8\n",
       "4    10\n",
       "dtype: int64"
      ]
     },
     "execution_count": 6,
     "metadata": {},
     "output_type": "execute_result"
    }
   ],
   "source": [
    "s1+s2"
   ]
  },
  {
   "cell_type": "code",
   "execution_count": 7,
   "metadata": {},
   "outputs": [
    {
     "data": {
      "text/plain": [
       "[1, 2, 3, 4, 5, 1, 2, 3, 4, 5]"
      ]
     },
     "execution_count": 7,
     "metadata": {},
     "output_type": "execute_result"
    }
   ],
   "source": [
    "list1 = [1, 2, 3, 4, 5]\n",
    "list2 = [1, 2, 3, 4, 5]\n",
    "list1+list2"
   ]
  },
  {
   "cell_type": "markdown",
   "metadata": {},
   "source": [
    "- DataFrame"
   ]
  },
  {
   "cell_type": "code",
   "execution_count": 12,
   "metadata": {},
   "outputs": [],
   "source": [
    "data = np.random.randn(10, 4)"
   ]
  },
  {
   "cell_type": "code",
   "execution_count": 13,
   "metadata": {},
   "outputs": [
    {
     "data": {
      "text/plain": [
       "array([[ 0.83448056, -0.16202599, -0.07316051,  1.04957387],\n",
       "       [ 0.93412338,  0.17538524,  0.15878088,  0.17659501],\n",
       "       [-2.06070049, -0.17466464,  1.06251249, -0.92810595],\n",
       "       [-1.35260061, -0.7580282 , -0.07473656, -0.652427  ],\n",
       "       [-0.31637713, -0.54451152,  0.11253502,  0.74172236],\n",
       "       [-1.44363954, -0.30839906, -1.44032236, -1.14591048],\n",
       "       [ 1.33065285,  0.83288088, -1.42532628, -0.20725857],\n",
       "       [ 0.4481277 ,  0.27051951,  0.61679129,  1.56911986],\n",
       "       [ 0.29378927,  1.913522  ,  1.3216306 , -0.46175334],\n",
       "       [ 2.18036322,  0.185438  , -1.39075987,  1.80464495]])"
      ]
     },
     "execution_count": 13,
     "metadata": {},
     "output_type": "execute_result"
    }
   ],
   "source": [
    "data"
   ]
  },
  {
   "cell_type": "code",
   "execution_count": 14,
   "metadata": {},
   "outputs": [
    {
     "data": {
      "text/html": [
       "<div>\n",
       "<style scoped>\n",
       "    .dataframe tbody tr th:only-of-type {\n",
       "        vertical-align: middle;\n",
       "    }\n",
       "\n",
       "    .dataframe tbody tr th {\n",
       "        vertical-align: top;\n",
       "    }\n",
       "\n",
       "    .dataframe thead th {\n",
       "        text-align: right;\n",
       "    }\n",
       "</style>\n",
       "<table border=\"1\" class=\"dataframe\">\n",
       "  <thead>\n",
       "    <tr style=\"text-align: right;\">\n",
       "      <th></th>\n",
       "      <th>0</th>\n",
       "      <th>1</th>\n",
       "      <th>2</th>\n",
       "      <th>3</th>\n",
       "    </tr>\n",
       "  </thead>\n",
       "  <tbody>\n",
       "    <tr>\n",
       "      <th>0</th>\n",
       "      <td>0.834481</td>\n",
       "      <td>-0.162026</td>\n",
       "      <td>-0.073161</td>\n",
       "      <td>1.049574</td>\n",
       "    </tr>\n",
       "    <tr>\n",
       "      <th>1</th>\n",
       "      <td>0.934123</td>\n",
       "      <td>0.175385</td>\n",
       "      <td>0.158781</td>\n",
       "      <td>0.176595</td>\n",
       "    </tr>\n",
       "    <tr>\n",
       "      <th>2</th>\n",
       "      <td>-2.060700</td>\n",
       "      <td>-0.174665</td>\n",
       "      <td>1.062512</td>\n",
       "      <td>-0.928106</td>\n",
       "    </tr>\n",
       "    <tr>\n",
       "      <th>3</th>\n",
       "      <td>-1.352601</td>\n",
       "      <td>-0.758028</td>\n",
       "      <td>-0.074737</td>\n",
       "      <td>-0.652427</td>\n",
       "    </tr>\n",
       "    <tr>\n",
       "      <th>4</th>\n",
       "      <td>-0.316377</td>\n",
       "      <td>-0.544512</td>\n",
       "      <td>0.112535</td>\n",
       "      <td>0.741722</td>\n",
       "    </tr>\n",
       "    <tr>\n",
       "      <th>5</th>\n",
       "      <td>-1.443640</td>\n",
       "      <td>-0.308399</td>\n",
       "      <td>-1.440322</td>\n",
       "      <td>-1.145910</td>\n",
       "    </tr>\n",
       "    <tr>\n",
       "      <th>6</th>\n",
       "      <td>1.330653</td>\n",
       "      <td>0.832881</td>\n",
       "      <td>-1.425326</td>\n",
       "      <td>-0.207259</td>\n",
       "    </tr>\n",
       "    <tr>\n",
       "      <th>7</th>\n",
       "      <td>0.448128</td>\n",
       "      <td>0.270520</td>\n",
       "      <td>0.616791</td>\n",
       "      <td>1.569120</td>\n",
       "    </tr>\n",
       "    <tr>\n",
       "      <th>8</th>\n",
       "      <td>0.293789</td>\n",
       "      <td>1.913522</td>\n",
       "      <td>1.321631</td>\n",
       "      <td>-0.461753</td>\n",
       "    </tr>\n",
       "    <tr>\n",
       "      <th>9</th>\n",
       "      <td>2.180363</td>\n",
       "      <td>0.185438</td>\n",
       "      <td>-1.390760</td>\n",
       "      <td>1.804645</td>\n",
       "    </tr>\n",
       "  </tbody>\n",
       "</table>\n",
       "</div>"
      ],
      "text/plain": [
       "          0         1         2         3\n",
       "0  0.834481 -0.162026 -0.073161  1.049574\n",
       "1  0.934123  0.175385  0.158781  0.176595\n",
       "2 -2.060700 -0.174665  1.062512 -0.928106\n",
       "3 -1.352601 -0.758028 -0.074737 -0.652427\n",
       "4 -0.316377 -0.544512  0.112535  0.741722\n",
       "5 -1.443640 -0.308399 -1.440322 -1.145910\n",
       "6  1.330653  0.832881 -1.425326 -0.207259\n",
       "7  0.448128  0.270520  0.616791  1.569120\n",
       "8  0.293789  1.913522  1.321631 -0.461753\n",
       "9  2.180363  0.185438 -1.390760  1.804645"
      ]
     },
     "execution_count": 14,
     "metadata": {},
     "output_type": "execute_result"
    }
   ],
   "source": [
    "df = pd.DataFrame(data)\n",
    "df"
   ]
  },
  {
   "cell_type": "code",
   "execution_count": 15,
   "metadata": {},
   "outputs": [
    {
     "data": {
      "text/html": [
       "<div>\n",
       "<style scoped>\n",
       "    .dataframe tbody tr th:only-of-type {\n",
       "        vertical-align: middle;\n",
       "    }\n",
       "\n",
       "    .dataframe tbody tr th {\n",
       "        vertical-align: top;\n",
       "    }\n",
       "\n",
       "    .dataframe thead th {\n",
       "        text-align: right;\n",
       "    }\n",
       "</style>\n",
       "<table border=\"1\" class=\"dataframe\">\n",
       "  <thead>\n",
       "    <tr style=\"text-align: right;\">\n",
       "      <th></th>\n",
       "      <th>No1</th>\n",
       "      <th>No2</th>\n",
       "      <th>No3</th>\n",
       "      <th>No4</th>\n",
       "    </tr>\n",
       "  </thead>\n",
       "  <tbody>\n",
       "    <tr>\n",
       "      <th>0</th>\n",
       "      <td>0.834481</td>\n",
       "      <td>-0.162026</td>\n",
       "      <td>-0.073161</td>\n",
       "      <td>1.049574</td>\n",
       "    </tr>\n",
       "    <tr>\n",
       "      <th>1</th>\n",
       "      <td>0.934123</td>\n",
       "      <td>0.175385</td>\n",
       "      <td>0.158781</td>\n",
       "      <td>0.176595</td>\n",
       "    </tr>\n",
       "    <tr>\n",
       "      <th>2</th>\n",
       "      <td>-2.060700</td>\n",
       "      <td>-0.174665</td>\n",
       "      <td>1.062512</td>\n",
       "      <td>-0.928106</td>\n",
       "    </tr>\n",
       "    <tr>\n",
       "      <th>3</th>\n",
       "      <td>-1.352601</td>\n",
       "      <td>-0.758028</td>\n",
       "      <td>-0.074737</td>\n",
       "      <td>-0.652427</td>\n",
       "    </tr>\n",
       "    <tr>\n",
       "      <th>4</th>\n",
       "      <td>-0.316377</td>\n",
       "      <td>-0.544512</td>\n",
       "      <td>0.112535</td>\n",
       "      <td>0.741722</td>\n",
       "    </tr>\n",
       "    <tr>\n",
       "      <th>5</th>\n",
       "      <td>-1.443640</td>\n",
       "      <td>-0.308399</td>\n",
       "      <td>-1.440322</td>\n",
       "      <td>-1.145910</td>\n",
       "    </tr>\n",
       "    <tr>\n",
       "      <th>6</th>\n",
       "      <td>1.330653</td>\n",
       "      <td>0.832881</td>\n",
       "      <td>-1.425326</td>\n",
       "      <td>-0.207259</td>\n",
       "    </tr>\n",
       "    <tr>\n",
       "      <th>7</th>\n",
       "      <td>0.448128</td>\n",
       "      <td>0.270520</td>\n",
       "      <td>0.616791</td>\n",
       "      <td>1.569120</td>\n",
       "    </tr>\n",
       "    <tr>\n",
       "      <th>8</th>\n",
       "      <td>0.293789</td>\n",
       "      <td>1.913522</td>\n",
       "      <td>1.321631</td>\n",
       "      <td>-0.461753</td>\n",
       "    </tr>\n",
       "    <tr>\n",
       "      <th>9</th>\n",
       "      <td>2.180363</td>\n",
       "      <td>0.185438</td>\n",
       "      <td>-1.390760</td>\n",
       "      <td>1.804645</td>\n",
       "    </tr>\n",
       "  </tbody>\n",
       "</table>\n",
       "</div>"
      ],
      "text/plain": [
       "        No1       No2       No3       No4\n",
       "0  0.834481 -0.162026 -0.073161  1.049574\n",
       "1  0.934123  0.175385  0.158781  0.176595\n",
       "2 -2.060700 -0.174665  1.062512 -0.928106\n",
       "3 -1.352601 -0.758028 -0.074737 -0.652427\n",
       "4 -0.316377 -0.544512  0.112535  0.741722\n",
       "5 -1.443640 -0.308399 -1.440322 -1.145910\n",
       "6  1.330653  0.832881 -1.425326 -0.207259\n",
       "7  0.448128  0.270520  0.616791  1.569120\n",
       "8  0.293789  1.913522  1.321631 -0.461753\n",
       "9  2.180363  0.185438 -1.390760  1.804645"
      ]
     },
     "execution_count": 15,
     "metadata": {},
     "output_type": "execute_result"
    }
   ],
   "source": [
    "df.columns = ['No1', 'No2', 'No3', 'No4']\n",
    "df"
   ]
  },
  {
   "cell_type": "code",
   "execution_count": 11,
   "metadata": {},
   "outputs": [
    {
     "data": {
      "text/html": [
       "<div>\n",
       "<style scoped>\n",
       "    .dataframe tbody tr th:only-of-type {\n",
       "        vertical-align: middle;\n",
       "    }\n",
       "\n",
       "    .dataframe tbody tr th {\n",
       "        vertical-align: top;\n",
       "    }\n",
       "\n",
       "    .dataframe thead th {\n",
       "        text-align: right;\n",
       "    }\n",
       "</style>\n",
       "<table border=\"1\" class=\"dataframe\">\n",
       "  <thead>\n",
       "    <tr style=\"text-align: right;\">\n",
       "      <th></th>\n",
       "      <th>No1</th>\n",
       "      <th>No2</th>\n",
       "      <th>No3</th>\n",
       "      <th>No4</th>\n",
       "    </tr>\n",
       "  </thead>\n",
       "  <tbody>\n",
       "    <tr>\n",
       "      <th>2016-01-01</th>\n",
       "      <td>0.308023</td>\n",
       "      <td>-0.889931</td>\n",
       "      <td>-0.699483</td>\n",
       "      <td>0.918454</td>\n",
       "    </tr>\n",
       "    <tr>\n",
       "      <th>2016-01-02</th>\n",
       "      <td>-0.492355</td>\n",
       "      <td>1.596427</td>\n",
       "      <td>-1.533946</td>\n",
       "      <td>-0.283938</td>\n",
       "    </tr>\n",
       "    <tr>\n",
       "      <th>2016-01-03</th>\n",
       "      <td>-0.938762</td>\n",
       "      <td>-2.270365</td>\n",
       "      <td>-0.384699</td>\n",
       "      <td>0.132117</td>\n",
       "    </tr>\n",
       "    <tr>\n",
       "      <th>2016-01-04</th>\n",
       "      <td>1.571487</td>\n",
       "      <td>-0.947118</td>\n",
       "      <td>-0.373019</td>\n",
       "      <td>0.640306</td>\n",
       "    </tr>\n",
       "    <tr>\n",
       "      <th>2016-01-05</th>\n",
       "      <td>0.619068</td>\n",
       "      <td>-0.122796</td>\n",
       "      <td>-0.418267</td>\n",
       "      <td>-1.430677</td>\n",
       "    </tr>\n",
       "    <tr>\n",
       "      <th>2016-01-06</th>\n",
       "      <td>-1.339250</td>\n",
       "      <td>-0.971563</td>\n",
       "      <td>-1.279447</td>\n",
       "      <td>1.525427</td>\n",
       "    </tr>\n",
       "    <tr>\n",
       "      <th>2016-01-07</th>\n",
       "      <td>1.675004</td>\n",
       "      <td>-0.940326</td>\n",
       "      <td>-0.602396</td>\n",
       "      <td>0.860812</td>\n",
       "    </tr>\n",
       "    <tr>\n",
       "      <th>2016-01-08</th>\n",
       "      <td>-0.514375</td>\n",
       "      <td>-1.227695</td>\n",
       "      <td>-1.425023</td>\n",
       "      <td>0.057929</td>\n",
       "    </tr>\n",
       "    <tr>\n",
       "      <th>2016-01-09</th>\n",
       "      <td>-0.160532</td>\n",
       "      <td>1.246318</td>\n",
       "      <td>0.624015</td>\n",
       "      <td>0.667857</td>\n",
       "    </tr>\n",
       "    <tr>\n",
       "      <th>2016-01-10</th>\n",
       "      <td>0.829788</td>\n",
       "      <td>1.274179</td>\n",
       "      <td>-0.437711</td>\n",
       "      <td>1.140147</td>\n",
       "    </tr>\n",
       "  </tbody>\n",
       "</table>\n",
       "</div>"
      ],
      "text/plain": [
       "                 No1       No2       No3       No4\n",
       "2016-01-01  0.308023 -0.889931 -0.699483  0.918454\n",
       "2016-01-02 -0.492355  1.596427 -1.533946 -0.283938\n",
       "2016-01-03 -0.938762 -2.270365 -0.384699  0.132117\n",
       "2016-01-04  1.571487 -0.947118 -0.373019  0.640306\n",
       "2016-01-05  0.619068 -0.122796 -0.418267 -1.430677\n",
       "2016-01-06 -1.339250 -0.971563 -1.279447  1.525427\n",
       "2016-01-07  1.675004 -0.940326 -0.602396  0.860812\n",
       "2016-01-08 -0.514375 -1.227695 -1.425023  0.057929\n",
       "2016-01-09 -0.160532  1.246318  0.624015  0.667857\n",
       "2016-01-10  0.829788  1.274179 -0.437711  1.140147"
      ]
     },
     "execution_count": 11,
     "metadata": {},
     "output_type": "execute_result"
    }
   ],
   "source": [
    "df.index = pd.date_range('2016-01-01', periods=10)\n",
    "df"
   ]
  },
  {
   "cell_type": "code",
   "execution_count": 12,
   "metadata": {},
   "outputs": [
    {
     "data": {
      "text/plain": [
       "No1   -1.339250\n",
       "No2   -0.971563\n",
       "No3   -1.279447\n",
       "No4    1.525427\n",
       "Name: 2016-01-06 00:00:00, dtype: float64"
      ]
     },
     "execution_count": 12,
     "metadata": {},
     "output_type": "execute_result"
    }
   ],
   "source": [
    "df.loc['2016-01-06']"
   ]
  },
  {
   "cell_type": "code",
   "execution_count": 13,
   "metadata": {},
   "outputs": [
    {
     "data": {
      "text/plain": [
       "2016-01-01    0.308023\n",
       "2016-01-02   -0.492355\n",
       "2016-01-03   -0.938762\n",
       "2016-01-04    1.571487\n",
       "2016-01-05    0.619068\n",
       "2016-01-06   -1.339250\n",
       "2016-01-07    1.675004\n",
       "2016-01-08   -0.514375\n",
       "2016-01-09   -0.160532\n",
       "2016-01-10    0.829788\n",
       "Freq: D, Name: No1, dtype: float64"
      ]
     },
     "execution_count": 13,
     "metadata": {},
     "output_type": "execute_result"
    }
   ],
   "source": [
    "df['No1']"
   ]
  },
  {
   "cell_type": "code",
   "execution_count": 14,
   "metadata": {},
   "outputs": [
    {
     "data": {
      "text/plain": [
       "No1   -0.492355\n",
       "No2    1.596427\n",
       "No3   -1.533946\n",
       "No4   -0.283938\n",
       "Name: 2016-01-02 00:00:00, dtype: float64"
      ]
     },
     "execution_count": 14,
     "metadata": {},
     "output_type": "execute_result"
    }
   ],
   "source": [
    "df.iloc[1]"
   ]
  },
  {
   "cell_type": "markdown",
   "metadata": {},
   "source": [
    "## 使用 Pandas 作資料存取"
   ]
  },
  {
   "cell_type": "markdown",
   "metadata": {},
   "source": [
    "### 使用 read_csv() 讀取資料\n",
    "- [ref](https://pandas.pydata.org/pandas-docs/stable/reference/api/pandas.read_csv.html)"
   ]
  },
  {
   "cell_type": "code",
   "execution_count": 17,
   "metadata": {},
   "outputs": [],
   "source": [
    "#df = pd.read_csv(\"2018_kh_data.csv\", encoding=\"utf8\", header=0)\n",
    "df = pd.read_csv(\"2018_kh_data.csv\", encoding=\"Big5\", header=0)"
   ]
  },
  {
   "cell_type": "code",
   "execution_count": 18,
   "metadata": {},
   "outputs": [
    {
     "data": {
      "text/html": [
       "<div>\n",
       "<style scoped>\n",
       "    .dataframe tbody tr th:only-of-type {\n",
       "        vertical-align: middle;\n",
       "    }\n",
       "\n",
       "    .dataframe tbody tr th {\n",
       "        vertical-align: top;\n",
       "    }\n",
       "\n",
       "    .dataframe thead th {\n",
       "        text-align: right;\n",
       "    }\n",
       "</style>\n",
       "<table border=\"1\" class=\"dataframe\">\n",
       "  <thead>\n",
       "    <tr style=\"text-align: right;\">\n",
       "      <th></th>\n",
       "      <th>Name</th>\n",
       "      <th>Date</th>\n",
       "      <th>TSP</th>\n",
       "      <th>PM10</th>\n",
       "      <th>Chloride</th>\n",
       "      <th>Nitrate</th>\n",
       "      <th>Sulfate</th>\n",
       "      <th>Lead</th>\n",
       "      <th>Dust</th>\n",
       "    </tr>\n",
       "  </thead>\n",
       "  <tbody>\n",
       "    <tr>\n",
       "      <th>0</th>\n",
       "      <td>大社工業區</td>\n",
       "      <td>2018年1月</td>\n",
       "      <td>93</td>\n",
       "      <td>NaN</td>\n",
       "      <td>NaN</td>\n",
       "      <td>NaN</td>\n",
       "      <td>NaN</td>\n",
       "      <td>0.029</td>\n",
       "      <td>3.60</td>\n",
       "    </tr>\n",
       "    <tr>\n",
       "      <th>1</th>\n",
       "      <td>大寮區公所</td>\n",
       "      <td>2018年1月</td>\n",
       "      <td>79</td>\n",
       "      <td>NaN</td>\n",
       "      <td>NaN</td>\n",
       "      <td>NaN</td>\n",
       "      <td>NaN</td>\n",
       "      <td>0.042</td>\n",
       "      <td>1.54</td>\n",
       "    </tr>\n",
       "    <tr>\n",
       "      <th>2</th>\n",
       "      <td>大樹監測站</td>\n",
       "      <td>2018年1月</td>\n",
       "      <td>61</td>\n",
       "      <td>NaN</td>\n",
       "      <td>NaN</td>\n",
       "      <td>NaN</td>\n",
       "      <td>NaN</td>\n",
       "      <td>0.020</td>\n",
       "      <td>1.18</td>\n",
       "    </tr>\n",
       "    <tr>\n",
       "      <th>3</th>\n",
       "      <td>仁武國中</td>\n",
       "      <td>2018年1月</td>\n",
       "      <td>79</td>\n",
       "      <td>NaN</td>\n",
       "      <td>NaN</td>\n",
       "      <td>NaN</td>\n",
       "      <td>NaN</td>\n",
       "      <td>0.058</td>\n",
       "      <td>2.68</td>\n",
       "    </tr>\n",
       "    <tr>\n",
       "      <th>4</th>\n",
       "      <td>半屏山電信局</td>\n",
       "      <td>2018年1月</td>\n",
       "      <td>104</td>\n",
       "      <td>67.0</td>\n",
       "      <td>NaN</td>\n",
       "      <td>NaN</td>\n",
       "      <td>NaN</td>\n",
       "      <td>0.014</td>\n",
       "      <td>1.21</td>\n",
       "    </tr>\n",
       "  </tbody>\n",
       "</table>\n",
       "</div>"
      ],
      "text/plain": [
       "     Name     Date  TSP  PM10  Chloride  Nitrate  Sulfate   Lead  Dust\n",
       "0   大社工業區  2018年1月   93   NaN       NaN      NaN      NaN  0.029  3.60\n",
       "1   大寮區公所  2018年1月   79   NaN       NaN      NaN      NaN  0.042  1.54\n",
       "2   大樹監測站  2018年1月   61   NaN       NaN      NaN      NaN  0.020  1.18\n",
       "3    仁武國中  2018年1月   79   NaN       NaN      NaN      NaN  0.058  2.68\n",
       "4  半屏山電信局  2018年1月  104  67.0       NaN      NaN      NaN  0.014  1.21"
      ]
     },
     "execution_count": 18,
     "metadata": {},
     "output_type": "execute_result"
    }
   ],
   "source": [
    "df.head()"
   ]
  },
  {
   "cell_type": "code",
   "execution_count": 16,
   "metadata": {},
   "outputs": [
    {
     "data": {
      "text/html": [
       "<div>\n",
       "<style scoped>\n",
       "    .dataframe tbody tr th:only-of-type {\n",
       "        vertical-align: middle;\n",
       "    }\n",
       "\n",
       "    .dataframe tbody tr th {\n",
       "        vertical-align: top;\n",
       "    }\n",
       "\n",
       "    .dataframe thead th {\n",
       "        text-align: right;\n",
       "    }\n",
       "</style>\n",
       "<table border=\"1\" class=\"dataframe\">\n",
       "  <thead>\n",
       "    <tr style=\"text-align: right;\">\n",
       "      <th></th>\n",
       "      <th>Name</th>\n",
       "      <th>Date</th>\n",
       "      <th>TSP</th>\n",
       "      <th>PM10</th>\n",
       "      <th>Chloride</th>\n",
       "      <th>Nitrate</th>\n",
       "      <th>Sulfate</th>\n",
       "      <th>Lead</th>\n",
       "      <th>Dust</th>\n",
       "    </tr>\n",
       "  </thead>\n",
       "  <tbody>\n",
       "    <tr>\n",
       "      <th>0</th>\n",
       "      <td>大社工業區</td>\n",
       "      <td>2018年1月</td>\n",
       "      <td>93</td>\n",
       "      <td>NaN</td>\n",
       "      <td>NaN</td>\n",
       "      <td>NaN</td>\n",
       "      <td>NaN</td>\n",
       "      <td>0.029</td>\n",
       "      <td>3.60</td>\n",
       "    </tr>\n",
       "    <tr>\n",
       "      <th>1</th>\n",
       "      <td>大寮區公所</td>\n",
       "      <td>2018年1月</td>\n",
       "      <td>79</td>\n",
       "      <td>NaN</td>\n",
       "      <td>NaN</td>\n",
       "      <td>NaN</td>\n",
       "      <td>NaN</td>\n",
       "      <td>0.042</td>\n",
       "      <td>1.54</td>\n",
       "    </tr>\n",
       "    <tr>\n",
       "      <th>2</th>\n",
       "      <td>大樹監測站</td>\n",
       "      <td>2018年1月</td>\n",
       "      <td>61</td>\n",
       "      <td>NaN</td>\n",
       "      <td>NaN</td>\n",
       "      <td>NaN</td>\n",
       "      <td>NaN</td>\n",
       "      <td>0.020</td>\n",
       "      <td>1.18</td>\n",
       "    </tr>\n",
       "    <tr>\n",
       "      <th>3</th>\n",
       "      <td>仁武國中</td>\n",
       "      <td>2018年1月</td>\n",
       "      <td>79</td>\n",
       "      <td>NaN</td>\n",
       "      <td>NaN</td>\n",
       "      <td>NaN</td>\n",
       "      <td>NaN</td>\n",
       "      <td>0.058</td>\n",
       "      <td>2.68</td>\n",
       "    </tr>\n",
       "    <tr>\n",
       "      <th>4</th>\n",
       "      <td>半屏山電信局</td>\n",
       "      <td>2018年1月</td>\n",
       "      <td>104</td>\n",
       "      <td>67.0</td>\n",
       "      <td>NaN</td>\n",
       "      <td>NaN</td>\n",
       "      <td>NaN</td>\n",
       "      <td>0.014</td>\n",
       "      <td>1.21</td>\n",
       "    </tr>\n",
       "    <tr>\n",
       "      <th>5</th>\n",
       "      <td>左營國小</td>\n",
       "      <td>2018年1月</td>\n",
       "      <td>98</td>\n",
       "      <td>64.0</td>\n",
       "      <td>NaN</td>\n",
       "      <td>NaN</td>\n",
       "      <td>NaN</td>\n",
       "      <td>0.006</td>\n",
       "      <td>1.13</td>\n",
       "    </tr>\n",
       "    <tr>\n",
       "      <th>6</th>\n",
       "      <td>永安工業區</td>\n",
       "      <td>2018年1月</td>\n",
       "      <td>83</td>\n",
       "      <td>NaN</td>\n",
       "      <td>NaN</td>\n",
       "      <td>NaN</td>\n",
       "      <td>NaN</td>\n",
       "      <td>0.052</td>\n",
       "      <td>2.96</td>\n",
       "    </tr>\n",
       "    <tr>\n",
       "      <th>7</th>\n",
       "      <td>西子灣中山大學</td>\n",
       "      <td>2018年1月</td>\n",
       "      <td>84</td>\n",
       "      <td>60.0</td>\n",
       "      <td>NaN</td>\n",
       "      <td>NaN</td>\n",
       "      <td>NaN</td>\n",
       "      <td>0.043</td>\n",
       "      <td>1.31</td>\n",
       "    </tr>\n",
       "    <tr>\n",
       "      <th>8</th>\n",
       "      <td>岡山醫院</td>\n",
       "      <td>2018年1月</td>\n",
       "      <td>102</td>\n",
       "      <td>NaN</td>\n",
       "      <td>NaN</td>\n",
       "      <td>NaN</td>\n",
       "      <td>NaN</td>\n",
       "      <td>0.076</td>\n",
       "      <td>3.11</td>\n",
       "    </tr>\n",
       "    <tr>\n",
       "      <th>9</th>\n",
       "      <td>林園工業區</td>\n",
       "      <td>2018年1月</td>\n",
       "      <td>90</td>\n",
       "      <td>NaN</td>\n",
       "      <td>NaN</td>\n",
       "      <td>NaN</td>\n",
       "      <td>NaN</td>\n",
       "      <td>0.042</td>\n",
       "      <td>2.01</td>\n",
       "    </tr>\n",
       "  </tbody>\n",
       "</table>\n",
       "</div>"
      ],
      "text/plain": [
       "      Name     Date  TSP  PM10  Chloride  Nitrate  Sulfate   Lead  Dust\n",
       "0    大社工業區  2018年1月   93   NaN       NaN      NaN      NaN  0.029  3.60\n",
       "1    大寮區公所  2018年1月   79   NaN       NaN      NaN      NaN  0.042  1.54\n",
       "2    大樹監測站  2018年1月   61   NaN       NaN      NaN      NaN  0.020  1.18\n",
       "3     仁武國中  2018年1月   79   NaN       NaN      NaN      NaN  0.058  2.68\n",
       "4   半屏山電信局  2018年1月  104  67.0       NaN      NaN      NaN  0.014  1.21\n",
       "5     左營國小  2018年1月   98  64.0       NaN      NaN      NaN  0.006  1.13\n",
       "6    永安工業區  2018年1月   83   NaN       NaN      NaN      NaN  0.052  2.96\n",
       "7  西子灣中山大學  2018年1月   84  60.0       NaN      NaN      NaN  0.043  1.31\n",
       "8     岡山醫院  2018年1月  102   NaN       NaN      NaN      NaN  0.076  3.11\n",
       "9    林園工業區  2018年1月   90   NaN       NaN      NaN      NaN  0.042  2.01"
      ]
     },
     "execution_count": 16,
     "metadata": {},
     "output_type": "execute_result"
    }
   ],
   "source": [
    "df.head(10)"
   ]
  },
  {
   "cell_type": "code",
   "execution_count": 20,
   "metadata": {},
   "outputs": [
    {
     "data": {
      "text/html": [
       "<div>\n",
       "<style scoped>\n",
       "    .dataframe tbody tr th:only-of-type {\n",
       "        vertical-align: middle;\n",
       "    }\n",
       "\n",
       "    .dataframe tbody tr th {\n",
       "        vertical-align: top;\n",
       "    }\n",
       "\n",
       "    .dataframe thead th {\n",
       "        text-align: right;\n",
       "    }\n",
       "</style>\n",
       "<table border=\"1\" class=\"dataframe\">\n",
       "  <thead>\n",
       "    <tr style=\"text-align: right;\">\n",
       "      <th></th>\n",
       "      <th>Name</th>\n",
       "      <th>Date</th>\n",
       "      <th>TSP</th>\n",
       "      <th>PM10</th>\n",
       "      <th>Chloride</th>\n",
       "      <th>Nitrate</th>\n",
       "      <th>Sulfate</th>\n",
       "      <th>Lead</th>\n",
       "      <th>Dust</th>\n",
       "    </tr>\n",
       "  </thead>\n",
       "  <tbody>\n",
       "    <tr>\n",
       "      <th>229</th>\n",
       "      <td>楠梓區清潔隊</td>\n",
       "      <td>2018年12月</td>\n",
       "      <td>84</td>\n",
       "      <td>52.0</td>\n",
       "      <td>1.74</td>\n",
       "      <td>14.4</td>\n",
       "      <td>10.6</td>\n",
       "      <td>0.001</td>\n",
       "      <td>2.49</td>\n",
       "    </tr>\n",
       "    <tr>\n",
       "      <th>230</th>\n",
       "      <td>路竹地政事務所</td>\n",
       "      <td>2018年12月</td>\n",
       "      <td>112</td>\n",
       "      <td>NaN</td>\n",
       "      <td>2.04</td>\n",
       "      <td>13.6</td>\n",
       "      <td>12.1</td>\n",
       "      <td>0.012</td>\n",
       "      <td>2.77</td>\n",
       "    </tr>\n",
       "    <tr>\n",
       "      <th>231</th>\n",
       "      <td>鼓山圖書分館</td>\n",
       "      <td>2018年12月</td>\n",
       "      <td>80</td>\n",
       "      <td>49.0</td>\n",
       "      <td>10.80</td>\n",
       "      <td>21.1</td>\n",
       "      <td>14.9</td>\n",
       "      <td>0.018</td>\n",
       "      <td>1.37</td>\n",
       "    </tr>\n",
       "    <tr>\n",
       "      <th>232</th>\n",
       "      <td>衛生局中正辦公室</td>\n",
       "      <td>2018年12月</td>\n",
       "      <td>93</td>\n",
       "      <td>46.0</td>\n",
       "      <td>9.53</td>\n",
       "      <td>20.0</td>\n",
       "      <td>14.9</td>\n",
       "      <td>0.012</td>\n",
       "      <td>1.95</td>\n",
       "    </tr>\n",
       "    <tr>\n",
       "      <th>233</th>\n",
       "      <td>環保局環境檢驗科</td>\n",
       "      <td>2018年12月</td>\n",
       "      <td>97</td>\n",
       "      <td>50.0</td>\n",
       "      <td>7.66</td>\n",
       "      <td>25.5</td>\n",
       "      <td>15.8</td>\n",
       "      <td>0.030</td>\n",
       "      <td>2.07</td>\n",
       "    </tr>\n",
       "  </tbody>\n",
       "</table>\n",
       "</div>"
      ],
      "text/plain": [
       "         Name      Date  TSP  PM10  Chloride  Nitrate  Sulfate   Lead  Dust\n",
       "229    楠梓區清潔隊  2018年12月   84  52.0      1.74     14.4     10.6  0.001  2.49\n",
       "230   路竹地政事務所  2018年12月  112   NaN      2.04     13.6     12.1  0.012  2.77\n",
       "231    鼓山圖書分館  2018年12月   80  49.0     10.80     21.1     14.9  0.018  1.37\n",
       "232  衛生局中正辦公室  2018年12月   93  46.0      9.53     20.0     14.9  0.012  1.95\n",
       "233  環保局環境檢驗科  2018年12月   97  50.0      7.66     25.5     15.8  0.030  2.07"
      ]
     },
     "execution_count": 20,
     "metadata": {},
     "output_type": "execute_result"
    }
   ],
   "source": [
    "df.tail()"
   ]
  },
  {
   "cell_type": "code",
   "execution_count": 21,
   "metadata": {},
   "outputs": [
    {
     "data": {
      "text/html": [
       "<div>\n",
       "<style scoped>\n",
       "    .dataframe tbody tr th:only-of-type {\n",
       "        vertical-align: middle;\n",
       "    }\n",
       "\n",
       "    .dataframe tbody tr th {\n",
       "        vertical-align: top;\n",
       "    }\n",
       "\n",
       "    .dataframe thead th {\n",
       "        text-align: right;\n",
       "    }\n",
       "</style>\n",
       "<table border=\"1\" class=\"dataframe\">\n",
       "  <thead>\n",
       "    <tr style=\"text-align: right;\">\n",
       "      <th></th>\n",
       "      <th>Name</th>\n",
       "      <th>Date</th>\n",
       "      <th>TSP</th>\n",
       "      <th>PM10</th>\n",
       "      <th>Chloride</th>\n",
       "      <th>Nitrate</th>\n",
       "      <th>Sulfate</th>\n",
       "      <th>Lead</th>\n",
       "      <th>Dust</th>\n",
       "    </tr>\n",
       "  </thead>\n",
       "  <tbody>\n",
       "    <tr>\n",
       "      <th>0</th>\n",
       "      <td>大社工業區</td>\n",
       "      <td>2018年1月</td>\n",
       "      <td>93</td>\n",
       "      <td>NaN</td>\n",
       "      <td>NaN</td>\n",
       "      <td>NaN</td>\n",
       "      <td>NaN</td>\n",
       "      <td>0.029</td>\n",
       "      <td>3.60</td>\n",
       "    </tr>\n",
       "    <tr>\n",
       "      <th>1</th>\n",
       "      <td>大寮區公所</td>\n",
       "      <td>2018年1月</td>\n",
       "      <td>79</td>\n",
       "      <td>NaN</td>\n",
       "      <td>NaN</td>\n",
       "      <td>NaN</td>\n",
       "      <td>NaN</td>\n",
       "      <td>0.042</td>\n",
       "      <td>1.54</td>\n",
       "    </tr>\n",
       "    <tr>\n",
       "      <th>2</th>\n",
       "      <td>大樹監測站</td>\n",
       "      <td>2018年1月</td>\n",
       "      <td>61</td>\n",
       "      <td>NaN</td>\n",
       "      <td>NaN</td>\n",
       "      <td>NaN</td>\n",
       "      <td>NaN</td>\n",
       "      <td>0.020</td>\n",
       "      <td>1.18</td>\n",
       "    </tr>\n",
       "    <tr>\n",
       "      <th>3</th>\n",
       "      <td>仁武國中</td>\n",
       "      <td>2018年1月</td>\n",
       "      <td>79</td>\n",
       "      <td>NaN</td>\n",
       "      <td>NaN</td>\n",
       "      <td>NaN</td>\n",
       "      <td>NaN</td>\n",
       "      <td>0.058</td>\n",
       "      <td>2.68</td>\n",
       "    </tr>\n",
       "    <tr>\n",
       "      <th>4</th>\n",
       "      <td>半屏山電信局</td>\n",
       "      <td>2018年1月</td>\n",
       "      <td>104</td>\n",
       "      <td>67.0</td>\n",
       "      <td>NaN</td>\n",
       "      <td>NaN</td>\n",
       "      <td>NaN</td>\n",
       "      <td>0.014</td>\n",
       "      <td>1.21</td>\n",
       "    </tr>\n",
       "    <tr>\n",
       "      <th>...</th>\n",
       "      <td>...</td>\n",
       "      <td>...</td>\n",
       "      <td>...</td>\n",
       "      <td>...</td>\n",
       "      <td>...</td>\n",
       "      <td>...</td>\n",
       "      <td>...</td>\n",
       "      <td>...</td>\n",
       "      <td>...</td>\n",
       "    </tr>\n",
       "    <tr>\n",
       "      <th>229</th>\n",
       "      <td>楠梓區清潔隊</td>\n",
       "      <td>2018年12月</td>\n",
       "      <td>84</td>\n",
       "      <td>52.0</td>\n",
       "      <td>1.74</td>\n",
       "      <td>14.4</td>\n",
       "      <td>10.6</td>\n",
       "      <td>0.001</td>\n",
       "      <td>2.49</td>\n",
       "    </tr>\n",
       "    <tr>\n",
       "      <th>230</th>\n",
       "      <td>路竹地政事務所</td>\n",
       "      <td>2018年12月</td>\n",
       "      <td>112</td>\n",
       "      <td>NaN</td>\n",
       "      <td>2.04</td>\n",
       "      <td>13.6</td>\n",
       "      <td>12.1</td>\n",
       "      <td>0.012</td>\n",
       "      <td>2.77</td>\n",
       "    </tr>\n",
       "    <tr>\n",
       "      <th>231</th>\n",
       "      <td>鼓山圖書分館</td>\n",
       "      <td>2018年12月</td>\n",
       "      <td>80</td>\n",
       "      <td>49.0</td>\n",
       "      <td>10.80</td>\n",
       "      <td>21.1</td>\n",
       "      <td>14.9</td>\n",
       "      <td>0.018</td>\n",
       "      <td>1.37</td>\n",
       "    </tr>\n",
       "    <tr>\n",
       "      <th>232</th>\n",
       "      <td>衛生局中正辦公室</td>\n",
       "      <td>2018年12月</td>\n",
       "      <td>93</td>\n",
       "      <td>46.0</td>\n",
       "      <td>9.53</td>\n",
       "      <td>20.0</td>\n",
       "      <td>14.9</td>\n",
       "      <td>0.012</td>\n",
       "      <td>1.95</td>\n",
       "    </tr>\n",
       "    <tr>\n",
       "      <th>233</th>\n",
       "      <td>環保局環境檢驗科</td>\n",
       "      <td>2018年12月</td>\n",
       "      <td>97</td>\n",
       "      <td>50.0</td>\n",
       "      <td>7.66</td>\n",
       "      <td>25.5</td>\n",
       "      <td>15.8</td>\n",
       "      <td>0.030</td>\n",
       "      <td>2.07</td>\n",
       "    </tr>\n",
       "  </tbody>\n",
       "</table>\n",
       "<p>234 rows × 9 columns</p>\n",
       "</div>"
      ],
      "text/plain": [
       "         Name      Date  TSP  PM10  Chloride  Nitrate  Sulfate   Lead  Dust\n",
       "0       大社工業區   2018年1月   93   NaN       NaN      NaN      NaN  0.029  3.60\n",
       "1       大寮區公所   2018年1月   79   NaN       NaN      NaN      NaN  0.042  1.54\n",
       "2       大樹監測站   2018年1月   61   NaN       NaN      NaN      NaN  0.020  1.18\n",
       "3        仁武國中   2018年1月   79   NaN       NaN      NaN      NaN  0.058  2.68\n",
       "4      半屏山電信局   2018年1月  104  67.0       NaN      NaN      NaN  0.014  1.21\n",
       "..        ...       ...  ...   ...       ...      ...      ...    ...   ...\n",
       "229    楠梓區清潔隊  2018年12月   84  52.0      1.74     14.4     10.6  0.001  2.49\n",
       "230   路竹地政事務所  2018年12月  112   NaN      2.04     13.6     12.1  0.012  2.77\n",
       "231    鼓山圖書分館  2018年12月   80  49.0     10.80     21.1     14.9  0.018  1.37\n",
       "232  衛生局中正辦公室  2018年12月   93  46.0      9.53     20.0     14.9  0.012  1.95\n",
       "233  環保局環境檢驗科  2018年12月   97  50.0      7.66     25.5     15.8  0.030  2.07\n",
       "\n",
       "[234 rows x 9 columns]"
      ]
     },
     "execution_count": 21,
     "metadata": {},
     "output_type": "execute_result"
    }
   ],
   "source": [
    "df"
   ]
  },
  {
   "cell_type": "code",
   "execution_count": 22,
   "metadata": {
    "tags": []
   },
   "outputs": [
    {
     "data": {
      "text/html": [
       "<div>\n",
       "<style scoped>\n",
       "    .dataframe tbody tr th:only-of-type {\n",
       "        vertical-align: middle;\n",
       "    }\n",
       "\n",
       "    .dataframe tbody tr th {\n",
       "        vertical-align: top;\n",
       "    }\n",
       "\n",
       "    .dataframe thead th {\n",
       "        text-align: right;\n",
       "    }\n",
       "</style>\n",
       "<table border=\"1\" class=\"dataframe\">\n",
       "  <thead>\n",
       "    <tr style=\"text-align: right;\">\n",
       "      <th></th>\n",
       "      <th>Name</th>\n",
       "      <th>Date</th>\n",
       "      <th>TSP</th>\n",
       "      <th>PM10</th>\n",
       "      <th>Chloride</th>\n",
       "      <th>Nitrate</th>\n",
       "      <th>Sulfate</th>\n",
       "      <th>Lead</th>\n",
       "      <th>Dust</th>\n",
       "    </tr>\n",
       "  </thead>\n",
       "  <tbody>\n",
       "    <tr>\n",
       "      <th>0</th>\n",
       "      <td>大社工業區</td>\n",
       "      <td>2018年1月</td>\n",
       "      <td>93</td>\n",
       "      <td>NaN</td>\n",
       "      <td>NaN</td>\n",
       "      <td>NaN</td>\n",
       "      <td>NaN</td>\n",
       "      <td>0.029</td>\n",
       "      <td>3.60</td>\n",
       "    </tr>\n",
       "    <tr>\n",
       "      <th>1</th>\n",
       "      <td>大寮區公所</td>\n",
       "      <td>2018年1月</td>\n",
       "      <td>79</td>\n",
       "      <td>NaN</td>\n",
       "      <td>NaN</td>\n",
       "      <td>NaN</td>\n",
       "      <td>NaN</td>\n",
       "      <td>0.042</td>\n",
       "      <td>1.54</td>\n",
       "    </tr>\n",
       "    <tr>\n",
       "      <th>2</th>\n",
       "      <td>大樹監測站</td>\n",
       "      <td>2018年1月</td>\n",
       "      <td>61</td>\n",
       "      <td>NaN</td>\n",
       "      <td>NaN</td>\n",
       "      <td>NaN</td>\n",
       "      <td>NaN</td>\n",
       "      <td>0.020</td>\n",
       "      <td>1.18</td>\n",
       "    </tr>\n",
       "    <tr>\n",
       "      <th>3</th>\n",
       "      <td>仁武國中</td>\n",
       "      <td>2018年1月</td>\n",
       "      <td>79</td>\n",
       "      <td>NaN</td>\n",
       "      <td>NaN</td>\n",
       "      <td>NaN</td>\n",
       "      <td>NaN</td>\n",
       "      <td>0.058</td>\n",
       "      <td>2.68</td>\n",
       "    </tr>\n",
       "    <tr>\n",
       "      <th>4</th>\n",
       "      <td>半屏山電信局</td>\n",
       "      <td>2018年1月</td>\n",
       "      <td>104</td>\n",
       "      <td>67.0</td>\n",
       "      <td>NaN</td>\n",
       "      <td>NaN</td>\n",
       "      <td>NaN</td>\n",
       "      <td>0.014</td>\n",
       "      <td>1.21</td>\n",
       "    </tr>\n",
       "    <tr>\n",
       "      <th>...</th>\n",
       "      <td>...</td>\n",
       "      <td>...</td>\n",
       "      <td>...</td>\n",
       "      <td>...</td>\n",
       "      <td>...</td>\n",
       "      <td>...</td>\n",
       "      <td>...</td>\n",
       "      <td>...</td>\n",
       "      <td>...</td>\n",
       "    </tr>\n",
       "    <tr>\n",
       "      <th>228</th>\n",
       "      <td>愛國國小</td>\n",
       "      <td>2018年12月</td>\n",
       "      <td>100</td>\n",
       "      <td>49.0</td>\n",
       "      <td>7.34</td>\n",
       "      <td>27.8</td>\n",
       "      <td>16.6</td>\n",
       "      <td>0.030</td>\n",
       "      <td>2.09</td>\n",
       "    </tr>\n",
       "    <tr>\n",
       "      <th>229</th>\n",
       "      <td>楠梓區清潔隊</td>\n",
       "      <td>2018年12月</td>\n",
       "      <td>84</td>\n",
       "      <td>52.0</td>\n",
       "      <td>1.74</td>\n",
       "      <td>14.4</td>\n",
       "      <td>10.6</td>\n",
       "      <td>0.001</td>\n",
       "      <td>2.49</td>\n",
       "    </tr>\n",
       "    <tr>\n",
       "      <th>230</th>\n",
       "      <td>路竹地政事務所</td>\n",
       "      <td>2018年12月</td>\n",
       "      <td>112</td>\n",
       "      <td>NaN</td>\n",
       "      <td>2.04</td>\n",
       "      <td>13.6</td>\n",
       "      <td>12.1</td>\n",
       "      <td>0.012</td>\n",
       "      <td>2.77</td>\n",
       "    </tr>\n",
       "    <tr>\n",
       "      <th>231</th>\n",
       "      <td>鼓山圖書分館</td>\n",
       "      <td>2018年12月</td>\n",
       "      <td>80</td>\n",
       "      <td>49.0</td>\n",
       "      <td>10.80</td>\n",
       "      <td>21.1</td>\n",
       "      <td>14.9</td>\n",
       "      <td>0.018</td>\n",
       "      <td>1.37</td>\n",
       "    </tr>\n",
       "    <tr>\n",
       "      <th>232</th>\n",
       "      <td>衛生局中正辦公室</td>\n",
       "      <td>2018年12月</td>\n",
       "      <td>93</td>\n",
       "      <td>46.0</td>\n",
       "      <td>9.53</td>\n",
       "      <td>20.0</td>\n",
       "      <td>14.9</td>\n",
       "      <td>0.012</td>\n",
       "      <td>1.95</td>\n",
       "    </tr>\n",
       "  </tbody>\n",
       "</table>\n",
       "<p>233 rows × 9 columns</p>\n",
       "</div>"
      ],
      "text/plain": [
       "         Name      Date  TSP  PM10  Chloride  Nitrate  Sulfate   Lead  Dust\n",
       "0       大社工業區   2018年1月   93   NaN       NaN      NaN      NaN  0.029  3.60\n",
       "1       大寮區公所   2018年1月   79   NaN       NaN      NaN      NaN  0.042  1.54\n",
       "2       大樹監測站   2018年1月   61   NaN       NaN      NaN      NaN  0.020  1.18\n",
       "3        仁武國中   2018年1月   79   NaN       NaN      NaN      NaN  0.058  2.68\n",
       "4      半屏山電信局   2018年1月  104  67.0       NaN      NaN      NaN  0.014  1.21\n",
       "..        ...       ...  ...   ...       ...      ...      ...    ...   ...\n",
       "228      愛國國小  2018年12月  100  49.0      7.34     27.8     16.6  0.030  2.09\n",
       "229    楠梓區清潔隊  2018年12月   84  52.0      1.74     14.4     10.6  0.001  2.49\n",
       "230   路竹地政事務所  2018年12月  112   NaN      2.04     13.6     12.1  0.012  2.77\n",
       "231    鼓山圖書分館  2018年12月   80  49.0     10.80     21.1     14.9  0.018  1.37\n",
       "232  衛生局中正辦公室  2018年12月   93  46.0      9.53     20.0     14.9  0.012  1.95\n",
       "\n",
       "[233 rows x 9 columns]"
      ]
     },
     "execution_count": 22,
     "metadata": {},
     "output_type": "execute_result"
    }
   ],
   "source": [
    "df.drop(df.index[len(df.index)-1], inplace=True)\n",
    "df"
   ]
  },
  {
   "cell_type": "markdown",
   "metadata": {},
   "source": [
    "## 資料視覺化\n",
    "- [ref](https://pandas.pydata.org/pandas-docs/stable/user_guide/visualization.html)"
   ]
  },
  {
   "cell_type": "code",
   "execution_count": 23,
   "metadata": {},
   "outputs": [
    {
     "data": {
      "text/plain": [
       "<AxesSubplot:>"
      ]
     },
     "execution_count": 23,
     "metadata": {},
     "output_type": "execute_result"
    },
    {
     "data": {
      "image/png": "[encoded data removed]",
      "text/plain": [
       "<Figure size 432x288 with 1 Axes>"
      ]
     },
     "metadata": {
      "needs_background": "light"
     },
     "output_type": "display_data"
    }
   ],
   "source": [
    "s = pd.Series(np.random.randn(10), index=np.arange(10))\n",
    "s.plot()"
   ]
  },
  {
   "cell_type": "code",
   "execution_count": 24,
   "metadata": {},
   "outputs": [
    {
     "data": {
      "text/plain": [
       "0    1.089439\n",
       "1    0.650610\n",
       "2   -0.675976\n",
       "3   -0.869205\n",
       "4    0.335969\n",
       "5   -0.632876\n",
       "6   -0.036202\n",
       "7    1.218580\n",
       "8   -0.659577\n",
       "9    0.283514\n",
       "dtype: float64"
      ]
     },
     "execution_count": 24,
     "metadata": {},
     "output_type": "execute_result"
    }
   ],
   "source": [
    "s"
   ]
  },
  {
   "cell_type": "code",
   "execution_count": 25,
   "metadata": {},
   "outputs": [
    {
     "data": {
      "text/plain": [
       "<AxesSubplot:>"
      ]
     },
     "execution_count": 25,
     "metadata": {},
     "output_type": "execute_result"
    },
    {
     "data": {
      "image/png": "[encoded data removed]",
      "text/plain": [
       "<Figure size 432x288 with 1 Axes>"
      ]
     },
     "metadata": {
      "needs_background": "light"
     },
     "output_type": "display_data"
    }
   ],
   "source": [
    "s.plot(kind=\"bar\")"
   ]
  },
  {
   "cell_type": "code",
   "execution_count": 26,
   "metadata": {},
   "outputs": [
    {
     "data": {
      "text/plain": [
       "array([[-0.17836215, -1.67061754, -0.35459016,  0.90236317],\n",
       "       [ 1.30758875, -1.33690448,  1.98562859,  0.28951483],\n",
       "       [-0.62371026,  0.37603074,  0.01919721, -0.05108344],\n",
       "       [ 1.49402544, -1.27127089, -1.9634266 ,  1.48763248],\n",
       "       [-0.52159135,  2.67978369, -0.04115799, -0.11863191],\n",
       "       [ 1.69163197,  0.42574331, -1.83324434,  1.39663867],\n",
       "       [ 0.34437082, -0.31917835,  2.1488029 ,  0.54043098],\n",
       "       [ 0.22327289, -0.83971802, -0.21108762,  0.37632391],\n",
       "       [-2.7963354 , -0.08930581,  0.66885465,  1.31707262],\n",
       "       [-0.69917971,  0.93692516,  0.85004088, -0.42504858]])"
      ]
     },
     "execution_count": 26,
     "metadata": {},
     "output_type": "execute_result"
    }
   ],
   "source": [
    "np.random.randn(10, 4)"
   ]
  },
  {
   "cell_type": "code",
   "execution_count": 27,
   "metadata": {},
   "outputs": [
    {
     "data": {
      "text/plain": [
       "<AxesSubplot:>"
      ]
     },
     "execution_count": 27,
     "metadata": {},
     "output_type": "execute_result"
    },
    {
     "data": {
      "image/png": "[encoded data removed]",
      "text/plain": [
       "<Figure size 432x288 with 1 Axes>"
      ]
     },
     "metadata": {
      "needs_background": "light"
     },
     "output_type": "display_data"
    }
   ],
   "source": [
    "df = pd.DataFrame(np.random.randn(10, 4), columns=list('ABCD'))\n",
    "df.plot()"
   ]
  },
  {
   "cell_type": "code",
   "execution_count": 28,
   "metadata": {},
   "outputs": [
    {
     "data": {
      "text/plain": [
       "<AxesSubplot:>"
      ]
     },
     "execution_count": 28,
     "metadata": {},
     "output_type": "execute_result"
    },
    {
     "data": {
      "image/png": "[encoded data removed]",
      "text/plain": [
       "<Figure size 432x288 with 1 Axes>"
      ]
     },
     "metadata": {
      "needs_background": "light"
     },
     "output_type": "display_data"
    }
   ],
   "source": [
    "df.plot(kind='bar')"
   ]
  },
  {
   "cell_type": "markdown",
   "metadata": {},
   "source": [
    "### test"
   ]
  },
  {
   "cell_type": "code",
   "execution_count": 25,
   "metadata": {
    "collapsed": true,
    "jupyter": {
     "outputs_hidden": true
    },
    "tags": []
   },
   "outputs": [
    {
     "ename": "FileNotFoundError",
     "evalue": "[Errno 2] No such file or directory: 'stock_data.csv'",
     "output_type": "error",
     "traceback": [
      "\u001b[1;31m---------------------------------------------------------------------------\u001b[0m",
      "\u001b[1;31mFileNotFoundError\u001b[0m                         Traceback (most recent call last)",
      "\u001b[1;32m~\\AppData\\Local\\Temp/ipykernel_21200/3584393273.py\u001b[0m in \u001b[0;36m<module>\u001b[1;34m\u001b[0m\n\u001b[1;32m----> 1\u001b[1;33m \u001b[0mdf\u001b[0m \u001b[1;33m=\u001b[0m \u001b[0mpd\u001b[0m\u001b[1;33m.\u001b[0m\u001b[0mread_csv\u001b[0m\u001b[1;33m(\u001b[0m\u001b[1;34m\"stock_data.csv\"\u001b[0m\u001b[1;33m,\u001b[0m \u001b[0mencoding\u001b[0m\u001b[1;33m=\u001b[0m\u001b[1;34m\"Big5\"\u001b[0m\u001b[1;33m,\u001b[0m \u001b[0mheader\u001b[0m\u001b[1;33m=\u001b[0m\u001b[1;36m0\u001b[0m\u001b[1;33m)\u001b[0m\u001b[1;33m\u001b[0m\u001b[1;33m\u001b[0m\u001b[0m\n\u001b[0m",
      "\u001b[1;32m~\\anaconda3\\lib\\site-packages\\pandas\\util\\_decorators.py\u001b[0m in \u001b[0;36mwrapper\u001b[1;34m(*args, **kwargs)\u001b[0m\n\u001b[0;32m    309\u001b[0m                     \u001b[0mstacklevel\u001b[0m\u001b[1;33m=\u001b[0m\u001b[0mstacklevel\u001b[0m\u001b[1;33m,\u001b[0m\u001b[1;33m\u001b[0m\u001b[1;33m\u001b[0m\u001b[0m\n\u001b[0;32m    310\u001b[0m                 )\n\u001b[1;32m--> 311\u001b[1;33m             \u001b[1;32mreturn\u001b[0m \u001b[0mfunc\u001b[0m\u001b[1;33m(\u001b[0m\u001b[1;33m*\u001b[0m\u001b[0margs\u001b[0m\u001b[1;33m,\u001b[0m \u001b[1;33m**\u001b[0m\u001b[0mkwargs\u001b[0m\u001b[1;33m)\u001b[0m\u001b[1;33m\u001b[0m\u001b[1;33m\u001b[0m\u001b[0m\n\u001b[0m\u001b[0;32m    312\u001b[0m \u001b[1;33m\u001b[0m\u001b[0m\n\u001b[0;32m    313\u001b[0m         \u001b[1;32mreturn\u001b[0m \u001b[0mwrapper\u001b[0m\u001b[1;33m\u001b[0m\u001b[1;33m\u001b[0m\u001b[0m\n",
      "\u001b[1;32m~\\anaconda3\\lib\\site-packages\\pandas\\io\\parsers\\readers.py\u001b[0m in \u001b[0;36mread_csv\u001b[1;34m(filepath_or_buffer, sep, delimiter, header, names, index_col, usecols, squeeze, prefix, mangle_dupe_cols, dtype, engine, converters, true_values, false_values, skipinitialspace, skiprows, skipfooter, nrows, na_values, keep_default_na, na_filter, verbose, skip_blank_lines, parse_dates, infer_datetime_format, keep_date_col, date_parser, dayfirst, cache_dates, iterator, chunksize, compression, thousands, decimal, lineterminator, quotechar, quoting, doublequote, escapechar, comment, encoding, encoding_errors, dialect, error_bad_lines, warn_bad_lines, on_bad_lines, delim_whitespace, low_memory, memory_map, float_precision, storage_options)\u001b[0m\n\u001b[0;32m    584\u001b[0m     \u001b[0mkwds\u001b[0m\u001b[1;33m.\u001b[0m\u001b[0mupdate\u001b[0m\u001b[1;33m(\u001b[0m\u001b[0mkwds_defaults\u001b[0m\u001b[1;33m)\u001b[0m\u001b[1;33m\u001b[0m\u001b[1;33m\u001b[0m\u001b[0m\n\u001b[0;32m    585\u001b[0m \u001b[1;33m\u001b[0m\u001b[0m\n\u001b[1;32m--> 586\u001b[1;33m     \u001b[1;32mreturn\u001b[0m \u001b[0m_read\u001b[0m\u001b[1;33m(\u001b[0m\u001b[0mfilepath_or_buffer\u001b[0m\u001b[1;33m,\u001b[0m \u001b[0mkwds\u001b[0m\u001b[1;33m)\u001b[0m\u001b[1;33m\u001b[0m\u001b[1;33m\u001b[0m\u001b[0m\n\u001b[0m\u001b[0;32m    587\u001b[0m \u001b[1;33m\u001b[0m\u001b[0m\n\u001b[0;32m    588\u001b[0m \u001b[1;33m\u001b[0m\u001b[0m\n",
      "\u001b[1;32m~\\anaconda3\\lib\\site-packages\\pandas\\io\\parsers\\readers.py\u001b[0m in \u001b[0;36m_read\u001b[1;34m(filepath_or_buffer, kwds)\u001b[0m\n\u001b[0;32m    480\u001b[0m \u001b[1;33m\u001b[0m\u001b[0m\n\u001b[0;32m    481\u001b[0m     \u001b[1;31m# Create the parser.\u001b[0m\u001b[1;33m\u001b[0m\u001b[1;33m\u001b[0m\u001b[0m\n\u001b[1;32m--> 482\u001b[1;33m     \u001b[0mparser\u001b[0m \u001b[1;33m=\u001b[0m \u001b[0mTextFileReader\u001b[0m\u001b[1;33m(\u001b[0m\u001b[0mfilepath_or_buffer\u001b[0m\u001b[1;33m,\u001b[0m \u001b[1;33m**\u001b[0m\u001b[0mkwds\u001b[0m\u001b[1;33m)\u001b[0m\u001b[1;33m\u001b[0m\u001b[1;33m\u001b[0m\u001b[0m\n\u001b[0m\u001b[0;32m    483\u001b[0m \u001b[1;33m\u001b[0m\u001b[0m\n\u001b[0;32m    484\u001b[0m     \u001b[1;32mif\u001b[0m \u001b[0mchunksize\u001b[0m \u001b[1;32mor\u001b[0m \u001b[0miterator\u001b[0m\u001b[1;33m:\u001b[0m\u001b[1;33m\u001b[0m\u001b[1;33m\u001b[0m\u001b[0m\n",
      "\u001b[1;32m~\\anaconda3\\lib\\site-packages\\pandas\\io\\parsers\\readers.py\u001b[0m in \u001b[0;36m__init__\u001b[1;34m(self, f, engine, **kwds)\u001b[0m\n\u001b[0;32m    809\u001b[0m             \u001b[0mself\u001b[0m\u001b[1;33m.\u001b[0m\u001b[0moptions\u001b[0m\u001b[1;33m[\u001b[0m\u001b[1;34m\"has_index_names\"\u001b[0m\u001b[1;33m]\u001b[0m \u001b[1;33m=\u001b[0m \u001b[0mkwds\u001b[0m\u001b[1;33m[\u001b[0m\u001b[1;34m\"has_index_names\"\u001b[0m\u001b[1;33m]\u001b[0m\u001b[1;33m\u001b[0m\u001b[1;33m\u001b[0m\u001b[0m\n\u001b[0;32m    810\u001b[0m \u001b[1;33m\u001b[0m\u001b[0m\n\u001b[1;32m--> 811\u001b[1;33m         \u001b[0mself\u001b[0m\u001b[1;33m.\u001b[0m\u001b[0m_engine\u001b[0m \u001b[1;33m=\u001b[0m \u001b[0mself\u001b[0m\u001b[1;33m.\u001b[0m\u001b[0m_make_engine\u001b[0m\u001b[1;33m(\u001b[0m\u001b[0mself\u001b[0m\u001b[1;33m.\u001b[0m\u001b[0mengine\u001b[0m\u001b[1;33m)\u001b[0m\u001b[1;33m\u001b[0m\u001b[1;33m\u001b[0m\u001b[0m\n\u001b[0m\u001b[0;32m    812\u001b[0m \u001b[1;33m\u001b[0m\u001b[0m\n\u001b[0;32m    813\u001b[0m     \u001b[1;32mdef\u001b[0m \u001b[0mclose\u001b[0m\u001b[1;33m(\u001b[0m\u001b[0mself\u001b[0m\u001b[1;33m)\u001b[0m\u001b[1;33m:\u001b[0m\u001b[1;33m\u001b[0m\u001b[1;33m\u001b[0m\u001b[0m\n",
      "\u001b[1;32m~\\anaconda3\\lib\\site-packages\\pandas\\io\\parsers\\readers.py\u001b[0m in \u001b[0;36m_make_engine\u001b[1;34m(self, engine)\u001b[0m\n\u001b[0;32m   1038\u001b[0m             )\n\u001b[0;32m   1039\u001b[0m         \u001b[1;31m# error: Too many arguments for \"ParserBase\"\u001b[0m\u001b[1;33m\u001b[0m\u001b[1;33m\u001b[0m\u001b[0m\n\u001b[1;32m-> 1040\u001b[1;33m         \u001b[1;32mreturn\u001b[0m \u001b[0mmapping\u001b[0m\u001b[1;33m[\u001b[0m\u001b[0mengine\u001b[0m\u001b[1;33m]\u001b[0m\u001b[1;33m(\u001b[0m\u001b[0mself\u001b[0m\u001b[1;33m.\u001b[0m\u001b[0mf\u001b[0m\u001b[1;33m,\u001b[0m \u001b[1;33m**\u001b[0m\u001b[0mself\u001b[0m\u001b[1;33m.\u001b[0m\u001b[0moptions\u001b[0m\u001b[1;33m)\u001b[0m  \u001b[1;31m# type: ignore[call-arg]\u001b[0m\u001b[1;33m\u001b[0m\u001b[1;33m\u001b[0m\u001b[0m\n\u001b[0m\u001b[0;32m   1041\u001b[0m \u001b[1;33m\u001b[0m\u001b[0m\n\u001b[0;32m   1042\u001b[0m     \u001b[1;32mdef\u001b[0m \u001b[0m_failover_to_python\u001b[0m\u001b[1;33m(\u001b[0m\u001b[0mself\u001b[0m\u001b[1;33m)\u001b[0m\u001b[1;33m:\u001b[0m\u001b[1;33m\u001b[0m\u001b[1;33m\u001b[0m\u001b[0m\n",
      "\u001b[1;32m~\\anaconda3\\lib\\site-packages\\pandas\\io\\parsers\\c_parser_wrapper.py\u001b[0m in \u001b[0;36m__init__\u001b[1;34m(self, src, **kwds)\u001b[0m\n\u001b[0;32m     49\u001b[0m \u001b[1;33m\u001b[0m\u001b[0m\n\u001b[0;32m     50\u001b[0m         \u001b[1;31m# open handles\u001b[0m\u001b[1;33m\u001b[0m\u001b[1;33m\u001b[0m\u001b[0m\n\u001b[1;32m---> 51\u001b[1;33m         \u001b[0mself\u001b[0m\u001b[1;33m.\u001b[0m\u001b[0m_open_handles\u001b[0m\u001b[1;33m(\u001b[0m\u001b[0msrc\u001b[0m\u001b[1;33m,\u001b[0m \u001b[0mkwds\u001b[0m\u001b[1;33m)\u001b[0m\u001b[1;33m\u001b[0m\u001b[1;33m\u001b[0m\u001b[0m\n\u001b[0m\u001b[0;32m     52\u001b[0m         \u001b[1;32massert\u001b[0m \u001b[0mself\u001b[0m\u001b[1;33m.\u001b[0m\u001b[0mhandles\u001b[0m \u001b[1;32mis\u001b[0m \u001b[1;32mnot\u001b[0m \u001b[1;32mNone\u001b[0m\u001b[1;33m\u001b[0m\u001b[1;33m\u001b[0m\u001b[0m\n\u001b[0;32m     53\u001b[0m \u001b[1;33m\u001b[0m\u001b[0m\n",
      "\u001b[1;32m~\\anaconda3\\lib\\site-packages\\pandas\\io\\parsers\\base_parser.py\u001b[0m in \u001b[0;36m_open_handles\u001b[1;34m(self, src, kwds)\u001b[0m\n\u001b[0;32m    220\u001b[0m         \u001b[0mLet\u001b[0m \u001b[0mthe\u001b[0m \u001b[0mreaders\u001b[0m \u001b[0mopen\u001b[0m \u001b[0mIOHandles\u001b[0m \u001b[0mafter\u001b[0m \u001b[0mthey\u001b[0m \u001b[0mare\u001b[0m \u001b[0mdone\u001b[0m \u001b[1;32mwith\u001b[0m \u001b[0mtheir\u001b[0m \u001b[0mpotential\u001b[0m \u001b[0mraises\u001b[0m\u001b[1;33m.\u001b[0m\u001b[1;33m\u001b[0m\u001b[1;33m\u001b[0m\u001b[0m\n\u001b[0;32m    221\u001b[0m         \"\"\"\n\u001b[1;32m--> 222\u001b[1;33m         self.handles = get_handle(\n\u001b[0m\u001b[0;32m    223\u001b[0m             \u001b[0msrc\u001b[0m\u001b[1;33m,\u001b[0m\u001b[1;33m\u001b[0m\u001b[1;33m\u001b[0m\u001b[0m\n\u001b[0;32m    224\u001b[0m             \u001b[1;34m\"r\"\u001b[0m\u001b[1;33m,\u001b[0m\u001b[1;33m\u001b[0m\u001b[1;33m\u001b[0m\u001b[0m\n",
      "\u001b[1;32m~\\anaconda3\\lib\\site-packages\\pandas\\io\\common.py\u001b[0m in \u001b[0;36mget_handle\u001b[1;34m(path_or_buf, mode, encoding, compression, memory_map, is_text, errors, storage_options)\u001b[0m\n\u001b[0;32m    700\u001b[0m         \u001b[1;32mif\u001b[0m \u001b[0mioargs\u001b[0m\u001b[1;33m.\u001b[0m\u001b[0mencoding\u001b[0m \u001b[1;32mand\u001b[0m \u001b[1;34m\"b\"\u001b[0m \u001b[1;32mnot\u001b[0m \u001b[1;32min\u001b[0m \u001b[0mioargs\u001b[0m\u001b[1;33m.\u001b[0m\u001b[0mmode\u001b[0m\u001b[1;33m:\u001b[0m\u001b[1;33m\u001b[0m\u001b[1;33m\u001b[0m\u001b[0m\n\u001b[0;32m    701\u001b[0m             \u001b[1;31m# Encoding\u001b[0m\u001b[1;33m\u001b[0m\u001b[1;33m\u001b[0m\u001b[0m\n\u001b[1;32m--> 702\u001b[1;33m             handle = open(\n\u001b[0m\u001b[0;32m    703\u001b[0m                 \u001b[0mhandle\u001b[0m\u001b[1;33m,\u001b[0m\u001b[1;33m\u001b[0m\u001b[1;33m\u001b[0m\u001b[0m\n\u001b[0;32m    704\u001b[0m                 \u001b[0mioargs\u001b[0m\u001b[1;33m.\u001b[0m\u001b[0mmode\u001b[0m\u001b[1;33m,\u001b[0m\u001b[1;33m\u001b[0m\u001b[1;33m\u001b[0m\u001b[0m\n",
      "\u001b[1;31mFileNotFoundError\u001b[0m: [Errno 2] No such file or directory: 'stock_data.csv'"
     ]
    }
   ],
   "source": [
    "df = pd.read_csv(\"stock_data.csv\", encoding=\"Big5\", header=0)"
   ]
  },
  {
   "cell_type": "code",
   "execution_count": 26,
   "metadata": {},
   "outputs": [
    {
     "data": {
      "text/html": [
       "<div>\n",
       "<style scoped>\n",
       "    .dataframe tbody tr th:only-of-type {\n",
       "        vertical-align: middle;\n",
       "    }\n",
       "\n",
       "    .dataframe tbody tr th {\n",
       "        vertical-align: top;\n",
       "    }\n",
       "\n",
       "    .dataframe thead th {\n",
       "        text-align: right;\n",
       "    }\n",
       "</style>\n",
       "<table border=\"1\" class=\"dataframe\">\n",
       "  <thead>\n",
       "    <tr style=\"text-align: right;\">\n",
       "      <th></th>\n",
       "      <th>A</th>\n",
       "      <th>B</th>\n",
       "      <th>C</th>\n",
       "      <th>D</th>\n",
       "    </tr>\n",
       "  </thead>\n",
       "  <tbody>\n",
       "    <tr>\n",
       "      <th>0</th>\n",
       "      <td>-0.242586</td>\n",
       "      <td>0.365596</td>\n",
       "      <td>-0.970843</td>\n",
       "      <td>0.197705</td>\n",
       "    </tr>\n",
       "    <tr>\n",
       "      <th>1</th>\n",
       "      <td>-1.332052</td>\n",
       "      <td>2.069645</td>\n",
       "      <td>0.139189</td>\n",
       "      <td>0.332263</td>\n",
       "    </tr>\n",
       "    <tr>\n",
       "      <th>2</th>\n",
       "      <td>-0.823266</td>\n",
       "      <td>-0.877636</td>\n",
       "      <td>0.970174</td>\n",
       "      <td>1.069022</td>\n",
       "    </tr>\n",
       "    <tr>\n",
       "      <th>3</th>\n",
       "      <td>-1.213190</td>\n",
       "      <td>-0.707195</td>\n",
       "      <td>-0.997064</td>\n",
       "      <td>-0.200117</td>\n",
       "    </tr>\n",
       "    <tr>\n",
       "      <th>4</th>\n",
       "      <td>1.542977</td>\n",
       "      <td>0.273614</td>\n",
       "      <td>-1.696789</td>\n",
       "      <td>-1.515887</td>\n",
       "    </tr>\n",
       "    <tr>\n",
       "      <th>5</th>\n",
       "      <td>0.178353</td>\n",
       "      <td>0.005982</td>\n",
       "      <td>1.373583</td>\n",
       "      <td>-0.442520</td>\n",
       "    </tr>\n",
       "    <tr>\n",
       "      <th>6</th>\n",
       "      <td>0.684254</td>\n",
       "      <td>-0.319497</td>\n",
       "      <td>1.695003</td>\n",
       "      <td>-0.372717</td>\n",
       "    </tr>\n",
       "    <tr>\n",
       "      <th>7</th>\n",
       "      <td>-0.482306</td>\n",
       "      <td>0.994115</td>\n",
       "      <td>-1.067530</td>\n",
       "      <td>-0.979543</td>\n",
       "    </tr>\n",
       "    <tr>\n",
       "      <th>8</th>\n",
       "      <td>1.486030</td>\n",
       "      <td>-1.170394</td>\n",
       "      <td>0.332798</td>\n",
       "      <td>-0.230886</td>\n",
       "    </tr>\n",
       "    <tr>\n",
       "      <th>9</th>\n",
       "      <td>1.092367</td>\n",
       "      <td>0.948130</td>\n",
       "      <td>0.789479</td>\n",
       "      <td>0.057309</td>\n",
       "    </tr>\n",
       "  </tbody>\n",
       "</table>\n",
       "</div>"
      ],
      "text/plain": [
       "          A         B         C         D\n",
       "0 -0.242586  0.365596 -0.970843  0.197705\n",
       "1 -1.332052  2.069645  0.139189  0.332263\n",
       "2 -0.823266 -0.877636  0.970174  1.069022\n",
       "3 -1.213190 -0.707195 -0.997064 -0.200117\n",
       "4  1.542977  0.273614 -1.696789 -1.515887\n",
       "5  0.178353  0.005982  1.373583 -0.442520\n",
       "6  0.684254 -0.319497  1.695003 -0.372717\n",
       "7 -0.482306  0.994115 -1.067530 -0.979543\n",
       "8  1.486030 -1.170394  0.332798 -0.230886\n",
       "9  1.092367  0.948130  0.789479  0.057309"
      ]
     },
     "execution_count": 26,
     "metadata": {},
     "output_type": "execute_result"
    }
   ],
   "source": [
    "df #df.head + tail"
   ]
  },
  {
   "cell_type": "code",
   "execution_count": 30,
   "metadata": {},
   "outputs": [
    {
     "data": {
      "text/plain": [
       "<AxesSubplot:>"
      ]
     },
     "execution_count": 30,
     "metadata": {},
     "output_type": "execute_result"
    },
    {
     "data": {
      "image/png": "[encoded data removed]",
      "text/plain": [
       "<Figure size 432x288 with 1 Axes>"
      ]
     },
     "metadata": {
      "needs_background": "light"
     },
     "output_type": "display_data"
    }
   ],
   "source": [
    "df.plot()"
   ]
  },
  {
   "cell_type": "code",
   "execution_count": 31,
   "metadata": {},
   "outputs": [
    {
     "data": {
      "text/plain": [
       "<AxesSubplot:>"
      ]
     },
     "execution_count": 31,
     "metadata": {},
     "output_type": "execute_result"
    },
    {
     "data": {
      "image/png": "[encoded data removed]",
      "text/plain": [
       "<Figure size 432x288 with 1 Axes>"
      ]
     },
     "metadata": {
      "needs_background": "light"
     },
     "output_type": "display_data"
    }
   ],
   "source": [
    "df['close'].plot()"
   ]
  },
  {
   "cell_type": "markdown",
   "metadata": {},
   "source": [
    "### 資料分組與聚合"
   ]
  },
  {
   "cell_type": "code",
   "execution_count": 27,
   "metadata": {},
   "outputs": [],
   "source": [
    "data = np.random.randn(10, 4)"
   ]
  },
  {
   "cell_type": "code",
   "execution_count": 28,
   "metadata": {},
   "outputs": [
    {
     "data": {
      "text/plain": [
       "array([[ 0.63155649,  3.20239777,  1.29723463, -1.15840363],\n",
       "       [ 0.53655053, -0.23491589,  0.39057725, -1.01528455],\n",
       "       [ 1.2565903 ,  0.92207694, -1.18320883,  1.02742711],\n",
       "       [ 0.99092821,  1.29623466, -0.21416201,  1.6580091 ],\n",
       "       [ 0.47112626, -0.95773024, -0.17090349,  1.26315637],\n",
       "       [ 1.13423924, -0.24840324, -0.49043939, -0.6306097 ],\n",
       "       [ 1.73569444, -0.04863357,  0.29878582,  1.27727732],\n",
       "       [-0.99047011,  1.07298045, -1.55609595,  0.6428825 ],\n",
       "       [ 0.60975593,  0.32299135, -0.47231205, -0.08026515],\n",
       "       [ 1.49804901, -0.49072489,  1.23278447,  0.98528351]])"
      ]
     },
     "execution_count": 28,
     "metadata": {},
     "output_type": "execute_result"
    }
   ],
   "source": [
    "data"
   ]
  },
  {
   "cell_type": "code",
   "execution_count": 29,
   "metadata": {},
   "outputs": [
    {
     "data": {
      "text/html": [
       "<div>\n",
       "<style scoped>\n",
       "    .dataframe tbody tr th:only-of-type {\n",
       "        vertical-align: middle;\n",
       "    }\n",
       "\n",
       "    .dataframe tbody tr th {\n",
       "        vertical-align: top;\n",
       "    }\n",
       "\n",
       "    .dataframe thead th {\n",
       "        text-align: right;\n",
       "    }\n",
       "</style>\n",
       "<table border=\"1\" class=\"dataframe\">\n",
       "  <thead>\n",
       "    <tr style=\"text-align: right;\">\n",
       "      <th></th>\n",
       "      <th>No1</th>\n",
       "      <th>No2</th>\n",
       "      <th>No3</th>\n",
       "      <th>No4</th>\n",
       "    </tr>\n",
       "  </thead>\n",
       "  <tbody>\n",
       "    <tr>\n",
       "      <th>0</th>\n",
       "      <td>0.631556</td>\n",
       "      <td>3.202398</td>\n",
       "      <td>1.297235</td>\n",
       "      <td>-1.158404</td>\n",
       "    </tr>\n",
       "    <tr>\n",
       "      <th>1</th>\n",
       "      <td>0.536551</td>\n",
       "      <td>-0.234916</td>\n",
       "      <td>0.390577</td>\n",
       "      <td>-1.015285</td>\n",
       "    </tr>\n",
       "    <tr>\n",
       "      <th>2</th>\n",
       "      <td>1.256590</td>\n",
       "      <td>0.922077</td>\n",
       "      <td>-1.183209</td>\n",
       "      <td>1.027427</td>\n",
       "    </tr>\n",
       "    <tr>\n",
       "      <th>3</th>\n",
       "      <td>0.990928</td>\n",
       "      <td>1.296235</td>\n",
       "      <td>-0.214162</td>\n",
       "      <td>1.658009</td>\n",
       "    </tr>\n",
       "    <tr>\n",
       "      <th>4</th>\n",
       "      <td>0.471126</td>\n",
       "      <td>-0.957730</td>\n",
       "      <td>-0.170903</td>\n",
       "      <td>1.263156</td>\n",
       "    </tr>\n",
       "    <tr>\n",
       "      <th>5</th>\n",
       "      <td>1.134239</td>\n",
       "      <td>-0.248403</td>\n",
       "      <td>-0.490439</td>\n",
       "      <td>-0.630610</td>\n",
       "    </tr>\n",
       "    <tr>\n",
       "      <th>6</th>\n",
       "      <td>1.735694</td>\n",
       "      <td>-0.048634</td>\n",
       "      <td>0.298786</td>\n",
       "      <td>1.277277</td>\n",
       "    </tr>\n",
       "    <tr>\n",
       "      <th>7</th>\n",
       "      <td>-0.990470</td>\n",
       "      <td>1.072980</td>\n",
       "      <td>-1.556096</td>\n",
       "      <td>0.642882</td>\n",
       "    </tr>\n",
       "    <tr>\n",
       "      <th>8</th>\n",
       "      <td>0.609756</td>\n",
       "      <td>0.322991</td>\n",
       "      <td>-0.472312</td>\n",
       "      <td>-0.080265</td>\n",
       "    </tr>\n",
       "    <tr>\n",
       "      <th>9</th>\n",
       "      <td>1.498049</td>\n",
       "      <td>-0.490725</td>\n",
       "      <td>1.232784</td>\n",
       "      <td>0.985284</td>\n",
       "    </tr>\n",
       "  </tbody>\n",
       "</table>\n",
       "</div>"
      ],
      "text/plain": [
       "        No1       No2       No3       No4\n",
       "0  0.631556  3.202398  1.297235 -1.158404\n",
       "1  0.536551 -0.234916  0.390577 -1.015285\n",
       "2  1.256590  0.922077 -1.183209  1.027427\n",
       "3  0.990928  1.296235 -0.214162  1.658009\n",
       "4  0.471126 -0.957730 -0.170903  1.263156\n",
       "5  1.134239 -0.248403 -0.490439 -0.630610\n",
       "6  1.735694 -0.048634  0.298786  1.277277\n",
       "7 -0.990470  1.072980 -1.556096  0.642882\n",
       "8  0.609756  0.322991 -0.472312 -0.080265\n",
       "9  1.498049 -0.490725  1.232784  0.985284"
      ]
     },
     "execution_count": 29,
     "metadata": {},
     "output_type": "execute_result"
    }
   ],
   "source": [
    "df = pd.DataFrame(data, columns=['No1', 'No2', 'No3', 'No4'])\n",
    "df"
   ]
  },
  {
   "cell_type": "code",
   "execution_count": 30,
   "metadata": {},
   "outputs": [
    {
     "data": {
      "text/html": [
       "<div>\n",
       "<style scoped>\n",
       "    .dataframe tbody tr th:only-of-type {\n",
       "        vertical-align: middle;\n",
       "    }\n",
       "\n",
       "    .dataframe tbody tr th {\n",
       "        vertical-align: top;\n",
       "    }\n",
       "\n",
       "    .dataframe thead th {\n",
       "        text-align: right;\n",
       "    }\n",
       "</style>\n",
       "<table border=\"1\" class=\"dataframe\">\n",
       "  <thead>\n",
       "    <tr style=\"text-align: right;\">\n",
       "      <th></th>\n",
       "      <th>No1</th>\n",
       "      <th>No2</th>\n",
       "      <th>No3</th>\n",
       "      <th>No4</th>\n",
       "      <th>Category</th>\n",
       "    </tr>\n",
       "  </thead>\n",
       "  <tbody>\n",
       "    <tr>\n",
       "      <th>0</th>\n",
       "      <td>0.631556</td>\n",
       "      <td>3.202398</td>\n",
       "      <td>1.297235</td>\n",
       "      <td>-1.158404</td>\n",
       "      <td>NaN</td>\n",
       "    </tr>\n",
       "    <tr>\n",
       "      <th>1</th>\n",
       "      <td>0.536551</td>\n",
       "      <td>-0.234916</td>\n",
       "      <td>0.390577</td>\n",
       "      <td>-1.015285</td>\n",
       "      <td>NaN</td>\n",
       "    </tr>\n",
       "    <tr>\n",
       "      <th>2</th>\n",
       "      <td>1.256590</td>\n",
       "      <td>0.922077</td>\n",
       "      <td>-1.183209</td>\n",
       "      <td>1.027427</td>\n",
       "      <td>NaN</td>\n",
       "    </tr>\n",
       "    <tr>\n",
       "      <th>3</th>\n",
       "      <td>0.990928</td>\n",
       "      <td>1.296235</td>\n",
       "      <td>-0.214162</td>\n",
       "      <td>1.658009</td>\n",
       "      <td>NaN</td>\n",
       "    </tr>\n",
       "    <tr>\n",
       "      <th>4</th>\n",
       "      <td>0.471126</td>\n",
       "      <td>-0.957730</td>\n",
       "      <td>-0.170903</td>\n",
       "      <td>1.263156</td>\n",
       "      <td>NaN</td>\n",
       "    </tr>\n",
       "    <tr>\n",
       "      <th>5</th>\n",
       "      <td>1.134239</td>\n",
       "      <td>-0.248403</td>\n",
       "      <td>-0.490439</td>\n",
       "      <td>-0.630610</td>\n",
       "      <td>NaN</td>\n",
       "    </tr>\n",
       "    <tr>\n",
       "      <th>6</th>\n",
       "      <td>1.735694</td>\n",
       "      <td>-0.048634</td>\n",
       "      <td>0.298786</td>\n",
       "      <td>1.277277</td>\n",
       "      <td>NaN</td>\n",
       "    </tr>\n",
       "    <tr>\n",
       "      <th>7</th>\n",
       "      <td>-0.990470</td>\n",
       "      <td>1.072980</td>\n",
       "      <td>-1.556096</td>\n",
       "      <td>0.642882</td>\n",
       "      <td>NaN</td>\n",
       "    </tr>\n",
       "    <tr>\n",
       "      <th>8</th>\n",
       "      <td>0.609756</td>\n",
       "      <td>0.322991</td>\n",
       "      <td>-0.472312</td>\n",
       "      <td>-0.080265</td>\n",
       "      <td>NaN</td>\n",
       "    </tr>\n",
       "    <tr>\n",
       "      <th>9</th>\n",
       "      <td>1.498049</td>\n",
       "      <td>-0.490725</td>\n",
       "      <td>1.232784</td>\n",
       "      <td>0.985284</td>\n",
       "      <td>NaN</td>\n",
       "    </tr>\n",
       "  </tbody>\n",
       "</table>\n",
       "</div>"
      ],
      "text/plain": [
       "        No1       No2       No3       No4  Category\n",
       "0  0.631556  3.202398  1.297235 -1.158404       NaN\n",
       "1  0.536551 -0.234916  0.390577 -1.015285       NaN\n",
       "2  1.256590  0.922077 -1.183209  1.027427       NaN\n",
       "3  0.990928  1.296235 -0.214162  1.658009       NaN\n",
       "4  0.471126 -0.957730 -0.170903  1.263156       NaN\n",
       "5  1.134239 -0.248403 -0.490439 -0.630610       NaN\n",
       "6  1.735694 -0.048634  0.298786  1.277277       NaN\n",
       "7 -0.990470  1.072980 -1.556096  0.642882       NaN\n",
       "8  0.609756  0.322991 -0.472312 -0.080265       NaN\n",
       "9  1.498049 -0.490725  1.232784  0.985284       NaN"
      ]
     },
     "execution_count": 30,
     "metadata": {},
     "output_type": "execute_result"
    }
   ],
   "source": [
    "df['Category'] = np.NaN\n",
    "df"
   ]
  },
  {
   "cell_type": "code",
   "execution_count": 31,
   "metadata": {},
   "outputs": [],
   "source": [
    "clist = ['C1'] * 3 + ['C2'] * 5 + ['C3'] * 2"
   ]
  },
  {
   "cell_type": "code",
   "execution_count": 32,
   "metadata": {},
   "outputs": [
    {
     "data": {
      "text/plain": [
       "['C1', 'C1', 'C1', 'C2', 'C2', 'C2', 'C2', 'C2', 'C3', 'C3']"
      ]
     },
     "execution_count": 32,
     "metadata": {},
     "output_type": "execute_result"
    }
   ],
   "source": [
    "clist"
   ]
  },
  {
   "cell_type": "code",
   "execution_count": 33,
   "metadata": {},
   "outputs": [],
   "source": [
    "df['Category'] = np.random.permutation(clist) #把clist隨機打亂"
   ]
  },
  {
   "cell_type": "code",
   "execution_count": 34,
   "metadata": {},
   "outputs": [
    {
     "data": {
      "text/html": [
       "<div>\n",
       "<style scoped>\n",
       "    .dataframe tbody tr th:only-of-type {\n",
       "        vertical-align: middle;\n",
       "    }\n",
       "\n",
       "    .dataframe tbody tr th {\n",
       "        vertical-align: top;\n",
       "    }\n",
       "\n",
       "    .dataframe thead th {\n",
       "        text-align: right;\n",
       "    }\n",
       "</style>\n",
       "<table border=\"1\" class=\"dataframe\">\n",
       "  <thead>\n",
       "    <tr style=\"text-align: right;\">\n",
       "      <th></th>\n",
       "      <th>No1</th>\n",
       "      <th>No2</th>\n",
       "      <th>No3</th>\n",
       "      <th>No4</th>\n",
       "      <th>Category</th>\n",
       "    </tr>\n",
       "  </thead>\n",
       "  <tbody>\n",
       "    <tr>\n",
       "      <th>0</th>\n",
       "      <td>0.631556</td>\n",
       "      <td>3.202398</td>\n",
       "      <td>1.297235</td>\n",
       "      <td>-1.158404</td>\n",
       "      <td>C2</td>\n",
       "    </tr>\n",
       "    <tr>\n",
       "      <th>1</th>\n",
       "      <td>0.536551</td>\n",
       "      <td>-0.234916</td>\n",
       "      <td>0.390577</td>\n",
       "      <td>-1.015285</td>\n",
       "      <td>C2</td>\n",
       "    </tr>\n",
       "    <tr>\n",
       "      <th>2</th>\n",
       "      <td>1.256590</td>\n",
       "      <td>0.922077</td>\n",
       "      <td>-1.183209</td>\n",
       "      <td>1.027427</td>\n",
       "      <td>C2</td>\n",
       "    </tr>\n",
       "    <tr>\n",
       "      <th>3</th>\n",
       "      <td>0.990928</td>\n",
       "      <td>1.296235</td>\n",
       "      <td>-0.214162</td>\n",
       "      <td>1.658009</td>\n",
       "      <td>C1</td>\n",
       "    </tr>\n",
       "    <tr>\n",
       "      <th>4</th>\n",
       "      <td>0.471126</td>\n",
       "      <td>-0.957730</td>\n",
       "      <td>-0.170903</td>\n",
       "      <td>1.263156</td>\n",
       "      <td>C1</td>\n",
       "    </tr>\n",
       "    <tr>\n",
       "      <th>5</th>\n",
       "      <td>1.134239</td>\n",
       "      <td>-0.248403</td>\n",
       "      <td>-0.490439</td>\n",
       "      <td>-0.630610</td>\n",
       "      <td>C3</td>\n",
       "    </tr>\n",
       "    <tr>\n",
       "      <th>6</th>\n",
       "      <td>1.735694</td>\n",
       "      <td>-0.048634</td>\n",
       "      <td>0.298786</td>\n",
       "      <td>1.277277</td>\n",
       "      <td>C1</td>\n",
       "    </tr>\n",
       "    <tr>\n",
       "      <th>7</th>\n",
       "      <td>-0.990470</td>\n",
       "      <td>1.072980</td>\n",
       "      <td>-1.556096</td>\n",
       "      <td>0.642882</td>\n",
       "      <td>C3</td>\n",
       "    </tr>\n",
       "    <tr>\n",
       "      <th>8</th>\n",
       "      <td>0.609756</td>\n",
       "      <td>0.322991</td>\n",
       "      <td>-0.472312</td>\n",
       "      <td>-0.080265</td>\n",
       "      <td>C2</td>\n",
       "    </tr>\n",
       "    <tr>\n",
       "      <th>9</th>\n",
       "      <td>1.498049</td>\n",
       "      <td>-0.490725</td>\n",
       "      <td>1.232784</td>\n",
       "      <td>0.985284</td>\n",
       "      <td>C2</td>\n",
       "    </tr>\n",
       "  </tbody>\n",
       "</table>\n",
       "</div>"
      ],
      "text/plain": [
       "        No1       No2       No3       No4 Category\n",
       "0  0.631556  3.202398  1.297235 -1.158404       C2\n",
       "1  0.536551 -0.234916  0.390577 -1.015285       C2\n",
       "2  1.256590  0.922077 -1.183209  1.027427       C2\n",
       "3  0.990928  1.296235 -0.214162  1.658009       C1\n",
       "4  0.471126 -0.957730 -0.170903  1.263156       C1\n",
       "5  1.134239 -0.248403 -0.490439 -0.630610       C3\n",
       "6  1.735694 -0.048634  0.298786  1.277277       C1\n",
       "7 -0.990470  1.072980 -1.556096  0.642882       C3\n",
       "8  0.609756  0.322991 -0.472312 -0.080265       C2\n",
       "9  1.498049 -0.490725  1.232784  0.985284       C2"
      ]
     },
     "execution_count": 34,
     "metadata": {},
     "output_type": "execute_result"
    }
   ],
   "source": [
    "df"
   ]
  },
  {
   "cell_type": "code",
   "execution_count": 37,
   "metadata": {},
   "outputs": [],
   "source": [
    "groups = df.groupby('Category')"
   ]
  },
  {
   "cell_type": "code",
   "execution_count": 38,
   "metadata": {},
   "outputs": [
    {
     "data": {
      "text/plain": [
       "<pandas.core.groupby.generic.DataFrameGroupBy object at 0x000001ED702E65E0>"
      ]
     },
     "execution_count": 38,
     "metadata": {},
     "output_type": "execute_result"
    }
   ],
   "source": [
    "groups"
   ]
  },
  {
   "cell_type": "code",
   "execution_count": 39,
   "metadata": {},
   "outputs": [
    {
     "data": {
      "text/html": [
       "<div>\n",
       "<style scoped>\n",
       "    .dataframe tbody tr th:only-of-type {\n",
       "        vertical-align: middle;\n",
       "    }\n",
       "\n",
       "    .dataframe tbody tr th {\n",
       "        vertical-align: top;\n",
       "    }\n",
       "\n",
       "    .dataframe thead th {\n",
       "        text-align: right;\n",
       "    }\n",
       "</style>\n",
       "<table border=\"1\" class=\"dataframe\">\n",
       "  <thead>\n",
       "    <tr style=\"text-align: right;\">\n",
       "      <th></th>\n",
       "      <th>No1</th>\n",
       "      <th>No2</th>\n",
       "      <th>No3</th>\n",
       "      <th>No4</th>\n",
       "    </tr>\n",
       "    <tr>\n",
       "      <th>Category</th>\n",
       "      <th></th>\n",
       "      <th></th>\n",
       "      <th></th>\n",
       "      <th></th>\n",
       "    </tr>\n",
       "  </thead>\n",
       "  <tbody>\n",
       "    <tr>\n",
       "      <th>C1</th>\n",
       "      <td>1.065916</td>\n",
       "      <td>0.096624</td>\n",
       "      <td>-0.028760</td>\n",
       "      <td>1.399481</td>\n",
       "    </tr>\n",
       "    <tr>\n",
       "      <th>C2</th>\n",
       "      <td>0.906500</td>\n",
       "      <td>0.744365</td>\n",
       "      <td>0.253015</td>\n",
       "      <td>-0.048249</td>\n",
       "    </tr>\n",
       "    <tr>\n",
       "      <th>C3</th>\n",
       "      <td>0.071885</td>\n",
       "      <td>0.412289</td>\n",
       "      <td>-1.023268</td>\n",
       "      <td>0.006136</td>\n",
       "    </tr>\n",
       "  </tbody>\n",
       "</table>\n",
       "</div>"
      ],
      "text/plain": [
       "               No1       No2       No3       No4\n",
       "Category                                        \n",
       "C1        1.065916  0.096624 -0.028760  1.399481\n",
       "C2        0.906500  0.744365  0.253015 -0.048249\n",
       "C3        0.071885  0.412289 -1.023268  0.006136"
      ]
     },
     "execution_count": 39,
     "metadata": {},
     "output_type": "execute_result"
    }
   ],
   "source": [
    "groups.mean()"
   ]
  },
  {
   "cell_type": "markdown",
   "metadata": {
    "tags": []
   },
   "source": [
    "### Pandas進階補充\n",
    "- [可以參考](https://github.com/victorgau/khpy_pandas_intro)"
   ]
  },
  {
   "cell_type": "code",
   "execution_count": null,
   "metadata": {},
   "outputs": [],
   "source": []
  },
  {
   "cell_type": "markdown",
   "metadata": {},
   "source": [
    "## Pandas: csv資料處理 (以公共腳踏車為例)"
   ]
  },
  {
   "cell_type": "code",
   "execution_count": null,
   "metadata": {},
   "outputs": [],
   "source": []
  },
  {
   "cell_type": "markdown",
   "metadata": {},
   "source": [
    "## Pandas: 資料庫"
   ]
  },
  {
   "cell_type": "code",
   "execution_count": null,
   "metadata": {},
   "outputs": [],
   "source": []
  }
 ],
 "metadata": {
  "kernelspec": {
   "display_name": "Python 3 (ipykernel)",
   "language": "python",
   "name": "python3"
  },
  "language_info": {
   "codemirror_mode": {
    "name": "ipython",
    "version": 3
   },
   "file_extension": ".py",
   "mimetype": "text/x-python",
   "name": "python",
   "nbconvert_exporter": "python",
   "pygments_lexer": "ipython3",
   "version": "3.9.7"
  }
 },
 "nbformat": 4,
 "nbformat_minor": 4
}
