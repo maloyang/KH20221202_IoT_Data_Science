{
 "cells": [
  {
   "cell_type": "markdown",
   "metadata": {},
   "source": [
    "## Pandas\n",
    "----\n",
    "- 常被使用來做資料整理、分析的套件\n",
    "- [user_guide](https://pandas.pydata.org/docs/user_guide/index.html)\n",
    "- [API Reference](https://pandas.pydata.org/pandas-docs/stable/reference/index.html)\n",
    "- [參考資料](https://github.com/victorgau/KHPY20180820)"
   ]
  },
  {
   "cell_type": "code",
   "execution_count": 1,
   "metadata": {},
   "outputs": [],
   "source": [
    "import pandas as pd"
   ]
  },
  {
   "cell_type": "code",
   "execution_count": 2,
   "metadata": {},
   "outputs": [],
   "source": [
    "%matplotlib inline\n",
    "\n",
    "import numpy as np\n",
    "from datetime import datetime"
   ]
  },
  {
   "cell_type": "code",
   "execution_count": 3,
   "metadata": {},
   "outputs": [
    {
     "data": {
      "text/plain": [
       "'1.3.4'"
      ]
     },
     "execution_count": 3,
     "metadata": {},
     "output_type": "execute_result"
    }
   ],
   "source": [
    "pd.__version__"
   ]
  },
  {
   "cell_type": "markdown",
   "metadata": {},
   "source": [
    "- Serial"
   ]
  },
  {
   "cell_type": "code",
   "execution_count": 4,
   "metadata": {},
   "outputs": [
    {
     "data": {
      "text/plain": [
       "0    1\n",
       "1    2\n",
       "2    3\n",
       "3    4\n",
       "4    5\n",
       "dtype: int64"
      ]
     },
     "execution_count": 4,
     "metadata": {},
     "output_type": "execute_result"
    }
   ],
   "source": [
    "s1 = pd.Series([1, 2, 3, 4, 5])\n",
    "s1"
   ]
  },
  {
   "cell_type": "code",
   "execution_count": 5,
   "metadata": {},
   "outputs": [
    {
     "data": {
      "text/plain": [
       "0    1\n",
       "1    2\n",
       "2    3\n",
       "3    4\n",
       "4    5\n",
       "dtype: int64"
      ]
     },
     "execution_count": 5,
     "metadata": {},
     "output_type": "execute_result"
    }
   ],
   "source": [
    "s2 = pd.Series([1, 2, 3, 4, 5])\n",
    "s2"
   ]
  },
  {
   "cell_type": "code",
   "execution_count": 6,
   "metadata": {},
   "outputs": [
    {
     "data": {
      "text/plain": [
       "0     2\n",
       "1     4\n",
       "2     6\n",
       "3     8\n",
       "4    10\n",
       "dtype: int64"
      ]
     },
     "execution_count": 6,
     "metadata": {},
     "output_type": "execute_result"
    }
   ],
   "source": [
    "s1+s2"
   ]
  },
  {
   "cell_type": "markdown",
   "metadata": {},
   "source": [
    "- DataFrame"
   ]
  },
  {
   "cell_type": "code",
   "execution_count": 7,
   "metadata": {},
   "outputs": [],
   "source": [
    "data = np.random.randn(10, 4)"
   ]
  },
  {
   "cell_type": "code",
   "execution_count": 8,
   "metadata": {},
   "outputs": [
    {
     "data": {
      "text/plain": [
       "array([[-1.35569848,  2.36375011, -0.8284661 , -0.62969361],\n",
       "       [ 1.88246628, -0.23479671, -0.24505847, -0.27218168],\n",
       "       [ 1.84121569, -1.23026046,  0.65163997, -0.51917967],\n",
       "       [-0.64045251,  0.3693975 ,  0.6757684 , -0.08288108],\n",
       "       [ 0.37277975,  0.74140116, -0.65008475,  0.83643495],\n",
       "       [ 1.90779247,  1.08164666,  1.76050364, -0.58330656],\n",
       "       [-1.04775851,  0.58548789, -1.69666176, -0.77676646],\n",
       "       [-0.195233  , -1.29871764, -0.52019654,  1.01958301],\n",
       "       [-0.02464611, -0.63210694,  0.6657041 , -1.31048252],\n",
       "       [ 0.20886782,  0.30930615, -1.44744248, -1.73199033]])"
      ]
     },
     "execution_count": 8,
     "metadata": {},
     "output_type": "execute_result"
    }
   ],
   "source": [
    "data"
   ]
  },
  {
   "cell_type": "code",
   "execution_count": 9,
   "metadata": {},
   "outputs": [
    {
     "data": {
      "text/html": [
       "<div>\n",
       "<style scoped>\n",
       "    .dataframe tbody tr th:only-of-type {\n",
       "        vertical-align: middle;\n",
       "    }\n",
       "\n",
       "    .dataframe tbody tr th {\n",
       "        vertical-align: top;\n",
       "    }\n",
       "\n",
       "    .dataframe thead th {\n",
       "        text-align: right;\n",
       "    }\n",
       "</style>\n",
       "<table border=\"1\" class=\"dataframe\">\n",
       "  <thead>\n",
       "    <tr style=\"text-align: right;\">\n",
       "      <th></th>\n",
       "      <th>0</th>\n",
       "      <th>1</th>\n",
       "      <th>2</th>\n",
       "      <th>3</th>\n",
       "    </tr>\n",
       "  </thead>\n",
       "  <tbody>\n",
       "    <tr>\n",
       "      <th>0</th>\n",
       "      <td>-1.355698</td>\n",
       "      <td>2.363750</td>\n",
       "      <td>-0.828466</td>\n",
       "      <td>-0.629694</td>\n",
       "    </tr>\n",
       "    <tr>\n",
       "      <th>1</th>\n",
       "      <td>1.882466</td>\n",
       "      <td>-0.234797</td>\n",
       "      <td>-0.245058</td>\n",
       "      <td>-0.272182</td>\n",
       "    </tr>\n",
       "    <tr>\n",
       "      <th>2</th>\n",
       "      <td>1.841216</td>\n",
       "      <td>-1.230260</td>\n",
       "      <td>0.651640</td>\n",
       "      <td>-0.519180</td>\n",
       "    </tr>\n",
       "    <tr>\n",
       "      <th>3</th>\n",
       "      <td>-0.640453</td>\n",
       "      <td>0.369398</td>\n",
       "      <td>0.675768</td>\n",
       "      <td>-0.082881</td>\n",
       "    </tr>\n",
       "    <tr>\n",
       "      <th>4</th>\n",
       "      <td>0.372780</td>\n",
       "      <td>0.741401</td>\n",
       "      <td>-0.650085</td>\n",
       "      <td>0.836435</td>\n",
       "    </tr>\n",
       "    <tr>\n",
       "      <th>5</th>\n",
       "      <td>1.907792</td>\n",
       "      <td>1.081647</td>\n",
       "      <td>1.760504</td>\n",
       "      <td>-0.583307</td>\n",
       "    </tr>\n",
       "    <tr>\n",
       "      <th>6</th>\n",
       "      <td>-1.047759</td>\n",
       "      <td>0.585488</td>\n",
       "      <td>-1.696662</td>\n",
       "      <td>-0.776766</td>\n",
       "    </tr>\n",
       "    <tr>\n",
       "      <th>7</th>\n",
       "      <td>-0.195233</td>\n",
       "      <td>-1.298718</td>\n",
       "      <td>-0.520197</td>\n",
       "      <td>1.019583</td>\n",
       "    </tr>\n",
       "    <tr>\n",
       "      <th>8</th>\n",
       "      <td>-0.024646</td>\n",
       "      <td>-0.632107</td>\n",
       "      <td>0.665704</td>\n",
       "      <td>-1.310483</td>\n",
       "    </tr>\n",
       "    <tr>\n",
       "      <th>9</th>\n",
       "      <td>0.208868</td>\n",
       "      <td>0.309306</td>\n",
       "      <td>-1.447442</td>\n",
       "      <td>-1.731990</td>\n",
       "    </tr>\n",
       "  </tbody>\n",
       "</table>\n",
       "</div>"
      ],
      "text/plain": [
       "          0         1         2         3\n",
       "0 -1.355698  2.363750 -0.828466 -0.629694\n",
       "1  1.882466 -0.234797 -0.245058 -0.272182\n",
       "2  1.841216 -1.230260  0.651640 -0.519180\n",
       "3 -0.640453  0.369398  0.675768 -0.082881\n",
       "4  0.372780  0.741401 -0.650085  0.836435\n",
       "5  1.907792  1.081647  1.760504 -0.583307\n",
       "6 -1.047759  0.585488 -1.696662 -0.776766\n",
       "7 -0.195233 -1.298718 -0.520197  1.019583\n",
       "8 -0.024646 -0.632107  0.665704 -1.310483\n",
       "9  0.208868  0.309306 -1.447442 -1.731990"
      ]
     },
     "execution_count": 9,
     "metadata": {},
     "output_type": "execute_result"
    }
   ],
   "source": [
    "df = pd.DataFrame(data)\n",
    "df"
   ]
  },
  {
   "cell_type": "code",
   "execution_count": 10,
   "metadata": {},
   "outputs": [
    {
     "data": {
      "text/html": [
       "<div>\n",
       "<style scoped>\n",
       "    .dataframe tbody tr th:only-of-type {\n",
       "        vertical-align: middle;\n",
       "    }\n",
       "\n",
       "    .dataframe tbody tr th {\n",
       "        vertical-align: top;\n",
       "    }\n",
       "\n",
       "    .dataframe thead th {\n",
       "        text-align: right;\n",
       "    }\n",
       "</style>\n",
       "<table border=\"1\" class=\"dataframe\">\n",
       "  <thead>\n",
       "    <tr style=\"text-align: right;\">\n",
       "      <th></th>\n",
       "      <th>No1</th>\n",
       "      <th>No2</th>\n",
       "      <th>No3</th>\n",
       "      <th>No4</th>\n",
       "    </tr>\n",
       "  </thead>\n",
       "  <tbody>\n",
       "    <tr>\n",
       "      <th>0</th>\n",
       "      <td>-1.355698</td>\n",
       "      <td>2.363750</td>\n",
       "      <td>-0.828466</td>\n",
       "      <td>-0.629694</td>\n",
       "    </tr>\n",
       "    <tr>\n",
       "      <th>1</th>\n",
       "      <td>1.882466</td>\n",
       "      <td>-0.234797</td>\n",
       "      <td>-0.245058</td>\n",
       "      <td>-0.272182</td>\n",
       "    </tr>\n",
       "    <tr>\n",
       "      <th>2</th>\n",
       "      <td>1.841216</td>\n",
       "      <td>-1.230260</td>\n",
       "      <td>0.651640</td>\n",
       "      <td>-0.519180</td>\n",
       "    </tr>\n",
       "    <tr>\n",
       "      <th>3</th>\n",
       "      <td>-0.640453</td>\n",
       "      <td>0.369398</td>\n",
       "      <td>0.675768</td>\n",
       "      <td>-0.082881</td>\n",
       "    </tr>\n",
       "    <tr>\n",
       "      <th>4</th>\n",
       "      <td>0.372780</td>\n",
       "      <td>0.741401</td>\n",
       "      <td>-0.650085</td>\n",
       "      <td>0.836435</td>\n",
       "    </tr>\n",
       "    <tr>\n",
       "      <th>5</th>\n",
       "      <td>1.907792</td>\n",
       "      <td>1.081647</td>\n",
       "      <td>1.760504</td>\n",
       "      <td>-0.583307</td>\n",
       "    </tr>\n",
       "    <tr>\n",
       "      <th>6</th>\n",
       "      <td>-1.047759</td>\n",
       "      <td>0.585488</td>\n",
       "      <td>-1.696662</td>\n",
       "      <td>-0.776766</td>\n",
       "    </tr>\n",
       "    <tr>\n",
       "      <th>7</th>\n",
       "      <td>-0.195233</td>\n",
       "      <td>-1.298718</td>\n",
       "      <td>-0.520197</td>\n",
       "      <td>1.019583</td>\n",
       "    </tr>\n",
       "    <tr>\n",
       "      <th>8</th>\n",
       "      <td>-0.024646</td>\n",
       "      <td>-0.632107</td>\n",
       "      <td>0.665704</td>\n",
       "      <td>-1.310483</td>\n",
       "    </tr>\n",
       "    <tr>\n",
       "      <th>9</th>\n",
       "      <td>0.208868</td>\n",
       "      <td>0.309306</td>\n",
       "      <td>-1.447442</td>\n",
       "      <td>-1.731990</td>\n",
       "    </tr>\n",
       "  </tbody>\n",
       "</table>\n",
       "</div>"
      ],
      "text/plain": [
       "        No1       No2       No3       No4\n",
       "0 -1.355698  2.363750 -0.828466 -0.629694\n",
       "1  1.882466 -0.234797 -0.245058 -0.272182\n",
       "2  1.841216 -1.230260  0.651640 -0.519180\n",
       "3 -0.640453  0.369398  0.675768 -0.082881\n",
       "4  0.372780  0.741401 -0.650085  0.836435\n",
       "5  1.907792  1.081647  1.760504 -0.583307\n",
       "6 -1.047759  0.585488 -1.696662 -0.776766\n",
       "7 -0.195233 -1.298718 -0.520197  1.019583\n",
       "8 -0.024646 -0.632107  0.665704 -1.310483\n",
       "9  0.208868  0.309306 -1.447442 -1.731990"
      ]
     },
     "execution_count": 10,
     "metadata": {},
     "output_type": "execute_result"
    }
   ],
   "source": [
    "df.columns = ['No1', 'No2', 'No3', 'No4']\n",
    "df"
   ]
  },
  {
   "cell_type": "code",
   "execution_count": 11,
   "metadata": {},
   "outputs": [
    {
     "data": {
      "text/html": [
       "<div>\n",
       "<style scoped>\n",
       "    .dataframe tbody tr th:only-of-type {\n",
       "        vertical-align: middle;\n",
       "    }\n",
       "\n",
       "    .dataframe tbody tr th {\n",
       "        vertical-align: top;\n",
       "    }\n",
       "\n",
       "    .dataframe thead th {\n",
       "        text-align: right;\n",
       "    }\n",
       "</style>\n",
       "<table border=\"1\" class=\"dataframe\">\n",
       "  <thead>\n",
       "    <tr style=\"text-align: right;\">\n",
       "      <th></th>\n",
       "      <th>No1</th>\n",
       "      <th>No2</th>\n",
       "      <th>No3</th>\n",
       "      <th>No4</th>\n",
       "    </tr>\n",
       "  </thead>\n",
       "  <tbody>\n",
       "    <tr>\n",
       "      <th>2016-01-01</th>\n",
       "      <td>-1.355698</td>\n",
       "      <td>2.363750</td>\n",
       "      <td>-0.828466</td>\n",
       "      <td>-0.629694</td>\n",
       "    </tr>\n",
       "    <tr>\n",
       "      <th>2016-01-02</th>\n",
       "      <td>1.882466</td>\n",
       "      <td>-0.234797</td>\n",
       "      <td>-0.245058</td>\n",
       "      <td>-0.272182</td>\n",
       "    </tr>\n",
       "    <tr>\n",
       "      <th>2016-01-03</th>\n",
       "      <td>1.841216</td>\n",
       "      <td>-1.230260</td>\n",
       "      <td>0.651640</td>\n",
       "      <td>-0.519180</td>\n",
       "    </tr>\n",
       "    <tr>\n",
       "      <th>2016-01-04</th>\n",
       "      <td>-0.640453</td>\n",
       "      <td>0.369398</td>\n",
       "      <td>0.675768</td>\n",
       "      <td>-0.082881</td>\n",
       "    </tr>\n",
       "    <tr>\n",
       "      <th>2016-01-05</th>\n",
       "      <td>0.372780</td>\n",
       "      <td>0.741401</td>\n",
       "      <td>-0.650085</td>\n",
       "      <td>0.836435</td>\n",
       "    </tr>\n",
       "    <tr>\n",
       "      <th>2016-01-06</th>\n",
       "      <td>1.907792</td>\n",
       "      <td>1.081647</td>\n",
       "      <td>1.760504</td>\n",
       "      <td>-0.583307</td>\n",
       "    </tr>\n",
       "    <tr>\n",
       "      <th>2016-01-07</th>\n",
       "      <td>-1.047759</td>\n",
       "      <td>0.585488</td>\n",
       "      <td>-1.696662</td>\n",
       "      <td>-0.776766</td>\n",
       "    </tr>\n",
       "    <tr>\n",
       "      <th>2016-01-08</th>\n",
       "      <td>-0.195233</td>\n",
       "      <td>-1.298718</td>\n",
       "      <td>-0.520197</td>\n",
       "      <td>1.019583</td>\n",
       "    </tr>\n",
       "    <tr>\n",
       "      <th>2016-01-09</th>\n",
       "      <td>-0.024646</td>\n",
       "      <td>-0.632107</td>\n",
       "      <td>0.665704</td>\n",
       "      <td>-1.310483</td>\n",
       "    </tr>\n",
       "    <tr>\n",
       "      <th>2016-01-10</th>\n",
       "      <td>0.208868</td>\n",
       "      <td>0.309306</td>\n",
       "      <td>-1.447442</td>\n",
       "      <td>-1.731990</td>\n",
       "    </tr>\n",
       "  </tbody>\n",
       "</table>\n",
       "</div>"
      ],
      "text/plain": [
       "                 No1       No2       No3       No4\n",
       "2016-01-01 -1.355698  2.363750 -0.828466 -0.629694\n",
       "2016-01-02  1.882466 -0.234797 -0.245058 -0.272182\n",
       "2016-01-03  1.841216 -1.230260  0.651640 -0.519180\n",
       "2016-01-04 -0.640453  0.369398  0.675768 -0.082881\n",
       "2016-01-05  0.372780  0.741401 -0.650085  0.836435\n",
       "2016-01-06  1.907792  1.081647  1.760504 -0.583307\n",
       "2016-01-07 -1.047759  0.585488 -1.696662 -0.776766\n",
       "2016-01-08 -0.195233 -1.298718 -0.520197  1.019583\n",
       "2016-01-09 -0.024646 -0.632107  0.665704 -1.310483\n",
       "2016-01-10  0.208868  0.309306 -1.447442 -1.731990"
      ]
     },
     "execution_count": 11,
     "metadata": {},
     "output_type": "execute_result"
    }
   ],
   "source": [
    "df.index = pd.date_range('2016-01-01', periods=10)\n",
    "df"
   ]
  },
  {
   "cell_type": "code",
   "execution_count": 12,
   "metadata": {},
   "outputs": [
    {
     "data": {
      "text/plain": [
       "No1    1.907792\n",
       "No2    1.081647\n",
       "No3    1.760504\n",
       "No4   -0.583307\n",
       "Name: 2016-01-06 00:00:00, dtype: float64"
      ]
     },
     "execution_count": 12,
     "metadata": {},
     "output_type": "execute_result"
    }
   ],
   "source": [
    "df.loc['2016-01-06']"
   ]
  },
  {
   "cell_type": "code",
   "execution_count": 13,
   "metadata": {},
   "outputs": [
    {
     "data": {
      "text/plain": [
       "2016-01-01   -1.355698\n",
       "2016-01-02    1.882466\n",
       "2016-01-03    1.841216\n",
       "2016-01-04   -0.640453\n",
       "2016-01-05    0.372780\n",
       "2016-01-06    1.907792\n",
       "2016-01-07   -1.047759\n",
       "2016-01-08   -0.195233\n",
       "2016-01-09   -0.024646\n",
       "2016-01-10    0.208868\n",
       "Freq: D, Name: No1, dtype: float64"
      ]
     },
     "execution_count": 13,
     "metadata": {},
     "output_type": "execute_result"
    }
   ],
   "source": [
    "df['No1']"
   ]
  },
  {
   "cell_type": "code",
   "execution_count": 14,
   "metadata": {},
   "outputs": [
    {
     "data": {
      "text/plain": [
       "No1    1.882466\n",
       "No2   -0.234797\n",
       "No3   -0.245058\n",
       "No4   -0.272182\n",
       "Name: 2016-01-02 00:00:00, dtype: float64"
      ]
     },
     "execution_count": 14,
     "metadata": {},
     "output_type": "execute_result"
    }
   ],
   "source": [
    "df.iloc[1]"
   ]
  },
  {
   "cell_type": "markdown",
   "metadata": {},
   "source": [
    "## 使用 Pandas 作資料存取"
   ]
  },
  {
   "cell_type": "markdown",
   "metadata": {},
   "source": [
    "### 使用 read_csv() 讀取資料\n",
    "- [ref](https://pandas.pydata.org/pandas-docs/stable/reference/api/pandas.read_csv.html)"
   ]
  },
  {
   "cell_type": "code",
   "execution_count": 15,
   "metadata": {},
   "outputs": [],
   "source": [
    "#df = pd.read_csv(\"2018_kh_data.csv\", encoding=\"utf8\", header=0)\n",
    "df = pd.read_csv(\"2018_kh_data.csv\", encoding=\"Big5\", header=0)"
   ]
  },
  {
   "cell_type": "code",
   "execution_count": 17,
   "metadata": {},
   "outputs": [
    {
     "data": {
      "text/html": [
       "<div>\n",
       "<style scoped>\n",
       "    .dataframe tbody tr th:only-of-type {\n",
       "        vertical-align: middle;\n",
       "    }\n",
       "\n",
       "    .dataframe tbody tr th {\n",
       "        vertical-align: top;\n",
       "    }\n",
       "\n",
       "    .dataframe thead th {\n",
       "        text-align: right;\n",
       "    }\n",
       "</style>\n",
       "<table border=\"1\" class=\"dataframe\">\n",
       "  <thead>\n",
       "    <tr style=\"text-align: right;\">\n",
       "      <th></th>\n",
       "      <th>Name</th>\n",
       "      <th>Date</th>\n",
       "      <th>TSP</th>\n",
       "      <th>PM10</th>\n",
       "      <th>Chloride</th>\n",
       "      <th>Nitrate</th>\n",
       "      <th>Sulfate</th>\n",
       "      <th>Lead</th>\n",
       "      <th>Dust</th>\n",
       "    </tr>\n",
       "  </thead>\n",
       "  <tbody>\n",
       "    <tr>\n",
       "      <th>0</th>\n",
       "      <td>大社工業區</td>\n",
       "      <td>2018年1月</td>\n",
       "      <td>93</td>\n",
       "      <td>NaN</td>\n",
       "      <td>NaN</td>\n",
       "      <td>NaN</td>\n",
       "      <td>NaN</td>\n",
       "      <td>0.029</td>\n",
       "      <td>3.60</td>\n",
       "    </tr>\n",
       "    <tr>\n",
       "      <th>1</th>\n",
       "      <td>大寮區公所</td>\n",
       "      <td>2018年1月</td>\n",
       "      <td>79</td>\n",
       "      <td>NaN</td>\n",
       "      <td>NaN</td>\n",
       "      <td>NaN</td>\n",
       "      <td>NaN</td>\n",
       "      <td>0.042</td>\n",
       "      <td>1.54</td>\n",
       "    </tr>\n",
       "    <tr>\n",
       "      <th>2</th>\n",
       "      <td>大樹監測站</td>\n",
       "      <td>2018年1月</td>\n",
       "      <td>61</td>\n",
       "      <td>NaN</td>\n",
       "      <td>NaN</td>\n",
       "      <td>NaN</td>\n",
       "      <td>NaN</td>\n",
       "      <td>0.020</td>\n",
       "      <td>1.18</td>\n",
       "    </tr>\n",
       "    <tr>\n",
       "      <th>3</th>\n",
       "      <td>仁武國中</td>\n",
       "      <td>2018年1月</td>\n",
       "      <td>79</td>\n",
       "      <td>NaN</td>\n",
       "      <td>NaN</td>\n",
       "      <td>NaN</td>\n",
       "      <td>NaN</td>\n",
       "      <td>0.058</td>\n",
       "      <td>2.68</td>\n",
       "    </tr>\n",
       "    <tr>\n",
       "      <th>4</th>\n",
       "      <td>半屏山電信局</td>\n",
       "      <td>2018年1月</td>\n",
       "      <td>104</td>\n",
       "      <td>67.0</td>\n",
       "      <td>NaN</td>\n",
       "      <td>NaN</td>\n",
       "      <td>NaN</td>\n",
       "      <td>0.014</td>\n",
       "      <td>1.21</td>\n",
       "    </tr>\n",
       "    <tr>\n",
       "      <th>5</th>\n",
       "      <td>左營國小</td>\n",
       "      <td>2018年1月</td>\n",
       "      <td>98</td>\n",
       "      <td>64.0</td>\n",
       "      <td>NaN</td>\n",
       "      <td>NaN</td>\n",
       "      <td>NaN</td>\n",
       "      <td>0.006</td>\n",
       "      <td>1.13</td>\n",
       "    </tr>\n",
       "    <tr>\n",
       "      <th>6</th>\n",
       "      <td>永安工業區</td>\n",
       "      <td>2018年1月</td>\n",
       "      <td>83</td>\n",
       "      <td>NaN</td>\n",
       "      <td>NaN</td>\n",
       "      <td>NaN</td>\n",
       "      <td>NaN</td>\n",
       "      <td>0.052</td>\n",
       "      <td>2.96</td>\n",
       "    </tr>\n",
       "    <tr>\n",
       "      <th>7</th>\n",
       "      <td>西子灣中山大學</td>\n",
       "      <td>2018年1月</td>\n",
       "      <td>84</td>\n",
       "      <td>60.0</td>\n",
       "      <td>NaN</td>\n",
       "      <td>NaN</td>\n",
       "      <td>NaN</td>\n",
       "      <td>0.043</td>\n",
       "      <td>1.31</td>\n",
       "    </tr>\n",
       "    <tr>\n",
       "      <th>8</th>\n",
       "      <td>岡山醫院</td>\n",
       "      <td>2018年1月</td>\n",
       "      <td>102</td>\n",
       "      <td>NaN</td>\n",
       "      <td>NaN</td>\n",
       "      <td>NaN</td>\n",
       "      <td>NaN</td>\n",
       "      <td>0.076</td>\n",
       "      <td>3.11</td>\n",
       "    </tr>\n",
       "    <tr>\n",
       "      <th>9</th>\n",
       "      <td>林園工業區</td>\n",
       "      <td>2018年1月</td>\n",
       "      <td>90</td>\n",
       "      <td>NaN</td>\n",
       "      <td>NaN</td>\n",
       "      <td>NaN</td>\n",
       "      <td>NaN</td>\n",
       "      <td>0.042</td>\n",
       "      <td>2.01</td>\n",
       "    </tr>\n",
       "  </tbody>\n",
       "</table>\n",
       "</div>"
      ],
      "text/plain": [
       "      Name     Date  TSP  PM10  Chloride  Nitrate  Sulfate   Lead  Dust\n",
       "0    大社工業區  2018年1月   93   NaN       NaN      NaN      NaN  0.029  3.60\n",
       "1    大寮區公所  2018年1月   79   NaN       NaN      NaN      NaN  0.042  1.54\n",
       "2    大樹監測站  2018年1月   61   NaN       NaN      NaN      NaN  0.020  1.18\n",
       "3     仁武國中  2018年1月   79   NaN       NaN      NaN      NaN  0.058  2.68\n",
       "4   半屏山電信局  2018年1月  104  67.0       NaN      NaN      NaN  0.014  1.21\n",
       "5     左營國小  2018年1月   98  64.0       NaN      NaN      NaN  0.006  1.13\n",
       "6    永安工業區  2018年1月   83   NaN       NaN      NaN      NaN  0.052  2.96\n",
       "7  西子灣中山大學  2018年1月   84  60.0       NaN      NaN      NaN  0.043  1.31\n",
       "8     岡山醫院  2018年1月  102   NaN       NaN      NaN      NaN  0.076  3.11\n",
       "9    林園工業區  2018年1月   90   NaN       NaN      NaN      NaN  0.042  2.01"
      ]
     },
     "execution_count": 17,
     "metadata": {},
     "output_type": "execute_result"
    }
   ],
   "source": [
    "df.head(10)"
   ]
  },
  {
   "cell_type": "code",
   "execution_count": 19,
   "metadata": {},
   "outputs": [
    {
     "data": {
      "text/html": [
       "<div>\n",
       "<style scoped>\n",
       "    .dataframe tbody tr th:only-of-type {\n",
       "        vertical-align: middle;\n",
       "    }\n",
       "\n",
       "    .dataframe tbody tr th {\n",
       "        vertical-align: top;\n",
       "    }\n",
       "\n",
       "    .dataframe thead th {\n",
       "        text-align: right;\n",
       "    }\n",
       "</style>\n",
       "<table border=\"1\" class=\"dataframe\">\n",
       "  <thead>\n",
       "    <tr style=\"text-align: right;\">\n",
       "      <th></th>\n",
       "      <th>Name</th>\n",
       "      <th>Date</th>\n",
       "      <th>TSP</th>\n",
       "      <th>PM10</th>\n",
       "      <th>Chloride</th>\n",
       "      <th>Nitrate</th>\n",
       "      <th>Sulfate</th>\n",
       "      <th>Lead</th>\n",
       "      <th>Dust</th>\n",
       "    </tr>\n",
       "  </thead>\n",
       "  <tbody>\n",
       "    <tr>\n",
       "      <th>226</th>\n",
       "      <td>前鎮國小</td>\n",
       "      <td>2018年12月</td>\n",
       "      <td>111</td>\n",
       "      <td>68.0</td>\n",
       "      <td>6.65</td>\n",
       "      <td>25.6</td>\n",
       "      <td>18.5</td>\n",
       "      <td>0.043</td>\n",
       "      <td>2.38</td>\n",
       "    </tr>\n",
       "    <tr>\n",
       "      <th>227</th>\n",
       "      <td>莊敬國小</td>\n",
       "      <td>2018年12月</td>\n",
       "      <td>110</td>\n",
       "      <td>83.0</td>\n",
       "      <td>7.20</td>\n",
       "      <td>24.1</td>\n",
       "      <td>16.5</td>\n",
       "      <td>0.031</td>\n",
       "      <td>1.84</td>\n",
       "    </tr>\n",
       "    <tr>\n",
       "      <th>228</th>\n",
       "      <td>愛國國小</td>\n",
       "      <td>2018年12月</td>\n",
       "      <td>100</td>\n",
       "      <td>49.0</td>\n",
       "      <td>7.34</td>\n",
       "      <td>27.8</td>\n",
       "      <td>16.6</td>\n",
       "      <td>0.030</td>\n",
       "      <td>2.09</td>\n",
       "    </tr>\n",
       "    <tr>\n",
       "      <th>229</th>\n",
       "      <td>楠梓區清潔隊</td>\n",
       "      <td>2018年12月</td>\n",
       "      <td>84</td>\n",
       "      <td>52.0</td>\n",
       "      <td>1.74</td>\n",
       "      <td>14.4</td>\n",
       "      <td>10.6</td>\n",
       "      <td>0.001</td>\n",
       "      <td>2.49</td>\n",
       "    </tr>\n",
       "    <tr>\n",
       "      <th>230</th>\n",
       "      <td>路竹地政事務所</td>\n",
       "      <td>2018年12月</td>\n",
       "      <td>112</td>\n",
       "      <td>NaN</td>\n",
       "      <td>2.04</td>\n",
       "      <td>13.6</td>\n",
       "      <td>12.1</td>\n",
       "      <td>0.012</td>\n",
       "      <td>2.77</td>\n",
       "    </tr>\n",
       "    <tr>\n",
       "      <th>231</th>\n",
       "      <td>鼓山圖書分館</td>\n",
       "      <td>2018年12月</td>\n",
       "      <td>80</td>\n",
       "      <td>49.0</td>\n",
       "      <td>10.80</td>\n",
       "      <td>21.1</td>\n",
       "      <td>14.9</td>\n",
       "      <td>0.018</td>\n",
       "      <td>1.37</td>\n",
       "    </tr>\n",
       "    <tr>\n",
       "      <th>232</th>\n",
       "      <td>衛生局中正辦公室</td>\n",
       "      <td>2018年12月</td>\n",
       "      <td>93</td>\n",
       "      <td>46.0</td>\n",
       "      <td>9.53</td>\n",
       "      <td>20.0</td>\n",
       "      <td>14.9</td>\n",
       "      <td>0.012</td>\n",
       "      <td>1.95</td>\n",
       "    </tr>\n",
       "    <tr>\n",
       "      <th>233</th>\n",
       "      <td>環保局環境檢驗科</td>\n",
       "      <td>2018年12月</td>\n",
       "      <td>97</td>\n",
       "      <td>50.0</td>\n",
       "      <td>7.66</td>\n",
       "      <td>25.5</td>\n",
       "      <td>15.8</td>\n",
       "      <td>0.030</td>\n",
       "      <td>2.07</td>\n",
       "    </tr>\n",
       "  </tbody>\n",
       "</table>\n",
       "</div>"
      ],
      "text/plain": [
       "         Name      Date  TSP  PM10  Chloride  Nitrate  Sulfate   Lead  Dust\n",
       "226      前鎮國小  2018年12月  111  68.0      6.65     25.6     18.5  0.043  2.38\n",
       "227      莊敬國小  2018年12月  110  83.0      7.20     24.1     16.5  0.031  1.84\n",
       "228      愛國國小  2018年12月  100  49.0      7.34     27.8     16.6  0.030  2.09\n",
       "229    楠梓區清潔隊  2018年12月   84  52.0      1.74     14.4     10.6  0.001  2.49\n",
       "230   路竹地政事務所  2018年12月  112   NaN      2.04     13.6     12.1  0.012  2.77\n",
       "231    鼓山圖書分館  2018年12月   80  49.0     10.80     21.1     14.9  0.018  1.37\n",
       "232  衛生局中正辦公室  2018年12月   93  46.0      9.53     20.0     14.9  0.012  1.95\n",
       "233  環保局環境檢驗科  2018年12月   97  50.0      7.66     25.5     15.8  0.030  2.07"
      ]
     },
     "execution_count": 19,
     "metadata": {},
     "output_type": "execute_result"
    }
   ],
   "source": [
    "df.tail(8)"
   ]
  },
  {
   "cell_type": "code",
   "execution_count": 20,
   "metadata": {
    "tags": []
   },
   "outputs": [
    {
     "data": {
      "text/html": [
       "<div>\n",
       "<style scoped>\n",
       "    .dataframe tbody tr th:only-of-type {\n",
       "        vertical-align: middle;\n",
       "    }\n",
       "\n",
       "    .dataframe tbody tr th {\n",
       "        vertical-align: top;\n",
       "    }\n",
       "\n",
       "    .dataframe thead th {\n",
       "        text-align: right;\n",
       "    }\n",
       "</style>\n",
       "<table border=\"1\" class=\"dataframe\">\n",
       "  <thead>\n",
       "    <tr style=\"text-align: right;\">\n",
       "      <th></th>\n",
       "      <th>Name</th>\n",
       "      <th>Date</th>\n",
       "      <th>TSP</th>\n",
       "      <th>PM10</th>\n",
       "      <th>Chloride</th>\n",
       "      <th>Nitrate</th>\n",
       "      <th>Sulfate</th>\n",
       "      <th>Lead</th>\n",
       "      <th>Dust</th>\n",
       "    </tr>\n",
       "  </thead>\n",
       "  <tbody>\n",
       "    <tr>\n",
       "      <th>0</th>\n",
       "      <td>大社工業區</td>\n",
       "      <td>2018年1月</td>\n",
       "      <td>93</td>\n",
       "      <td>NaN</td>\n",
       "      <td>NaN</td>\n",
       "      <td>NaN</td>\n",
       "      <td>NaN</td>\n",
       "      <td>0.029</td>\n",
       "      <td>3.60</td>\n",
       "    </tr>\n",
       "    <tr>\n",
       "      <th>1</th>\n",
       "      <td>大寮區公所</td>\n",
       "      <td>2018年1月</td>\n",
       "      <td>79</td>\n",
       "      <td>NaN</td>\n",
       "      <td>NaN</td>\n",
       "      <td>NaN</td>\n",
       "      <td>NaN</td>\n",
       "      <td>0.042</td>\n",
       "      <td>1.54</td>\n",
       "    </tr>\n",
       "    <tr>\n",
       "      <th>2</th>\n",
       "      <td>大樹監測站</td>\n",
       "      <td>2018年1月</td>\n",
       "      <td>61</td>\n",
       "      <td>NaN</td>\n",
       "      <td>NaN</td>\n",
       "      <td>NaN</td>\n",
       "      <td>NaN</td>\n",
       "      <td>0.020</td>\n",
       "      <td>1.18</td>\n",
       "    </tr>\n",
       "    <tr>\n",
       "      <th>3</th>\n",
       "      <td>仁武國中</td>\n",
       "      <td>2018年1月</td>\n",
       "      <td>79</td>\n",
       "      <td>NaN</td>\n",
       "      <td>NaN</td>\n",
       "      <td>NaN</td>\n",
       "      <td>NaN</td>\n",
       "      <td>0.058</td>\n",
       "      <td>2.68</td>\n",
       "    </tr>\n",
       "    <tr>\n",
       "      <th>4</th>\n",
       "      <td>半屏山電信局</td>\n",
       "      <td>2018年1月</td>\n",
       "      <td>104</td>\n",
       "      <td>67.0</td>\n",
       "      <td>NaN</td>\n",
       "      <td>NaN</td>\n",
       "      <td>NaN</td>\n",
       "      <td>0.014</td>\n",
       "      <td>1.21</td>\n",
       "    </tr>\n",
       "    <tr>\n",
       "      <th>...</th>\n",
       "      <td>...</td>\n",
       "      <td>...</td>\n",
       "      <td>...</td>\n",
       "      <td>...</td>\n",
       "      <td>...</td>\n",
       "      <td>...</td>\n",
       "      <td>...</td>\n",
       "      <td>...</td>\n",
       "      <td>...</td>\n",
       "    </tr>\n",
       "    <tr>\n",
       "      <th>228</th>\n",
       "      <td>愛國國小</td>\n",
       "      <td>2018年12月</td>\n",
       "      <td>100</td>\n",
       "      <td>49.0</td>\n",
       "      <td>7.34</td>\n",
       "      <td>27.8</td>\n",
       "      <td>16.6</td>\n",
       "      <td>0.030</td>\n",
       "      <td>2.09</td>\n",
       "    </tr>\n",
       "    <tr>\n",
       "      <th>229</th>\n",
       "      <td>楠梓區清潔隊</td>\n",
       "      <td>2018年12月</td>\n",
       "      <td>84</td>\n",
       "      <td>52.0</td>\n",
       "      <td>1.74</td>\n",
       "      <td>14.4</td>\n",
       "      <td>10.6</td>\n",
       "      <td>0.001</td>\n",
       "      <td>2.49</td>\n",
       "    </tr>\n",
       "    <tr>\n",
       "      <th>230</th>\n",
       "      <td>路竹地政事務所</td>\n",
       "      <td>2018年12月</td>\n",
       "      <td>112</td>\n",
       "      <td>NaN</td>\n",
       "      <td>2.04</td>\n",
       "      <td>13.6</td>\n",
       "      <td>12.1</td>\n",
       "      <td>0.012</td>\n",
       "      <td>2.77</td>\n",
       "    </tr>\n",
       "    <tr>\n",
       "      <th>231</th>\n",
       "      <td>鼓山圖書分館</td>\n",
       "      <td>2018年12月</td>\n",
       "      <td>80</td>\n",
       "      <td>49.0</td>\n",
       "      <td>10.80</td>\n",
       "      <td>21.1</td>\n",
       "      <td>14.9</td>\n",
       "      <td>0.018</td>\n",
       "      <td>1.37</td>\n",
       "    </tr>\n",
       "    <tr>\n",
       "      <th>232</th>\n",
       "      <td>衛生局中正辦公室</td>\n",
       "      <td>2018年12月</td>\n",
       "      <td>93</td>\n",
       "      <td>46.0</td>\n",
       "      <td>9.53</td>\n",
       "      <td>20.0</td>\n",
       "      <td>14.9</td>\n",
       "      <td>0.012</td>\n",
       "      <td>1.95</td>\n",
       "    </tr>\n",
       "  </tbody>\n",
       "</table>\n",
       "<p>233 rows × 9 columns</p>\n",
       "</div>"
      ],
      "text/plain": [
       "         Name      Date  TSP  PM10  Chloride  Nitrate  Sulfate   Lead  Dust\n",
       "0       大社工業區   2018年1月   93   NaN       NaN      NaN      NaN  0.029  3.60\n",
       "1       大寮區公所   2018年1月   79   NaN       NaN      NaN      NaN  0.042  1.54\n",
       "2       大樹監測站   2018年1月   61   NaN       NaN      NaN      NaN  0.020  1.18\n",
       "3        仁武國中   2018年1月   79   NaN       NaN      NaN      NaN  0.058  2.68\n",
       "4      半屏山電信局   2018年1月  104  67.0       NaN      NaN      NaN  0.014  1.21\n",
       "..        ...       ...  ...   ...       ...      ...      ...    ...   ...\n",
       "228      愛國國小  2018年12月  100  49.0      7.34     27.8     16.6  0.030  2.09\n",
       "229    楠梓區清潔隊  2018年12月   84  52.0      1.74     14.4     10.6  0.001  2.49\n",
       "230   路竹地政事務所  2018年12月  112   NaN      2.04     13.6     12.1  0.012  2.77\n",
       "231    鼓山圖書分館  2018年12月   80  49.0     10.80     21.1     14.9  0.018  1.37\n",
       "232  衛生局中正辦公室  2018年12月   93  46.0      9.53     20.0     14.9  0.012  1.95\n",
       "\n",
       "[233 rows x 9 columns]"
      ]
     },
     "execution_count": 20,
     "metadata": {},
     "output_type": "execute_result"
    }
   ],
   "source": [
    "df.drop(df.index[len(df.index)-1], inplace=True)\n",
    "df"
   ]
  },
  {
   "cell_type": "markdown",
   "metadata": {},
   "source": [
    "## 資料視覺化\n",
    "- [ref](https://pandas.pydata.org/pandas-docs/stable/user_guide/visualization.html)"
   ]
  },
  {
   "cell_type": "code",
   "execution_count": 21,
   "metadata": {},
   "outputs": [
    {
     "data": {
      "text/plain": [
       "<AxesSubplot:>"
      ]
     },
     "execution_count": 21,
     "metadata": {},
     "output_type": "execute_result"
    },
    {
     "data": {
      "image/png": "[encoded data removed]",
      "text/plain": [
       "<Figure size 432x288 with 1 Axes>"
      ]
     },
     "metadata": {
      "needs_background": "light"
     },
     "output_type": "display_data"
    }
   ],
   "source": [
    "s = pd.Series(np.random.randn(10), index=np.arange(10))\n",
    "s.plot()"
   ]
  },
  {
   "cell_type": "code",
   "execution_count": 22,
   "metadata": {},
   "outputs": [
    {
     "data": {
      "text/plain": [
       "0    0.509070\n",
       "1   -0.008375\n",
       "2    0.214472\n",
       "3    0.224946\n",
       "4   -0.613939\n",
       "5   -1.257887\n",
       "6   -0.947583\n",
       "7   -0.809036\n",
       "8   -0.518458\n",
       "9   -0.085035\n",
       "dtype: float64"
      ]
     },
     "execution_count": 22,
     "metadata": {},
     "output_type": "execute_result"
    }
   ],
   "source": [
    "s"
   ]
  },
  {
   "cell_type": "code",
   "execution_count": 23,
   "metadata": {},
   "outputs": [
    {
     "data": {
      "text/plain": [
       "<AxesSubplot:>"
      ]
     },
     "execution_count": 23,
     "metadata": {},
     "output_type": "execute_result"
    },
    {
     "data": {
      "image/png": "[encoded data removed]",
      "text/plain": [
       "<Figure size 432x288 with 1 Axes>"
      ]
     },
     "metadata": {
      "needs_background": "light"
     },
     "output_type": "display_data"
    }
   ],
   "source": [
    "s.plot(kind=\"bar\")"
   ]
  },
  {
   "cell_type": "code",
   "execution_count": 25,
   "metadata": {},
   "outputs": [
    {
     "data": {
      "text/plain": [
       "array([[-5.17890754e-02,  6.15912201e-01,  5.52309661e-01,\n",
       "        -2.37651448e-03],\n",
       "       [-1.55868871e-01,  2.42127378e+00, -3.48425427e-01,\n",
       "         1.13664120e+00],\n",
       "       [ 1.68354301e+00, -2.35100896e-01,  2.90090210e+00,\n",
       "        -1.41365576e+00],\n",
       "       [ 6.69738033e-01,  6.13383946e-01, -7.37156410e-01,\n",
       "         1.52618087e-01],\n",
       "       [-1.84655958e+00,  2.91204437e+00,  8.15844498e-01,\n",
       "        -4.02584720e-01],\n",
       "       [-6.48000738e-01, -2.71807443e-02,  8.78892868e-01,\n",
       "        -1.17276860e+00],\n",
       "       [-6.80096010e-01, -1.31084063e+00, -5.02001925e-01,\n",
       "         1.25845651e+00],\n",
       "       [-4.09546236e-01, -1.20793526e+00, -7.16123481e-01,\n",
       "        -3.88987664e-01],\n",
       "       [-2.08385714e+00, -3.94245962e-01,  1.72747580e+00,\n",
       "        -6.01936393e-02],\n",
       "       [ 3.96409651e-01, -5.62947206e-01, -6.11820287e-02,\n",
       "        -1.41048894e+00]])"
      ]
     },
     "execution_count": 25,
     "metadata": {},
     "output_type": "execute_result"
    }
   ],
   "source": [
    "np.random.randn(10, 4)"
   ]
  },
  {
   "cell_type": "code",
   "execution_count": 24,
   "metadata": {},
   "outputs": [
    {
     "data": {
      "text/plain": [
       "<AxesSubplot:>"
      ]
     },
     "execution_count": 24,
     "metadata": {},
     "output_type": "execute_result"
    },
    {
     "data": {
      "image/png": "[encoded data removed]",
      "text/plain": [
       "<Figure size 432x288 with 1 Axes>"
      ]
     },
     "metadata": {
      "needs_background": "light"
     },
     "output_type": "display_data"
    }
   ],
   "source": [
    "df = pd.DataFrame(np.random.randn(10, 4), columns=list('ABCD'))\n",
    "df.plot()"
   ]
  },
  {
   "cell_type": "code",
   "execution_count": 26,
   "metadata": {},
   "outputs": [
    {
     "data": {
      "text/plain": [
       "<AxesSubplot:>"
      ]
     },
     "execution_count": 26,
     "metadata": {},
     "output_type": "execute_result"
    },
    {
     "data": {
      "image/png": "[encoded data removed]",
      "text/plain": [
       "<Figure size 432x288 with 1 Axes>"
      ]
     },
     "metadata": {
      "needs_background": "light"
     },
     "output_type": "display_data"
    }
   ],
   "source": [
    "df.plot(kind='bar')"
   ]
  },
  {
   "cell_type": "markdown",
   "metadata": {},
   "source": [
    "### test"
   ]
  },
  {
   "cell_type": "code",
   "execution_count": 28,
   "metadata": {},
   "outputs": [],
   "source": [
    "df = pd.read_csv(\"stock_data.csv\", encoding=\"Big5\", header=0)"
   ]
  },
  {
   "cell_type": "code",
   "execution_count": 29,
   "metadata": {},
   "outputs": [
    {
     "data": {
      "text/html": [
       "<div>\n",
       "<style scoped>\n",
       "    .dataframe tbody tr th:only-of-type {\n",
       "        vertical-align: middle;\n",
       "    }\n",
       "\n",
       "    .dataframe tbody tr th {\n",
       "        vertical-align: top;\n",
       "    }\n",
       "\n",
       "    .dataframe thead th {\n",
       "        text-align: right;\n",
       "    }\n",
       "</style>\n",
       "<table border=\"1\" class=\"dataframe\">\n",
       "  <thead>\n",
       "    <tr style=\"text-align: right;\">\n",
       "      <th></th>\n",
       "      <th>date</th>\n",
       "      <th>close</th>\n",
       "      <th>volume</th>\n",
       "    </tr>\n",
       "  </thead>\n",
       "  <tbody>\n",
       "    <tr>\n",
       "      <th>0</th>\n",
       "      <td>2020-01-02</td>\n",
       "      <td>339.0</td>\n",
       "      <td>31754120.0</td>\n",
       "    </tr>\n",
       "    <tr>\n",
       "      <th>1</th>\n",
       "      <td>2020-01-03</td>\n",
       "      <td>339.5</td>\n",
       "      <td>41811268.0</td>\n",
       "    </tr>\n",
       "    <tr>\n",
       "      <th>2</th>\n",
       "      <td>2020-01-06</td>\n",
       "      <td>332.0</td>\n",
       "      <td>45343057.0</td>\n",
       "    </tr>\n",
       "    <tr>\n",
       "      <th>3</th>\n",
       "      <td>2020-01-07</td>\n",
       "      <td>329.5</td>\n",
       "      <td>50879181.0</td>\n",
       "    </tr>\n",
       "    <tr>\n",
       "      <th>4</th>\n",
       "      <td>2020-01-08</td>\n",
       "      <td>329.5</td>\n",
       "      <td>37567748.0</td>\n",
       "    </tr>\n",
       "    <tr>\n",
       "      <th>...</th>\n",
       "      <td>...</td>\n",
       "      <td>...</td>\n",
       "      <td>...</td>\n",
       "    </tr>\n",
       "    <tr>\n",
       "      <th>117</th>\n",
       "      <td>2020-07-02</td>\n",
       "      <td>322.0</td>\n",
       "      <td>34526178.0</td>\n",
       "    </tr>\n",
       "    <tr>\n",
       "      <th>118</th>\n",
       "      <td>2020-07-03</td>\n",
       "      <td>329.5</td>\n",
       "      <td>53341987.0</td>\n",
       "    </tr>\n",
       "    <tr>\n",
       "      <th>119</th>\n",
       "      <td>2020-07-06</td>\n",
       "      <td>338.0</td>\n",
       "      <td>57256220.0</td>\n",
       "    </tr>\n",
       "    <tr>\n",
       "      <th>120</th>\n",
       "      <td>2020-07-07</td>\n",
       "      <td>338.5</td>\n",
       "      <td>59046323.0</td>\n",
       "    </tr>\n",
       "    <tr>\n",
       "      <th>121</th>\n",
       "      <td>2020-07-08</td>\n",
       "      <td>341.0</td>\n",
       "      <td>30538000.0</td>\n",
       "    </tr>\n",
       "  </tbody>\n",
       "</table>\n",
       "<p>122 rows × 3 columns</p>\n",
       "</div>"
      ],
      "text/plain": [
       "           date  close      volume\n",
       "0    2020-01-02  339.0  31754120.0\n",
       "1    2020-01-03  339.5  41811268.0\n",
       "2    2020-01-06  332.0  45343057.0\n",
       "3    2020-01-07  329.5  50879181.0\n",
       "4    2020-01-08  329.5  37567748.0\n",
       "..          ...    ...         ...\n",
       "117  2020-07-02  322.0  34526178.0\n",
       "118  2020-07-03  329.5  53341987.0\n",
       "119  2020-07-06  338.0  57256220.0\n",
       "120  2020-07-07  338.5  59046323.0\n",
       "121  2020-07-08  341.0  30538000.0\n",
       "\n",
       "[122 rows x 3 columns]"
      ]
     },
     "execution_count": 29,
     "metadata": {},
     "output_type": "execute_result"
    }
   ],
   "source": [
    "df #df.head + tail"
   ]
  },
  {
   "cell_type": "code",
   "execution_count": 30,
   "metadata": {},
   "outputs": [
    {
     "data": {
      "text/plain": [
       "<AxesSubplot:>"
      ]
     },
     "execution_count": 30,
     "metadata": {},
     "output_type": "execute_result"
    },
    {
     "data": {
      "image/png": "[encoded data removed]",
      "text/plain": [
       "<Figure size 432x288 with 1 Axes>"
      ]
     },
     "metadata": {
      "needs_background": "light"
     },
     "output_type": "display_data"
    }
   ],
   "source": [
    "df.plot()"
   ]
  },
  {
   "cell_type": "code",
   "execution_count": 31,
   "metadata": {},
   "outputs": [
    {
     "data": {
      "text/plain": [
       "<AxesSubplot:>"
      ]
     },
     "execution_count": 31,
     "metadata": {},
     "output_type": "execute_result"
    },
    {
     "data": {
      "image/png": "[encoded data removed]",
      "text/plain": [
       "<Figure size 432x288 with 1 Axes>"
      ]
     },
     "metadata": {
      "needs_background": "light"
     },
     "output_type": "display_data"
    }
   ],
   "source": [
    "df['close'].plot()"
   ]
  },
  {
   "cell_type": "markdown",
   "metadata": {},
   "source": [
    "### 資料分組與聚合"
   ]
  },
  {
   "cell_type": "code",
   "execution_count": 32,
   "metadata": {},
   "outputs": [],
   "source": [
    "data = np.random.randn(10, 4)"
   ]
  },
  {
   "cell_type": "code",
   "execution_count": 33,
   "metadata": {},
   "outputs": [
    {
     "data": {
      "text/plain": [
       "array([[-0.04821984,  0.423844  ,  0.95421439, -0.19174418],\n",
       "       [ 0.40551538,  0.37192085, -2.11317574,  0.14240609],\n",
       "       [-2.95307852, -0.1344475 ,  0.12340079, -1.17326952],\n",
       "       [-0.45591902,  1.87775495,  0.24469614, -0.71617205],\n",
       "       [-0.69192562, -3.21953624, -0.84491666, -0.81761609],\n",
       "       [-0.9513815 ,  2.78658233,  0.89277467, -1.34247572],\n",
       "       [-0.29398762, -0.50619451, -1.07667822, -2.23792108],\n",
       "       [-0.50819227,  0.14294411,  0.11938362,  0.70493212],\n",
       "       [-1.36714599, -0.36595349, -1.52797546,  1.31756538],\n",
       "       [-1.48950189, -0.39825781,  0.84063512, -1.38232207]])"
      ]
     },
     "execution_count": 33,
     "metadata": {},
     "output_type": "execute_result"
    }
   ],
   "source": [
    "data"
   ]
  },
  {
   "cell_type": "code",
   "execution_count": 34,
   "metadata": {},
   "outputs": [
    {
     "data": {
      "text/html": [
       "<div>\n",
       "<style scoped>\n",
       "    .dataframe tbody tr th:only-of-type {\n",
       "        vertical-align: middle;\n",
       "    }\n",
       "\n",
       "    .dataframe tbody tr th {\n",
       "        vertical-align: top;\n",
       "    }\n",
       "\n",
       "    .dataframe thead th {\n",
       "        text-align: right;\n",
       "    }\n",
       "</style>\n",
       "<table border=\"1\" class=\"dataframe\">\n",
       "  <thead>\n",
       "    <tr style=\"text-align: right;\">\n",
       "      <th></th>\n",
       "      <th>No1</th>\n",
       "      <th>No2</th>\n",
       "      <th>No3</th>\n",
       "      <th>No4</th>\n",
       "    </tr>\n",
       "  </thead>\n",
       "  <tbody>\n",
       "    <tr>\n",
       "      <th>0</th>\n",
       "      <td>-0.048220</td>\n",
       "      <td>0.423844</td>\n",
       "      <td>0.954214</td>\n",
       "      <td>-0.191744</td>\n",
       "    </tr>\n",
       "    <tr>\n",
       "      <th>1</th>\n",
       "      <td>0.405515</td>\n",
       "      <td>0.371921</td>\n",
       "      <td>-2.113176</td>\n",
       "      <td>0.142406</td>\n",
       "    </tr>\n",
       "    <tr>\n",
       "      <th>2</th>\n",
       "      <td>-2.953079</td>\n",
       "      <td>-0.134448</td>\n",
       "      <td>0.123401</td>\n",
       "      <td>-1.173270</td>\n",
       "    </tr>\n",
       "    <tr>\n",
       "      <th>3</th>\n",
       "      <td>-0.455919</td>\n",
       "      <td>1.877755</td>\n",
       "      <td>0.244696</td>\n",
       "      <td>-0.716172</td>\n",
       "    </tr>\n",
       "    <tr>\n",
       "      <th>4</th>\n",
       "      <td>-0.691926</td>\n",
       "      <td>-3.219536</td>\n",
       "      <td>-0.844917</td>\n",
       "      <td>-0.817616</td>\n",
       "    </tr>\n",
       "    <tr>\n",
       "      <th>5</th>\n",
       "      <td>-0.951382</td>\n",
       "      <td>2.786582</td>\n",
       "      <td>0.892775</td>\n",
       "      <td>-1.342476</td>\n",
       "    </tr>\n",
       "    <tr>\n",
       "      <th>6</th>\n",
       "      <td>-0.293988</td>\n",
       "      <td>-0.506195</td>\n",
       "      <td>-1.076678</td>\n",
       "      <td>-2.237921</td>\n",
       "    </tr>\n",
       "    <tr>\n",
       "      <th>7</th>\n",
       "      <td>-0.508192</td>\n",
       "      <td>0.142944</td>\n",
       "      <td>0.119384</td>\n",
       "      <td>0.704932</td>\n",
       "    </tr>\n",
       "    <tr>\n",
       "      <th>8</th>\n",
       "      <td>-1.367146</td>\n",
       "      <td>-0.365953</td>\n",
       "      <td>-1.527975</td>\n",
       "      <td>1.317565</td>\n",
       "    </tr>\n",
       "    <tr>\n",
       "      <th>9</th>\n",
       "      <td>-1.489502</td>\n",
       "      <td>-0.398258</td>\n",
       "      <td>0.840635</td>\n",
       "      <td>-1.382322</td>\n",
       "    </tr>\n",
       "  </tbody>\n",
       "</table>\n",
       "</div>"
      ],
      "text/plain": [
       "        No1       No2       No3       No4\n",
       "0 -0.048220  0.423844  0.954214 -0.191744\n",
       "1  0.405515  0.371921 -2.113176  0.142406\n",
       "2 -2.953079 -0.134448  0.123401 -1.173270\n",
       "3 -0.455919  1.877755  0.244696 -0.716172\n",
       "4 -0.691926 -3.219536 -0.844917 -0.817616\n",
       "5 -0.951382  2.786582  0.892775 -1.342476\n",
       "6 -0.293988 -0.506195 -1.076678 -2.237921\n",
       "7 -0.508192  0.142944  0.119384  0.704932\n",
       "8 -1.367146 -0.365953 -1.527975  1.317565\n",
       "9 -1.489502 -0.398258  0.840635 -1.382322"
      ]
     },
     "execution_count": 34,
     "metadata": {},
     "output_type": "execute_result"
    }
   ],
   "source": [
    "df = pd.DataFrame(data, columns=['No1', 'No2', 'No3', 'No4'])\n",
    "df"
   ]
  },
  {
   "cell_type": "code",
   "execution_count": 35,
   "metadata": {},
   "outputs": [
    {
     "data": {
      "text/html": [
       "<div>\n",
       "<style scoped>\n",
       "    .dataframe tbody tr th:only-of-type {\n",
       "        vertical-align: middle;\n",
       "    }\n",
       "\n",
       "    .dataframe tbody tr th {\n",
       "        vertical-align: top;\n",
       "    }\n",
       "\n",
       "    .dataframe thead th {\n",
       "        text-align: right;\n",
       "    }\n",
       "</style>\n",
       "<table border=\"1\" class=\"dataframe\">\n",
       "  <thead>\n",
       "    <tr style=\"text-align: right;\">\n",
       "      <th></th>\n",
       "      <th>No1</th>\n",
       "      <th>No2</th>\n",
       "      <th>No3</th>\n",
       "      <th>No4</th>\n",
       "      <th>Category</th>\n",
       "    </tr>\n",
       "  </thead>\n",
       "  <tbody>\n",
       "    <tr>\n",
       "      <th>0</th>\n",
       "      <td>-0.048220</td>\n",
       "      <td>0.423844</td>\n",
       "      <td>0.954214</td>\n",
       "      <td>-0.191744</td>\n",
       "      <td>NaN</td>\n",
       "    </tr>\n",
       "    <tr>\n",
       "      <th>1</th>\n",
       "      <td>0.405515</td>\n",
       "      <td>0.371921</td>\n",
       "      <td>-2.113176</td>\n",
       "      <td>0.142406</td>\n",
       "      <td>NaN</td>\n",
       "    </tr>\n",
       "    <tr>\n",
       "      <th>2</th>\n",
       "      <td>-2.953079</td>\n",
       "      <td>-0.134448</td>\n",
       "      <td>0.123401</td>\n",
       "      <td>-1.173270</td>\n",
       "      <td>NaN</td>\n",
       "    </tr>\n",
       "    <tr>\n",
       "      <th>3</th>\n",
       "      <td>-0.455919</td>\n",
       "      <td>1.877755</td>\n",
       "      <td>0.244696</td>\n",
       "      <td>-0.716172</td>\n",
       "      <td>NaN</td>\n",
       "    </tr>\n",
       "    <tr>\n",
       "      <th>4</th>\n",
       "      <td>-0.691926</td>\n",
       "      <td>-3.219536</td>\n",
       "      <td>-0.844917</td>\n",
       "      <td>-0.817616</td>\n",
       "      <td>NaN</td>\n",
       "    </tr>\n",
       "    <tr>\n",
       "      <th>5</th>\n",
       "      <td>-0.951382</td>\n",
       "      <td>2.786582</td>\n",
       "      <td>0.892775</td>\n",
       "      <td>-1.342476</td>\n",
       "      <td>NaN</td>\n",
       "    </tr>\n",
       "    <tr>\n",
       "      <th>6</th>\n",
       "      <td>-0.293988</td>\n",
       "      <td>-0.506195</td>\n",
       "      <td>-1.076678</td>\n",
       "      <td>-2.237921</td>\n",
       "      <td>NaN</td>\n",
       "    </tr>\n",
       "    <tr>\n",
       "      <th>7</th>\n",
       "      <td>-0.508192</td>\n",
       "      <td>0.142944</td>\n",
       "      <td>0.119384</td>\n",
       "      <td>0.704932</td>\n",
       "      <td>NaN</td>\n",
       "    </tr>\n",
       "    <tr>\n",
       "      <th>8</th>\n",
       "      <td>-1.367146</td>\n",
       "      <td>-0.365953</td>\n",
       "      <td>-1.527975</td>\n",
       "      <td>1.317565</td>\n",
       "      <td>NaN</td>\n",
       "    </tr>\n",
       "    <tr>\n",
       "      <th>9</th>\n",
       "      <td>-1.489502</td>\n",
       "      <td>-0.398258</td>\n",
       "      <td>0.840635</td>\n",
       "      <td>-1.382322</td>\n",
       "      <td>NaN</td>\n",
       "    </tr>\n",
       "  </tbody>\n",
       "</table>\n",
       "</div>"
      ],
      "text/plain": [
       "        No1       No2       No3       No4  Category\n",
       "0 -0.048220  0.423844  0.954214 -0.191744       NaN\n",
       "1  0.405515  0.371921 -2.113176  0.142406       NaN\n",
       "2 -2.953079 -0.134448  0.123401 -1.173270       NaN\n",
       "3 -0.455919  1.877755  0.244696 -0.716172       NaN\n",
       "4 -0.691926 -3.219536 -0.844917 -0.817616       NaN\n",
       "5 -0.951382  2.786582  0.892775 -1.342476       NaN\n",
       "6 -0.293988 -0.506195 -1.076678 -2.237921       NaN\n",
       "7 -0.508192  0.142944  0.119384  0.704932       NaN\n",
       "8 -1.367146 -0.365953 -1.527975  1.317565       NaN\n",
       "9 -1.489502 -0.398258  0.840635 -1.382322       NaN"
      ]
     },
     "execution_count": 35,
     "metadata": {},
     "output_type": "execute_result"
    }
   ],
   "source": [
    "df['Category'] = np.NaN\n",
    "df"
   ]
  },
  {
   "cell_type": "code",
   "execution_count": 36,
   "metadata": {},
   "outputs": [],
   "source": [
    "clist = ['C1'] * 3 + ['C2'] * 5 + ['C3'] * 2"
   ]
  },
  {
   "cell_type": "code",
   "execution_count": 37,
   "metadata": {},
   "outputs": [
    {
     "data": {
      "text/plain": [
       "['C1', 'C1', 'C1', 'C2', 'C2', 'C2', 'C2', 'C2', 'C3', 'C3']"
      ]
     },
     "execution_count": 37,
     "metadata": {},
     "output_type": "execute_result"
    }
   ],
   "source": [
    "clist"
   ]
  },
  {
   "cell_type": "code",
   "execution_count": 40,
   "metadata": {},
   "outputs": [],
   "source": [
    "df['Category'] = np.random.permutation(clist)"
   ]
  },
  {
   "cell_type": "code",
   "execution_count": 41,
   "metadata": {},
   "outputs": [
    {
     "data": {
      "text/html": [
       "<div>\n",
       "<style scoped>\n",
       "    .dataframe tbody tr th:only-of-type {\n",
       "        vertical-align: middle;\n",
       "    }\n",
       "\n",
       "    .dataframe tbody tr th {\n",
       "        vertical-align: top;\n",
       "    }\n",
       "\n",
       "    .dataframe thead th {\n",
       "        text-align: right;\n",
       "    }\n",
       "</style>\n",
       "<table border=\"1\" class=\"dataframe\">\n",
       "  <thead>\n",
       "    <tr style=\"text-align: right;\">\n",
       "      <th></th>\n",
       "      <th>No1</th>\n",
       "      <th>No2</th>\n",
       "      <th>No3</th>\n",
       "      <th>No4</th>\n",
       "      <th>Category</th>\n",
       "    </tr>\n",
       "  </thead>\n",
       "  <tbody>\n",
       "    <tr>\n",
       "      <th>0</th>\n",
       "      <td>-0.048220</td>\n",
       "      <td>0.423844</td>\n",
       "      <td>0.954214</td>\n",
       "      <td>-0.191744</td>\n",
       "      <td>C2</td>\n",
       "    </tr>\n",
       "    <tr>\n",
       "      <th>1</th>\n",
       "      <td>0.405515</td>\n",
       "      <td>0.371921</td>\n",
       "      <td>-2.113176</td>\n",
       "      <td>0.142406</td>\n",
       "      <td>C2</td>\n",
       "    </tr>\n",
       "    <tr>\n",
       "      <th>2</th>\n",
       "      <td>-2.953079</td>\n",
       "      <td>-0.134448</td>\n",
       "      <td>0.123401</td>\n",
       "      <td>-1.173270</td>\n",
       "      <td>C1</td>\n",
       "    </tr>\n",
       "    <tr>\n",
       "      <th>3</th>\n",
       "      <td>-0.455919</td>\n",
       "      <td>1.877755</td>\n",
       "      <td>0.244696</td>\n",
       "      <td>-0.716172</td>\n",
       "      <td>C2</td>\n",
       "    </tr>\n",
       "    <tr>\n",
       "      <th>4</th>\n",
       "      <td>-0.691926</td>\n",
       "      <td>-3.219536</td>\n",
       "      <td>-0.844917</td>\n",
       "      <td>-0.817616</td>\n",
       "      <td>C3</td>\n",
       "    </tr>\n",
       "    <tr>\n",
       "      <th>5</th>\n",
       "      <td>-0.951382</td>\n",
       "      <td>2.786582</td>\n",
       "      <td>0.892775</td>\n",
       "      <td>-1.342476</td>\n",
       "      <td>C1</td>\n",
       "    </tr>\n",
       "    <tr>\n",
       "      <th>6</th>\n",
       "      <td>-0.293988</td>\n",
       "      <td>-0.506195</td>\n",
       "      <td>-1.076678</td>\n",
       "      <td>-2.237921</td>\n",
       "      <td>C3</td>\n",
       "    </tr>\n",
       "    <tr>\n",
       "      <th>7</th>\n",
       "      <td>-0.508192</td>\n",
       "      <td>0.142944</td>\n",
       "      <td>0.119384</td>\n",
       "      <td>0.704932</td>\n",
       "      <td>C2</td>\n",
       "    </tr>\n",
       "    <tr>\n",
       "      <th>8</th>\n",
       "      <td>-1.367146</td>\n",
       "      <td>-0.365953</td>\n",
       "      <td>-1.527975</td>\n",
       "      <td>1.317565</td>\n",
       "      <td>C1</td>\n",
       "    </tr>\n",
       "    <tr>\n",
       "      <th>9</th>\n",
       "      <td>-1.489502</td>\n",
       "      <td>-0.398258</td>\n",
       "      <td>0.840635</td>\n",
       "      <td>-1.382322</td>\n",
       "      <td>C2</td>\n",
       "    </tr>\n",
       "  </tbody>\n",
       "</table>\n",
       "</div>"
      ],
      "text/plain": [
       "        No1       No2       No3       No4 Category\n",
       "0 -0.048220  0.423844  0.954214 -0.191744       C2\n",
       "1  0.405515  0.371921 -2.113176  0.142406       C2\n",
       "2 -2.953079 -0.134448  0.123401 -1.173270       C1\n",
       "3 -0.455919  1.877755  0.244696 -0.716172       C2\n",
       "4 -0.691926 -3.219536 -0.844917 -0.817616       C3\n",
       "5 -0.951382  2.786582  0.892775 -1.342476       C1\n",
       "6 -0.293988 -0.506195 -1.076678 -2.237921       C3\n",
       "7 -0.508192  0.142944  0.119384  0.704932       C2\n",
       "8 -1.367146 -0.365953 -1.527975  1.317565       C1\n",
       "9 -1.489502 -0.398258  0.840635 -1.382322       C2"
      ]
     },
     "execution_count": 41,
     "metadata": {},
     "output_type": "execute_result"
    }
   ],
   "source": [
    "df"
   ]
  },
  {
   "cell_type": "code",
   "execution_count": 42,
   "metadata": {},
   "outputs": [],
   "source": [
    "groups = df.groupby('Category')"
   ]
  },
  {
   "cell_type": "code",
   "execution_count": 43,
   "metadata": {},
   "outputs": [
    {
     "data": {
      "text/plain": [
       "<pandas.core.groupby.generic.DataFrameGroupBy object at 0x000001658FF819A0>"
      ]
     },
     "execution_count": 43,
     "metadata": {},
     "output_type": "execute_result"
    }
   ],
   "source": [
    "groups"
   ]
  },
  {
   "cell_type": "code",
   "execution_count": 44,
   "metadata": {},
   "outputs": [
    {
     "data": {
      "text/html": [
       "<div>\n",
       "<style scoped>\n",
       "    .dataframe tbody tr th:only-of-type {\n",
       "        vertical-align: middle;\n",
       "    }\n",
       "\n",
       "    .dataframe tbody tr th {\n",
       "        vertical-align: top;\n",
       "    }\n",
       "\n",
       "    .dataframe thead th {\n",
       "        text-align: right;\n",
       "    }\n",
       "</style>\n",
       "<table border=\"1\" class=\"dataframe\">\n",
       "  <thead>\n",
       "    <tr style=\"text-align: right;\">\n",
       "      <th></th>\n",
       "      <th>No1</th>\n",
       "      <th>No2</th>\n",
       "      <th>No3</th>\n",
       "      <th>No4</th>\n",
       "    </tr>\n",
       "    <tr>\n",
       "      <th>Category</th>\n",
       "      <th></th>\n",
       "      <th></th>\n",
       "      <th></th>\n",
       "      <th></th>\n",
       "    </tr>\n",
       "  </thead>\n",
       "  <tbody>\n",
       "    <tr>\n",
       "      <th>C1</th>\n",
       "      <td>-1.757202</td>\n",
       "      <td>0.762060</td>\n",
       "      <td>-0.170600</td>\n",
       "      <td>-0.399393</td>\n",
       "    </tr>\n",
       "    <tr>\n",
       "      <th>C2</th>\n",
       "      <td>-0.419264</td>\n",
       "      <td>0.483641</td>\n",
       "      <td>0.009151</td>\n",
       "      <td>-0.288580</td>\n",
       "    </tr>\n",
       "    <tr>\n",
       "      <th>C3</th>\n",
       "      <td>-0.492957</td>\n",
       "      <td>-1.862865</td>\n",
       "      <td>-0.960797</td>\n",
       "      <td>-1.527769</td>\n",
       "    </tr>\n",
       "  </tbody>\n",
       "</table>\n",
       "</div>"
      ],
      "text/plain": [
       "               No1       No2       No3       No4\n",
       "Category                                        \n",
       "C1       -1.757202  0.762060 -0.170600 -0.399393\n",
       "C2       -0.419264  0.483641  0.009151 -0.288580\n",
       "C3       -0.492957 -1.862865 -0.960797 -1.527769"
      ]
     },
     "execution_count": 44,
     "metadata": {},
     "output_type": "execute_result"
    }
   ],
   "source": [
    "groups.mean()"
   ]
  },
  {
   "cell_type": "markdown",
   "metadata": {
    "jp-MarkdownHeadingCollapsed": true,
    "tags": []
   },
   "source": [
    "### Pandas進階補充\n",
    "- [可以參考](https://github.com/victorgau/khpy_pandas_intro)"
   ]
  },
  {
   "cell_type": "code",
   "execution_count": null,
   "metadata": {},
   "outputs": [],
   "source": []
  },
  {
   "cell_type": "markdown",
   "metadata": {},
   "source": [
    "## Pandas: csv資料處理 (以公共腳踏車為例)"
   ]
  },
  {
   "cell_type": "code",
   "execution_count": null,
   "metadata": {},
   "outputs": [],
   "source": []
  },
  {
   "cell_type": "markdown",
   "metadata": {},
   "source": [
    "## Pandas: 資料庫"
   ]
  },
  {
   "cell_type": "code",
   "execution_count": null,
   "metadata": {},
   "outputs": [],
   "source": []
  }
 ],
 "metadata": {
  "kernelspec": {
   "display_name": "Python 3 (ipykernel)",
   "language": "python",
   "name": "python3"
  },
  "language_info": {
   "codemirror_mode": {
    "name": "ipython",
    "version": 3
   },
   "file_extension": ".py",
   "mimetype": "text/x-python",
   "name": "python",
   "nbconvert_exporter": "python",
   "pygments_lexer": "ipython3",
   "version": "3.9.7"
  }
 },
 "nbformat": 4,
 "nbformat_minor": 4
}
